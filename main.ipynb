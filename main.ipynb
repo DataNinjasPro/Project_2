{
 "cells": [
  {
   "cell_type": "markdown",
   "id": "lesbian-lounge",
   "metadata": {},
   "source": [
    "# NOTE: We have never actually learned how to get a Neural Network to predict FUTURE prices. I can't find anything on the subject (except for one day out).\n",
    "\n",
    "\n",
    "# We might have to drop that part.\n",
    "\n",
    "# Jeff you were right! \"If it were that easy, wouldn't everyone be doing it\". Sorry senpai:)"
   ]
  },
  {
   "cell_type": "markdown",
   "id": "loving-warren",
   "metadata": {},
   "source": [
    "# Imports"
   ]
  },
  {
   "cell_type": "markdown",
   "id": "internal-raising",
   "metadata": {},
   "source": [
    "# 1. Preprocess\n",
    "* Get data from an API\n",
    "* Filter out the data we don't need\n",
    "\n",
    "* Scale the data\n",
    "* Set up a train test split on the data"
   ]
  },
  {
   "cell_type": "code",
   "execution_count": 104,
   "id": "crude-greensboro",
   "metadata": {},
   "outputs": [],
   "source": [
    "import yfinance as yf\n",
    "import pandas as pd\n",
    "import matplotlib.pyplot as plt\n",
    "import seaborn as sns\n",
    "import numpy as np\n",
    "import hvplot.pandas as hvplot\n",
    "sns.set_style('darkgrid')"
   ]
  },
  {
   "cell_type": "code",
   "execution_count": 105,
   "id": "lesser-luther",
   "metadata": {},
   "outputs": [
    {
     "name": "stdout",
     "output_type": "stream",
     "text": [
      "[*********************100%***********************]  1 of 1 completed\n"
     ]
    },
    {
     "data": {
      "text/html": [
       "<div>\n",
       "<style scoped>\n",
       "    .dataframe tbody tr th:only-of-type {\n",
       "        vertical-align: middle;\n",
       "    }\n",
       "\n",
       "    .dataframe tbody tr th {\n",
       "        vertical-align: top;\n",
       "    }\n",
       "\n",
       "    .dataframe thead th {\n",
       "        text-align: right;\n",
       "    }\n",
       "</style>\n",
       "<table border=\"1\" class=\"dataframe\">\n",
       "  <thead>\n",
       "    <tr style=\"text-align: right;\">\n",
       "      <th></th>\n",
       "      <th>Close</th>\n",
       "      <th>Open</th>\n",
       "      <th>High</th>\n",
       "      <th>Low</th>\n",
       "      <th>Volume</th>\n",
       "    </tr>\n",
       "    <tr>\n",
       "      <th>Date</th>\n",
       "      <th></th>\n",
       "      <th></th>\n",
       "      <th></th>\n",
       "      <th></th>\n",
       "      <th></th>\n",
       "    </tr>\n",
       "  </thead>\n",
       "  <tbody>\n",
       "    <tr>\n",
       "      <th>2019-04-15</th>\n",
       "      <td>1226.530029</td>\n",
       "      <td>1224.089966</td>\n",
       "      <td>1229.300049</td>\n",
       "      <td>1214.560059</td>\n",
       "      <td>1189800</td>\n",
       "    </tr>\n",
       "    <tr>\n",
       "      <th>2019-04-16</th>\n",
       "      <td>1231.910034</td>\n",
       "      <td>1230.000000</td>\n",
       "      <td>1235.979980</td>\n",
       "      <td>1225.040039</td>\n",
       "      <td>1131100</td>\n",
       "    </tr>\n",
       "    <tr>\n",
       "      <th>2019-04-17</th>\n",
       "      <td>1240.140015</td>\n",
       "      <td>1237.000000</td>\n",
       "      <td>1245.099976</td>\n",
       "      <td>1232.900024</td>\n",
       "      <td>1518300</td>\n",
       "    </tr>\n",
       "    <tr>\n",
       "      <th>2019-04-18</th>\n",
       "      <td>1241.469971</td>\n",
       "      <td>1245.000000</td>\n",
       "      <td>1245.939941</td>\n",
       "      <td>1239.410034</td>\n",
       "      <td>1237500</td>\n",
       "    </tr>\n",
       "    <tr>\n",
       "      <th>2019-04-22</th>\n",
       "      <td>1253.760010</td>\n",
       "      <td>1236.670044</td>\n",
       "      <td>1254.339966</td>\n",
       "      <td>1233.369995</td>\n",
       "      <td>954200</td>\n",
       "    </tr>\n",
       "    <tr>\n",
       "      <th>...</th>\n",
       "      <td>...</td>\n",
       "      <td>...</td>\n",
       "      <td>...</td>\n",
       "      <td>...</td>\n",
       "      <td>...</td>\n",
       "    </tr>\n",
       "    <tr>\n",
       "      <th>2021-04-06</th>\n",
       "      <td>2209.260010</td>\n",
       "      <td>2210.919922</td>\n",
       "      <td>2228.000000</td>\n",
       "      <td>2201.790039</td>\n",
       "      <td>1762000</td>\n",
       "    </tr>\n",
       "    <tr>\n",
       "      <th>2021-04-07</th>\n",
       "      <td>2239.030029</td>\n",
       "      <td>2213.100098</td>\n",
       "      <td>2244.500000</td>\n",
       "      <td>2213.100098</td>\n",
       "      <td>1206700</td>\n",
       "    </tr>\n",
       "    <tr>\n",
       "      <th>2021-04-08</th>\n",
       "      <td>2250.429932</td>\n",
       "      <td>2264.000000</td>\n",
       "      <td>2271.790039</td>\n",
       "      <td>2243.010010</td>\n",
       "      <td>1433200</td>\n",
       "    </tr>\n",
       "    <tr>\n",
       "      <th>2021-04-09</th>\n",
       "      <td>2270.669922</td>\n",
       "      <td>2245.439941</td>\n",
       "      <td>2273.969971</td>\n",
       "      <td>2237.260010</td>\n",
       "      <td>1304400</td>\n",
       "    </tr>\n",
       "    <tr>\n",
       "      <th>2021-04-12</th>\n",
       "      <td>2244.620117</td>\n",
       "      <td>2254.120117</td>\n",
       "      <td>2256.889893</td>\n",
       "      <td>2227.820068</td>\n",
       "      <td>1250800</td>\n",
       "    </tr>\n",
       "  </tbody>\n",
       "</table>\n",
       "<p>502 rows × 5 columns</p>\n",
       "</div>"
      ],
      "text/plain": [
       "                  Close         Open         High          Low   Volume\n",
       "Date                                                                   \n",
       "2019-04-15  1226.530029  1224.089966  1229.300049  1214.560059  1189800\n",
       "2019-04-16  1231.910034  1230.000000  1235.979980  1225.040039  1131100\n",
       "2019-04-17  1240.140015  1237.000000  1245.099976  1232.900024  1518300\n",
       "2019-04-18  1241.469971  1245.000000  1245.939941  1239.410034  1237500\n",
       "2019-04-22  1253.760010  1236.670044  1254.339966  1233.369995   954200\n",
       "...                 ...          ...          ...          ...      ...\n",
       "2021-04-06  2209.260010  2210.919922  2228.000000  2201.790039  1762000\n",
       "2021-04-07  2239.030029  2213.100098  2244.500000  2213.100098  1206700\n",
       "2021-04-08  2250.429932  2264.000000  2271.790039  2243.010010  1433200\n",
       "2021-04-09  2270.669922  2245.439941  2273.969971  2237.260010  1304400\n",
       "2021-04-12  2244.620117  2254.120117  2256.889893  2227.820068  1250800\n",
       "\n",
       "[502 rows x 5 columns]"
      ]
     },
     "execution_count": 105,
     "metadata": {},
     "output_type": "execute_result"
    }
   ],
   "source": [
    "ticker = 'GOOGL'\n",
    "# Note: We could have period < 60d and an intraday return\n",
    "# Just change period to < 60 days and add interval = 1h\n",
    "df = yf.download(ticker, \n",
    "            period = '2y', # A period of 2 years from today\n",
    "            prepost = True, # Pre and Post markets included\n",
    "            threads = True # Multi-thread processing for faster output.\n",
    "           )\n",
    "df # This data already looks like it is based of business days.\n",
    "# Rearranging the columns to help with the Heatmap\n",
    "df = df[['Close','Open','High','Low','Volume']]\n",
    "df"
   ]
  },
  {
   "cell_type": "code",
   "execution_count": 106,
   "id": "initial-short",
   "metadata": {},
   "outputs": [],
   "source": [
    "# Optional\n",
    "#df = df.Close"
   ]
  },
  {
   "cell_type": "markdown",
   "id": "behind-mexico",
   "metadata": {},
   "source": [
    "### Changing the absolute values to percents"
   ]
  },
  {
   "cell_type": "code",
   "execution_count": 107,
   "id": "adolescent-restriction",
   "metadata": {},
   "outputs": [],
   "source": [
    "close_price_change = df.pct_change()"
   ]
  },
  {
   "cell_type": "markdown",
   "id": "statutory-ancient",
   "metadata": {},
   "source": [
    "### Seeing which columns actually correlate.\n",
    "Low correlation does not help the model.\n",
    "Does high correlation actually do better?"
   ]
  },
  {
   "cell_type": "code",
   "execution_count": 108,
   "id": "vietnamese-programming",
   "metadata": {},
   "outputs": [
    {
     "data": {
      "text/plain": [
       "<matplotlib.axes._subplots.AxesSubplot at 0x7f62e3406070>"
      ]
     },
     "execution_count": 108,
     "metadata": {},
     "output_type": "execute_result"
    },
    {
     "data": {
      "image/png": "[encoded data removed]",
      "text/plain": [
       "<Figure size 1080x540 with 2 Axes>"
      ]
     },
     "metadata": {},
     "output_type": "display_data"
    }
   ],
   "source": [
    "# sns.set_style(\"darkgrid\")\n",
    "correlation = close_price_change.corr()\n",
    "\n",
    "fig, ax = plt.subplots(figsize=(15,7.5))\n",
    "ax.set_title('Correlation between OHLCV')\n",
    "heat_map = sns.heatmap(data = correlation,\n",
    "#                        x = correlation.Close,\n",
    "                       annot=True,\n",
    "                      ax = ax)\n",
    "heat_map"
   ]
  },
  {
   "cell_type": "markdown",
   "id": "blind-artwork",
   "metadata": {},
   "source": [
    "## This is to help us easily see which columns have low correlation to Close\n",
    "### So if you were to decide to put other data in the main dataframe, this would hopefully filter that out if it wasn't useful"
   ]
  },
  {
   "cell_type": "code",
   "execution_count": 109,
   "id": "ceramic-seating",
   "metadata": {},
   "outputs": [
    {
     "name": "stdout",
     "output_type": "stream",
     "text": [
      "Correlations\n",
      "           Close\n",
      "Close   1.000000\n",
      "Open    0.449007\n",
      "High    0.732242\n",
      "Low     0.764539\n",
      "Volume -0.102228\n",
      "\n",
      "\n",
      "High Correlations\n"
     ]
    },
    {
     "data": {
      "text/plain": [
       "['Close', 'High', 'Low']"
      ]
     },
     "execution_count": 109,
     "metadata": {},
     "output_type": "execute_result"
    }
   ],
   "source": [
    "print('Correlations')\n",
    "correlations = pd.DataFrame([correlation[x] for x in correlation][0])\n",
    "print(correlations)\n",
    "\n",
    "# Automatically keeping the high correlations\n",
    "keepers = correlations[correlations.Close> 0.6]\n",
    "keeper_columns = list(keepers.index)\n",
    "print('\\n\\nHigh Correlations')\n",
    "keeper_columns"
   ]
  },
  {
   "cell_type": "markdown",
   "id": "polyphonic-trinity",
   "metadata": {},
   "source": [
    "### I would say to only keep High and Low"
   ]
  },
  {
   "cell_type": "code",
   "execution_count": 110,
   "id": "variable-sculpture",
   "metadata": {},
   "outputs": [
    {
     "data": {
      "text/html": [
       "<div>\n",
       "<style scoped>\n",
       "    .dataframe tbody tr th:only-of-type {\n",
       "        vertical-align: middle;\n",
       "    }\n",
       "\n",
       "    .dataframe tbody tr th {\n",
       "        vertical-align: top;\n",
       "    }\n",
       "\n",
       "    .dataframe thead th {\n",
       "        text-align: right;\n",
       "    }\n",
       "</style>\n",
       "<table border=\"1\" class=\"dataframe\">\n",
       "  <thead>\n",
       "    <tr style=\"text-align: right;\">\n",
       "      <th></th>\n",
       "      <th>Low</th>\n",
       "      <th>High</th>\n",
       "      <th>Close</th>\n",
       "    </tr>\n",
       "    <tr>\n",
       "      <th>Date</th>\n",
       "      <th></th>\n",
       "      <th></th>\n",
       "      <th></th>\n",
       "    </tr>\n",
       "  </thead>\n",
       "  <tbody>\n",
       "    <tr>\n",
       "      <th>2019-04-15</th>\n",
       "      <td>1214.560059</td>\n",
       "      <td>1229.300049</td>\n",
       "      <td>1226.530029</td>\n",
       "    </tr>\n",
       "    <tr>\n",
       "      <th>2019-04-16</th>\n",
       "      <td>1225.040039</td>\n",
       "      <td>1235.979980</td>\n",
       "      <td>1231.910034</td>\n",
       "    </tr>\n",
       "    <tr>\n",
       "      <th>2019-04-17</th>\n",
       "      <td>1232.900024</td>\n",
       "      <td>1245.099976</td>\n",
       "      <td>1240.140015</td>\n",
       "    </tr>\n",
       "    <tr>\n",
       "      <th>2019-04-18</th>\n",
       "      <td>1239.410034</td>\n",
       "      <td>1245.939941</td>\n",
       "      <td>1241.469971</td>\n",
       "    </tr>\n",
       "    <tr>\n",
       "      <th>2019-04-22</th>\n",
       "      <td>1233.369995</td>\n",
       "      <td>1254.339966</td>\n",
       "      <td>1253.760010</td>\n",
       "    </tr>\n",
       "    <tr>\n",
       "      <th>...</th>\n",
       "      <td>...</td>\n",
       "      <td>...</td>\n",
       "      <td>...</td>\n",
       "    </tr>\n",
       "    <tr>\n",
       "      <th>2021-04-06</th>\n",
       "      <td>2201.790039</td>\n",
       "      <td>2228.000000</td>\n",
       "      <td>2209.260010</td>\n",
       "    </tr>\n",
       "    <tr>\n",
       "      <th>2021-04-07</th>\n",
       "      <td>2213.100098</td>\n",
       "      <td>2244.500000</td>\n",
       "      <td>2239.030029</td>\n",
       "    </tr>\n",
       "    <tr>\n",
       "      <th>2021-04-08</th>\n",
       "      <td>2243.010010</td>\n",
       "      <td>2271.790039</td>\n",
       "      <td>2250.429932</td>\n",
       "    </tr>\n",
       "    <tr>\n",
       "      <th>2021-04-09</th>\n",
       "      <td>2237.260010</td>\n",
       "      <td>2273.969971</td>\n",
       "      <td>2270.669922</td>\n",
       "    </tr>\n",
       "    <tr>\n",
       "      <th>2021-04-12</th>\n",
       "      <td>2227.820068</td>\n",
       "      <td>2256.889893</td>\n",
       "      <td>2244.620117</td>\n",
       "    </tr>\n",
       "  </tbody>\n",
       "</table>\n",
       "<p>502 rows × 3 columns</p>\n",
       "</div>"
      ],
      "text/plain": [
       "                    Low         High        Close\n",
       "Date                                             \n",
       "2019-04-15  1214.560059  1229.300049  1226.530029\n",
       "2019-04-16  1225.040039  1235.979980  1231.910034\n",
       "2019-04-17  1232.900024  1245.099976  1240.140015\n",
       "2019-04-18  1239.410034  1245.939941  1241.469971\n",
       "2019-04-22  1233.369995  1254.339966  1253.760010\n",
       "...                 ...          ...          ...\n",
       "2021-04-06  2201.790039  2228.000000  2209.260010\n",
       "2021-04-07  2213.100098  2244.500000  2239.030029\n",
       "2021-04-08  2243.010010  2271.790039  2250.429932\n",
       "2021-04-09  2237.260010  2273.969971  2270.669922\n",
       "2021-04-12  2227.820068  2256.889893  2244.620117\n",
       "\n",
       "[502 rows x 3 columns]"
      ]
     },
     "execution_count": 110,
     "metadata": {},
     "output_type": "execute_result"
    }
   ],
   "source": [
    "df = df.loc[:,keeper_columns]\n",
    "df = df[['Low','High','Close']]\n",
    "df"
   ]
  },
  {
   "cell_type": "markdown",
   "id": "collected-department",
   "metadata": {},
   "source": [
    "### Separating the data into X and y"
   ]
  },
  {
   "cell_type": "markdown",
   "id": "familiar-shareware",
   "metadata": {},
   "source": [
    "# THE PROBLEM WITH THIS MODEL\n",
    "## It doesn't predict into the actual future. It only predicts things that have already happened. \n",
    "Pretty lame. I will try to get it to predict future values."
   ]
  },
  {
   "cell_type": "code",
   "execution_count": 111,
   "id": "smaller-tyler",
   "metadata": {},
   "outputs": [],
   "source": [
    "# Using this piece of information doesn't seem to do anything really.\n",
    "# You could skip this and the next cell and it would work just as good.\n",
    "def window_data(df, window, feature_col_number, target_col_number):\n",
    "    X = []\n",
    "    y = []\n",
    "    for i in range(len(df) - window - 1):\n",
    "        features = df.iloc[i:(i + window), feature_col_number]\n",
    "        target = df.iloc[(i + window), target_col_number]\n",
    "        X.append(features)\n",
    "        y.append(target)\n",
    "    return np.array(X), np.array(y).reshape(-1, 1)"
   ]
  },
  {
   "cell_type": "code",
   "execution_count": 112,
   "id": "human-beijing",
   "metadata": {},
   "outputs": [],
   "source": [
    "# Predict Closing Prices using a 10 day window of previous closing prices\n",
    "# Then, experiment with window sizes anywhere from 1 to 10 and see how the model performance changes\n",
    "window_size = 10\n",
    "\n",
    "# Column index 0 is the 'fng_value' column\n",
    "# Column index 1 is the `Close` column\n",
    "feature_column = 2 # Close\n",
    "target_column = 2\n",
    "X, y = window_data(df, window_size, feature_column, target_column)"
   ]
  },
  {
   "cell_type": "code",
   "execution_count": null,
   "id": "confirmed-ribbon",
   "metadata": {},
   "outputs": [],
   "source": []
  },
  {
   "cell_type": "code",
   "execution_count": null,
   "id": "express-application",
   "metadata": {},
   "outputs": [],
   "source": []
  },
  {
   "cell_type": "code",
   "execution_count": 113,
   "id": "ruled-sight",
   "metadata": {},
   "outputs": [],
   "source": [
    "# IF you get rid of the two cells above and use this one, it might just work.\n",
    "# X = df[['High','Low']].values\n",
    "# y = df.Close.values.reshape(-1,1)"
   ]
  },
  {
   "cell_type": "code",
   "execution_count": 114,
   "id": "quantitative-immunology",
   "metadata": {},
   "outputs": [],
   "source": [
    "split = int(0.8 * len(X))\n",
    "X_train = X[: split]\n",
    "X_test = X[split:]\n",
    "y_train = y[: split]\n",
    "y_test = y[split:]"
   ]
  },
  {
   "cell_type": "markdown",
   "id": "burning-meaning",
   "metadata": {},
   "source": [
    "### Standardizing the data"
   ]
  },
  {
   "cell_type": "code",
   "execution_count": 115,
   "id": "solid-prompt",
   "metadata": {
    "tags": []
   },
   "outputs": [],
   "source": [
    "from sklearn.preprocessing import MinMaxScaler\n",
    "\n",
    "scaler = MinMaxScaler(feature_range= (0,1))\n",
    "scaler = scaler.fit(X)\n",
    "X_train = scaler.transform(X_train)\n",
    "X_test = scaler.transform(X_test)\n",
    "y_scaler = scaler.fit(y)\n",
    "y_train = y_scaler.transform(y_train)\n",
    "y_test = y_scaler.transform(y_test)"
   ]
  },
  {
   "cell_type": "code",
   "execution_count": 116,
   "id": "excessive-combat",
   "metadata": {},
   "outputs": [],
   "source": [
    "X_train = X_train.reshape((X_train.shape[0], X_train.shape[1], 1))\n",
    "X_test = X_test.reshape((X_test.shape[0], X_test.shape[1], 1))"
   ]
  },
  {
   "cell_type": "code",
   "execution_count": 117,
   "id": "purple-soviet",
   "metadata": {},
   "outputs": [],
   "source": [
    "from tensorflow.keras.models import Sequential\n",
    "from tensorflow.keras.layers import LSTM, Dense, Dropout"
   ]
  },
  {
   "cell_type": "code",
   "execution_count": 118,
   "id": "buried-tennessee",
   "metadata": {},
   "outputs": [],
   "source": [
    "model = Sequential()\n",
    "number_units = 20\n",
    "dropout_fraction = 0.2\n",
    "\n",
    "# Layer 1\n",
    "model.add(LSTM(\n",
    "    units=number_units,\n",
    "    return_sequences=True,\n",
    "    input_shape=(X_train.shape[1], 1))\n",
    "    )\n",
    "model.add(Dropout(dropout_fraction))\n",
    "# Layer 2\n",
    "model.add(LSTM(units=number_units, return_sequences=True))\n",
    "model.add(Dropout(dropout_fraction))\n",
    "# Layer 3\n",
    "model.add(LSTM(units=number_units))\n",
    "model.add(Dropout(dropout_fraction))\n",
    "# Output layer\n",
    "model.add(Dense(1))"
   ]
  },
  {
   "cell_type": "code",
   "execution_count": 119,
   "id": "hazardous-jonathan",
   "metadata": {},
   "outputs": [],
   "source": [
    "model.compile(optimizer=\"adam\", loss='mse', metrics = ['mse'])"
   ]
  },
  {
   "cell_type": "code",
   "execution_count": 120,
   "id": "great-kenya",
   "metadata": {},
   "outputs": [
    {
     "name": "stdout",
     "output_type": "stream",
     "text": [
      "Model: \"sequential_8\"\n",
      "_________________________________________________________________\n",
      "Layer (type)                 Output Shape              Param #   \n",
      "=================================================================\n",
      "lstm_18 (LSTM)               (None, 10, 20)            1760      \n",
      "_________________________________________________________________\n",
      "dropout_15 (Dropout)         (None, 10, 20)            0         \n",
      "_________________________________________________________________\n",
      "lstm_19 (LSTM)               (None, 10, 20)            3280      \n",
      "_________________________________________________________________\n",
      "dropout_16 (Dropout)         (None, 10, 20)            0         \n",
      "_________________________________________________________________\n",
      "lstm_20 (LSTM)               (None, 20)                3280      \n",
      "_________________________________________________________________\n",
      "dropout_17 (Dropout)         (None, 20)                0         \n",
      "_________________________________________________________________\n",
      "dense_5 (Dense)              (None, 1)                 21        \n",
      "=================================================================\n",
      "Total params: 8,341\n",
      "Trainable params: 8,341\n",
      "Non-trainable params: 0\n",
      "_________________________________________________________________\n"
     ]
    }
   ],
   "source": [
    "model.summary()"
   ]
  },
  {
   "cell_type": "code",
   "execution_count": 121,
   "id": "ordered-estonia",
   "metadata": {},
   "outputs": [
    {
     "data": {
      "text/plain": [
       "<tensorflow.python.keras.callbacks.History at 0x7f62e314abe0>"
      ]
     },
     "execution_count": 121,
     "metadata": {},
     "output_type": "execute_result"
    }
   ],
   "source": [
    "model.fit(X_train, y_train, epochs=10, shuffle=False, batch_size=1, verbose=0)"
   ]
  },
  {
   "cell_type": "code",
   "execution_count": 73,
   "id": "structured-screening",
   "metadata": {},
   "outputs": [
    {
     "name": "stdout",
     "output_type": "stream",
     "text": [
      "4/4 [==============================] - 1s 3ms/step - loss: 0.0022 - mse: 0.0022    \n"
     ]
    },
    {
     "data": {
      "text/plain": [
       "[0.0022075618617236614, 0.0022075618617236614]"
      ]
     },
     "execution_count": 73,
     "metadata": {},
     "output_type": "execute_result"
    }
   ],
   "source": [
    "model.evaluate(X_test, y_test)"
   ]
  },
  {
   "cell_type": "code",
   "execution_count": null,
   "id": "heated-dodge",
   "metadata": {},
   "outputs": [],
   "source": [
    "model.history['mean_squared_error']\n",
    "# plt.plot(model.history['mse'])\n",
    "# plt.title('model mse')\n",
    "# plt.ylabel('mse')\n",
    "# plt.xlabel('epoch')\n",
    "# plt.legend(['train', 'test'], loc='upper left')\n",
    "# plt.show()"
   ]
  },
  {
   "cell_type": "code",
   "execution_count": 86,
   "id": "tight-hardware",
   "metadata": {},
   "outputs": [],
   "source": [
    "predicted = model.predict(X_test)"
   ]
  },
  {
   "cell_type": "code",
   "execution_count": 75,
   "id": "asian-lindsay",
   "metadata": {},
   "outputs": [],
   "source": [
    "predicted_prices = scaler.inverse_transform(predicted)\n",
    "real_prices = scaler.inverse_transform(y_test.reshape(-1, 1))"
   ]
  },
  {
   "cell_type": "code",
   "execution_count": null,
   "id": "measured-intervention",
   "metadata": {},
   "outputs": [],
   "source": []
  },
  {
   "cell_type": "code",
   "execution_count": 101,
   "id": "integral-monster",
   "metadata": {},
   "outputs": [
    {
     "data": {
      "text/html": [
       "<div>\n",
       "<style scoped>\n",
       "    .dataframe tbody tr th:only-of-type {\n",
       "        vertical-align: middle;\n",
       "    }\n",
       "\n",
       "    .dataframe tbody tr th {\n",
       "        vertical-align: top;\n",
       "    }\n",
       "\n",
       "    .dataframe thead th {\n",
       "        text-align: right;\n",
       "    }\n",
       "</style>\n",
       "<table border=\"1\" class=\"dataframe\">\n",
       "  <thead>\n",
       "    <tr style=\"text-align: right;\">\n",
       "      <th></th>\n",
       "      <th>Real</th>\n",
       "    </tr>\n",
       "  </thead>\n",
       "  <tbody>\n",
       "    <tr>\n",
       "      <th>94</th>\n",
       "      <td>2218.959961</td>\n",
       "    </tr>\n",
       "    <tr>\n",
       "      <th>95</th>\n",
       "      <td>2209.260010</td>\n",
       "    </tr>\n",
       "    <tr>\n",
       "      <th>96</th>\n",
       "      <td>2239.030029</td>\n",
       "    </tr>\n",
       "    <tr>\n",
       "      <th>97</th>\n",
       "      <td>2250.429932</td>\n",
       "    </tr>\n",
       "    <tr>\n",
       "      <th>98</th>\n",
       "      <td>2270.669922</td>\n",
       "    </tr>\n",
       "  </tbody>\n",
       "</table>\n",
       "</div>"
      ],
      "text/plain": [
       "           Real\n",
       "94  2218.959961\n",
       "95  2209.260010\n",
       "96  2239.030029\n",
       "97  2250.429932\n",
       "98  2270.669922"
      ]
     },
     "execution_count": 101,
     "metadata": {},
     "output_type": "execute_result"
    }
   ],
   "source": [
    "stocks = pd.DataFrame({\n",
    "    \"Real\": real_prices.ravel()})\n",
    "#     \"Predicted\": predicted_prices.ravel()\n",
    "#     }, index = df.index[-len(real_prices): ]\n",
    "\n",
    "stocks.tail()"
   ]
  },
  {
   "cell_type": "code",
   "execution_count": 102,
   "id": "attended-venue",
   "metadata": {},
   "outputs": [
    {
     "data": {},
     "metadata": {},
     "output_type": "display_data"
    },
    {
     "data": {
      "application/vnd.holoviews_exec.v0+json": "",
      "text/html": [
       "<div id='1771'>\n",
       "\n",
       "\n",
       "\n",
       "\n",
       "\n",
       "  <div class=\"bk-root\" id=\"1412e8f3-fb48-488a-8604-023ad841d361\" data-root-id=\"1771\"></div>\n",
       "</div>\n",
       "<script type=\"application/javascript\">(function(root) {\n",
       "  function embed_document(root) {\n",
       "  var docs_json = {\"67df39ec-50d6-4fb7-844a-1c1d530694c8\":{\"roots\":{\"references\":[{\"attributes\":{\"axis\":{\"id\":\"1785\"},\"grid_line_color\":null,\"ticker\":null},\"id\":\"1788\",\"type\":\"Grid\"},{\"attributes\":{},\"id\":\"1790\",\"type\":\"BasicTicker\"},{\"attributes\":{\"axis_label\":\"Real\",\"bounds\":\"auto\",\"formatter\":{\"id\":\"1816\"},\"major_label_orientation\":\"horizontal\",\"ticker\":{\"id\":\"1790\"}},\"id\":\"1789\",\"type\":\"LinearAxis\"},{\"attributes\":{\"axis\":{\"id\":\"1789\"},\"dimension\":1,\"grid_line_color\":null,\"ticker\":null},\"id\":\"1792\",\"type\":\"Grid\"},{\"attributes\":{\"line_alpha\":0.2,\"line_color\":\"#1f77b3\",\"line_width\":2,\"x\":{\"field\":\"index\"},\"y\":{\"field\":\"Real\"}},\"id\":\"1811\",\"type\":\"Line\"},{\"attributes\":{},\"id\":\"1794\",\"type\":\"PanTool\"},{\"attributes\":{},\"id\":\"1814\",\"type\":\"BasicTickFormatter\"},{\"attributes\":{},\"id\":\"1793\",\"type\":\"SaveTool\"},{\"attributes\":{},\"id\":\"1795\",\"type\":\"WheelZoomTool\"},{\"attributes\":{\"active_drag\":\"auto\",\"active_inspect\":\"auto\",\"active_multi\":null,\"active_scroll\":\"auto\",\"active_tap\":\"auto\",\"tools\":[{\"id\":\"1775\"},{\"id\":\"1793\"},{\"id\":\"1794\"},{\"id\":\"1795\"},{\"id\":\"1796\"},{\"id\":\"1797\"}]},\"id\":\"1799\",\"type\":\"Toolbar\"},{\"attributes\":{\"overlay\":{\"id\":\"1798\"}},\"id\":\"1796\",\"type\":\"BoxZoomTool\"},{\"attributes\":{},\"id\":\"1797\",\"type\":\"ResetTool\"},{\"attributes\":{},\"id\":\"1786\",\"type\":\"BasicTicker\"},{\"attributes\":{\"line_alpha\":0.1,\"line_color\":\"#1f77b3\",\"line_width\":2,\"x\":{\"field\":\"index\"},\"y\":{\"field\":\"Real\"}},\"id\":\"1810\",\"type\":\"Line\"},{\"attributes\":{\"line_color\":\"#1f77b3\",\"line_width\":2,\"x\":{\"field\":\"index\"},\"y\":{\"field\":\"Real\"}},\"id\":\"1809\",\"type\":\"Line\"},{\"attributes\":{\"margin\":[5,5,5,5],\"name\":\"HSpacer02415\",\"sizing_mode\":\"stretch_width\"},\"id\":\"1826\",\"type\":\"Spacer\"},{\"attributes\":{},\"id\":\"1807\",\"type\":\"Selection\"},{\"attributes\":{\"data_source\":{\"id\":\"1806\"},\"glyph\":{\"id\":\"1809\"},\"hover_glyph\":null,\"muted_glyph\":{\"id\":\"1811\"},\"nonselection_glyph\":{\"id\":\"1810\"},\"selection_glyph\":null,\"view\":{\"id\":\"1813\"}},\"id\":\"1812\",\"type\":\"GlyphRenderer\"},{\"attributes\":{\"callback\":null,\"renderers\":[{\"id\":\"1812\"}],\"tags\":[\"hv_created\"],\"tooltips\":[[\"index\",\"@{index}\"],[\"Real\",\"@{Real}\"]]},\"id\":\"1775\",\"type\":\"HoverTool\"},{\"attributes\":{\"margin\":[5,5,5,5],\"name\":\"HSpacer02414\",\"sizing_mode\":\"stretch_width\"},\"id\":\"1772\",\"type\":\"Spacer\"},{\"attributes\":{\"text\":\"Using Actual Prices as the Features - 80 Epochs\",\"text_color\":{\"value\":\"black\"},\"text_font_size\":{\"value\":\"12pt\"}},\"id\":\"1777\",\"type\":\"Title\"},{\"attributes\":{\"children\":[{\"id\":\"1772\"},{\"id\":\"1776\"},{\"id\":\"1826\"}],\"margin\":[0,0,0,0],\"name\":\"Row02410\",\"tags\":[\"embedded\"]},\"id\":\"1771\",\"type\":\"Row\"},{\"attributes\":{\"source\":{\"id\":\"1806\"}},\"id\":\"1813\",\"type\":\"CDSView\"},{\"attributes\":{\"bottom_units\":\"screen\",\"fill_alpha\":0.5,\"fill_color\":\"lightgrey\",\"left_units\":\"screen\",\"level\":\"overlay\",\"line_alpha\":1.0,\"line_color\":\"black\",\"line_dash\":[4,4],\"line_width\":2,\"render_mode\":\"css\",\"right_units\":\"screen\",\"top_units\":\"screen\"},\"id\":\"1798\",\"type\":\"BoxAnnotation\"},{\"attributes\":{},\"id\":\"1823\",\"type\":\"UnionRenderers\"},{\"attributes\":{\"end\":98.0,\"reset_end\":98.0,\"reset_start\":0.0,\"tags\":[[[\"index\",\"index\",null]]]},\"id\":\"1773\",\"type\":\"Range1d\"},{\"attributes\":{\"axis_label\":\"\",\"bounds\":\"auto\",\"formatter\":{\"id\":\"1814\"},\"major_label_orientation\":\"horizontal\",\"ticker\":{\"id\":\"1786\"}},\"id\":\"1785\",\"type\":\"LinearAxis\"},{\"attributes\":{\"end\":2325.7149169921877,\"reset_end\":2325.7149169921877,\"reset_start\":1665.1749755859375,\"start\":1665.1749755859375,\"tags\":[[[\"Real\",\"Real\",null]]]},\"id\":\"1774\",\"type\":\"Range1d\"},{\"attributes\":{},\"id\":\"1816\",\"type\":\"BasicTickFormatter\"},{\"attributes\":{\"below\":[{\"id\":\"1785\"}],\"center\":[{\"id\":\"1788\"},{\"id\":\"1792\"}],\"left\":[{\"id\":\"1789\"}],\"margin\":null,\"min_border_bottom\":10,\"min_border_left\":10,\"min_border_right\":10,\"min_border_top\":10,\"plot_height\":300,\"plot_width\":700,\"renderers\":[{\"id\":\"1812\"}],\"sizing_mode\":\"fixed\",\"title\":{\"id\":\"1777\"},\"toolbar\":{\"id\":\"1799\"},\"x_range\":{\"id\":\"1773\"},\"x_scale\":{\"id\":\"1781\"},\"y_range\":{\"id\":\"1774\"},\"y_scale\":{\"id\":\"1783\"}},\"id\":\"1776\",\"subtype\":\"Figure\",\"type\":\"Plot\"},{\"attributes\":{},\"id\":\"1783\",\"type\":\"LinearScale\"},{\"attributes\":{},\"id\":\"1781\",\"type\":\"LinearScale\"},{\"attributes\":{\"data\":{\"Real\":{\"__ndarray__\":\"AAAAwB64m0AAAADgo4abQP///1+PMptA////n0d6m0AAAAAghSGbQAAAAIA9/ppAAAAAoJmPm0D///8fhZCbQAAAAIAU7JtAAAAAoJlpm0AAAACgcA2cQAAAAEDhg5xAAAAAIFx3nEAAAABACn+cQAAAAMAeZJxAAAAA4FFNnEAAAACgcMebQAAAAKCZnptA////PzO7m0AAAABACmGbQAAAAOBRhJtAAAAAgMJ0m0AAAABACjKbQAAAAEDh+JpAAAAAgD0am0AAAABA4eCaQP///3/rAJtAAAAA4KMYm0AAAAAA17ebQAEAAEAKd5tAAAAAAAAhm0AAAABgj2KbQAAAACCF+JpA////PzMwm0AAAAAgheuaQAAAACBcuZtAAAAA4FEXnEAAAAAAKXGbQAAAAGC4JZtA//////9Mm0AAAAAgrgubQAAAAOB6/ppAAAAAQOHhm0AAAACgR2CdQAAAAKCZcJ1AAAAAgD2SnUAAAADAHpmdQAAAAMDMz51AAAAAgMJrnEAAAADAzPScQAAAAKBwjZxAAAAAoEeUnUAAAADgevydQAAAAIDCFaBAAAAAgEILoEAAAAAAqVGgQAAAAEAKSaBAAAAAoMc2oEAAAADA9UygQAAAAACAUaBAAAAAYA9eoEAAAABgZn2gQAAAAIA9jaBAAAAAwJ5zoEAAAADAnlGgQAAAACCFDKBAAAAAgD0YoEAAAADAnkegQAAAAMDMf59AAAAA4KOXn0AAAADgUSugQAAAAMD1IKBAAAAA4KNtn0AAAABguMefQAAAAOAjYqBAAAAAAABen0AAAACgcOGfQAAAAIDC0J9AAAAAgBRpoEAAAAAAAASgQAAAAEDhDKBAAAAAoMdHoEAAAACgcESgQAAAACBclZ9AAAAAANern0AAAACAwrqfQP///99R5Z9AAAAAwB7Cn0AAAAAA18GfQAAAAIDrop9A/////yj3n0AAAABA4fmfQAAAAEAKHaBAAAAAYI+joEAAAACA61WhQAAAACCFQqFAAAAAYA9+oUAAAAAg3JShQAAAAABXvaFA\",\"dtype\":\"float64\",\"shape\":[99]},\"index\":[0,1,2,3,4,5,6,7,8,9,10,11,12,13,14,15,16,17,18,19,20,21,22,23,24,25,26,27,28,29,30,31,32,33,34,35,36,37,38,39,40,41,42,43,44,45,46,47,48,49,50,51,52,53,54,55,56,57,58,59,60,61,62,63,64,65,66,67,68,69,70,71,72,73,74,75,76,77,78,79,80,81,82,83,84,85,86,87,88,89,90,91,92,93,94,95,96,97,98]},\"selected\":{\"id\":\"1807\"},\"selection_policy\":{\"id\":\"1823\"}},\"id\":\"1806\",\"type\":\"ColumnDataSource\"}],\"root_ids\":[\"1771\"]},\"title\":\"Bokeh Application\",\"version\":\"2.0.2\"}};\n",
       "  var render_items = [{\"docid\":\"67df39ec-50d6-4fb7-844a-1c1d530694c8\",\"root_ids\":[\"1771\"],\"roots\":{\"1771\":\"1412e8f3-fb48-488a-8604-023ad841d361\"}}];\n",
       "  root.Bokeh.embed.embed_items_notebook(docs_json, render_items);\n",
       "  }\n",
       "if (root.Bokeh !== undefined) {\n",
       "    embed_document(root);\n",
       "  } else {\n",
       "    var attempts = 0;\n",
       "    var timer = setInterval(function(root) {\n",
       "      if (root.Bokeh !== undefined) {\n",
       "        clearInterval(timer);\n",
       "        embed_document(root);\n",
       "      } else if (document.readyState == \"complete\") {\n",
       "        attempts++;\n",
       "        if (attempts > 100) {\n",
       "          clearInterval(timer);\n",
       "          console.log(\"Bokeh: ERROR: Unable to run BokehJS code because BokehJS library is missing\");\n",
       "        }\n",
       "      }\n",
       "    }, 10, root)\n",
       "  }\n",
       "})(window);</script>"
      ],
      "text/plain": [
       ":Curve   [index]   (Real)"
      ]
     },
     "execution_count": 102,
     "metadata": {
      "application/vnd.holoviews_exec.v0+json": {
       "id": "1771"
      }
     },
     "output_type": "execute_result"
    }
   ],
   "source": [
    "stocks.hvplot(title = \"Using Actual Prices as the Features - 80 Epochs\", figsize = (15, 7.5))"
   ]
  },
  {
   "cell_type": "markdown",
   "id": "steady-legislation",
   "metadata": {},
   "source": [
    "# 2. Trading Strategies"
   ]
  },
  {
   "cell_type": "markdown",
   "id": "functional-treasurer",
   "metadata": {},
   "source": [
    "* Create a strategy that does well in BULL markets.\n",
    "* Create a strategy that does well in BEAR markets.\n",
    "* Figure out how much would be made with a buy and hold strategy\n",
    "* Create a cumulative returns graph to display the difference"
   ]
  },
  {
   "cell_type": "markdown",
   "id": "structural-semester",
   "metadata": {},
   "source": [
    "# 3. Combining Trading Strategies"
   ]
  },
  {
   "cell_type": "markdown",
   "id": "technical-disability",
   "metadata": {},
   "source": [
    "* Combine the strategies\n",
    "* Figure out a trigger that allows the model to switch between strategies.\n",
    "* Backtest the combined strategy\n",
    "* Compare the cumulative returns of the buy and hold vs this strategy."
   ]
  },
  {
   "cell_type": "markdown",
   "id": "dedicated-yesterday",
   "metadata": {},
   "source": [
    "# 4. Predictive Model\n",
    "* Create a model that can predict future prices.\n",
    "* Check to see if the model is over or underfit.\n",
    "* Apply the combined strategy with the predicted values\n",
    "* Backtest /forward test.\n",
    "* Compare using a cumulative returns graph."
   ]
  },
  {
   "cell_type": "markdown",
   "id": "behavioral-crest",
   "metadata": {},
   "source": [
    "# 5. Conclusions\n",
    "* How did our model do compared to a buy and hold strategy?\n",
    "    * Buy how much did or didn't it suck.\n",
    "    * Cumulative returns\n",
    "    * Risk\n",
    "    * Number of trades\n",
    "    * Number of gains / (Number of gains + Number of losses)\n",
    "    * ## Anything else you guys think would help in the comparison."
   ]
  },
  {
   "cell_type": "code",
   "execution_count": null,
   "id": "amazing-denver",
   "metadata": {},
   "outputs": [],
   "source": []
  }
 ],
 "metadata": {
  "kernelspec": {
   "display_name": "Python 3.8.5 64-bit ('analysis': conda)",
   "language": "python",
   "name": "python38564bitanalysisconda6de0162e75684d44a4f231ff50ba0a52"
  },
  "language_info": {
   "codemirror_mode": {
    "name": "ipython",
    "version": 3
   },
   "file_extension": ".py",
   "mimetype": "text/x-python",
   "name": "python",
   "nbconvert_exporter": "python",
   "pygments_lexer": "ipython3",
   "version": "3.8.5"
  }
 },
 "nbformat": 4,
 "nbformat_minor": 5
}
