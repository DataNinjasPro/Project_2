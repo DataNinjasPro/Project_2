{
 "cells": [
  {
   "cell_type": "markdown",
   "id": "quiet-bracket",
   "metadata": {},
   "source": [
    "# Imports"
   ]
  },
  {
   "cell_type": "code",
   "execution_count": 86,
   "id": "boolean-nelson",
   "metadata": {},
   "outputs": [
    {
     "output_type": "stream",
     "name": "stdout",
     "text": [
      "Requirement already satisfied: ta in /Users/jeff/opt/anaconda3/lib/python3.8/site-packages (0.7.0)\nRequirement already satisfied: numpy in /Users/jeff/opt/anaconda3/lib/python3.8/site-packages (from ta) (1.19.2)\nRequirement already satisfied: pandas in /Users/jeff/opt/anaconda3/lib/python3.8/site-packages (from ta) (1.1.5)\nRequirement already satisfied: python-dateutil>=2.7.3 in /Users/jeff/opt/anaconda3/lib/python3.8/site-packages (from pandas->ta) (2.8.1)\nRequirement already satisfied: pytz>=2017.2 in /Users/jeff/opt/anaconda3/lib/python3.8/site-packages (from pandas->ta) (2020.4)\nRequirement already satisfied: six>=1.5 in /Users/jeff/opt/anaconda3/lib/python3.8/site-packages (from python-dateutil>=2.7.3->pandas->ta) (1.15.0)\n"
     ]
    }
   ],
   "source": [
    "import yfinance as yf\n",
    "import pandas as pd\n",
    "import matplotlib.pyplot as plt\n",
    "import seaborn as sns\n",
    "import numpy as np\n",
    "# import hvplot.pandas as hvplot\n",
    "plt.style.use('seaborn')\n",
    "!pip install ta\n",
    "from numpy.random import seed\n",
    "seed(1)\n",
    "from tensorflow import random\n",
    "random.set_seed(2)\n",
    "import ta as ta\n",
    "# Initial imports\n",
    "from tensorflow.keras.models import Sequential\n",
    "from tensorflow.keras.layers import Dense\n",
    "from pathlib import Path\n",
    "import pandas as pd"
   ]
  },
  {
   "cell_type": "code",
   "execution_count": 144,
   "id": "aquatic-missouri",
   "metadata": {},
   "outputs": [
    {
     "output_type": "stream",
     "name": "stdout",
     "text": [
      "[*********************100%***********************]  1 of 1 completed\n",
      "             Close         Open         High          Low        Volume\n",
      "count  1557.000000  1557.000000  1557.000000  1557.000000  1.557000e+03\n",
      "mean    728.165025   728.254538   731.480011   724.813785  1.261241e+06\n",
      "std      81.773096    81.733569    81.335179    82.155198  1.038961e+06\n",
      "min     546.710022   546.390015   562.619995   539.489990  0.000000e+00\n",
      "25%     673.500000   673.880005   676.750000   670.500000  6.376800e+05\n",
      "50%     701.989807   702.035522   704.769897   699.549988  9.563000e+05\n",
      "75%     798.880005   799.032104   801.640015   796.200012  1.519822e+06\n",
      "max     895.619995   895.599976   900.400024   888.504272  1.390479e+07\n",
      "Close     0\n",
      "Open      0\n",
      "High      0\n",
      "Low       0\n",
      "Volume    0\n",
      "dtype: int64\n"
     ]
    }
   ],
   "source": [
    "def download(ticker):\n",
    "# Note: We could have period < 60d and an intraday return\n",
    "# Just change period to < 60 days and add interval = 1h\n",
    "    df = yf.download(ticker, \n",
    "                period = '60d', # A period of 2 years from today\n",
    "                prepost = False, # Pre and Post markets included\n",
    "                threads = True, # Multi-thread processing for faster output.\n",
    "                interval = '15m')\n",
    "    return df\n",
    "df = download(\"TSLA\")\n",
    "df = df[['Close','Open','High','Low','Volume']]\n",
    "#data cleaning\n",
    "print(df.describe())\n",
    "print(df.isna().sum())\n"
   ]
  },
  {
   "cell_type": "code",
   "execution_count": null,
   "metadata": {},
   "outputs": [],
   "source": [
    "def window_data(df, window, feature_col_number, target_col_number):\n",
    "    \"\"\"\n",
    "    This function accepts the column number for the features (X) and the target (y).\n",
    "    It chunks the data up with a rolling window of Xt - window to predict Xt.\n",
    "    It returns two numpy arrays of X and y.\n",
    "    \"\"\"\n",
    "    X = []\n",
    "    y = []\n",
    "    for i in range(len(data) - window):\n",
    "        features = data.iloc[i : (i + window), :-1]\n",
    "        target = data.iloc[(i + window), target_col_number]\n",
    "        X.append(features)\n",
    "        y.append(target)\n",
    "    return np.array(X), np.array(y).reshape(-1, 1)\n",
    "    # Define the window size\n",
    "window_size = 32\n",
    "\n",
    "# Set the index of the feature and target columns\n",
    "feature_column = 3\n",
    "target_column = 1\n",
    "\n",
    "# Create the features (X) and target (y) data using the window_data() function.\n",
    "X, y = window_data(data, window_size, feature_column, target_column)\n",
    "\n",
    "# Print a few sample values from X and y\n",
    "print (f\"X sample values:\\n{X[:3]} \\n\")\n",
    "print (f\"y sample values:\\n{y[:3]}\")"
   ]
  },
  {
   "cell_type": "code",
   "execution_count": null,
   "metadata": {},
   "outputs": [],
   "source": [
    "data"
   ]
  },
  {
   "cell_type": "code",
   "execution_count": null,
   "metadata": {},
   "outputs": [],
   "source": []
  },
  {
   "cell_type": "code",
   "execution_count": null,
   "metadata": {},
   "outputs": [],
   "source": []
  },
  {
   "cell_type": "code",
   "execution_count": null,
   "metadata": {},
   "outputs": [],
   "source": []
  },
  {
   "cell_type": "code",
   "execution_count": null,
   "metadata": {},
   "outputs": [],
   "source": []
  },
  {
   "cell_type": "code",
   "execution_count": null,
   "metadata": {},
   "outputs": [],
   "source": []
  },
  {
   "cell_type": "code",
   "execution_count": null,
   "metadata": {},
   "outputs": [],
   "source": []
  },
  {
   "cell_type": "markdown",
   "id": "reflected-headline",
   "metadata": {},
   "source": [
    "### Getting a visual of the data"
   ]
  },
  {
   "cell_type": "code",
   "execution_count": null,
   "id": "absolute-bride",
   "metadata": {},
   "outputs": [],
   "source": [
    "# df = df['2019']\n",
    "# temp = df.Close.pct_change()\n",
    "# temp1 = temp.pct_change()\n",
    "# comb = pd.concat([temp,temp1], axis = 'columns').rolling(200).mean()\n",
    "# comb.columns = ['A','B']\n",
    "# comb.plot(secondary_y = 'B')"
   ]
  },
  {
   "cell_type": "code",
   "execution_count": null,
   "id": "decreased-south",
   "metadata": {},
   "outputs": [],
   "source": [
    "# # Another strategy.\n",
    "\n",
    "# # If min is the same for x number of minutes, buy\n",
    "# # If max is the same for x number of minues, sell.\n",
    "# # df.Close.plot(figsize = (30,12))\n",
    "# # low = df.Close.rolling(500).min()\n",
    "# high = df.Close.rolling(100).max()\n",
    "# volume = df.Volume.rolling(window = 100).mean()\n",
    "# df[['Close','Volume']].rolling(window = 200).mean().plot(secondary_y = 'Volume')\n",
    "# # short_low = low.rolling(window = 50).mean()\n",
    "# # long_low = low.rolling(window = 100).mean()\n",
    "\n",
    "# # # The lowest high of the last 50 time periods\n",
    "# # lowest_high = high.rolling(window = 70).min()\n",
    "# # # The highest high of the last 200 time periods.\n",
    "# # highest_high = high.rolling(window = 200).max()\n",
    "\n",
    "# # df[['Close','Volume']].plot(figsize = (20,15),\n",
    "# #                                       secondary_y = 'Volume')\n",
    "# # sma = df.Close.rolling(window = 75).mean() * 1.12\n",
    "# # # sma1 = df.Close.rolling(window = 100).mean() * 0.95\n",
    "# # low = df.Close.rolling(window = 200).min().rolling(window = 75).mean()\n",
    "# # floor = df.Close.rolling(window = 150).min()\n",
    "\n",
    "# # floor.plot()\n",
    "# # low.plot()\n",
    "# # sma.plot()\n",
    "# # lowest_high.plot()\n",
    "# # highest_hi\n",
    "# # # When the \n",
    "# # lowest_high.plot()\n",
    "# # highest_high.plot()\n",
    "\n",
    "\n",
    "\n",
    "\n",
    "\n"
   ]
  },
  {
   "cell_type": "code",
   "execution_count": null,
   "id": "restricted-arctic",
   "metadata": {},
   "outputs": [],
   "source": [
    "# df.Close.plot(figsize = (30,15))\n",
    "\n",
    "# upper = df.Close.rolling(50).mean() + df.Close.rolling(50).std() * 1\n",
    "# lower = df.Close.rolling(50).mean() - df.Close.rolling(50).std() * 1\n",
    "# middle = df.Close.rolling(50).mean()\n",
    "\n",
    "# upper.plot()\n",
    "# lower.plot()\n",
    "# middle.plot()"
   ]
  },
  {
   "cell_type": "code",
   "execution_count": null,
   "id": "favorite-pottery",
   "metadata": {},
   "outputs": [],
   "source": [
    "# start_day = str(df.index[0]).split(' ')[0]\n",
    "# end_day = str(df.index[-1]).split(' ')[0]\n",
    "\n",
    "# twenty_day_max = df.High.rolling(window = 5).max()\n",
    "# # twenty_day_low = df.Low.rolling(window = 5).min()\n",
    "\n",
    "# rolling_short = df.Close.rolling(window = 40).mean()\n",
    "# rolling_long = df.Close.rolling(window = 160).mean()\n",
    "\n",
    "# df.Close.plot(figsize = (30,10),\n",
    "#              title = f'{ticker} Closing Prices from {start_day} to {end_day}', grid = True)\n",
    "# # twenty_day_max.plot()\n",
    "# # twenty_day_low.plot()\n",
    "# rolling_short.plot()\n",
    "# rolling_long.plot()"
   ]
  },
  {
   "cell_type": "markdown",
   "id": "recreational-difference",
   "metadata": {},
   "source": [
    "# NOTE: It would be cool for this graph to display VOLUME and their averages under this."
   ]
  },
  {
   "cell_type": "markdown",
   "id": "dimensional-optimization",
   "metadata": {},
   "source": [
    "# Potential Buy Strategy.\n",
    "### Buy when 10 up crosses 20 only if you don't have any stock already.\n",
    "### Sell if actual stock price is less than X% of the X-day max price."
   ]
  },
  {
   "cell_type": "code",
   "execution_count": null,
   "id": "soviet-brunswick",
   "metadata": {},
   "outputs": [],
   "source": [
    "\n",
    "\n",
    "df.Close.plot(figsize = (30,10))\n"
   ]
  },
  {
   "cell_type": "code",
   "execution_count": null,
   "id": "multiple-trail",
   "metadata": {},
   "outputs": [],
   "source": [
    "# Optional\n",
    "#df = df.Close"
   ]
  },
  {
   "cell_type": "markdown",
   "id": "otherwise-check",
   "metadata": {},
   "source": [
    "### Changing the absolute values to percents"
   ]
  },
  {
   "cell_type": "code",
   "execution_count": null,
   "id": "gross-definition",
   "metadata": {},
   "outputs": [],
   "source": [
    "close_price_change = df.pct_change()"
   ]
  },
  {
   "cell_type": "markdown",
   "id": "straight-maple",
   "metadata": {},
   "source": [
    "# 2. Trading Strategies"
   ]
  },
  {
   "cell_type": "markdown",
   "id": "behind-encoding",
   "metadata": {},
   "source": [
    "* Create a strategy that does well in BULL markets.\n",
    "* Create a strategy that does well in BEAR markets.\n",
    "* Create charts for both visually showing entry end exit points.\n",
    "* Figure out how much would be made with a buy and hold strategy\n",
    "* Create a cumulative returns graph to display the difference"
   ]
  },
  {
   "cell_type": "markdown",
   "id": "ongoing-marsh",
   "metadata": {},
   "source": [
    "# This strategy does very well in markets that are more on the bear size.\n",
    "### Meaning that the market doesn't have to be full bear, just at least mostly bear."
   ]
  },
  {
   "cell_type": "code",
   "execution_count": null,
   "id": "nervous-radius",
   "metadata": {},
   "outputs": [],
   "source": [
    "df1 = df.copy()\n",
    "# Set the short window and long windows\n",
    "#40,80 works best so far.\n",
    "short_sma = 40\n",
    "long_sma = 80"
   ]
  },
  {
   "cell_type": "code",
   "execution_count": null,
   "id": "billion-projection",
   "metadata": {},
   "outputs": [],
   "source": [
    "df1[f\"{short_sma} SMA\"] = df1.Close.rolling(short_sma).mean() \n",
    "df1[f\"{long_sma} SMA\"] = df1.Close.rolling(long_sma).mean() "
   ]
  },
  {
   "cell_type": "code",
   "execution_count": null,
   "id": "chicken-assembly",
   "metadata": {},
   "outputs": [],
   "source": [
    "df1.head(5)"
   ]
  },
  {
   "cell_type": "markdown",
   "id": "german-there",
   "metadata": {},
   "source": [
    "The 1,-1 means that your are long when short sma > long sma, and short otherwise."
   ]
  },
  {
   "cell_type": "code",
   "execution_count": null,
   "id": "brutal-problem",
   "metadata": {},
   "outputs": [],
   "source": [
    "df1['Position'] = np.where(df1[f'{short_sma} SMA'] > df1[f'{long_sma} SMA'],1,-1)"
   ]
  },
  {
   "cell_type": "code",
   "execution_count": null,
   "id": "reported-making",
   "metadata": {},
   "outputs": [],
   "source": [
    "df1['log_returns'] = np.log(df1['Close'] / df1['Close'].shift(1))"
   ]
  },
  {
   "cell_type": "code",
   "execution_count": null,
   "id": "clean-manual",
   "metadata": {},
   "outputs": [],
   "source": [
    "df1['strategy_returns'] = df1.Position.shift(1) * df1['log_returns']"
   ]
  },
  {
   "cell_type": "code",
   "execution_count": null,
   "id": "severe-vertex",
   "metadata": {},
   "outputs": [],
   "source": [
    "df1.dropna(inplace = True)\n",
    "df1.head()"
   ]
  },
  {
   "cell_type": "markdown",
   "id": "sustainable-security",
   "metadata": {},
   "source": [
    "#### Cumulative Sum"
   ]
  },
  {
   "cell_type": "code",
   "execution_count": null,
   "id": "going-brunei",
   "metadata": {},
   "outputs": [],
   "source": [
    "df1[['log_returns','strategy_returns']].sum()\n",
    "# Note that these give you the same ending value\n",
    "# df1['log_returns'].cumsum()[-1]"
   ]
  },
  {
   "cell_type": "code",
   "execution_count": null,
   "id": "intermediate-destiny",
   "metadata": {},
   "outputs": [],
   "source": [
    "df1[['log_returns','strategy_returns']].sum().apply(np.exp) * 1000"
   ]
  },
  {
   "cell_type": "code",
   "execution_count": null,
   "id": "periodic-quest",
   "metadata": {},
   "outputs": [],
   "source": [
    "df1['BH CR'] = df1['log_returns'].cumsum().apply(np.exp) * 1000\n",
    "df1['S CR'] = df1['strategy_returns'].cumsum().apply(np.exp) * 1000\n",
    "\n",
    "df1[['BH CR','S CR']].plot()"
   ]
  },
  {
   "cell_type": "code",
   "execution_count": null,
   "id": "induced-palestine",
   "metadata": {},
   "outputs": [],
   "source": [
    "# exit = df[df['Position'] == -1.0]['Portfolio Total'].hvplot.scatter(\n",
    "#     color='red',\n",
    "#     legend=False,\n",
    "#     ylabel='Total Portfolio Value',\n",
    "#     width=1000,\n",
    "#     height=400\n",
    "# )\n",
    "\n",
    "# # Visualize entry position relative to total portfolio value\n",
    "# entry = df[df['Entry/Exit'] == 1.0]['Portfolio Total'].hvplot.scatter(\n",
    "#     color='green',\n",
    "#     legend=False,\n",
    "#     ylabel='Total Portfolio Value',\n",
    "#     width=1000,\n",
    "#     height=400\n",
    "# )\n",
    "\n",
    "# # Visualize total portoflio value for the investment\n",
    "# total_portfolio_value = df[['Portfolio Total']].hvplot(\n",
    "#     line_color='lightgray',\n",
    "#     ylabel='Total Portfolio Value',\n",
    "#     width=1000,\n",
    "#     height=400\n",
    "# )\n",
    "\n",
    "# # Overlay plots\n",
    "# portfolio_entry_exit_plot = total_portfolio_value * entry * exit\n",
    "# portfolio_entry_exit_plot.opts(xaxis=None)"
   ]
  },
  {
   "cell_type": "code",
   "execution_count": null,
   "id": "nervous-demographic",
   "metadata": {},
   "outputs": [],
   "source": []
  },
  {
   "cell_type": "code",
   "execution_count": null,
   "id": "earned-jaguar",
   "metadata": {},
   "outputs": [],
   "source": [
    "# df1['Signal'].value_counts()"
   ]
  },
  {
   "cell_type": "code",
   "execution_count": null,
   "id": "contained-ratio",
   "metadata": {},
   "outputs": [],
   "source": [
    "# df['Signal'].value_counts()"
   ]
  },
  {
   "cell_type": "code",
   "execution_count": null,
   "id": "aware-cable",
   "metadata": {},
   "outputs": [],
   "source": [
    "# df['Entry/Exit'].value_counts()"
   ]
  },
  {
   "cell_type": "markdown",
   "id": "tough-crowd",
   "metadata": {},
   "source": [
    "# 3. Combining Trading Strategies"
   ]
  },
  {
   "cell_type": "markdown",
   "id": "progressive-affair",
   "metadata": {},
   "source": [
    "* Combine the strategies\n",
    "* Figure out a trigger that allows the model to switch between strategies.\n",
    "* Backtest the combined strategy\n",
    "* Compare the cumulative returns of the buy and hold vs this strategy."
   ]
  },
  {
   "cell_type": "markdown",
   "id": "wireless-special",
   "metadata": {},
   "source": [
    "# 4. Predictive Model (Doesn't Work)\n",
    "* Create a model that can predict future prices.\n",
    "* Check to see if the model is over or underfit.\n",
    "* Apply the combined strategy with the predicted values\n",
    "* Backtest /forward test.\n",
    "* Compare using a cumulative returns graph."
   ]
  },
  {
   "cell_type": "markdown",
   "id": "auburn-penguin",
   "metadata": {},
   "source": [
    "### Seeing which columns actually correlate.\n",
    "Low correlation does not help the model.\n",
    "Does high correlation actually do better?    "
   ]
  },
  {
   "cell_type": "code",
   "execution_count": null,
   "id": "minimal-presentation",
   "metadata": {},
   "outputs": [],
   "source": [
    "# sns.set_style(\"darkgrid\")\n",
    "correlation = close_price_change.corr()\n",
    "\n",
    "fig, ax = plt.subplots(figsize=(15,7.5))\n",
    "ax.set_title('Correlation between OHLCV')\n",
    "heat_map = sns.heatmap(data = correlation,\n",
    "#                        x = correlation.Close,\n",
    "                       annot=True,\n",
    "                      ax = ax)\n",
    "heat_map"
   ]
  },
  {
   "cell_type": "markdown",
   "id": "veterinary-scanning",
   "metadata": {},
   "source": [
    "## This is to help us easily see which columns have low correlation to Close\n",
    "### So if you were to decide to put other data in the main dataframe, this would hopefully filter that out if it wasn't useful"
   ]
  },
  {
   "cell_type": "code",
   "execution_count": null,
   "id": "certified-assembly",
   "metadata": {},
   "outputs": [],
   "source": [
    "print('Correlations')\n",
    "correlations = pd.DataFrame([correlation[x] for x in correlation][0])\n",
    "print(correlations)\n",
    "\n",
    "# Automatically keeping the high correlations\n",
    "keepers = correlations[correlations.Close> 0.6]\n",
    "keeper_columns = list(keepers.index)\n",
    "print('\\n\\nHigh Correlations')\n",
    "keeper_columns"
   ]
  },
  {
   "cell_type": "markdown",
   "id": "cooked-little",
   "metadata": {},
   "source": [
    "### I would say to only keep High and Low"
   ]
  },
  {
   "cell_type": "code",
   "execution_count": null,
   "id": "satellite-frequency",
   "metadata": {},
   "outputs": [],
   "source": [
    "# df1 = df1.loc[:,keeper_columns]\n",
    "# df1 = df1[['Low','High','Close']]\n",
    "# df1"
   ]
  },
  {
   "cell_type": "markdown",
   "id": "adequate-mailing",
   "metadata": {},
   "source": [
    "### Separating the data into X and y"
   ]
  },
  {
   "cell_type": "markdown",
   "id": "alternative-civilian",
   "metadata": {},
   "source": [
    "# THE PROBLEM WITH THIS MODEL\n",
    "## It doesn't predict into the actual future. It only predicts things that have already happened. \n",
    "Pretty lame. I will try to get it to predict future values."
   ]
  },
  {
   "cell_type": "code",
   "execution_count": 168,
   "id": "identified-detail",
   "metadata": {},
   "outputs": [],
   "source": [
    "def window_data(df, window, feature_col_number, target_col_number):\n",
    "    X = []\n",
    "    y = []\n",
    "    for i in range(len(df) - window):\n",
    "        features = df.iloc[i:(i + window), feature_col_number]\n",
    "        target = df.iloc[(i + window), target_col_number]\n",
    "        X.append(features)\n",
    "        y.append(target)\n",
    "    return np.array(X), np.array(y).reshape(-1, 1)"
   ]
  },
  {
   "cell_type": "code",
   "execution_count": 146,
   "id": "acceptable-return",
   "metadata": {},
   "outputs": [
    {
     "output_type": "execute_result",
     "data": {
      "text/plain": [
       "                                Close        Open        High         Low  \\\n",
       "Datetime                                                                    \n",
       "2021-01-25 09:30:00-05:00  875.261292  855.000000  875.489990  852.229980   \n",
       "2021-01-25 09:45:00-05:00  895.619995  876.000000  896.500000  874.330017   \n",
       "2021-01-25 10:00:00-05:00  888.635010  895.599976  900.400024  887.500000   \n",
       "2021-01-25 10:15:00-05:00  885.505005  888.510010  895.000000  885.200012   \n",
       "2021-01-25 10:30:00-05:00  878.830017  885.639587  887.599976  878.710022   \n",
       "...                               ...         ...         ...         ...   \n",
       "2021-04-20 14:00:00-04:00  715.780090  718.170105  718.710022  714.960022   \n",
       "2021-04-20 14:15:00-04:00  716.270020  715.650024  719.650024  715.099976   \n",
       "2021-04-20 14:30:00-04:00  718.956909  716.304993  719.235596  714.919983   \n",
       "2021-04-20 14:45:00-04:00  716.340027  718.830017  720.820007  716.000000   \n",
       "2021-04-20 14:59:03-04:00  716.299988  716.299988  716.299988  716.299988   \n",
       "\n",
       "                            Volume  \n",
       "Datetime                            \n",
       "2021-01-25 09:30:00-05:00  3418610  \n",
       "2021-01-25 09:45:00-05:00  4060724  \n",
       "2021-01-25 10:00:00-05:00  3480491  \n",
       "2021-01-25 10:15:00-05:00  1544654  \n",
       "2021-01-25 10:30:00-05:00  1741634  \n",
       "...                            ...  \n",
       "2021-04-20 14:00:00-04:00   642908  \n",
       "2021-04-20 14:15:00-04:00   781932  \n",
       "2021-04-20 14:30:00-04:00   559735  \n",
       "2021-04-20 14:45:00-04:00   763331  \n",
       "2021-04-20 14:59:03-04:00        0  \n",
       "\n",
       "[1557 rows x 5 columns]"
      ],
      "text/html": "<div>\n<style scoped>\n    .dataframe tbody tr th:only-of-type {\n        vertical-align: middle;\n    }\n\n    .dataframe tbody tr th {\n        vertical-align: top;\n    }\n\n    .dataframe thead th {\n        text-align: right;\n    }\n</style>\n<table border=\"1\" class=\"dataframe\">\n  <thead>\n    <tr style=\"text-align: right;\">\n      <th></th>\n      <th>Close</th>\n      <th>Open</th>\n      <th>High</th>\n      <th>Low</th>\n      <th>Volume</th>\n    </tr>\n    <tr>\n      <th>Datetime</th>\n      <th></th>\n      <th></th>\n      <th></th>\n      <th></th>\n      <th></th>\n    </tr>\n  </thead>\n  <tbody>\n    <tr>\n      <th>2021-01-25 09:30:00-05:00</th>\n      <td>875.261292</td>\n      <td>855.000000</td>\n      <td>875.489990</td>\n      <td>852.229980</td>\n      <td>3418610</td>\n    </tr>\n    <tr>\n      <th>2021-01-25 09:45:00-05:00</th>\n      <td>895.619995</td>\n      <td>876.000000</td>\n      <td>896.500000</td>\n      <td>874.330017</td>\n      <td>4060724</td>\n    </tr>\n    <tr>\n      <th>2021-01-25 10:00:00-05:00</th>\n      <td>888.635010</td>\n      <td>895.599976</td>\n      <td>900.400024</td>\n      <td>887.500000</td>\n      <td>3480491</td>\n    </tr>\n    <tr>\n      <th>2021-01-25 10:15:00-05:00</th>\n      <td>885.505005</td>\n      <td>888.510010</td>\n      <td>895.000000</td>\n      <td>885.200012</td>\n      <td>1544654</td>\n    </tr>\n    <tr>\n      <th>2021-01-25 10:30:00-05:00</th>\n      <td>878.830017</td>\n      <td>885.639587</td>\n      <td>887.599976</td>\n      <td>878.710022</td>\n      <td>1741634</td>\n    </tr>\n    <tr>\n      <th>...</th>\n      <td>...</td>\n      <td>...</td>\n      <td>...</td>\n      <td>...</td>\n      <td>...</td>\n    </tr>\n    <tr>\n      <th>2021-04-20 14:00:00-04:00</th>\n      <td>715.780090</td>\n      <td>718.170105</td>\n      <td>718.710022</td>\n      <td>714.960022</td>\n      <td>642908</td>\n    </tr>\n    <tr>\n      <th>2021-04-20 14:15:00-04:00</th>\n      <td>716.270020</td>\n      <td>715.650024</td>\n      <td>719.650024</td>\n      <td>715.099976</td>\n      <td>781932</td>\n    </tr>\n    <tr>\n      <th>2021-04-20 14:30:00-04:00</th>\n      <td>718.956909</td>\n      <td>716.304993</td>\n      <td>719.235596</td>\n      <td>714.919983</td>\n      <td>559735</td>\n    </tr>\n    <tr>\n      <th>2021-04-20 14:45:00-04:00</th>\n      <td>716.340027</td>\n      <td>718.830017</td>\n      <td>720.820007</td>\n      <td>716.000000</td>\n      <td>763331</td>\n    </tr>\n    <tr>\n      <th>2021-04-20 14:59:03-04:00</th>\n      <td>716.299988</td>\n      <td>716.299988</td>\n      <td>716.299988</td>\n      <td>716.299988</td>\n      <td>0</td>\n    </tr>\n  </tbody>\n</table>\n<p>1557 rows × 5 columns</p>\n</div>"
     },
     "metadata": {},
     "execution_count": 146
    }
   ],
   "source": [
    "df"
   ]
  },
  {
   "cell_type": "code",
   "execution_count": 169,
   "id": "yellow-buyer",
   "metadata": {},
   "outputs": [],
   "source": [
    "# Predict Closing Prices using a 10 day window of previous closing prices\n",
    "# Then, experiment with window sizes anywhere from 1 to 10 and see how the model performance changes\n",
    "window_size = \n",
    "\n",
    "# Column index 0 is the 'fng_value' column\n",
    "# Column index 1 is the `Close` column\n",
    "feature_column = 0 # Close\n",
    "target_column = 0\n",
    "X, y = window_data(df, window_size, feature_column, target_column)"
   ]
  },
  {
   "cell_type": "code",
   "execution_count": 149,
   "id": "downtown-nirvana",
   "metadata": {},
   "outputs": [],
   "source": [
    "split = int(0.80 * len(X))\n",
    "X_train = X[: split]\n",
    "X_test = X[split:]\n",
    "y_train = y[: split]\n",
    "y_test = y[split:]"
   ]
  },
  {
   "cell_type": "code",
   "execution_count": 150,
   "id": "joined-compression",
   "metadata": {},
   "outputs": [],
   "source": [
    "from sklearn.preprocessing import MinMaxScaler\n",
    "\n",
    "scaler = MinMaxScaler(feature_range= (0,1))\n",
    "scaler = scaler.fit(X)\n",
    "X_train = scaler.transform(X_train)\n",
    "X_test = scaler.transform(X_test)\n",
    "y_scaler = scaler.fit(y)\n",
    "y_train = y_scaler.transform(y_train)\n",
    "y_test = y_scaler.transform(y_test)"
   ]
  },
  {
   "cell_type": "code",
   "execution_count": 151,
   "id": "internal-green",
   "metadata": {},
   "outputs": [],
   "source": [
    "X_train = X_train.reshape((X_train.shape[0], X_train.shape[1], 1))\n",
    "X_test = X_test.reshape((X_test.shape[0], X_test.shape[1], 1))"
   ]
  },
  {
   "cell_type": "code",
   "execution_count": 152,
   "id": "toxic-prize",
   "metadata": {},
   "outputs": [],
   "source": [
    "from tensorflow.keras.models import Sequential\n",
    "from tensorflow.keras.layers import LSTM, Dense, Dropout"
   ]
  },
  {
   "cell_type": "code",
   "execution_count": 153,
   "id": "indie-criterion",
   "metadata": {
    "tags": []
   },
   "outputs": [],
   "source": [
    "model = Sequential()\n",
    "number_units = 20\n",
    "dropout_fraction = 0.2\n",
    "\n",
    "# Layer 1\n",
    "model.add(LSTM(\n",
    "    units=number_units,\n",
    "    return_sequences=True,\n",
    "    input_shape=(X_train.shape[1], 1))\n",
    "    )\n",
    "model.add(Dropout(dropout_fraction))\n",
    "# Layer 2\n",
    "model.add(LSTM(units=number_units, return_sequences=True))\n",
    "model.add(Dropout(dropout_fraction))\n",
    "# Layer 3\n",
    "model.add(LSTM(units=number_units))\n",
    "model.add(Dropout(dropout_fraction))\n",
    "# Output layer\n",
    "model.add(Dense(1))"
   ]
  },
  {
   "cell_type": "code",
   "execution_count": 154,
   "id": "familiar-float",
   "metadata": {},
   "outputs": [],
   "source": [
    "model.compile(optimizer=\"adam\", loss='mse', metrics = ['mse'])"
   ]
  },
  {
   "cell_type": "code",
   "execution_count": null,
   "id": "silent-access",
   "metadata": {},
   "outputs": [],
   "source": []
  },
  {
   "cell_type": "code",
   "execution_count": 155,
   "id": "robust-broadway",
   "metadata": {},
   "outputs": [
    {
     "output_type": "stream",
     "name": "stdout",
     "text": [
      "Model: \"sequential_9\"\n_________________________________________________________________\nLayer (type)                 Output Shape              Param #   \n=================================================================\nlstm_28 (LSTM)               (None, 10, 20)            1760      \n_________________________________________________________________\ndropout_28 (Dropout)         (None, 10, 20)            0         \n_________________________________________________________________\nlstm_29 (LSTM)               (None, 10, 20)            3280      \n_________________________________________________________________\ndropout_29 (Dropout)         (None, 10, 20)            0         \n_________________________________________________________________\nlstm_30 (LSTM)               (None, 20)                3280      \n_________________________________________________________________\ndropout_30 (Dropout)         (None, 20)                0         \n_________________________________________________________________\ndense_11 (Dense)             (None, 1)                 21        \n=================================================================\nTotal params: 8,341\nTrainable params: 8,341\nNon-trainable params: 0\n_________________________________________________________________\n"
     ]
    }
   ],
   "source": [
    "model.summary()"
   ]
  },
  {
   "cell_type": "code",
   "execution_count": 156,
   "id": "herbal-apache",
   "metadata": {},
   "outputs": [
    {
     "output_type": "stream",
     "name": "stdout",
     "text": [
      "Epoch 1/2\n",
      "1236/1236 [==============================] - 17s 9ms/step - loss: 0.0428 - mse: 0.0428\n",
      "Epoch 2/2\n",
      "1236/1236 [==============================] - 11s 9ms/step - loss: 0.0163 - mse: 0.0163\n"
     ]
    },
    {
     "output_type": "execute_result",
     "data": {
      "text/plain": [
       "<tensorflow.python.keras.callbacks.History at 0x7fb2bf64fe80>"
      ]
     },
     "metadata": {},
     "execution_count": 156
    }
   ],
   "source": [
    "model.fit(X_train, y_train, epochs=2, shuffle=False, batch_size=1, verbose=1)"
   ]
  },
  {
   "cell_type": "code",
   "execution_count": 157,
   "id": "closed-prevention",
   "metadata": {},
   "outputs": [
    {
     "output_type": "stream",
     "name": "stdout",
     "text": [
      "10/10 [==============================] - 1s 5ms/step - loss: 0.0134 - mse: 0.0134\n"
     ]
    },
    {
     "output_type": "execute_result",
     "data": {
      "text/plain": [
       "[0.01344364508986473, 0.01344364508986473]"
      ]
     },
     "metadata": {},
     "execution_count": 157
    }
   ],
   "source": [
    "model.evaluate(X_test, y_test)"
   ]
  },
  {
   "cell_type": "code",
   "execution_count": 158,
   "id": "consecutive-manner",
   "metadata": {},
   "outputs": [],
   "source": [
    "predicted = model.predict(X_test)\n"
   ]
  },
  {
   "cell_type": "code",
   "execution_count": 159,
   "id": "eligible-mongolia",
   "metadata": {},
   "outputs": [],
   "source": [
    "predicted_prices = scaler.inverse_transform(predicted)\n",
    "real_prices = scaler.inverse_transform(y_test.reshape(-1, 1))"
   ]
  },
  {
   "cell_type": "code",
   "execution_count": 160,
   "id": "described-honolulu",
   "metadata": {},
   "outputs": [
    {
     "output_type": "execute_result",
     "data": {
      "text/plain": [
       "                                 Real   Predicted\n",
       "Datetime                                         \n",
       "2021-04-20 14:00:00-04:00  718.304382  678.369263\n",
       "2021-04-20 14:15:00-04:00  715.780090  678.352234\n",
       "2021-04-20 14:30:00-04:00  716.270020  678.338196\n",
       "2021-04-20 14:45:00-04:00  718.956909  678.317017\n",
       "2021-04-20 14:59:03-04:00  716.340027  678.279236"
      ],
      "text/html": "<div>\n<style scoped>\n    .dataframe tbody tr th:only-of-type {\n        vertical-align: middle;\n    }\n\n    .dataframe tbody tr th {\n        vertical-align: top;\n    }\n\n    .dataframe thead th {\n        text-align: right;\n    }\n</style>\n<table border=\"1\" class=\"dataframe\">\n  <thead>\n    <tr style=\"text-align: right;\">\n      <th></th>\n      <th>Real</th>\n      <th>Predicted</th>\n    </tr>\n    <tr>\n      <th>Datetime</th>\n      <th></th>\n      <th></th>\n    </tr>\n  </thead>\n  <tbody>\n    <tr>\n      <th>2021-04-20 14:00:00-04:00</th>\n      <td>718.304382</td>\n      <td>678.369263</td>\n    </tr>\n    <tr>\n      <th>2021-04-20 14:15:00-04:00</th>\n      <td>715.780090</td>\n      <td>678.352234</td>\n    </tr>\n    <tr>\n      <th>2021-04-20 14:30:00-04:00</th>\n      <td>716.270020</td>\n      <td>678.338196</td>\n    </tr>\n    <tr>\n      <th>2021-04-20 14:45:00-04:00</th>\n      <td>718.956909</td>\n      <td>678.317017</td>\n    </tr>\n    <tr>\n      <th>2021-04-20 14:59:03-04:00</th>\n      <td>716.340027</td>\n      <td>678.279236</td>\n    </tr>\n  </tbody>\n</table>\n</div>"
     },
     "metadata": {},
     "execution_count": 160
    }
   ],
   "source": [
    "stocks = pd.DataFrame({\n",
    "    \"Real\": real_prices.ravel(),\n",
    "    \"Predicted\": predicted_prices.ravel()\n",
    "    }, index = df.index[-len(real_prices): ])\n",
    "\n",
    "stocks.tail()"
   ]
  },
  {
   "cell_type": "code",
   "execution_count": 179,
   "id": "sixth-field",
   "metadata": {},
   "outputs": [
    {
     "output_type": "execute_result",
     "data": {
      "text/plain": [
       "<AxesSubplot:title={'center':\"Aint worth shit. But damn. Ain't it pretty\"}, xlabel='Datetime'>"
      ]
     },
     "metadata": {},
     "execution_count": 179
    },
    {
     "output_type": "display_data",
     "data": {
      "text/plain": "<Figure size 2160x720 with 2 Axes>",
      "image/svg+xml": "<?xml version=\"1.0\" encoding=\"utf-8\" standalone=\"no\"?>\n<!DOCTYPE svg PUBLIC \"-//W3C//DTD SVG 1.1//EN\"\n  \"http://www.w3.org/Graphics/SVG/1.1/DTD/svg11.dtd\">\n<svg height=\"573.142729pt\" version=\"1.1\" viewBox=\"0 0 1737.510277 573.142729\" width=\"1737.510277pt\" xmlns=\"http://www.w3.org/2000/svg\" xmlns:xlink=\"http://www.w3.org/1999/xlink\">\n <metadata>\n  <rdf:RDF xmlns:cc=\"http://creativecommons.org/ns#\" xmlns:dc=\"http://purl.org/dc/elements/1.1/\" xmlns:rdf=\"http://www.w3.org/1999/02/22-rdf-syntax-ns#\">\n   <cc:Work>\n    <dc:type rdf:resource=\"http://purl.org/dc/dcmitype/StillImage\"/>\n    <dc:date>2021-04-20T13:07:43.573142</dc:date>\n    <dc:format>image/svg+xml</dc:format>\n    <dc:creator>\n     <cc:Agent>\n      <dc:title>Matplotlib v3.4.0, https://matplotlib.org/</dc:title>\n     </cc:Agent>\n    </dc:creator>\n   </cc:Work>\n  </rdf:RDF>\n </metadata>\n <defs>\n  <style type=\"text/css\">*{stroke-linecap:butt;stroke-linejoin:round;}</style>\n </defs>\n <g id=\"figure_1\">\n  <g id=\"patch_1\">\n   <path d=\"M 0 573.142729 \nL 1737.510277 573.142729 \nL 1737.510277 0 \nL 0 0 \nz\n\" style=\"fill:none;\"/>\n  </g>\n  <g id=\"axes_1\">\n   <g id=\"patch_2\">\n    <path d=\"M 32.627465 511.389375 \nL 1706.627465 511.389375 \nL 1706.627465 21.789375 \nL 32.627465 21.789375 \nz\n\" style=\"fill:#eaeaf2;\"/>\n   </g>\n   <g id=\"matplotlib.axis_1\">\n    <g id=\"xtick_1\">\n     <g id=\"line2d_1\"/>\n     <g id=\"text_1\">\n      <!-- 2021-04-01 -->\n      <g style=\"fill:#262626;\" transform=\"translate(10.778906 550.16166)rotate(-30)scale(0.1 -0.1)\">\n       <defs>\n        <path d=\"M 3222 541 \nL 3222 0 \nL 194 0 \nQ 188 203 259 391 \nQ 375 700 629 1000 \nQ 884 1300 1366 1694 \nQ 2113 2306 2375 2664 \nQ 2638 3022 2638 3341 \nQ 2638 3675 2398 3904 \nQ 2159 4134 1775 4134 \nQ 1369 4134 1125 3890 \nQ 881 3647 878 3216 \nL 300 3275 \nQ 359 3922 746 4261 \nQ 1134 4600 1788 4600 \nQ 2447 4600 2831 4234 \nQ 3216 3869 3216 3328 \nQ 3216 3053 3103 2787 \nQ 2991 2522 2730 2228 \nQ 2469 1934 1863 1422 \nQ 1356 997 1212 845 \nQ 1069 694 975 541 \nL 3222 541 \nz\n\" id=\"ArialMT-32\" transform=\"scale(0.015625)\"/>\n        <path d=\"M 266 2259 \nQ 266 3072 433 3567 \nQ 600 4063 929 4331 \nQ 1259 4600 1759 4600 \nQ 2128 4600 2406 4451 \nQ 2684 4303 2865 4023 \nQ 3047 3744 3150 3342 \nQ 3253 2941 3253 2259 \nQ 3253 1453 3087 958 \nQ 2922 463 2592 192 \nQ 2263 -78 1759 -78 \nQ 1097 -78 719 397 \nQ 266 969 266 2259 \nz\nM 844 2259 \nQ 844 1131 1108 757 \nQ 1372 384 1759 384 \nQ 2147 384 2411 759 \nQ 2675 1134 2675 2259 \nQ 2675 3391 2411 3762 \nQ 2147 4134 1753 4134 \nQ 1366 4134 1134 3806 \nQ 844 3388 844 2259 \nz\n\" id=\"ArialMT-30\" transform=\"scale(0.015625)\"/>\n        <path d=\"M 2384 0 \nL 1822 0 \nL 1822 3584 \nQ 1619 3391 1289 3197 \nQ 959 3003 697 2906 \nL 697 3450 \nQ 1169 3672 1522 3987 \nQ 1875 4303 2022 4600 \nL 2384 4600 \nL 2384 0 \nz\n\" id=\"ArialMT-31\" transform=\"scale(0.015625)\"/>\n        <path d=\"M 203 1375 \nL 203 1941 \nL 1931 1941 \nL 1931 1375 \nL 203 1375 \nz\n\" id=\"ArialMT-2d\" transform=\"scale(0.015625)\"/>\n        <path d=\"M 2069 0 \nL 2069 1097 \nL 81 1097 \nL 81 1613 \nL 2172 4581 \nL 2631 4581 \nL 2631 1613 \nL 3250 1613 \nL 3250 1097 \nL 2631 1097 \nL 2631 0 \nL 2069 0 \nz\nM 2069 1613 \nL 2069 3678 \nL 634 1613 \nL 2069 1613 \nz\n\" id=\"ArialMT-34\" transform=\"scale(0.015625)\"/>\n       </defs>\n       <use xlink:href=\"#ArialMT-32\"/>\n       <use x=\"55.615234\" xlink:href=\"#ArialMT-30\"/>\n       <use x=\"111.230469\" xlink:href=\"#ArialMT-32\"/>\n       <use x=\"166.845703\" xlink:href=\"#ArialMT-31\"/>\n       <use x=\"222.460938\" xlink:href=\"#ArialMT-2d\"/>\n       <use x=\"255.761719\" xlink:href=\"#ArialMT-30\"/>\n       <use x=\"311.376953\" xlink:href=\"#ArialMT-34\"/>\n       <use x=\"366.992188\" xlink:href=\"#ArialMT-2d\"/>\n       <use x=\"400.292969\" xlink:href=\"#ArialMT-30\"/>\n       <use x=\"455.908203\" xlink:href=\"#ArialMT-31\"/>\n      </g>\n     </g>\n    </g>\n    <g id=\"xtick_2\">\n     <g id=\"line2d_2\"/>\n     <g id=\"text_2\">\n      <!-- 2021-04-03 -->\n      <g style=\"fill:#262626;\" transform=\"translate(171.239781 550.16166)rotate(-30)scale(0.1 -0.1)\">\n       <defs>\n        <path d=\"M 269 1209 \nL 831 1284 \nQ 928 806 1161 595 \nQ 1394 384 1728 384 \nQ 2125 384 2398 659 \nQ 2672 934 2672 1341 \nQ 2672 1728 2419 1979 \nQ 2166 2231 1775 2231 \nQ 1616 2231 1378 2169 \nL 1441 2663 \nQ 1497 2656 1531 2656 \nQ 1891 2656 2178 2843 \nQ 2466 3031 2466 3422 \nQ 2466 3731 2256 3934 \nQ 2047 4138 1716 4138 \nQ 1388 4138 1169 3931 \nQ 950 3725 888 3313 \nL 325 3413 \nQ 428 3978 793 4289 \nQ 1159 4600 1703 4600 \nQ 2078 4600 2393 4439 \nQ 2709 4278 2876 4000 \nQ 3044 3722 3044 3409 \nQ 3044 3113 2884 2869 \nQ 2725 2625 2413 2481 \nQ 2819 2388 3044 2092 \nQ 3269 1797 3269 1353 \nQ 3269 753 2831 336 \nQ 2394 -81 1725 -81 \nQ 1122 -81 723 278 \nQ 325 638 269 1209 \nz\n\" id=\"ArialMT-33\" transform=\"scale(0.015625)\"/>\n       </defs>\n       <use xlink:href=\"#ArialMT-32\"/>\n       <use x=\"55.615234\" xlink:href=\"#ArialMT-30\"/>\n       <use x=\"111.230469\" xlink:href=\"#ArialMT-32\"/>\n       <use x=\"166.845703\" xlink:href=\"#ArialMT-31\"/>\n       <use x=\"222.460938\" xlink:href=\"#ArialMT-2d\"/>\n       <use x=\"255.761719\" xlink:href=\"#ArialMT-30\"/>\n       <use x=\"311.376953\" xlink:href=\"#ArialMT-34\"/>\n       <use x=\"366.992188\" xlink:href=\"#ArialMT-2d\"/>\n       <use x=\"400.292969\" xlink:href=\"#ArialMT-30\"/>\n       <use x=\"455.908203\" xlink:href=\"#ArialMT-33\"/>\n      </g>\n     </g>\n    </g>\n    <g id=\"xtick_3\">\n     <g id=\"line2d_3\"/>\n     <g id=\"text_3\">\n      <!-- 2021-04-05 -->\n      <g style=\"fill:#262626;\" transform=\"translate(331.700656 550.16166)rotate(-30)scale(0.1 -0.1)\">\n       <defs>\n        <path d=\"M 266 1200 \nL 856 1250 \nQ 922 819 1161 601 \nQ 1400 384 1738 384 \nQ 2144 384 2425 690 \nQ 2706 997 2706 1503 \nQ 2706 1984 2436 2262 \nQ 2166 2541 1728 2541 \nQ 1456 2541 1237 2417 \nQ 1019 2294 894 2097 \nL 366 2166 \nL 809 4519 \nL 3088 4519 \nL 3088 3981 \nL 1259 3981 \nL 1013 2750 \nQ 1425 3038 1878 3038 \nQ 2478 3038 2890 2622 \nQ 3303 2206 3303 1553 \nQ 3303 931 2941 478 \nQ 2500 -78 1738 -78 \nQ 1113 -78 717 272 \nQ 322 622 266 1200 \nz\n\" id=\"ArialMT-35\" transform=\"scale(0.015625)\"/>\n       </defs>\n       <use xlink:href=\"#ArialMT-32\"/>\n       <use x=\"55.615234\" xlink:href=\"#ArialMT-30\"/>\n       <use x=\"111.230469\" xlink:href=\"#ArialMT-32\"/>\n       <use x=\"166.845703\" xlink:href=\"#ArialMT-31\"/>\n       <use x=\"222.460938\" xlink:href=\"#ArialMT-2d\"/>\n       <use x=\"255.761719\" xlink:href=\"#ArialMT-30\"/>\n       <use x=\"311.376953\" xlink:href=\"#ArialMT-34\"/>\n       <use x=\"366.992188\" xlink:href=\"#ArialMT-2d\"/>\n       <use x=\"400.292969\" xlink:href=\"#ArialMT-30\"/>\n       <use x=\"455.908203\" xlink:href=\"#ArialMT-35\"/>\n      </g>\n     </g>\n    </g>\n    <g id=\"xtick_4\">\n     <g id=\"line2d_4\"/>\n     <g id=\"text_4\">\n      <!-- 2021-04-07 -->\n      <g style=\"fill:#262626;\" transform=\"translate(492.161531 550.16166)rotate(-30)scale(0.1 -0.1)\">\n       <defs>\n        <path d=\"M 303 3981 \nL 303 4522 \nL 3269 4522 \nL 3269 4084 \nQ 2831 3619 2401 2847 \nQ 1972 2075 1738 1259 \nQ 1569 684 1522 0 \nL 944 0 \nQ 953 541 1156 1306 \nQ 1359 2072 1739 2783 \nQ 2119 3494 2547 3981 \nL 303 3981 \nz\n\" id=\"ArialMT-37\" transform=\"scale(0.015625)\"/>\n       </defs>\n       <use xlink:href=\"#ArialMT-32\"/>\n       <use x=\"55.615234\" xlink:href=\"#ArialMT-30\"/>\n       <use x=\"111.230469\" xlink:href=\"#ArialMT-32\"/>\n       <use x=\"166.845703\" xlink:href=\"#ArialMT-31\"/>\n       <use x=\"222.460938\" xlink:href=\"#ArialMT-2d\"/>\n       <use x=\"255.761719\" xlink:href=\"#ArialMT-30\"/>\n       <use x=\"311.376953\" xlink:href=\"#ArialMT-34\"/>\n       <use x=\"366.992188\" xlink:href=\"#ArialMT-2d\"/>\n       <use x=\"400.292969\" xlink:href=\"#ArialMT-30\"/>\n       <use x=\"455.908203\" xlink:href=\"#ArialMT-37\"/>\n      </g>\n     </g>\n    </g>\n    <g id=\"xtick_5\">\n     <g id=\"line2d_5\"/>\n     <g id=\"text_5\">\n      <!-- 2021-04-09 -->\n      <g style=\"fill:#262626;\" transform=\"translate(652.622406 550.16166)rotate(-30)scale(0.1 -0.1)\">\n       <defs>\n        <path d=\"M 350 1059 \nL 891 1109 \nQ 959 728 1153 556 \nQ 1347 384 1650 384 \nQ 1909 384 2104 503 \nQ 2300 622 2425 820 \nQ 2550 1019 2634 1356 \nQ 2719 1694 2719 2044 \nQ 2719 2081 2716 2156 \nQ 2547 1888 2255 1720 \nQ 1963 1553 1622 1553 \nQ 1053 1553 659 1965 \nQ 266 2378 266 3053 \nQ 266 3750 677 4175 \nQ 1088 4600 1706 4600 \nQ 2153 4600 2523 4359 \nQ 2894 4119 3086 3673 \nQ 3278 3228 3278 2384 \nQ 3278 1506 3087 986 \nQ 2897 466 2520 194 \nQ 2144 -78 1638 -78 \nQ 1100 -78 759 220 \nQ 419 519 350 1059 \nz\nM 2653 3081 \nQ 2653 3566 2395 3850 \nQ 2138 4134 1775 4134 \nQ 1400 4134 1122 3828 \nQ 844 3522 844 3034 \nQ 844 2597 1108 2323 \nQ 1372 2050 1759 2050 \nQ 2150 2050 2401 2323 \nQ 2653 2597 2653 3081 \nz\n\" id=\"ArialMT-39\" transform=\"scale(0.015625)\"/>\n       </defs>\n       <use xlink:href=\"#ArialMT-32\"/>\n       <use x=\"55.615234\" xlink:href=\"#ArialMT-30\"/>\n       <use x=\"111.230469\" xlink:href=\"#ArialMT-32\"/>\n       <use x=\"166.845703\" xlink:href=\"#ArialMT-31\"/>\n       <use x=\"222.460938\" xlink:href=\"#ArialMT-2d\"/>\n       <use x=\"255.761719\" xlink:href=\"#ArialMT-30\"/>\n       <use x=\"311.376953\" xlink:href=\"#ArialMT-34\"/>\n       <use x=\"366.992188\" xlink:href=\"#ArialMT-2d\"/>\n       <use x=\"400.292969\" xlink:href=\"#ArialMT-30\"/>\n       <use x=\"455.908203\" xlink:href=\"#ArialMT-39\"/>\n      </g>\n     </g>\n    </g>\n    <g id=\"xtick_6\">\n     <g id=\"line2d_6\"/>\n     <g id=\"text_6\">\n      <!-- 2021-04-11 -->\n      <g style=\"fill:#262626;\" transform=\"translate(813.721975 549.79291)rotate(-30)scale(0.1 -0.1)\">\n       <use xlink:href=\"#ArialMT-32\"/>\n       <use x=\"55.615234\" xlink:href=\"#ArialMT-30\"/>\n       <use x=\"111.230469\" xlink:href=\"#ArialMT-32\"/>\n       <use x=\"166.845703\" xlink:href=\"#ArialMT-31\"/>\n       <use x=\"222.460938\" xlink:href=\"#ArialMT-2d\"/>\n       <use x=\"255.761719\" xlink:href=\"#ArialMT-30\"/>\n       <use x=\"311.376953\" xlink:href=\"#ArialMT-34\"/>\n       <use x=\"366.992188\" xlink:href=\"#ArialMT-2d\"/>\n       <use x=\"400.292969\" xlink:href=\"#ArialMT-31\"/>\n       <use x=\"448.533203\" xlink:href=\"#ArialMT-31\"/>\n      </g>\n     </g>\n    </g>\n    <g id=\"xtick_7\">\n     <g id=\"line2d_7\"/>\n     <g id=\"text_7\">\n      <!-- 2021-04-13 -->\n      <g style=\"fill:#262626;\" transform=\"translate(973.544156 550.16166)rotate(-30)scale(0.1 -0.1)\">\n       <use xlink:href=\"#ArialMT-32\"/>\n       <use x=\"55.615234\" xlink:href=\"#ArialMT-30\"/>\n       <use x=\"111.230469\" xlink:href=\"#ArialMT-32\"/>\n       <use x=\"166.845703\" xlink:href=\"#ArialMT-31\"/>\n       <use x=\"222.460938\" xlink:href=\"#ArialMT-2d\"/>\n       <use x=\"255.761719\" xlink:href=\"#ArialMT-30\"/>\n       <use x=\"311.376953\" xlink:href=\"#ArialMT-34\"/>\n       <use x=\"366.992188\" xlink:href=\"#ArialMT-2d\"/>\n       <use x=\"400.292969\" xlink:href=\"#ArialMT-31\"/>\n       <use x=\"455.908203\" xlink:href=\"#ArialMT-33\"/>\n      </g>\n     </g>\n    </g>\n    <g id=\"xtick_8\">\n     <g id=\"line2d_8\"/>\n     <g id=\"text_8\">\n      <!-- 2021-04-15 -->\n      <g style=\"fill:#262626;\" transform=\"translate(1134.005031 550.16166)rotate(-30)scale(0.1 -0.1)\">\n       <use xlink:href=\"#ArialMT-32\"/>\n       <use x=\"55.615234\" xlink:href=\"#ArialMT-30\"/>\n       <use x=\"111.230469\" xlink:href=\"#ArialMT-32\"/>\n       <use x=\"166.845703\" xlink:href=\"#ArialMT-31\"/>\n       <use x=\"222.460938\" xlink:href=\"#ArialMT-2d\"/>\n       <use x=\"255.761719\" xlink:href=\"#ArialMT-30\"/>\n       <use x=\"311.376953\" xlink:href=\"#ArialMT-34\"/>\n       <use x=\"366.992188\" xlink:href=\"#ArialMT-2d\"/>\n       <use x=\"400.292969\" xlink:href=\"#ArialMT-31\"/>\n       <use x=\"455.908203\" xlink:href=\"#ArialMT-35\"/>\n      </g>\n     </g>\n    </g>\n    <g id=\"xtick_9\">\n     <g id=\"line2d_9\"/>\n     <g id=\"text_9\">\n      <!-- 2021-04-17 -->\n      <g style=\"fill:#262626;\" transform=\"translate(1294.465906 550.16166)rotate(-30)scale(0.1 -0.1)\">\n       <use xlink:href=\"#ArialMT-32\"/>\n       <use x=\"55.615234\" xlink:href=\"#ArialMT-30\"/>\n       <use x=\"111.230469\" xlink:href=\"#ArialMT-32\"/>\n       <use x=\"166.845703\" xlink:href=\"#ArialMT-31\"/>\n       <use x=\"222.460938\" xlink:href=\"#ArialMT-2d\"/>\n       <use x=\"255.761719\" xlink:href=\"#ArialMT-30\"/>\n       <use x=\"311.376953\" xlink:href=\"#ArialMT-34\"/>\n       <use x=\"366.992188\" xlink:href=\"#ArialMT-2d\"/>\n       <use x=\"400.292969\" xlink:href=\"#ArialMT-31\"/>\n       <use x=\"455.908203\" xlink:href=\"#ArialMT-37\"/>\n      </g>\n     </g>\n    </g>\n    <g id=\"xtick_10\">\n     <g id=\"line2d_10\"/>\n     <g id=\"text_10\">\n      <!-- 2021-04-19 -->\n      <g style=\"fill:#262626;\" transform=\"translate(1454.926782 550.16166)rotate(-30)scale(0.1 -0.1)\">\n       <use xlink:href=\"#ArialMT-32\"/>\n       <use x=\"55.615234\" xlink:href=\"#ArialMT-30\"/>\n       <use x=\"111.230469\" xlink:href=\"#ArialMT-32\"/>\n       <use x=\"166.845703\" xlink:href=\"#ArialMT-31\"/>\n       <use x=\"222.460938\" xlink:href=\"#ArialMT-2d\"/>\n       <use x=\"255.761719\" xlink:href=\"#ArialMT-30\"/>\n       <use x=\"311.376953\" xlink:href=\"#ArialMT-34\"/>\n       <use x=\"366.992188\" xlink:href=\"#ArialMT-2d\"/>\n       <use x=\"400.292969\" xlink:href=\"#ArialMT-31\"/>\n       <use x=\"455.908203\" xlink:href=\"#ArialMT-39\"/>\n      </g>\n     </g>\n    </g>\n    <g id=\"xtick_11\">\n     <g id=\"line2d_11\"/>\n     <g id=\"text_11\">\n      <!-- 2021-04-21 -->\n      <g style=\"fill:#262626;\" transform=\"translate(1615.387657 550.16166)rotate(-30)scale(0.1 -0.1)\">\n       <use xlink:href=\"#ArialMT-32\"/>\n       <use x=\"55.615234\" xlink:href=\"#ArialMT-30\"/>\n       <use x=\"111.230469\" xlink:href=\"#ArialMT-32\"/>\n       <use x=\"166.845703\" xlink:href=\"#ArialMT-31\"/>\n       <use x=\"222.460938\" xlink:href=\"#ArialMT-2d\"/>\n       <use x=\"255.761719\" xlink:href=\"#ArialMT-30\"/>\n       <use x=\"311.376953\" xlink:href=\"#ArialMT-34\"/>\n       <use x=\"366.992188\" xlink:href=\"#ArialMT-2d\"/>\n       <use x=\"400.292969\" xlink:href=\"#ArialMT-32\"/>\n       <use x=\"455.908203\" xlink:href=\"#ArialMT-31\"/>\n      </g>\n     </g>\n    </g>\n    <g id=\"text_12\">\n     <!-- Datetime -->\n     <g style=\"fill:#262626;\" transform=\"translate(847.62059 563.756479)scale(0.11 -0.11)\">\n      <defs>\n       <path d=\"M 494 0 \nL 494 4581 \nL 2072 4581 \nQ 2606 4581 2888 4516 \nQ 3281 4425 3559 4188 \nQ 3922 3881 4101 3404 \nQ 4281 2928 4281 2316 \nQ 4281 1794 4159 1391 \nQ 4038 988 3847 723 \nQ 3656 459 3429 307 \nQ 3203 156 2883 78 \nQ 2563 0 2147 0 \nL 494 0 \nz\nM 1100 541 \nL 2078 541 \nQ 2531 541 2789 625 \nQ 3047 709 3200 863 \nQ 3416 1078 3536 1442 \nQ 3656 1806 3656 2325 \nQ 3656 3044 3420 3430 \nQ 3184 3816 2847 3947 \nQ 2603 4041 2063 4041 \nL 1100 4041 \nL 1100 541 \nz\n\" id=\"ArialMT-44\" transform=\"scale(0.015625)\"/>\n       <path d=\"M 2588 409 \nQ 2275 144 1986 34 \nQ 1697 -75 1366 -75 \nQ 819 -75 525 192 \nQ 231 459 231 875 \nQ 231 1119 342 1320 \nQ 453 1522 633 1644 \nQ 813 1766 1038 1828 \nQ 1203 1872 1538 1913 \nQ 2219 1994 2541 2106 \nQ 2544 2222 2544 2253 \nQ 2544 2597 2384 2738 \nQ 2169 2928 1744 2928 \nQ 1347 2928 1158 2789 \nQ 969 2650 878 2297 \nL 328 2372 \nQ 403 2725 575 2942 \nQ 747 3159 1072 3276 \nQ 1397 3394 1825 3394 \nQ 2250 3394 2515 3294 \nQ 2781 3194 2906 3042 \nQ 3031 2891 3081 2659 \nQ 3109 2516 3109 2141 \nL 3109 1391 \nQ 3109 606 3145 398 \nQ 3181 191 3288 0 \nL 2700 0 \nQ 2613 175 2588 409 \nz\nM 2541 1666 \nQ 2234 1541 1622 1453 \nQ 1275 1403 1131 1340 \nQ 988 1278 909 1158 \nQ 831 1038 831 891 \nQ 831 666 1001 516 \nQ 1172 366 1500 366 \nQ 1825 366 2078 508 \nQ 2331 650 2450 897 \nQ 2541 1088 2541 1459 \nL 2541 1666 \nz\n\" id=\"ArialMT-61\" transform=\"scale(0.015625)\"/>\n       <path d=\"M 1650 503 \nL 1731 6 \nQ 1494 -44 1306 -44 \nQ 1000 -44 831 53 \nQ 663 150 594 308 \nQ 525 466 525 972 \nL 525 2881 \nL 113 2881 \nL 113 3319 \nL 525 3319 \nL 525 4141 \nL 1084 4478 \nL 1084 3319 \nL 1650 3319 \nL 1650 2881 \nL 1084 2881 \nL 1084 941 \nQ 1084 700 1114 631 \nQ 1144 563 1211 522 \nQ 1278 481 1403 481 \nQ 1497 481 1650 503 \nz\n\" id=\"ArialMT-74\" transform=\"scale(0.015625)\"/>\n       <path d=\"M 2694 1069 \nL 3275 997 \nQ 3138 488 2766 206 \nQ 2394 -75 1816 -75 \nQ 1088 -75 661 373 \nQ 234 822 234 1631 \nQ 234 2469 665 2931 \nQ 1097 3394 1784 3394 \nQ 2450 3394 2872 2941 \nQ 3294 2488 3294 1666 \nQ 3294 1616 3291 1516 \nL 816 1516 \nQ 847 969 1125 678 \nQ 1403 388 1819 388 \nQ 2128 388 2347 550 \nQ 2566 713 2694 1069 \nz\nM 847 1978 \nL 2700 1978 \nQ 2663 2397 2488 2606 \nQ 2219 2931 1791 2931 \nQ 1403 2931 1139 2672 \nQ 875 2413 847 1978 \nz\n\" id=\"ArialMT-65\" transform=\"scale(0.015625)\"/>\n       <path d=\"M 425 3934 \nL 425 4581 \nL 988 4581 \nL 988 3934 \nL 425 3934 \nz\nM 425 0 \nL 425 3319 \nL 988 3319 \nL 988 0 \nL 425 0 \nz\n\" id=\"ArialMT-69\" transform=\"scale(0.015625)\"/>\n       <path d=\"M 422 0 \nL 422 3319 \nL 925 3319 \nL 925 2853 \nQ 1081 3097 1340 3245 \nQ 1600 3394 1931 3394 \nQ 2300 3394 2536 3241 \nQ 2772 3088 2869 2813 \nQ 3263 3394 3894 3394 \nQ 4388 3394 4653 3120 \nQ 4919 2847 4919 2278 \nL 4919 0 \nL 4359 0 \nL 4359 2091 \nQ 4359 2428 4304 2576 \nQ 4250 2725 4106 2815 \nQ 3963 2906 3769 2906 \nQ 3419 2906 3187 2673 \nQ 2956 2441 2956 1928 \nL 2956 0 \nL 2394 0 \nL 2394 2156 \nQ 2394 2531 2256 2718 \nQ 2119 2906 1806 2906 \nQ 1569 2906 1367 2781 \nQ 1166 2656 1075 2415 \nQ 984 2175 984 1722 \nL 984 0 \nL 422 0 \nz\n\" id=\"ArialMT-6d\" transform=\"scale(0.015625)\"/>\n      </defs>\n      <use xlink:href=\"#ArialMT-44\"/>\n      <use x=\"72.216797\" xlink:href=\"#ArialMT-61\"/>\n      <use x=\"127.832031\" xlink:href=\"#ArialMT-74\"/>\n      <use x=\"155.615234\" xlink:href=\"#ArialMT-65\"/>\n      <use x=\"211.230469\" xlink:href=\"#ArialMT-74\"/>\n      <use x=\"239.013672\" xlink:href=\"#ArialMT-69\"/>\n      <use x=\"261.230469\" xlink:href=\"#ArialMT-6d\"/>\n      <use x=\"344.53125\" xlink:href=\"#ArialMT-65\"/>\n     </g>\n    </g>\n   </g>\n   <g id=\"matplotlib.axis_2\">\n    <g id=\"ytick_1\">\n     <g id=\"line2d_12\"/>\n     <g id=\"text_13\">\n      <!-- 660 -->\n      <g style=\"fill:#262626;\" transform=\"translate(8.944652 492.446649)scale(0.1 -0.1)\">\n       <defs>\n        <path d=\"M 3184 3459 \nL 2625 3416 \nQ 2550 3747 2413 3897 \nQ 2184 4138 1850 4138 \nQ 1581 4138 1378 3988 \nQ 1113 3794 959 3422 \nQ 806 3050 800 2363 \nQ 1003 2672 1297 2822 \nQ 1591 2972 1913 2972 \nQ 2475 2972 2870 2558 \nQ 3266 2144 3266 1488 \nQ 3266 1056 3080 686 \nQ 2894 316 2569 119 \nQ 2244 -78 1831 -78 \nQ 1128 -78 684 439 \nQ 241 956 241 2144 \nQ 241 3472 731 4075 \nQ 1159 4600 1884 4600 \nQ 2425 4600 2770 4297 \nQ 3116 3994 3184 3459 \nz\nM 888 1484 \nQ 888 1194 1011 928 \nQ 1134 663 1356 523 \nQ 1578 384 1822 384 \nQ 2178 384 2434 671 \nQ 2691 959 2691 1453 \nQ 2691 1928 2437 2201 \nQ 2184 2475 1800 2475 \nQ 1419 2475 1153 2201 \nQ 888 1928 888 1484 \nz\n\" id=\"ArialMT-36\" transform=\"scale(0.015625)\"/>\n       </defs>\n       <use xlink:href=\"#ArialMT-36\"/>\n       <use x=\"55.615234\" xlink:href=\"#ArialMT-36\"/>\n       <use x=\"111.230469\" xlink:href=\"#ArialMT-30\"/>\n      </g>\n     </g>\n    </g>\n    <g id=\"ytick_2\">\n     <g id=\"line2d_13\"/>\n     <g id=\"text_14\">\n      <!-- 680 -->\n      <g style=\"fill:#262626;\" transform=\"translate(8.944652 416.144246)scale(0.1 -0.1)\">\n       <defs>\n        <path d=\"M 1131 2484 \nQ 781 2613 612 2850 \nQ 444 3088 444 3419 \nQ 444 3919 803 4259 \nQ 1163 4600 1759 4600 \nQ 2359 4600 2725 4251 \nQ 3091 3903 3091 3403 \nQ 3091 3084 2923 2848 \nQ 2756 2613 2416 2484 \nQ 2838 2347 3058 2040 \nQ 3278 1734 3278 1309 \nQ 3278 722 2862 322 \nQ 2447 -78 1769 -78 \nQ 1091 -78 675 323 \nQ 259 725 259 1325 \nQ 259 1772 486 2073 \nQ 713 2375 1131 2484 \nz\nM 1019 3438 \nQ 1019 3113 1228 2906 \nQ 1438 2700 1772 2700 \nQ 2097 2700 2305 2904 \nQ 2513 3109 2513 3406 \nQ 2513 3716 2298 3927 \nQ 2084 4138 1766 4138 \nQ 1444 4138 1231 3931 \nQ 1019 3725 1019 3438 \nz\nM 838 1322 \nQ 838 1081 952 856 \nQ 1066 631 1291 507 \nQ 1516 384 1775 384 \nQ 2178 384 2440 643 \nQ 2703 903 2703 1303 \nQ 2703 1709 2433 1975 \nQ 2163 2241 1756 2241 \nQ 1359 2241 1098 1978 \nQ 838 1716 838 1322 \nz\n\" id=\"ArialMT-38\" transform=\"scale(0.015625)\"/>\n       </defs>\n       <use xlink:href=\"#ArialMT-36\"/>\n       <use x=\"55.615234\" xlink:href=\"#ArialMT-38\"/>\n       <use x=\"111.230469\" xlink:href=\"#ArialMT-30\"/>\n      </g>\n     </g>\n    </g>\n    <g id=\"ytick_3\">\n     <g id=\"line2d_14\"/>\n     <g id=\"text_15\">\n      <!-- 700 -->\n      <g style=\"fill:#262626;\" transform=\"translate(8.944652 339.841843)scale(0.1 -0.1)\">\n       <use xlink:href=\"#ArialMT-37\"/>\n       <use x=\"55.615234\" xlink:href=\"#ArialMT-30\"/>\n       <use x=\"111.230469\" xlink:href=\"#ArialMT-30\"/>\n      </g>\n     </g>\n    </g>\n    <g id=\"ytick_4\">\n     <g id=\"line2d_15\"/>\n     <g id=\"text_16\">\n      <!-- 720 -->\n      <g style=\"fill:#262626;\" transform=\"translate(8.944652 263.53944)scale(0.1 -0.1)\">\n       <use xlink:href=\"#ArialMT-37\"/>\n       <use x=\"55.615234\" xlink:href=\"#ArialMT-32\"/>\n       <use x=\"111.230469\" xlink:href=\"#ArialMT-30\"/>\n      </g>\n     </g>\n    </g>\n    <g id=\"ytick_5\">\n     <g id=\"line2d_16\"/>\n     <g id=\"text_17\">\n      <!-- 740 -->\n      <g style=\"fill:#262626;\" transform=\"translate(8.944652 187.237037)scale(0.1 -0.1)\">\n       <use xlink:href=\"#ArialMT-37\"/>\n       <use x=\"55.615234\" xlink:href=\"#ArialMT-34\"/>\n       <use x=\"111.230469\" xlink:href=\"#ArialMT-30\"/>\n      </g>\n     </g>\n    </g>\n    <g id=\"ytick_6\">\n     <g id=\"line2d_17\"/>\n     <g id=\"text_18\">\n      <!-- 760 -->\n      <g style=\"fill:#262626;\" transform=\"translate(8.944652 110.934634)scale(0.1 -0.1)\">\n       <use xlink:href=\"#ArialMT-37\"/>\n       <use x=\"55.615234\" xlink:href=\"#ArialMT-36\"/>\n       <use x=\"111.230469\" xlink:href=\"#ArialMT-30\"/>\n      </g>\n     </g>\n    </g>\n    <g id=\"ytick_7\">\n     <g id=\"line2d_18\"/>\n     <g id=\"text_19\">\n      <!-- 780 -->\n      <g style=\"fill:#262626;\" transform=\"translate(8.944652 34.632231)scale(0.1 -0.1)\">\n       <use xlink:href=\"#ArialMT-37\"/>\n       <use x=\"55.615234\" xlink:href=\"#ArialMT-38\"/>\n       <use x=\"111.230469\" xlink:href=\"#ArialMT-30\"/>\n      </g>\n     </g>\n    </g>\n   </g>\n   <g id=\"line2d_19\">\n    <path clip-path=\"url(#pf74151c8a0)\" d=\"M 108.718374 489.13483 \nL 408.746781 483.793568 \nL 409.582515 350.15003 \nL 410.418248 355.810771 \nL 411.253982 371.518569 \nL 412.089716 336.54446 \nL 412.92545 353.239803 \nL 413.761183 359.38209 \nL 414.596917 349.432832 \nL 415.432651 348.754289 \nL 416.268384 356.158891 \nL 417.104118 356.593634 \nL 417.939852 356.364038 \nL 418.775586 366.318884 \nL 419.611319 382.044379 \nL 420.447053 386.202497 \nL 421.282787 376.703117 \nL 422.11852 364.854915 \nL 422.954254 368.500283 \nL 423.789988 346.648568 \nL 424.625722 339.009712 \nL 425.461455 339.46774 \nL 426.297189 337.712701 \nL 427.132923 324.725365 \nL 427.968657 320.125053 \nL 428.80439 336.720733 \nL 429.640124 359.153658 \nL 488.977218 370.675395 \nL 489.812952 393.547022 \nL 491.48442 374.261618 \nL 492.320153 382.349654 \nL 493.155887 378.338003 \nL 493.991621 366.630912 \nL 494.827354 373.040751 \nL 495.663088 357.387907 \nL 496.498822 358.619485 \nL 497.334556 364.227833 \nL 498.170289 376.779494 \nL 499.006023 386.015979 \nL 499.841757 375.856219 \nL 500.677491 373.269649 \nL 502.348958 391.658556 \nL 503.184692 378.756446 \nL 504.020425 374.452327 \nL 504.856159 365.295945 \nL 505.691893 369.41634 \nL 506.527627 359.154124 \nL 507.36336 357.455203 \nL 508.199094 363.333198 \nL 509.034828 365.639409 \nL 509.870562 372.697288 \nL 569.207656 368.195474 \nL 570.04339 389.865329 \nL 570.879123 377.895343 \nL 571.714857 379.183039 \nL 572.550591 375.596816 \nL 573.386325 380.518005 \nL 574.222058 386.355483 \nL 575.057792 382.598344 \nL 575.893526 396.236514 \nL 576.729259 398.598144 \nL 577.564993 395.969661 \nL 579.236461 424.106172 \nL 580.072194 418.784005 \nL 580.907928 431.030624 \nL 581.743662 425.853061 \nL 582.579396 419.92244 \nL 583.415129 416.895539 \nL 584.250863 433.701022 \nL 585.086597 409.589435 \nL 585.92233 426.161363 \nL 586.758064 429.351962 \nL 589.265265 452.891188 \nL 590.100999 450.068036 \nL 649.438093 446.786856 \nL 651.109561 414.930696 \nL 651.945295 413.99601 \nL 652.781028 389.979894 \nL 653.616762 384.988849 \nL 654.452496 389.255012 \nL 655.28823 396.923441 \nL 656.123963 395.092025 \nL 656.959697 386.736902 \nL 657.795431 382.349654 \nL 658.631164 390.235803 \nL 659.466898 383.813855 \nL 660.302632 393.937988 \nL 661.138366 397.800844 \nL 661.974099 398.945333 \nL 662.809833 406.295214 \nL 663.645567 415.045261 \nL 664.4813 404.858723 \nL 665.317034 400.585807 \nL 666.152768 405.106715 \nL 666.988502 396.236514 \nL 667.824235 400.814472 \nL 668.659969 406.308487 \nL 669.495703 403.943131 \nL 670.331437 400.623995 \nL 729.668531 398.144074 \nL 730.504265 421.225737 \nL 731.339998 426.872041 \nL 732.175732 417.792036 \nL 733.011466 423.060646 \nL 733.8472 433.701022 \nL 734.682933 436.68042 \nL 735.518667 435.952045 \nL 736.354401 445.314738 \nL 737.190134 444.116458 \nL 738.025868 431.602752 \nL 738.861602 438.584487 \nL 739.697336 425.727551 \nL 740.533069 431.240428 \nL 741.368803 423.056921 \nL 742.204537 426.414245 \nL 743.040271 419.222706 \nL 743.876004 427.330302 \nL 744.711738 438.16488 \nL 745.547472 437.382715 \nL 746.383205 442.138343 \nL 747.218939 435.718956 \nL 748.054673 434.177912 \nL 748.890407 439.736196 \nL 749.72614 434.120862 \nL 750.561874 431.793462 \nL 970.359844 423.934324 \nL 971.195577 367.508315 \nL 972.031311 358.962948 \nL 972.867045 335.003649 \nL 973.702778 334.603369 \nL 974.538512 346.106245 \nL 975.374246 331.799312 \nL 976.20998 346.945227 \nL 977.045713 340.894452 \nL 977.881447 353.049559 \nL 978.717181 350.226174 \nL 979.552914 349.615858 \nL 980.388648 336.873254 \nL 981.224382 333.793727 \nL 982.060116 336.452948 \nL 982.895849 331.627464 \nL 983.731583 330.27317 \nL 984.567317 340.688374 \nL 985.403051 343.416287 \nL 986.238784 335.442584 \nL 987.074518 341.947196 \nL 987.910252 347.247707 \nL 988.745985 333.068845 \nL 990.417453 327.583445 \nL 991.253187 325.69498 \nL 1050.590281 330.044272 \nL 1051.426015 252.94061 \nL 1052.261748 239.350176 \nL 1053.097482 229.51595 \nL 1053.933216 214.69417 \nL 1054.76895 187.79762 \nL 1055.604683 189.991128 \nL 1056.440417 184.573722 \nL 1057.276151 200.75189 \nL 1058.111885 198.422627 \nL 1058.947618 190.822891 \nL 1059.783352 187.702149 \nL 1060.619086 174.59722 \nL 1061.454819 180.16738 \nL 1062.290553 187.643003 \nL 1063.126287 172.21277 \nL 1064.797754 149.894411 \nL 1065.633488 150.733625 \nL 1066.469222 132.382907 \nL 1067.304956 118.801088 \nL 1068.140689 125.019753 \nL 1068.976423 120.327229 \nL 1069.812157 107.165018 \nL 1070.64789 101.942048 \nL 1071.483624 110.331633 \nL 1130.820719 98.390288 \nL 1131.656452 44.04392 \nL 1132.492186 60.429331 \nL 1133.32792 83.880537 \nL 1134.163653 133.031412 \nL 1134.999387 133.527396 \nL 1135.835121 126.583849 \nL 1136.670855 160.042528 \nL 1137.506588 155.235439 \nL 1138.342322 146.011296 \nL 1139.178056 128.336327 \nL 1140.01379 141.584928 \nL 1140.849523 122.272745 \nL 1141.685257 96.988027 \nL 1142.520991 109.740178 \nL 1143.356724 135.804965 \nL 1144.192458 144.305157 \nL 1145.028192 146.918505 \nL 1145.863926 163.365622 \nL 1146.699659 166.718988 \nL 1147.535393 155.564465 \nL 1148.371127 154.129138 \nL 1149.20686 180.796791 \nL 1150.042594 190.954455 \nL 1150.878328 187.85467 \nL 1151.714062 220.092482 \nL 1211.051156 210.40216 \nL 1211.88689 221.351537 \nL 1212.722624 238.393602 \nL 1213.558357 223.564604 \nL 1214.394091 211.146137 \nL 1215.229825 208.055899 \nL 1216.065558 192.006035 \nL 1216.901292 193.394325 \nL 1217.737026 223.564371 \nL 1218.57276 224.937759 \nL 1219.408493 221.771144 \nL 1220.244227 229.592094 \nL 1221.079961 222.267128 \nL 1221.915694 216.353738 \nL 1222.751428 220.550277 \nL 1223.587162 233.521779 \nL 1224.422896 230.679533 \nL 1225.258629 214.255469 \nL 1226.094363 201.322156 \nL 1226.930097 211.050666 \nL 1227.765831 199.967863 \nL 1228.601564 202.523928 \nL 1229.437298 209.982553 \nL 1230.273032 201.481895 \nL 1231.108765 209.729205 \nL 1231.944499 198.689713 \nL 1291.281594 188.045612 \nL 1292.117327 226.508376 \nL 1292.953061 232.567999 \nL 1293.788795 214.980351 \nL 1294.624528 219.405788 \nL 1295.460262 218.058015 \nL 1297.13173 209.524757 \nL 1297.967463 212.156967 \nL 1298.803197 217.6093 \nL 1299.638931 210.562366 \nL 1300.474665 206.107123 \nL 1301.310398 195.408766 \nL 1302.146132 148.019916 \nL 1302.981866 161.911899 \nL 1303.817599 171.487888 \nL 1304.653333 164.391821 \nL 1305.489067 167.024263 \nL 1306.324801 181.316526 \nL 1307.160534 191.879826 \nL 1307.996268 184.390231 \nL 1308.832002 190.544395 \nL 1309.667736 175.913325 \nL 1310.503469 184.305937 \nL 1311.339203 193.844436 \nL 1312.174937 191.402936 \nL 1531.972906 184.497345 \nL 1532.80864 312.799622 \nL 1533.644374 304.668507 \nL 1534.480107 343.706892 \nL 1535.315841 334.77545 \nL 1536.151575 338.506509 \nL 1536.987308 328.671584 \nL 1537.823042 288.6885 \nL 1538.658776 285.32908 \nL 1539.49451 298.455199 \nL 1540.330243 295.536576 \nL 1541.165977 284.281925 \nL 1542.001711 280.10448 \nL 1542.837445 292.026731 \nL 1543.673178 287.047794 \nL 1544.508912 279.379598 \nL 1545.344646 287.620155 \nL 1546.180379 281.325114 \nL 1547.016113 286.342006 \nL 1547.851847 294.819611 \nL 1548.687581 295.708191 \nL 1549.523314 306.293147 \nL 1550.359048 298.874806 \nL 1551.194782 292.800047 \nL 1552.030515 289.41315 \nL 1552.866249 289.871178 \nL 1612.203344 279.913538 \nL 1613.039077 219.634686 \nL 1613.874811 219.10028 \nL 1615.546279 209.982553 \nL 1616.382012 234.170284 \nL 1617.217746 253.016987 \nL 1618.05348 265.149041 \nL 1618.889213 273.465975 \nL 1619.724947 272.741093 \nL 1620.560681 266.522429 \nL 1621.396415 250.904979 \nL 1623.067882 278.215781 \nL 1623.903616 277.700936 \nL 1624.739349 286.056058 \nL 1625.575083 282.088184 \nL 1626.410817 272.016211 \nL 1627.246551 266.429519 \nL 1628.082284 276.059996 \nL 1628.918018 274.190858 \nL 1629.753752 263.940051 \nL 1630.536556 273.923771 \nL 1630.536556 273.923771 \n\" style=\"fill:none;stroke:#4c72b0;stroke-linecap:round;stroke-width:1.75;\"/>\n   </g>\n   <g id=\"patch_3\">\n    <path d=\"M 32.627465 511.389375 \nL 32.627465 21.789375 \n\" style=\"fill:none;\"/>\n   </g>\n   <g id=\"patch_4\">\n    <path d=\"M 1706.627465 511.389375 \nL 1706.627465 21.789375 \n\" style=\"fill:none;\"/>\n   </g>\n   <g id=\"patch_5\">\n    <path d=\"M 32.627465 511.389375 \nL 1706.627465 511.389375 \n\" style=\"fill:none;\"/>\n   </g>\n   <g id=\"patch_6\">\n    <path d=\"M 32.627465 21.789375 \nL 1706.627465 21.789375 \n\" style=\"fill:none;\"/>\n   </g>\n   <g id=\"text_20\">\n    <!-- Aint worth shit. But damn. Ain't it pretty -->\n    <g style=\"fill:#262626;\" transform=\"translate(767.107152 15.789375)scale(0.12 -0.12)\">\n     <defs>\n      <path d=\"M -9 0 \nL 1750 4581 \nL 2403 4581 \nL 4278 0 \nL 3588 0 \nL 3053 1388 \nL 1138 1388 \nL 634 0 \nL -9 0 \nz\nM 1313 1881 \nL 2866 1881 \nL 2388 3150 \nQ 2169 3728 2063 4100 \nQ 1975 3659 1816 3225 \nL 1313 1881 \nz\n\" id=\"ArialMT-41\" transform=\"scale(0.015625)\"/>\n      <path d=\"M 422 0 \nL 422 3319 \nL 928 3319 \nL 928 2847 \nQ 1294 3394 1984 3394 \nQ 2284 3394 2536 3286 \nQ 2788 3178 2913 3003 \nQ 3038 2828 3088 2588 \nQ 3119 2431 3119 2041 \nL 3119 0 \nL 2556 0 \nL 2556 2019 \nQ 2556 2363 2490 2533 \nQ 2425 2703 2258 2804 \nQ 2091 2906 1866 2906 \nQ 1506 2906 1245 2678 \nQ 984 2450 984 1813 \nL 984 0 \nL 422 0 \nz\n\" id=\"ArialMT-6e\" transform=\"scale(0.015625)\"/>\n      <path id=\"ArialMT-20\" transform=\"scale(0.015625)\"/>\n      <path d=\"M 1034 0 \nL 19 3319 \nL 600 3319 \nL 1128 1403 \nL 1325 691 \nQ 1338 744 1497 1375 \nL 2025 3319 \nL 2603 3319 \nL 3100 1394 \nL 3266 759 \nL 3456 1400 \nL 4025 3319 \nL 4572 3319 \nL 3534 0 \nL 2950 0 \nL 2422 1988 \nL 2294 2553 \nL 1622 0 \nL 1034 0 \nz\n\" id=\"ArialMT-77\" transform=\"scale(0.015625)\"/>\n      <path d=\"M 213 1659 \nQ 213 2581 725 3025 \nQ 1153 3394 1769 3394 \nQ 2453 3394 2887 2945 \nQ 3322 2497 3322 1706 \nQ 3322 1066 3130 698 \nQ 2938 331 2570 128 \nQ 2203 -75 1769 -75 \nQ 1072 -75 642 372 \nQ 213 819 213 1659 \nz\nM 791 1659 \nQ 791 1022 1069 705 \nQ 1347 388 1769 388 \nQ 2188 388 2466 706 \nQ 2744 1025 2744 1678 \nQ 2744 2294 2464 2611 \nQ 2184 2928 1769 2928 \nQ 1347 2928 1069 2612 \nQ 791 2297 791 1659 \nz\n\" id=\"ArialMT-6f\" transform=\"scale(0.015625)\"/>\n      <path d=\"M 416 0 \nL 416 3319 \nL 922 3319 \nL 922 2816 \nQ 1116 3169 1280 3281 \nQ 1444 3394 1641 3394 \nQ 1925 3394 2219 3213 \nL 2025 2691 \nQ 1819 2813 1613 2813 \nQ 1428 2813 1281 2702 \nQ 1134 2591 1072 2394 \nQ 978 2094 978 1738 \nL 978 0 \nL 416 0 \nz\n\" id=\"ArialMT-72\" transform=\"scale(0.015625)\"/>\n      <path d=\"M 422 0 \nL 422 4581 \nL 984 4581 \nL 984 2938 \nQ 1378 3394 1978 3394 \nQ 2347 3394 2619 3248 \nQ 2891 3103 3008 2847 \nQ 3125 2591 3125 2103 \nL 3125 0 \nL 2563 0 \nL 2563 2103 \nQ 2563 2525 2380 2717 \nQ 2197 2909 1863 2909 \nQ 1613 2909 1392 2779 \nQ 1172 2650 1078 2428 \nQ 984 2206 984 1816 \nL 984 0 \nL 422 0 \nz\n\" id=\"ArialMT-68\" transform=\"scale(0.015625)\"/>\n      <path d=\"M 197 991 \nL 753 1078 \nQ 800 744 1014 566 \nQ 1228 388 1613 388 \nQ 2000 388 2187 545 \nQ 2375 703 2375 916 \nQ 2375 1106 2209 1216 \nQ 2094 1291 1634 1406 \nQ 1016 1563 777 1677 \nQ 538 1791 414 1992 \nQ 291 2194 291 2438 \nQ 291 2659 392 2848 \nQ 494 3038 669 3163 \nQ 800 3259 1026 3326 \nQ 1253 3394 1513 3394 \nQ 1903 3394 2198 3281 \nQ 2494 3169 2634 2976 \nQ 2775 2784 2828 2463 \nL 2278 2388 \nQ 2241 2644 2061 2787 \nQ 1881 2931 1553 2931 \nQ 1166 2931 1000 2803 \nQ 834 2675 834 2503 \nQ 834 2394 903 2306 \nQ 972 2216 1119 2156 \nQ 1203 2125 1616 2013 \nQ 2213 1853 2448 1751 \nQ 2684 1650 2818 1456 \nQ 2953 1263 2953 975 \nQ 2953 694 2789 445 \nQ 2625 197 2315 61 \nQ 2006 -75 1616 -75 \nQ 969 -75 630 194 \nQ 291 463 197 991 \nz\n\" id=\"ArialMT-73\" transform=\"scale(0.015625)\"/>\n      <path d=\"M 581 0 \nL 581 641 \nL 1222 641 \nL 1222 0 \nL 581 0 \nz\n\" id=\"ArialMT-2e\" transform=\"scale(0.015625)\"/>\n      <path d=\"M 469 0 \nL 469 4581 \nL 2188 4581 \nQ 2713 4581 3030 4442 \nQ 3347 4303 3526 4014 \nQ 3706 3725 3706 3409 \nQ 3706 3116 3547 2856 \nQ 3388 2597 3066 2438 \nQ 3481 2316 3704 2022 \nQ 3928 1728 3928 1328 \nQ 3928 1006 3792 729 \nQ 3656 453 3456 303 \nQ 3256 153 2954 76 \nQ 2653 0 2216 0 \nL 469 0 \nz\nM 1075 2656 \nL 2066 2656 \nQ 2469 2656 2644 2709 \nQ 2875 2778 2992 2937 \nQ 3109 3097 3109 3338 \nQ 3109 3566 3000 3739 \nQ 2891 3913 2687 3977 \nQ 2484 4041 1991 4041 \nL 1075 4041 \nL 1075 2656 \nz\nM 1075 541 \nL 2216 541 \nQ 2509 541 2628 563 \nQ 2838 600 2978 687 \nQ 3119 775 3209 942 \nQ 3300 1109 3300 1328 \nQ 3300 1584 3169 1773 \nQ 3038 1963 2805 2039 \nQ 2572 2116 2134 2116 \nL 1075 2116 \nL 1075 541 \nz\n\" id=\"ArialMT-42\" transform=\"scale(0.015625)\"/>\n      <path d=\"M 2597 0 \nL 2597 488 \nQ 2209 -75 1544 -75 \nQ 1250 -75 995 37 \nQ 741 150 617 320 \nQ 494 491 444 738 \nQ 409 903 409 1263 \nL 409 3319 \nL 972 3319 \nL 972 1478 \nQ 972 1038 1006 884 \nQ 1059 663 1231 536 \nQ 1403 409 1656 409 \nQ 1909 409 2131 539 \nQ 2353 669 2445 892 \nQ 2538 1116 2538 1541 \nL 2538 3319 \nL 3100 3319 \nL 3100 0 \nL 2597 0 \nz\n\" id=\"ArialMT-75\" transform=\"scale(0.015625)\"/>\n      <path d=\"M 2575 0 \nL 2575 419 \nQ 2259 -75 1647 -75 \nQ 1250 -75 917 144 \nQ 584 363 401 755 \nQ 219 1147 219 1656 \nQ 219 2153 384 2558 \nQ 550 2963 881 3178 \nQ 1213 3394 1622 3394 \nQ 1922 3394 2156 3267 \nQ 2391 3141 2538 2938 \nL 2538 4581 \nL 3097 4581 \nL 3097 0 \nL 2575 0 \nz\nM 797 1656 \nQ 797 1019 1065 703 \nQ 1334 388 1700 388 \nQ 2069 388 2326 689 \nQ 2584 991 2584 1609 \nQ 2584 2291 2321 2609 \nQ 2059 2928 1675 2928 \nQ 1300 2928 1048 2622 \nQ 797 2316 797 1656 \nz\n\" id=\"ArialMT-64\" transform=\"scale(0.015625)\"/>\n      <path d=\"M 425 2959 \nL 281 3816 \nL 281 4581 \nL 922 4581 \nL 922 3816 \nL 772 2959 \nL 425 2959 \nz\n\" id=\"ArialMT-27\" transform=\"scale(0.015625)\"/>\n      <path d=\"M 422 -1272 \nL 422 3319 \nL 934 3319 \nL 934 2888 \nQ 1116 3141 1344 3267 \nQ 1572 3394 1897 3394 \nQ 2322 3394 2647 3175 \nQ 2972 2956 3137 2557 \nQ 3303 2159 3303 1684 \nQ 3303 1175 3120 767 \nQ 2938 359 2589 142 \nQ 2241 -75 1856 -75 \nQ 1575 -75 1351 44 \nQ 1128 163 984 344 \nL 984 -1272 \nL 422 -1272 \nz\nM 931 1641 \nQ 931 1000 1190 694 \nQ 1450 388 1819 388 \nQ 2194 388 2461 705 \nQ 2728 1022 2728 1688 \nQ 2728 2322 2467 2637 \nQ 2206 2953 1844 2953 \nQ 1484 2953 1207 2617 \nQ 931 2281 931 1641 \nz\n\" id=\"ArialMT-70\" transform=\"scale(0.015625)\"/>\n      <path d=\"M 397 -1278 \nL 334 -750 \nQ 519 -800 656 -800 \nQ 844 -800 956 -737 \nQ 1069 -675 1141 -563 \nQ 1194 -478 1313 -144 \nQ 1328 -97 1363 -6 \nL 103 3319 \nL 709 3319 \nL 1400 1397 \nQ 1534 1031 1641 628 \nQ 1738 1016 1872 1384 \nL 2581 3319 \nL 3144 3319 \nL 1881 -56 \nQ 1678 -603 1566 -809 \nQ 1416 -1088 1222 -1217 \nQ 1028 -1347 759 -1347 \nQ 597 -1347 397 -1278 \nz\n\" id=\"ArialMT-79\" transform=\"scale(0.015625)\"/>\n     </defs>\n     <use xlink:href=\"#ArialMT-41\"/>\n     <use x=\"66.699219\" xlink:href=\"#ArialMT-69\"/>\n     <use x=\"88.916016\" xlink:href=\"#ArialMT-6e\"/>\n     <use x=\"144.53125\" xlink:href=\"#ArialMT-74\"/>\n     <use x=\"172.314453\" xlink:href=\"#ArialMT-20\"/>\n     <use x=\"200.097656\" xlink:href=\"#ArialMT-77\"/>\n     <use x=\"272.314453\" xlink:href=\"#ArialMT-6f\"/>\n     <use x=\"327.929688\" xlink:href=\"#ArialMT-72\"/>\n     <use x=\"361.230469\" xlink:href=\"#ArialMT-74\"/>\n     <use x=\"389.013672\" xlink:href=\"#ArialMT-68\"/>\n     <use x=\"444.628906\" xlink:href=\"#ArialMT-20\"/>\n     <use x=\"472.412109\" xlink:href=\"#ArialMT-73\"/>\n     <use x=\"522.412109\" xlink:href=\"#ArialMT-68\"/>\n     <use x=\"578.027344\" xlink:href=\"#ArialMT-69\"/>\n     <use x=\"600.244141\" xlink:href=\"#ArialMT-74\"/>\n     <use x=\"628.027344\" xlink:href=\"#ArialMT-2e\"/>\n     <use x=\"655.810547\" xlink:href=\"#ArialMT-20\"/>\n     <use x=\"683.59375\" xlink:href=\"#ArialMT-42\"/>\n     <use x=\"750.292969\" xlink:href=\"#ArialMT-75\"/>\n     <use x=\"805.908203\" xlink:href=\"#ArialMT-74\"/>\n     <use x=\"833.691406\" xlink:href=\"#ArialMT-20\"/>\n     <use x=\"861.474609\" xlink:href=\"#ArialMT-64\"/>\n     <use x=\"917.089844\" xlink:href=\"#ArialMT-61\"/>\n     <use x=\"972.705078\" xlink:href=\"#ArialMT-6d\"/>\n     <use x=\"1056.005859\" xlink:href=\"#ArialMT-6e\"/>\n     <use x=\"1111.621094\" xlink:href=\"#ArialMT-2e\"/>\n     <use x=\"1139.404297\" xlink:href=\"#ArialMT-20\"/>\n     <use x=\"1161.6875\" xlink:href=\"#ArialMT-41\"/>\n     <use x=\"1228.386719\" xlink:href=\"#ArialMT-69\"/>\n     <use x=\"1250.603516\" xlink:href=\"#ArialMT-6e\"/>\n     <use x=\"1306.21875\" xlink:href=\"#ArialMT-27\"/>\n     <use x=\"1325.310547\" xlink:href=\"#ArialMT-74\"/>\n     <use x=\"1353.09375\" xlink:href=\"#ArialMT-20\"/>\n     <use x=\"1380.876953\" xlink:href=\"#ArialMT-69\"/>\n     <use x=\"1403.09375\" xlink:href=\"#ArialMT-74\"/>\n     <use x=\"1430.876953\" xlink:href=\"#ArialMT-20\"/>\n     <use x=\"1458.660156\" xlink:href=\"#ArialMT-70\"/>\n     <use x=\"1514.275391\" xlink:href=\"#ArialMT-72\"/>\n     <use x=\"1547.576172\" xlink:href=\"#ArialMT-65\"/>\n     <use x=\"1603.191406\" xlink:href=\"#ArialMT-74\"/>\n     <use x=\"1630.974609\" xlink:href=\"#ArialMT-74\"/>\n     <use x=\"1658.757812\" xlink:href=\"#ArialMT-79\"/>\n    </g>\n   </g>\n   <g id=\"legend_1\">\n    <g id=\"line2d_20\">\n     <path d=\"M 1598.494652 34.447187 \nL 1618.494652 34.447187 \n\" style=\"fill:none;stroke:#4c72b0;stroke-linecap:round;stroke-width:1.75;\"/>\n    </g>\n    <g id=\"line2d_21\"/>\n    <g id=\"text_21\">\n     <!-- Real -->\n     <g style=\"fill:#262626;\" transform=\"translate(1626.494652 37.947187)scale(0.1 -0.1)\">\n      <defs>\n       <path d=\"M 503 0 \nL 503 4581 \nL 2534 4581 \nQ 3147 4581 3465 4457 \nQ 3784 4334 3975 4021 \nQ 4166 3709 4166 3331 \nQ 4166 2844 3850 2509 \nQ 3534 2175 2875 2084 \nQ 3116 1969 3241 1856 \nQ 3506 1613 3744 1247 \nL 4541 0 \nL 3778 0 \nL 3172 953 \nQ 2906 1366 2734 1584 \nQ 2563 1803 2427 1890 \nQ 2291 1978 2150 2013 \nQ 2047 2034 1813 2034 \nL 1109 2034 \nL 1109 0 \nL 503 0 \nz\nM 1109 2559 \nL 2413 2559 \nQ 2828 2559 3062 2645 \nQ 3297 2731 3419 2920 \nQ 3541 3109 3541 3331 \nQ 3541 3656 3305 3865 \nQ 3069 4075 2559 4075 \nL 1109 4075 \nL 1109 2559 \nz\n\" id=\"ArialMT-52\" transform=\"scale(0.015625)\"/>\n       <path d=\"M 409 0 \nL 409 4581 \nL 972 4581 \nL 972 0 \nL 409 0 \nz\n\" id=\"ArialMT-6c\" transform=\"scale(0.015625)\"/>\n      </defs>\n      <use xlink:href=\"#ArialMT-52\"/>\n      <use x=\"72.216797\" xlink:href=\"#ArialMT-65\"/>\n      <use x=\"127.832031\" xlink:href=\"#ArialMT-61\"/>\n      <use x=\"183.447266\" xlink:href=\"#ArialMT-6c\"/>\n     </g>\n    </g>\n    <g id=\"line2d_22\">\n     <path d=\"M 1598.494652 48.714375 \nL 1618.494652 48.714375 \n\" style=\"fill:none;stroke:#55a868;stroke-linecap:round;stroke-width:1.75;\"/>\n    </g>\n    <g id=\"line2d_23\"/>\n    <g id=\"text_22\">\n     <!-- Predicted (right) -->\n     <g style=\"fill:#262626;\" transform=\"translate(1626.494652 52.214375)scale(0.1 -0.1)\">\n      <defs>\n       <path d=\"M 494 0 \nL 494 4581 \nL 2222 4581 \nQ 2678 4581 2919 4538 \nQ 3256 4481 3484 4323 \nQ 3713 4166 3852 3881 \nQ 3991 3597 3991 3256 \nQ 3991 2672 3619 2267 \nQ 3247 1863 2275 1863 \nL 1100 1863 \nL 1100 0 \nL 494 0 \nz\nM 1100 2403 \nL 2284 2403 \nQ 2872 2403 3119 2622 \nQ 3366 2841 3366 3238 \nQ 3366 3525 3220 3729 \nQ 3075 3934 2838 4000 \nQ 2684 4041 2272 4041 \nL 1100 4041 \nL 1100 2403 \nz\n\" id=\"ArialMT-50\" transform=\"scale(0.015625)\"/>\n       <path d=\"M 2588 1216 \nL 3141 1144 \nQ 3050 572 2676 248 \nQ 2303 -75 1759 -75 \nQ 1078 -75 664 370 \nQ 250 816 250 1647 \nQ 250 2184 428 2587 \nQ 606 2991 970 3192 \nQ 1334 3394 1763 3394 \nQ 2303 3394 2647 3120 \nQ 2991 2847 3088 2344 \nL 2541 2259 \nQ 2463 2594 2264 2762 \nQ 2066 2931 1784 2931 \nQ 1359 2931 1093 2626 \nQ 828 2322 828 1663 \nQ 828 994 1084 691 \nQ 1341 388 1753 388 \nQ 2084 388 2306 591 \nQ 2528 794 2588 1216 \nz\n\" id=\"ArialMT-63\" transform=\"scale(0.015625)\"/>\n       <path d=\"M 1497 -1347 \nQ 1031 -759 709 28 \nQ 388 816 388 1659 \nQ 388 2403 628 3084 \nQ 909 3875 1497 4659 \nL 1900 4659 \nQ 1522 4009 1400 3731 \nQ 1209 3300 1100 2831 \nQ 966 2247 966 1656 \nQ 966 153 1900 -1347 \nL 1497 -1347 \nz\n\" id=\"ArialMT-28\" transform=\"scale(0.015625)\"/>\n       <path d=\"M 319 -275 \nL 866 -356 \nQ 900 -609 1056 -725 \nQ 1266 -881 1628 -881 \nQ 2019 -881 2231 -725 \nQ 2444 -569 2519 -288 \nQ 2563 -116 2559 434 \nQ 2191 0 1641 0 \nQ 956 0 581 494 \nQ 206 988 206 1678 \nQ 206 2153 378 2554 \nQ 550 2956 876 3175 \nQ 1203 3394 1644 3394 \nQ 2231 3394 2613 2919 \nL 2613 3319 \nL 3131 3319 \nL 3131 450 \nQ 3131 -325 2973 -648 \nQ 2816 -972 2473 -1159 \nQ 2131 -1347 1631 -1347 \nQ 1038 -1347 672 -1080 \nQ 306 -813 319 -275 \nz\nM 784 1719 \nQ 784 1066 1043 766 \nQ 1303 466 1694 466 \nQ 2081 466 2343 764 \nQ 2606 1063 2606 1700 \nQ 2606 2309 2336 2618 \nQ 2066 2928 1684 2928 \nQ 1309 2928 1046 2623 \nQ 784 2319 784 1719 \nz\n\" id=\"ArialMT-67\" transform=\"scale(0.015625)\"/>\n       <path d=\"M 791 -1347 \nL 388 -1347 \nQ 1322 153 1322 1656 \nQ 1322 2244 1188 2822 \nQ 1081 3291 891 3722 \nQ 769 4003 388 4659 \nL 791 4659 \nQ 1378 3875 1659 3084 \nQ 1900 2403 1900 1659 \nQ 1900 816 1576 28 \nQ 1253 -759 791 -1347 \nz\n\" id=\"ArialMT-29\" transform=\"scale(0.015625)\"/>\n      </defs>\n      <use xlink:href=\"#ArialMT-50\"/>\n      <use x=\"66.699219\" xlink:href=\"#ArialMT-72\"/>\n      <use x=\"100\" xlink:href=\"#ArialMT-65\"/>\n      <use x=\"155.615234\" xlink:href=\"#ArialMT-64\"/>\n      <use x=\"211.230469\" xlink:href=\"#ArialMT-69\"/>\n      <use x=\"233.447266\" xlink:href=\"#ArialMT-63\"/>\n      <use x=\"283.447266\" xlink:href=\"#ArialMT-74\"/>\n      <use x=\"311.230469\" xlink:href=\"#ArialMT-65\"/>\n      <use x=\"366.845703\" xlink:href=\"#ArialMT-64\"/>\n      <use x=\"422.460938\" xlink:href=\"#ArialMT-20\"/>\n      <use x=\"450.244141\" xlink:href=\"#ArialMT-28\"/>\n      <use x=\"483.544922\" xlink:href=\"#ArialMT-72\"/>\n      <use x=\"516.845703\" xlink:href=\"#ArialMT-69\"/>\n      <use x=\"539.0625\" xlink:href=\"#ArialMT-67\"/>\n      <use x=\"594.677734\" xlink:href=\"#ArialMT-68\"/>\n      <use x=\"650.292969\" xlink:href=\"#ArialMT-74\"/>\n      <use x=\"678.076172\" xlink:href=\"#ArialMT-29\"/>\n     </g>\n    </g>\n   </g>\n  </g>\n  <g id=\"axes_2\">\n   <g id=\"matplotlib.axis_3\">\n    <g id=\"ytick_8\">\n     <g id=\"line2d_24\">\n      <path clip-path=\"url(#pf74151c8a0)\" d=\"M 32.627465 474.193798 \nL 1706.627465 474.193798 \n\" style=\"fill:none;stroke:#ffffff;stroke-linecap:round;\"/>\n     </g>\n     <g id=\"line2d_25\"/>\n     <g id=\"text_23\">\n      <!-- 674 -->\n      <g style=\"fill:#262626;\" transform=\"translate(1713.627465 477.772704)scale(0.1 -0.1)\">\n       <use xlink:href=\"#ArialMT-36\"/>\n       <use x=\"55.615234\" xlink:href=\"#ArialMT-37\"/>\n       <use x=\"111.230469\" xlink:href=\"#ArialMT-34\"/>\n      </g>\n     </g>\n    </g>\n    <g id=\"ytick_9\">\n     <g id=\"line2d_26\">\n      <path clip-path=\"url(#pf74151c8a0)\" d=\"M 32.627465 371.404019 \nL 1706.627465 371.404019 \n\" style=\"fill:none;stroke:#ffffff;stroke-linecap:round;\"/>\n     </g>\n     <g id=\"line2d_27\"/>\n     <g id=\"text_24\">\n      <!-- 676 -->\n      <g style=\"fill:#262626;\" transform=\"translate(1713.627465 374.982926)scale(0.1 -0.1)\">\n       <use xlink:href=\"#ArialMT-36\"/>\n       <use x=\"55.615234\" xlink:href=\"#ArialMT-37\"/>\n       <use x=\"111.230469\" xlink:href=\"#ArialMT-36\"/>\n      </g>\n     </g>\n    </g>\n    <g id=\"ytick_10\">\n     <g id=\"line2d_28\">\n      <path clip-path=\"url(#pf74151c8a0)\" d=\"M 32.627465 268.614241 \nL 1706.627465 268.614241 \n\" style=\"fill:none;stroke:#ffffff;stroke-linecap:round;\"/>\n     </g>\n     <g id=\"line2d_29\"/>\n     <g id=\"text_25\">\n      <!-- 678 -->\n      <g style=\"fill:#262626;\" transform=\"translate(1713.627465 272.193147)scale(0.1 -0.1)\">\n       <use xlink:href=\"#ArialMT-36\"/>\n       <use x=\"55.615234\" xlink:href=\"#ArialMT-37\"/>\n       <use x=\"111.230469\" xlink:href=\"#ArialMT-38\"/>\n      </g>\n     </g>\n    </g>\n    <g id=\"ytick_11\">\n     <g id=\"line2d_30\">\n      <path clip-path=\"url(#pf74151c8a0)\" d=\"M 32.627465 165.824462 \nL 1706.627465 165.824462 \n\" style=\"fill:none;stroke:#ffffff;stroke-linecap:round;\"/>\n     </g>\n     <g id=\"line2d_31\"/>\n     <g id=\"text_26\">\n      <!-- 680 -->\n      <g style=\"fill:#262626;\" transform=\"translate(1713.627465 169.403368)scale(0.1 -0.1)\">\n       <use xlink:href=\"#ArialMT-36\"/>\n       <use x=\"55.615234\" xlink:href=\"#ArialMT-38\"/>\n       <use x=\"111.230469\" xlink:href=\"#ArialMT-30\"/>\n      </g>\n     </g>\n    </g>\n    <g id=\"ytick_12\">\n     <g id=\"line2d_32\">\n      <path clip-path=\"url(#pf74151c8a0)\" d=\"M 32.627465 63.034683 \nL 1706.627465 63.034683 \n\" style=\"fill:none;stroke:#ffffff;stroke-linecap:round;\"/>\n     </g>\n     <g id=\"line2d_33\"/>\n     <g id=\"text_27\">\n      <!-- 682 -->\n      <g style=\"fill:#262626;\" transform=\"translate(1713.627465 66.61359)scale(0.1 -0.1)\">\n       <use xlink:href=\"#ArialMT-36\"/>\n       <use x=\"55.615234\" xlink:href=\"#ArialMT-38\"/>\n       <use x=\"111.230469\" xlink:href=\"#ArialMT-32\"/>\n      </g>\n     </g>\n    </g>\n   </g>\n   <g id=\"line2d_34\">\n    <path clip-path=\"url(#pf74151c8a0)\" d=\"M 108.718374 481.207896 \nL 408.746781 484.730629 \nL 409.582515 488.632926 \nL 410.418248 489.13483 \nL 411.253982 482.563034 \nL 412.089716 471.65605 \nL 412.92545 456.451519 \nL 414.596917 420.697189 \nL 416.268384 381.962808 \nL 417.104118 364.571862 \nL 417.939852 350.148418 \nL 419.611319 351.007928 \nL 420.447053 351.117719 \nL 421.282787 356.121067 \nL 422.11852 360.076691 \nL 422.954254 363.263777 \nL 423.789988 366.92767 \nL 424.625722 369.192508 \nL 425.461455 368.79726 \nL 426.297189 366.670445 \nL 427.132923 363.273187 \nL 427.968657 357.676967 \nL 429.640124 341.424713 \nL 488.977218 335.75948 \nL 489.812952 333.642076 \nL 490.648686 334.238086 \nL 491.48442 339.45788 \nL 493.991621 361.168331 \nL 495.663088 375.416108 \nL 496.498822 378.769449 \nL 497.334556 378.471444 \nL 498.170289 376.413641 \nL 499.006023 372.495659 \nL 499.841757 370.770367 \nL 500.677491 370.917801 \nL 501.513224 370.679397 \nL 502.348958 371.347555 \nL 503.184692 373.926083 \nL 504.020425 376.018392 \nL 504.856159 379.302721 \nL 505.691893 381.413852 \nL 506.527627 382.016136 \nL 507.36336 380.410045 \nL 508.199094 377.113169 \nL 509.870562 372.163148 \nL 569.207656 369.465418 \nL 570.04339 366.469683 \nL 570.879123 366.134036 \nL 571.714857 367.134705 \nL 572.550591 369.550114 \nL 573.386325 371.589096 \nL 575.893526 380.394361 \nL 577.564993 385.711398 \nL 578.400727 389.218447 \nL 579.236461 391.295071 \nL 580.072194 395.937676 \nL 580.907928 401.402147 \nL 583.415129 420.894814 \nL 584.250863 426.647879 \nL 585.086597 430.838771 \nL 586.758064 436.940032 \nL 587.593798 438.436331 \nL 588.429532 438.966466 \nL 590.100999 443.163632 \nL 649.438093 446.833799 \nL 651.109561 455.839825 \nL 651.945295 456.815399 \nL 652.781028 458.415216 \nL 653.616762 455.708075 \nL 654.452496 450.259289 \nL 655.28823 442.398229 \nL 657.795431 415.389563 \nL 658.631164 407.575557 \nL 659.466898 401.947967 \nL 660.302632 398.312306 \nL 661.138366 395.304023 \nL 661.974099 395.39813 \nL 662.809833 396.49918 \nL 663.645567 397.851182 \nL 664.4813 399.46982 \nL 665.317034 401.888366 \nL 666.988502 408.500941 \nL 668.659969 412.503619 \nL 669.495703 413.30039 \nL 670.331437 413.661133 \nL 729.668531 413.79602 \nL 731.339998 412.114644 \nL 732.175732 413.52311 \nL 733.8472 418.887201 \nL 736.354401 432.168814 \nL 738.025868 443.273423 \nL 738.861602 448.907287 \nL 739.697336 451.705397 \nL 740.533069 453.192285 \nL 741.368803 454.911304 \nL 742.204537 455.203035 \nL 743.040271 453.825938 \nL 744.711738 449.412327 \nL 745.547472 446.883989 \nL 746.383205 445.381417 \nL 747.218939 446.109176 \nL 748.054673 446.604806 \nL 748.890407 448.559091 \nL 749.72614 449.995789 \nL 750.561874 452.119467 \nL 970.359844 453.446374 \nL 971.195577 454.72309 \nL 972.031311 452.24808 \nL 972.867045 445.080275 \nL 973.702778 434.176427 \nL 975.374246 404.561001 \nL 977.045713 373.405359 \nL 977.881447 359.73477 \nL 978.717181 348.266281 \nL 979.552914 339.514344 \nL 980.388648 337.763956 \nL 981.224382 336.957774 \nL 982.060116 337.989813 \nL 982.895849 338.372514 \nL 983.731583 336.945227 \nL 984.567317 336.39627 \nL 985.403051 334.266318 \nL 986.238784 333.187226 \nL 987.074518 331.189024 \nL 987.910252 329.962498 \nL 988.745985 329.4355 \nL 989.581719 330.204039 \nL 990.417453 330.818871 \nL 991.253187 330.517729 \nL 1050.590281 330.003278 \nL 1051.426015 329.190822 \nL 1052.261748 324.519985 \nL 1053.097482 315.66453 \nL 1053.933216 303.794519 \nL 1054.76895 288.034758 \nL 1058.947618 191.685025 \nL 1059.783352 175.407677 \nL 1060.619086 167.750516 \nL 1061.454819 161.476725 \nL 1062.290553 156.162825 \nL 1063.126287 152.52089 \nL 1063.962021 151.19712 \nL 1064.797754 148.781711 \nL 1065.633488 145.657363 \nL 1066.469222 139.992131 \nL 1068.140689 126.196066 \nL 1070.64789 102.286652 \nL 1071.483624 92.59992 \nL 1130.820719 84.431445 \nL 1132.492186 69.481003 \nL 1133.32792 59.969937 \nL 1134.163653 51.788914 \nL 1134.999387 46.763609 \nL 1135.835121 44.04392 \nL 1136.670855 44.298009 \nL 1137.506588 48.507722 \nL 1139.178056 62.730405 \nL 1140.01379 70.811046 \nL 1140.849523 82.793986 \nL 1141.685257 91.244781 \nL 1142.520991 94.867895 \nL 1144.192458 88.951711 \nL 1145.028192 87.405221 \nL 1145.863926 84.193041 \nL 1146.699659 83.531156 \nL 1147.535393 85.654834 \nL 1148.371127 90.438599 \nL 1149.20686 94.278159 \nL 1150.042594 100.529991 \nL 1151.714062 118.457346 \nL 1211.051156 125.967073 \nL 1212.722624 142.68045 \nL 1216.065558 177.270992 \nL 1216.901292 180.856463 \nL 1218.57276 182.544113 \nL 1219.408493 180.872148 \nL 1221.079961 181.025856 \nL 1221.915694 180.238495 \nL 1222.751428 181.151332 \nL 1223.587162 183.180903 \nL 1224.422896 185.681008 \nL 1225.258629 189.774656 \nL 1226.094363 193.096628 \nL 1226.930097 192.372005 \nL 1227.765831 190.769052 \nL 1228.601564 188.67988 \nL 1229.437298 185.276349 \nL 1230.273032 182.540976 \nL 1231.944499 177.826223 \nL 1291.281594 174.30349 \nL 1292.117327 170.843494 \nL 1292.953061 169.72676 \nL 1294.624528 172.509186 \nL 1296.295996 177.882687 \nL 1297.13173 179.542104 \nL 1297.967463 181.521485 \nL 1298.803197 182.221013 \nL 1299.638931 183.685943 \nL 1300.474665 185.724925 \nL 1301.310398 183.670258 \nL 1302.981866 177.045136 \nL 1303.817599 170.965833 \nL 1307.160534 143.580739 \nL 1307.996268 138.364082 \nL 1308.832002 135.299336 \nL 1309.667736 133.997524 \nL 1310.503469 134.148095 \nL 1311.339203 138.671498 \nL 1312.174937 141.830351 \nL 1531.972906 144.189297 \nL 1532.80864 147.015639 \nL 1533.644374 153.377262 \nL 1534.480107 163.484338 \nL 1535.315841 178.299894 \nL 1536.987308 220.227634 \nL 1538.658776 264.9378 \nL 1539.49451 281.124178 \nL 1540.330243 293.985448 \nL 1541.165977 304.600701 \nL 1542.837445 296.124811 \nL 1543.673178 288.003389 \nL 1545.344646 274.850388 \nL 1546.180379 269.903505 \nL 1547.016113 269.069091 \nL 1547.851847 268.567187 \nL 1548.687581 267.243418 \nL 1549.523314 266.90777 \nL 1550.359048 268.560914 \nL 1551.194782 271.130031 \nL 1552.866249 274.172819 \nL 1612.203344 276.011039 \nL 1613.039077 276.174158 \nL 1613.874811 274.044206 \nL 1614.710545 267.980588 \nL 1615.546279 258.202886 \nL 1618.05348 222.790477 \nL 1618.889213 215.456416 \nL 1619.724947 211.47256 \nL 1620.560681 210.183296 \nL 1621.396415 211.582351 \nL 1623.067882 225.416058 \nL 1624.739349 239.243492 \nL 1625.575083 244.137048 \nL 1626.410817 247.506074 \nL 1627.246551 249.636025 \nL 1629.753752 252.321208 \nL 1630.536556 254.262946 \nL 1630.536556 254.262946 \n\" style=\"fill:none;stroke:#55a868;stroke-linecap:round;stroke-width:1.75;\"/>\n   </g>\n   <g id=\"patch_7\">\n    <path d=\"M 32.627465 511.389375 \nL 32.627465 21.789375 \n\" style=\"fill:none;\"/>\n   </g>\n   <g id=\"patch_8\">\n    <path d=\"M 1706.627465 511.389375 \nL 1706.627465 21.789375 \n\" style=\"fill:none;\"/>\n   </g>\n   <g id=\"patch_9\">\n    <path d=\"M 32.627465 511.389375 \nL 1706.627465 511.389375 \n\" style=\"fill:none;\"/>\n   </g>\n   <g id=\"patch_10\">\n    <path d=\"M 32.627465 21.789375 \nL 1706.627465 21.789375 \n\" style=\"fill:none;\"/>\n   </g>\n  </g>\n </g>\n <defs>\n  <clipPath id=\"pf74151c8a0\">\n   <rect height=\"489.6\" width=\"1674\" x=\"32.627465\" y=\"21.789375\"/>\n  </clipPath>\n </defs>\n</svg>\n",
      "image/png": "[encoded data removed]"
     },
     "metadata": {
      "needs_background": "light"
     }
    }
   ],
   "source": [
    "stocks.plot(title = \"Aint worth shit. But damn. Ain't it pretty\", figsize = (30, 10), secondary_y = 'Predicted')"
   ]
  },
  {
   "cell_type": "code",
   "execution_count": 162,
   "id": "fitting-mills",
   "metadata": {},
   "outputs": [],
   "source": [
    "df.reset_index(inplace = True)"
   ]
  },
  {
   "cell_type": "code",
   "execution_count": 164,
   "id": "concerned-discipline",
   "metadata": {},
   "outputs": [
    {
     "output_type": "execute_result",
     "data": {
      "text/plain": [
       "                          Date       Close\n",
       "1552 2021-04-20 14:00:00-04:00  715.780090\n",
       "1553 2021-04-20 14:15:00-04:00  716.270020\n",
       "1554 2021-04-20 14:30:00-04:00  718.956909\n",
       "1555 2021-04-20 14:45:00-04:00  716.340027\n",
       "1556 2021-04-20 14:59:03-04:00  716.299988"
      ],
      "text/html": "<div>\n<style scoped>\n    .dataframe tbody tr th:only-of-type {\n        vertical-align: middle;\n    }\n\n    .dataframe tbody tr th {\n        vertical-align: top;\n    }\n\n    .dataframe thead th {\n        text-align: right;\n    }\n</style>\n<table border=\"1\" class=\"dataframe\">\n  <thead>\n    <tr style=\"text-align: right;\">\n      <th></th>\n      <th>Date</th>\n      <th>Close</th>\n    </tr>\n  </thead>\n  <tbody>\n    <tr>\n      <th>1552</th>\n      <td>2021-04-20 14:00:00-04:00</td>\n      <td>715.780090</td>\n    </tr>\n    <tr>\n      <th>1553</th>\n      <td>2021-04-20 14:15:00-04:00</td>\n      <td>716.270020</td>\n    </tr>\n    <tr>\n      <th>1554</th>\n      <td>2021-04-20 14:30:00-04:00</td>\n      <td>718.956909</td>\n    </tr>\n    <tr>\n      <th>1555</th>\n      <td>2021-04-20 14:45:00-04:00</td>\n      <td>716.340027</td>\n    </tr>\n    <tr>\n      <th>1556</th>\n      <td>2021-04-20 14:59:03-04:00</td>\n      <td>716.299988</td>\n    </tr>\n  </tbody>\n</table>\n</div>"
     },
     "metadata": {},
     "execution_count": 164
    }
   ],
   "source": [
    "df = df[['Datetime','Close']]\n",
    "df.columns = ['Date','Close']\n",
    "df.tail()"
   ]
  },
  {
   "cell_type": "code",
   "execution_count": 165,
   "id": "adapted-underground",
   "metadata": {},
   "outputs": [],
   "source": [
    "\n",
    "close_data = df.Close.values.reshape((-1))\n",
    "look_back = 10\n",
    "def predict(num_prediction, model):\n",
    "    prediction_list = close_data[-look_back:]\n",
    "    \n",
    "    for _ in range(num_prediction):\n",
    "        x = prediction_list[-look_back:]\n",
    "        x = x.reshape((1, look_back, 1))\n",
    "       \n",
    "        out = model.predict(x)\n",
    "        output=scaler.inverse_transform(out)\n",
    "        prediction_list = np.append(prediction_list, output)\n",
    "    prediction_list = prediction_list[look_back-1:]\n",
    "        \n",
    "    return prediction_list\n",
    "    \n",
    "\n",
    "\n",
    "num_prediction = 2\n",
    "forecast = predict(num_prediction, model)\n"
   ]
  },
  {
   "cell_type": "code",
   "execution_count": 166,
   "id": "steady-riverside",
   "metadata": {},
   "outputs": [
    {
     "output_type": "execute_result",
     "data": {
      "text/plain": [
       "   Prediction\n",
       "0  716.299988\n",
       "1  683.709045\n",
       "2  683.709045"
      ],
      "text/html": "<div>\n<style scoped>\n    .dataframe tbody tr th:only-of-type {\n        vertical-align: middle;\n    }\n\n    .dataframe tbody tr th {\n        vertical-align: top;\n    }\n\n    .dataframe thead th {\n        text-align: right;\n    }\n</style>\n<table border=\"1\" class=\"dataframe\">\n  <thead>\n    <tr style=\"text-align: right;\">\n      <th></th>\n      <th>Prediction</th>\n    </tr>\n  </thead>\n  <tbody>\n    <tr>\n      <th>0</th>\n      <td>716.299988</td>\n    </tr>\n    <tr>\n      <th>1</th>\n      <td>683.709045</td>\n    </tr>\n    <tr>\n      <th>2</th>\n      <td>683.709045</td>\n    </tr>\n  </tbody>\n</table>\n</div>"
     },
     "metadata": {},
     "execution_count": 166
    }
   ],
   "source": [
    "prediction = pd.DataFrame({\"Prediction\":forecast} )\n",
    "prediction"
   ]
  },
  {
   "cell_type": "code",
   "execution_count": 167,
   "id": "imported-affair",
   "metadata": {},
   "outputs": [
    {
     "output_type": "error",
     "ename": "KeyError",
     "evalue": "\"None of ['Date'] are in the columns\"",
     "traceback": [
      "\u001b[0;31m---------------------------------------------------------------------------\u001b[0m",
      "\u001b[0;31mKeyError\u001b[0m                                  Traceback (most recent call last)",
      "\u001b[0;32m<ipython-input-167-d17237ea9d5f>\u001b[0m in \u001b[0;36m<module>\u001b[0;34m\u001b[0m\n\u001b[0;32m----> 1\u001b[0;31m \u001b[0mprediction\u001b[0m\u001b[0;34m.\u001b[0m\u001b[0mset_index\u001b[0m\u001b[0;34m(\u001b[0m\u001b[0;34m'Date'\u001b[0m\u001b[0;34m,\u001b[0m \u001b[0minplace\u001b[0m \u001b[0;34m=\u001b[0m \u001b[0;32mTrue\u001b[0m\u001b[0;34m)\u001b[0m\u001b[0;34m\u001b[0m\u001b[0;34m\u001b[0m\u001b[0m\n\u001b[0m",
      "\u001b[0;32m~/opt/anaconda3/envs/ML/lib/python3.8/site-packages/pandas/core/frame.py\u001b[0m in \u001b[0;36mset_index\u001b[0;34m(self, keys, drop, append, inplace, verify_integrity)\u001b[0m\n\u001b[1;32m   4725\u001b[0m \u001b[0;34m\u001b[0m\u001b[0m\n\u001b[1;32m   4726\u001b[0m         \u001b[0;32mif\u001b[0m \u001b[0mmissing\u001b[0m\u001b[0;34m:\u001b[0m\u001b[0;34m\u001b[0m\u001b[0;34m\u001b[0m\u001b[0m\n\u001b[0;32m-> 4727\u001b[0;31m             \u001b[0;32mraise\u001b[0m \u001b[0mKeyError\u001b[0m\u001b[0;34m(\u001b[0m\u001b[0;34mf\"None of {missing} are in the columns\"\u001b[0m\u001b[0;34m)\u001b[0m\u001b[0;34m\u001b[0m\u001b[0;34m\u001b[0m\u001b[0m\n\u001b[0m\u001b[1;32m   4728\u001b[0m \u001b[0;34m\u001b[0m\u001b[0m\n\u001b[1;32m   4729\u001b[0m         \u001b[0;32mif\u001b[0m \u001b[0minplace\u001b[0m\u001b[0;34m:\u001b[0m\u001b[0;34m\u001b[0m\u001b[0;34m\u001b[0m\u001b[0m\n",
      "\u001b[0;31mKeyError\u001b[0m: \"None of ['Date'] are in the columns\""
     ]
    }
   ],
   "source": [
    "prediction.set_index('Date', inplace = True)"
   ]
  },
  {
   "cell_type": "code",
   "execution_count": null,
   "id": "fitted-planet",
   "metadata": {},
   "outputs": [],
   "source": [
    "df.set_index('Date', inplace = True)"
   ]
  },
  {
   "cell_type": "markdown",
   "id": "faced-triple",
   "metadata": {},
   "source": [
    "# 5. Conclusions\n",
    "* How did our model do compared to a buy and hold strategy?\n",
    "    * Buy how much did or didn't it suck.\n",
    "    * Cumulative returns\n",
    "    * Risk\n",
    "    * Number of trades\n",
    "    * Number of gains / (Number of gains + Number of losses)\n",
    "    * ## Anything else you guys think would help in the comparison."
   ]
  },
  {
   "cell_type": "markdown",
   "id": "asian-carroll",
   "metadata": {},
   "source": [
    "# Notes to eventually add to the conclusion.\n",
    "\n",
    "We learned that using a neural network model to predict stocks is pretty naive. That doesn't seem to be their strong point. They can predict \"future\" prices so long as they have \"future\" prices to learn from. The closest I found of someone using them to actually predict future prices was a couple of people who could predict prices one day out. Now if you kept doing this, this model might be of some use. However, I couldn't get that figured out."
   ]
  },
  {
   "cell_type": "code",
   "execution_count": null,
   "id": "green-ireland",
   "metadata": {},
   "outputs": [],
   "source": [
    "len(df.columns)"
   ]
  },
  {
   "cell_type": "code",
   "execution_count": null,
   "metadata": {},
   "outputs": [],
   "source": []
  }
 ],
 "metadata": {
  "kernelspec": {
   "name": "python388jvsc74a57bd0fef044ffaf6b9f7da8f23529ab4dd69d9a8012832a83409693f52ad546573a93",
   "display_name": "Python 3.8.8 64-bit ('ML': conda)"
  },
  "language_info": {
   "codemirror_mode": {
    "name": "ipython",
    "version": 3
   },
   "file_extension": ".py",
   "mimetype": "text/x-python",
   "name": "python",
   "nbconvert_exporter": "python",
   "pygments_lexer": "ipython3",
   "version": "3.8.8"
  }
 },
 "nbformat": 4,
 "nbformat_minor": 5
}