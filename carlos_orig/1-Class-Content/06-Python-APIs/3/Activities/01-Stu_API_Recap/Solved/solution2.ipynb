{
 "cells": [
  {
   "cell_type": "code",
   "execution_count": 2,
   "metadata": {
    "collapsed": true
   },
   "outputs": [],
   "source": [
    "import json\n",
    "import requests\n",
    "from config import api_key"
   ]
  },
  {
   "cell_type": "code",
   "execution_count": null,
   "metadata": {
    "collapsed": true
   },
   "outputs": [],
   "source": [
    "target_url = \"http://api.openweathermap.org/data/2.5/forecast\" \\\n",
    "    \"?q=Phoenix,us&units=IMPERIAL&mode=json&APPID=\" + api_key"
   ]
  },
  {
   "cell_type": "code",
   "execution_count": 5,
   "metadata": {
    "collapsed": true
   },
   "outputs": [],
   "source": [
    "params = {\n",
    "    \"q\": \"Phoenix,US\",\n",
    "    \"units\": \"IMPERIAL\",\n",
    "    \"mode\": \"json\",\n",
    "    \"APPID\": api_key\n",
    "}\n",
    "\n",
    "base_url = \"http://api.openweathermap.org/data/2.5/forecast\""
   ]
  },
  {
   "cell_type": "code",
   "execution_count": 6,
   "metadata": {},
   "outputs": [
    {
     "name": "stdout",
     "output_type": "stream",
     "text": [
      "http://api.openweathermap.org/data/2.5/forecast?q=Phoenix%2CUS&units=IMPERIAL&mode=json&APPID=c7f9f57b4779391ea1f5ae067591c971\n"
     ]
    }
   ],
   "source": [
    "response = requests.get(base_url, params=params)\n",
    "print(response.url)"
   ]
  },
  {
   "cell_type": "code",
   "execution_count": 15,
   "metadata": {},
   "outputs": [
    {
     "data": {
      "text/plain": [
       "dict_keys(['cod', 'message', 'cnt', 'list', 'city'])"
      ]
     },
     "execution_count": 15,
     "metadata": {},
     "output_type": "execute_result"
    }
   ],
   "source": [
    "city_weather = response.json()\n",
    "city_weather.keys()"
   ]
  },
  {
   "cell_type": "code",
   "execution_count": 11,
   "metadata": {},
   "outputs": [
    {
     "data": {
      "text/plain": [
       "33.4484"
      ]
     },
     "execution_count": 11,
     "metadata": {},
     "output_type": "execute_result"
    }
   ],
   "source": [
    "city_weather[\"city\"][\"coord\"][\"lat\"]"
   ]
  },
  {
   "cell_type": "code",
   "execution_count": 13,
   "metadata": {},
   "outputs": [
    {
     "name": "stdout",
     "output_type": "stream",
     "text": [
      "2017-11-11 18:00:00 | 81.57\n",
      "2017-11-11 21:00:00 | 84.67\n",
      "2017-11-12 00:00:00 | 78.3\n",
      "2017-11-12 03:00:00 | 61.32\n",
      "2017-11-12 06:00:00 | 54.2\n",
      "2017-11-12 09:00:00 | 51.92\n",
      "2017-11-12 12:00:00 | 48.85\n",
      "2017-11-12 15:00:00 | 50.43\n",
      "2017-11-12 18:00:00 | 70.37\n",
      "2017-11-12 21:00:00 | 77.67\n",
      "2017-11-13 00:00:00 | 73.86\n",
      "2017-11-13 03:00:00 | 62.9\n",
      "2017-11-13 06:00:00 | 59.06\n",
      "2017-11-13 09:00:00 | 58.89\n",
      "2017-11-13 12:00:00 | 57.1\n",
      "2017-11-13 15:00:00 | 57.46\n",
      "2017-11-13 18:00:00 | 72.64\n",
      "2017-11-13 21:00:00 | 75.64\n",
      "2017-11-14 00:00:00 | 72.7\n",
      "2017-11-14 03:00:00 | 61.54\n",
      "2017-11-14 06:00:00 | 57.66\n",
      "2017-11-14 09:00:00 | 55.35\n",
      "2017-11-14 12:00:00 | 53.2\n",
      "2017-11-14 15:00:00 | 53.72\n",
      "2017-11-14 18:00:00 | 73.55\n",
      "2017-11-14 21:00:00 | 78.21\n",
      "2017-11-15 00:00:00 | 74.03\n",
      "2017-11-15 03:00:00 | 59.64\n",
      "2017-11-15 06:00:00 | 54.16\n",
      "2017-11-15 09:00:00 | 52.28\n",
      "2017-11-15 12:00:00 | 50.95\n",
      "2017-11-15 15:00:00 | 53.12\n",
      "2017-11-15 18:00:00 | 69.92\n",
      "2017-11-15 21:00:00 | 73.78\n",
      "2017-11-16 00:00:00 | 70.62\n",
      "2017-11-16 03:00:00 | 57.55\n",
      "2017-11-16 06:00:00 | 52.13\n",
      "2017-11-16 09:00:00 | 50.71\n",
      "2017-11-16 12:00:00 | 49.28\n",
      "2017-11-16 15:00:00 | 50.2\n"
     ]
    }
   ],
   "source": [
    "for temp in city_weather[\"list\"]:\n",
    "    date = temp[\"dt_txt\"]\n",
    "    temperature = temp[\"main\"][\"temp\"]\n",
    "    print(f\"{date} | {temperature}\")\n",
    "    "
   ]
  },
  {
   "cell_type": "code",
   "execution_count": null,
   "metadata": {
    "collapsed": true
   },
   "outputs": [],
   "source": []
  }
 ],
 "metadata": {
  "kernelspec": {
   "display_name": "Python 3",
   "language": "python",
   "name": "python3"
  },
  "language_info": {
   "codemirror_mode": {
    "name": "ipython",
    "version": 3
   },
   "file_extension": ".py",
   "mimetype": "text/x-python",
   "name": "python",
   "nbconvert_exporter": "python",
   "pygments_lexer": "ipython3",
   "version": "3.6.1"
  },
  "varInspector": {
   "cols": {
    "lenName": 16,
    "lenType": 16,
    "lenVar": 40
   },
   "kernels_config": {
    "python": {
     "delete_cmd_postfix": "",
     "delete_cmd_prefix": "del ",
     "library": "var_list.py",
     "varRefreshCmd": "print(var_dic_list())"
    },
    "r": {
     "delete_cmd_postfix": ") ",
     "delete_cmd_prefix": "rm(",
     "library": "var_list.r",
     "varRefreshCmd": "cat(var_dic_list()) "
    }
   },
   "types_to_exclude": [
    "module",
    "function",
    "builtin_function_or_method",
    "instance",
    "_Feature"
   ],
   "window_display": false
  }
 },
 "nbformat": 4,
 "nbformat_minor": 2
}
