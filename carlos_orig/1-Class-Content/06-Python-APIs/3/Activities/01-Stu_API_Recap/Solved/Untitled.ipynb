{
 "cells": [
  {
   "cell_type": "code",
   "execution_count": 1,
   "metadata": {
    "collapsed": true
   },
   "outputs": [],
   "source": [
    "# Dependencies\n",
    "import requests\n",
    "import json"
   ]
  },
  {
   "cell_type": "code",
   "execution_count": 2,
   "metadata": {
    "collapsed": true
   },
   "outputs": [],
   "source": [
    "# Weather\n",
    "api_key = \"c7f9f57b4779391ea1f5ae067591c971\""
   ]
  },
  {
   "cell_type": "code",
   "execution_count": null,
   "metadata": {
    "collapsed": true
   },
   "outputs": [],
   "source": [
    "# Endpoint URL for five day forecast Phoenix, AZ\n",
    "target_url = \"http://api.openweathermap.org/data/2.5/forecast\" \\\n",
    "    \"?q=Phoenix,us&units=IMPERIAL&mode=json&APPID=\" + api_key"
   ]
  },
  {
   "cell_type": "code",
   "execution_count": 5,
   "metadata": {
    "collapsed": true
   },
   "outputs": [],
   "source": [
    "params = {\n",
    "    \"q\": \"Phoenix,US\",\n",
    "    \"units\": \"IMPERIAL\",\n",
    "    \"mode\": \"json\",\n",
    "    \"appid\": api_key\n",
    "}\n",
    "\n",
    "base_url = \"http://api.openweathermap.org/data/2.5/forecast\""
   ]
  },
  {
   "cell_type": "code",
   "execution_count": 11,
   "metadata": {},
   "outputs": [],
   "source": [
    "# Request Data\n",
    "response = requests.get(base_url, params=params)"
   ]
  },
  {
   "cell_type": "code",
   "execution_count": 13,
   "metadata": {},
   "outputs": [
    {
     "name": "stdout",
     "output_type": "stream",
     "text": [
      "http://api.openweathermap.org/data/2.5/forecast?q=Phoenix%2CUS&units=IMPERIAL&mode=json&appid=c7f9f57b4779391ea1f5ae067591c971\n"
     ]
    }
   ],
   "source": [
    "# Print URL\n",
    "print(response.url)"
   ]
  },
  {
   "cell_type": "code",
   "execution_count": 14,
   "metadata": {
    "collapsed": true
   },
   "outputs": [],
   "source": [
    "city_weather = response.json()"
   ]
  },
  {
   "cell_type": "code",
   "execution_count": 15,
   "metadata": {},
   "outputs": [
    {
     "name": "stdout",
     "output_type": "stream",
     "text": [
      "2017-11-11 18:00:00 | 76.8 F\n",
      "2017-11-11 21:00:00 | 81.09 F\n",
      "2017-11-12 00:00:00 | 75.92 F\n",
      "2017-11-12 03:00:00 | 60.13 F\n",
      "2017-11-12 06:00:00 | 54.2 F\n",
      "2017-11-12 09:00:00 | 51.92 F\n",
      "2017-11-12 12:00:00 | 48.85 F\n",
      "2017-11-12 15:00:00 | 50.43 F\n",
      "2017-11-12 18:00:00 | 70.37 F\n",
      "2017-11-12 21:00:00 | 77.67 F\n",
      "2017-11-13 00:00:00 | 73.86 F\n",
      "2017-11-13 03:00:00 | 62.9 F\n",
      "2017-11-13 06:00:00 | 59.06 F\n",
      "2017-11-13 09:00:00 | 58.89 F\n",
      "2017-11-13 12:00:00 | 57.1 F\n",
      "2017-11-13 15:00:00 | 57.46 F\n",
      "2017-11-13 18:00:00 | 72.64 F\n",
      "2017-11-13 21:00:00 | 75.64 F\n",
      "2017-11-14 00:00:00 | 72.7 F\n",
      "2017-11-14 03:00:00 | 61.54 F\n",
      "2017-11-14 06:00:00 | 57.66 F\n",
      "2017-11-14 09:00:00 | 55.35 F\n",
      "2017-11-14 12:00:00 | 53.2 F\n",
      "2017-11-14 15:00:00 | 53.72 F\n",
      "2017-11-14 18:00:00 | 73.55 F\n",
      "2017-11-14 21:00:00 | 78.21 F\n",
      "2017-11-15 00:00:00 | 74.03 F\n",
      "2017-11-15 03:00:00 | 59.64 F\n",
      "2017-11-15 06:00:00 | 54.16 F\n",
      "2017-11-15 09:00:00 | 52.28 F\n",
      "2017-11-15 12:00:00 | 50.95 F\n",
      "2017-11-15 15:00:00 | 53.12 F\n",
      "2017-11-15 18:00:00 | 69.92 F\n",
      "2017-11-15 21:00:00 | 73.78 F\n",
      "2017-11-16 00:00:00 | 70.62 F\n",
      "2017-11-16 03:00:00 | 57.55 F\n",
      "2017-11-16 06:00:00 | 52.13 F\n",
      "2017-11-16 09:00:00 | 50.71 F\n",
      "2017-11-16 12:00:00 | 49.28 F\n",
      "2017-11-16 15:00:00 | 50.2 F\n"
     ]
    }
   ],
   "source": [
    "# Display the weather with dates\n",
    "for temp in city_weather[\"list\"]:\n",
    "    print(\"%s | %s F\" % (temp[\"dt_txt\"], temp[\"main\"][\"temp\"]))"
   ]
  },
  {
   "cell_type": "code",
   "execution_count": null,
   "metadata": {
    "collapsed": true
   },
   "outputs": [],
   "source": []
  }
 ],
 "metadata": {
  "kernelspec": {
   "display_name": "Python 3",
   "language": "python",
   "name": "python3"
  },
  "language_info": {
   "codemirror_mode": {
    "name": "ipython",
    "version": 3
   },
   "file_extension": ".py",
   "mimetype": "text/x-python",
   "name": "python",
   "nbconvert_exporter": "python",
   "pygments_lexer": "ipython3",
   "version": "3.6.1"
  },
  "varInspector": {
   "cols": {
    "lenName": 16,
    "lenType": 16,
    "lenVar": 40
   },
   "kernels_config": {
    "python": {
     "delete_cmd_postfix": "",
     "delete_cmd_prefix": "del ",
     "library": "var_list.py",
     "varRefreshCmd": "print(var_dic_list())"
    },
    "r": {
     "delete_cmd_postfix": ") ",
     "delete_cmd_prefix": "rm(",
     "library": "var_list.r",
     "varRefreshCmd": "cat(var_dic_list()) "
    }
   },
   "types_to_exclude": [
    "module",
    "function",
    "builtin_function_or_method",
    "instance",
    "_Feature"
   ],
   "window_display": false
  }
 },
 "nbformat": 4,
 "nbformat_minor": 2
}
