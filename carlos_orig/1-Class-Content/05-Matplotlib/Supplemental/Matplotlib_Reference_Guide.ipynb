{
 "cells": [
  {
   "cell_type": "markdown",
   "metadata": {},
   "source": [
    "# Matplotlib Reference Guide\n",
    "***\n",
    "\n",
    "<img src=\"http://matplotlib.org/1.2.1/_static/logo2.png\"/>\n"
   ]
  },
  {
   "cell_type": "markdown",
   "metadata": {},
   "source": [
    "<img src=\"http://u01.appmifile.com/images/2017/02/07/a464f0b0-75dc-4806-974a-2e84c2e0bc6c.gif\"/>\n",
    "**Note:** Remember, there's so much information out there. Don't be afraid to explore and learn the various tools out there for visualization. \n",
    "\n",
    "*\"If you're not Googling, you're not trying\"* **- Anonymous :-)**"
   ]
  },
  {
   "cell_type": "markdown",
   "metadata": {},
   "source": [
    "# Background\n",
    "***\n",
    "\n",
    "### Importance of Visualization\n",
    "Humans are very visual creatures. We understand things better when we see things visualized. However, the step to presenting analyses, results or insights can be a bottleneck: you might not even know where to start or you might have already a right format in mind. Luckily for you, there is Matplotlib!\n",
    "\n",
    "### Types of Graphs\n",
    "Matplotlib is a python library that help us to plot data. The easiest and basic plots are **line, scatter** and **histogram** plots.\n",
    "\n",
    "- **Line plot** is better when x axis is time.\n",
    "- **Scatter plot** is better when there is correlation between two variables\n",
    "- **Histogram** is better when we need to see distribution of numerical data.\n",
    "- **Customization**: Colors,labels,thickness of line, title, opacity, grid, figsize, ticks of axis and linestyle\n",
    "\n",
    "\n",
    "### Anatomy of Matplotlib\n",
    "The anatomy of Matplotlib can be simply broken down into: **figure, axes, tick labels, (X,Y)-axis labels, title, and legend.**\n",
    "\n",
    "- **Figure:** The Figure is the overall window or page that everything is drawn on.\n",
    "\n",
    "- **Axes:** Ontop of a figure are axes. The Axes is the area on which the data is plotted with functions such as plot(). It contains your ticks, labels, etc.\n",
    "\n",
    "- **Tick Labels:** These are the values, which are the locations along the x and y axis where the tick marks appear.\n",
    "\n",
    "- **Axis Labels:** These are your X and Y axis column name that represents the type of values you're displaying.\n",
    "\n",
    "- **Title:** This is just the title of your graph\n",
    "\n",
    "- **Legend:** This represents your graph's key, which represents the different categories of your visualization. It requires handles as parameters\n",
    "\n",
    "\n",
    "<img src=\"https://s3.amazonaws.com/assets.datacamp.com/blog_assets/Matplotlib+Tutorial/content_content_unknown.png\"/>\n",
    "\n",
    "# Matplotlib Cheat Sheet\n",
    "***\n",
    "\n",
    "Matplotlib is a is a plotting library for the Python programming language. It allows to make quality charts in few lines of code. Most of the other python plotting library are build on top of Matplotlib. \n",
    "\n",
    "It makes that a basic understanding\n",
    "of matplotlib is probably needed to make any chart with python. I highly advise you to have a look to the matplotlib homepage and have a look to this general concept page. \n",
    "\n",
    "This page aims to give a few tip concerning the general\n",
    "usage of Matplotlib. It gives examples showing how to custom your title, the colors of your chart, how to annotate it etc.\n",
    "\n",
    "**Resource:** https://www.datacamp.com/community/tutorials/matplotlib-tutorial-python#anatomy\n",
    "\n",
    "<img src=\"https://python-graph-gallery.com/wp-content/uploads/Matplotlib_cheatsheet_datacamp.png\">\n"
   ]
  },
  {
   "cell_type": "markdown",
   "metadata": {},
   "source": [
    "# Matplotlib Basic Plot\n",
    "***"
   ]
  },
  {
   "cell_type": "markdown",
   "metadata": {},
   "source": [
    "### Step 1: Prepare Data\n",
    "\n",
    "For now to keep it simple, let's prepare our dataset by creating two arrays. One for year values and the other for population values."
   ]
  },
  {
   "cell_type": "code",
   "execution_count": 76,
   "metadata": {},
   "outputs": [],
   "source": [
    "# Import the matplotlib library\n",
    "import matplotlib.pyplot as plt\n",
    "\n",
    "# Prepare your dataset\n",
    "year = [1950, 1960, 1970, 1980, 1990, 2000, 2010, 2020]\n",
    "population = [3, 4, 5, 6, 7.5, 9, 11, 15]\n",
    "baby_population = [0.5, 1, 2, 3, 6, 8, 12, 13]\n"
   ]
  },
  {
   "cell_type": "markdown",
   "metadata": {},
   "source": [
    "### Step 2: Create Plot\n",
    "Apply the plot() function and pass in two parameters: your **x-values** and **y-values**"
   ]
  },
  {
   "cell_type": "code",
   "execution_count": 82,
   "metadata": {},
   "outputs": [],
   "source": [
    "# A. Define your plot \n",
    "# B. Create Handles for Legend\n",
    "population_handle, = plt.plot(year, population, color='red', label='World Population')\n",
    "baby_handle, = plt.plot(year, baby_population, color='blue', label='Baby Population')"
   ]
  },
  {
   "cell_type": "markdown",
   "metadata": {},
   "source": [
    "### Step 3: Customize Plot\n",
    "You can modify the aesthetic of your graphs here by using these basic functions"
   ]
  },
  {
   "cell_type": "code",
   "execution_count": null,
   "metadata": {
    "collapsed": true
   },
   "outputs": [],
   "source": [
    "# Create a title for your graph\n",
    "plt.title('World Population Projection')\n",
    "\n",
    "# Label your X-Axis\n",
    "plt.xlabel('Year')\n",
    "\n",
    "# Label your Y-Axis\n",
    "plt.ylabel('Population (In Billions)')\n",
    "\n",
    "# Modify your Y-Axis Ticks \n",
    "plt.yticks([0,3,6,9,12,15,18],['0','3B','6B','9B','12B','15B','18B'])\n",
    "\n",
    "# Display a grid layout on the graph\n",
    "plt.grid()\n",
    "\n",
    "# Define and display your Legend\n",
    "plt.legend(handles=[population_handle,baby_handle],loc='upper right')"
   ]
  },
  {
   "cell_type": "markdown",
   "metadata": {},
   "source": [
    "### 4. Show Plot\n",
    "The final step. "
   ]
  },
  {
   "cell_type": "code",
   "execution_count": 79,
   "metadata": {
    "scrolled": true
   },
   "outputs": [
    {
     "data": {
      "image/png": "[encoded data removed]",
      "text/plain": [
       "<matplotlib.figure.Figure at 0x16ea5b0fa90>"
      ]
     },
     "metadata": {},
     "output_type": "display_data"
    }
   ],
   "source": [
    "plt.show()"
   ]
  },
  {
   "cell_type": "markdown",
   "metadata": {},
   "source": [
    "<img src=\"https://78.media.tumblr.com/079b3f8397250a4fc44648a79d6e9c61/tumblr_ns93qmgJOv1updbngo1_500.gif\"/>"
   ]
  },
  {
   "cell_type": "markdown",
   "metadata": {},
   "source": [
    "# Pandas Plot Examples\n",
    "***\n",
    "Not only are Pandas used for data manipulation, but Pandas also has a built in function that allows you to perform simple and powerful graphs from Matplotlib itself! We'll dive into three common graphs: Scatter Plot, Histograms, and "
   ]
  },
  {
   "cell_type": "code",
   "execution_count": 125,
   "metadata": {},
   "outputs": [],
   "source": [
    "# Import the necessary libraries \n",
    "import pandas as pd\n",
    "import matplotlib.pyplot as plt\n",
    "\n",
    "# Prepare your dataset\n",
    "year = [1950, 1960, 1970, 1980, 1990, 2000, 2010, 2020]\n",
    "population = [3, 4, 5, 6, 7.5, 9, 11, 15]\n",
    "baby_population = [0.5, 1, 2, 3, 6, 8, 12, 13]\n",
    "\n",
    "# Convert your list into a DataFrame\n",
    "world_df = pd.DataFrame({\"Year\":year, \"World Population\":population, \"Baby Population\":baby_population})"
   ]
  },
  {
   "cell_type": "code",
   "execution_count": 126,
   "metadata": {
    "scrolled": false
   },
   "outputs": [
    {
     "data": {
      "text/html": [
       "<div>\n",
       "<style>\n",
       "    .dataframe thead tr:only-child th {\n",
       "        text-align: right;\n",
       "    }\n",
       "\n",
       "    .dataframe thead th {\n",
       "        text-align: left;\n",
       "    }\n",
       "\n",
       "    .dataframe tbody tr th {\n",
       "        vertical-align: top;\n",
       "    }\n",
       "</style>\n",
       "<table border=\"1\" class=\"dataframe\">\n",
       "  <thead>\n",
       "    <tr style=\"text-align: right;\">\n",
       "      <th></th>\n",
       "      <th>Baby Population</th>\n",
       "      <th>World Population</th>\n",
       "      <th>Year</th>\n",
       "    </tr>\n",
       "  </thead>\n",
       "  <tbody>\n",
       "    <tr>\n",
       "      <th>0</th>\n",
       "      <td>0.5</td>\n",
       "      <td>3.0</td>\n",
       "      <td>1950</td>\n",
       "    </tr>\n",
       "    <tr>\n",
       "      <th>1</th>\n",
       "      <td>1.0</td>\n",
       "      <td>4.0</td>\n",
       "      <td>1960</td>\n",
       "    </tr>\n",
       "    <tr>\n",
       "      <th>2</th>\n",
       "      <td>2.0</td>\n",
       "      <td>5.0</td>\n",
       "      <td>1970</td>\n",
       "    </tr>\n",
       "    <tr>\n",
       "      <th>3</th>\n",
       "      <td>3.0</td>\n",
       "      <td>6.0</td>\n",
       "      <td>1980</td>\n",
       "    </tr>\n",
       "    <tr>\n",
       "      <th>4</th>\n",
       "      <td>6.0</td>\n",
       "      <td>7.5</td>\n",
       "      <td>1990</td>\n",
       "    </tr>\n",
       "  </tbody>\n",
       "</table>\n",
       "</div>"
      ],
      "text/plain": [
       "   Baby Population  World Population  Year\n",
       "0              0.5               3.0  1950\n",
       "1              1.0               4.0  1960\n",
       "2              2.0               5.0  1970\n",
       "3              3.0               6.0  1980\n",
       "4              6.0               7.5  1990"
      ]
     },
     "execution_count": 126,
     "metadata": {},
     "output_type": "execute_result"
    }
   ],
   "source": [
    "# Examine the first five observations in your DataFrame\n",
    "world_df.head()"
   ]
  },
  {
   "cell_type": "markdown",
   "metadata": {},
   "source": [
    "## Line Plot "
   ]
  },
  {
   "cell_type": "code",
   "execution_count": 147,
   "metadata": {
    "scrolled": true
   },
   "outputs": [
    {
     "data": {
      "image/png": "[encoded data removed]",
      "text/plain": [
       "<matplotlib.figure.Figure at 0x16ea80a6208>"
      ]
     },
     "metadata": {},
     "output_type": "display_data"
    }
   ],
   "source": [
    "# Use your DataFrame to create a line plot\n",
    "world_df.plot(x=\"Year\", y=\"World Population\", kind = 'line', color = 'blue',label = 'World Population',alpha = 0.5, grid = True)\n",
    "\n",
    "plt.xlabel('Years')              \n",
    "plt.ylabel('World Population')\n",
    "plt.title('World Population Line Plot')           \n",
    "plt.show()"
   ]
  },
  {
   "cell_type": "markdown",
   "metadata": {},
   "source": [
    "# Scatter Plot\n",
    "***"
   ]
  },
  {
   "cell_type": "code",
   "execution_count": 136,
   "metadata": {
    "scrolled": false
   },
   "outputs": [
    {
     "data": {
      "image/png": "[encoded data removed]",
      "text/plain": [
       "<matplotlib.figure.Figure at 0x16ea982f9e8>"
      ]
     },
     "metadata": {},
     "output_type": "display_data"
    }
   ],
   "source": [
    "world_df.plot(kind='scatter', x='World Population', y='Year',alpha = 0.5,color = 'red')\n",
    "plt.xlabel('World Population')              \n",
    "plt.ylabel('Year')\n",
    "plt.title('World Population Scatter Plot')            \n",
    "plt.show()"
   ]
  },
  {
   "cell_type": "markdown",
   "metadata": {},
   "source": [
    "# Histogram\n",
    "***"
   ]
  },
  {
   "cell_type": "code",
   "execution_count": 146,
   "metadata": {},
   "outputs": [
    {
     "data": {
      "image/png": "[encoded data removed]",
      "text/plain": [
       "<matplotlib.figure.Figure at 0x16ea98296d8>"
      ]
     },
     "metadata": {},
     "output_type": "display_data"
    }
   ],
   "source": [
    "world_df[\"Baby Population\"].plot(kind = 'hist',bins = 20,figsize = (10,4), color='green')\n",
    "plt.xlabel('Baby Population')              \n",
    "plt.ylabel('Frequency')\n",
    "plt.title('Baby Population Histogram')            \n",
    "plt.show()"
   ]
  },
  {
   "cell_type": "code",
   "execution_count": null,
   "metadata": {
    "collapsed": true
   },
   "outputs": [],
   "source": []
  }
 ],
 "metadata": {
  "kernelspec": {
   "display_name": "Python 3",
   "language": "python",
   "name": "python3"
  },
  "language_info": {
   "codemirror_mode": {
    "name": "ipython",
    "version": 3
   },
   "file_extension": ".py",
   "mimetype": "text/x-python",
   "name": "python",
   "nbconvert_exporter": "python",
   "pygments_lexer": "ipython3",
   "version": "3.6.1"
  }
 },
 "nbformat": 4,
 "nbformat_minor": 2
}
