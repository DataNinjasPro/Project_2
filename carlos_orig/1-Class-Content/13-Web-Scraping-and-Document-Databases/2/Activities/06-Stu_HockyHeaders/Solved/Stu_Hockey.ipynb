{
 "cells": [
  {
   "cell_type": "code",
   "execution_count": 1,
   "metadata": {
    "collapsed": true
   },
   "outputs": [],
   "source": [
    "# Dependencies\n",
    "from bs4 import BeautifulSoup\n",
    "import requests\n",
    "import pymongo"
   ]
  },
  {
   "cell_type": "code",
   "execution_count": 2,
   "metadata": {
    "collapsed": true
   },
   "outputs": [],
   "source": [
    "# Initialize PyMongo to work with MongoDBs\n",
    "conn = 'mongodb://localhost:27017'\n",
    "client = pymongo.MongoClient(conn)"
   ]
  },
  {
   "cell_type": "code",
   "execution_count": 3,
   "metadata": {
    "collapsed": true
   },
   "outputs": [],
   "source": [
    "# Define database and collection\n",
    "db = client.nhl_db\n",
    "collection = db.articles"
   ]
  },
  {
   "cell_type": "code",
   "execution_count": 4,
   "metadata": {
    "collapsed": true
   },
   "outputs": [],
   "source": [
    "# URL of page to be scraped\n",
    "url = 'https://www.nhl.com/'\n",
    "\n",
    "# Retrieve page with the requests module\n",
    "response = requests.get(url)\n",
    "# Create BeautifulSoup object; parse with 'lxml'\n",
    "soup = BeautifulSoup(response.text, 'lxml')"
   ]
  },
  {
   "cell_type": "code",
   "execution_count": 5,
   "metadata": {},
   "outputs": [
    {
     "name": "stdout",
     "output_type": "stream",
     "text": [
      "-----------------\n",
      "New Hurricanes owner commits to Raleigh market\n",
      "Dundon eager to get started, wants to enhance fan experience\n",
      "2018-01-12\n",
      "19:37pm\n",
      "-----------------\n",
      "Cogliano signs three-year contract with Ducks\n",
      "30-year-old forward could have become unrestricted free agent July 1\n",
      "2018-01-12\n",
      "15:11pm\n",
      "-----------------\n",
      "Penguins goalie Murray goes home because of family matter\n",
      "DeSmith recalled from minors; Pittsburgh returns from five-day break Saturday\n",
      "2018-01-12\n",
      "16:05pm\n",
      "-----------------\n",
      "NHL.com picks lines for All-Star Game\n",
      "Staff writers decide how talent should be deployed for midseason showcase\n",
      "2018-01-11\n",
      "12:25am\n",
      "-----------------\n",
      "New smell test emerges for goaltenders\n",
      "Burning rubber becomes more common odor in harder-shot era\n",
      "2018-01-12\n",
      "00:00am\n",
      "-----------------\n",
      "NHL schedule: Bye weeks for 2017-18 season\n",
      "Complete list of mandated five-day breaks\n",
      "2018-01-12\n",
      "00:00am\n",
      "-----------------\n",
      "Fantasy buzz: Impact of Hedman injury on Lightning\n",
      "Sergachev, Stralman gain value with elite defenseman out 3-6 weeks\n",
      "2018-01-12\n",
      "16:00pm\n",
      "-----------------\n",
      "Fantasy all-stars for each NHL team in 2017-18\n",
      "Voracek, Miller, Trocheck among top standard-category performers\n",
      "2018-01-11\n",
      "09:54am\n",
      "-----------------\n",
      "Ovechkin juggles his way up ice to regain possession of puck\n",
      "Capitals star uses warmup trick in game to his advantage\n",
      "2018-01-11\n",
      "20:33pm\n",
      "-----------------\n",
      "Super 16: Lightning again unanimous No. 1\n",
      "Stay first for 13th consecutive week; Golden Knights remain second, Capitals move up to third\n",
      "2018-01-11\n",
      "00:00am\n",
      "-----------------\n",
      "Dundon becomes majority owner of Hurricanes\n",
      "Sale from Karmanos official, will own 61 percent of team\n",
      "2018-01-12\n",
      "18:35pm\n",
      "-----------------\n",
      "Doughty says he's better than ever for Kings\n",
      "All-star defenseman adding dimensions to game\n",
      "2018-01-12\n",
      "00:00am\n",
      "-----------------\n",
      "Friday Four: All-Star rosters filled with first-timers\n",
      "NHL Network's Kevin Weekes also discusses Canadiens, Flames, Devils\n",
      "2018-01-12\n",
      "01:23am\n",
      "-----------------\n",
      "Flyers showing consistency, success on face-offs\n",
      "Versatility at center creating favorable matchups, proving advantageous\n",
      "2018-01-12\n",
      "00:00am\n",
      "-----------------\n",
      "Devils happy with Hischier ahead of first game against Patrick, Flyers\n",
      "Chose center with No. 1 pick in 2017 Draft before Philadelphia took forward No. 2\n",
      "2018-01-12\n",
      "12:00am\n",
      "-----------------\n",
      "Vasilevskiy favorite for Vezina Trophy\n",
      "Lightning goalie chosen for award by NHL.com panel at midseason\n",
      "2018-01-11\n",
      "00:00am\n",
      "-----------------\n",
      "2018 Draft diary: Brady Tkachuk\n",
      "Boston University forward talks about playing for U.S. at World Junior Championship, returning to college action\n",
      "2018-01-12\n",
      "00:00am\n",
      "-----------------\n",
      "Eichel honored to represent Sabres at All-Star Game\n",
      "Center set to participate in event for first time\n",
      "2018-01-11\n",
      "13:00pm\n",
      "-----------------\n",
      "Host Lightning ready to put on show in All-Star Game\n",
      "Playing at home 'makes it that much better,' says Stamkos, who will join Kucherov, Hedman, Vasilevskiy on Atlantic squad\n",
      "2018-01-11\n",
      "22:07pm\n",
      "-----------------\n",
      "Cup winner Kelly named to Canada men's team for 2018 PyeongChang Olympics\n",
      "Champion with 2011 Bruins among 25 players selected\n",
      "2018-01-11\n",
      "12:49am\n",
      "-----------------\n",
      "Steve Thomas happy to tell son he'll represent Canada at Olympics\n",
      "Christian Thomas among 25 players chosen for tournament next month\n",
      "2018-01-11\n",
      "15:12pm\n",
      "-----------------\n",
      "NHL reveals All-Star Game rosters\n",
      "Kucherov, Hedman, Vasilevskiy join Lightning captain Stamkos among players named\n",
      "2018-01-10\n",
      "16:00pm\n"
     ]
    }
   ],
   "source": [
    "# Retrieve the parent divs for all articles\n",
    "results = soup.find_all('li', class_='mixed-feed__item--article')\n",
    "\n",
    "# Loop through results to retrieve article title, header, and timestamp of article\n",
    "for result in results:\n",
    "    title = result.find('h4', class_='mixed-feed__header').text\n",
    "\n",
    "    lede = result.find('h5', class_='mixed-feed__subheader').text\n",
    "\n",
    "    # The time and date of article publication\n",
    "    date = result.find('time')['datetime']\n",
    "    # Slice the datetime string for the date\n",
    "    article_date = date[:10]\n",
    "    # Slice the datetime string for the time\n",
    "    time = date[11:16]\n",
    "    # Determine whether article was published in AM or PM\n",
    "    if (int(time[:2]) >= 13):\n",
    "        meridiem = 'pm'\n",
    "    else:\n",
    "        meridiem = 'am'\n",
    "\n",
    "    # Concatenate time string\n",
    "    time = time + meridiem\n",
    "    print('-----------------')\n",
    "    print(title)\n",
    "    print(lede)\n",
    "    print(article_date)\n",
    "    print(time)\n",
    "\n",
    "    # Dictionary to be inserted into MongoDB\n",
    "    post = {\n",
    "        'title': title,\n",
    "        'lede': lede,\n",
    "        'date': article_date,\n",
    "        'time published': time\n",
    "    }\n",
    "\n",
    "    # Insert dictionary into MongoDB as a document\n",
    "    collection.insert_one(post)"
   ]
  },
  {
   "cell_type": "code",
   "execution_count": 6,
   "metadata": {},
   "outputs": [
    {
     "name": "stdout",
     "output_type": "stream",
     "text": [
      "{'_id': ObjectId('5a5968b7b1180204cca6554e'), 'title': 'New Hurricanes owner commits to Raleigh market', 'lede': 'Dundon eager to get started, wants to enhance fan experience', 'date': '2018-01-12', 'time published': '19:37pm'}\n",
      "{'_id': ObjectId('5a5968b7b1180204cca6554f'), 'title': 'Cogliano signs three-year contract with Ducks', 'lede': '30-year-old forward could have become unrestricted free agent July 1', 'date': '2018-01-12', 'time published': '15:11pm'}\n",
      "{'_id': ObjectId('5a5968b7b1180204cca65550'), 'title': 'Penguins goalie Murray goes home because of family matter', 'lede': 'DeSmith recalled from minors; Pittsburgh returns from five-day break Saturday', 'date': '2018-01-12', 'time published': '16:05pm'}\n",
      "{'_id': ObjectId('5a5968b7b1180204cca65551'), 'title': 'NHL.com picks lines for All-Star Game', 'lede': 'Staff writers decide how talent should be deployed for midseason showcase', 'date': '2018-01-11', 'time published': '12:25am'}\n",
      "{'_id': ObjectId('5a5968b7b1180204cca65552'), 'title': 'New smell test emerges for goaltenders', 'lede': 'Burning rubber becomes more common odor in harder-shot era', 'date': '2018-01-12', 'time published': '00:00am'}\n",
      "{'_id': ObjectId('5a5968b7b1180204cca65553'), 'title': 'NHL schedule: Bye weeks for 2017-18 season', 'lede': 'Complete list of mandated five-day breaks', 'date': '2018-01-12', 'time published': '00:00am'}\n",
      "{'_id': ObjectId('5a5968b7b1180204cca65554'), 'title': 'Fantasy buzz: Impact of Hedman injury on Lightning', 'lede': 'Sergachev, Stralman gain value with elite defenseman out 3-6 weeks', 'date': '2018-01-12', 'time published': '16:00pm'}\n",
      "{'_id': ObjectId('5a5968b7b1180204cca65555'), 'title': 'Fantasy all-stars for each NHL team in 2017-18', 'lede': 'Voracek, Miller, Trocheck among top standard-category performers', 'date': '2018-01-11', 'time published': '09:54am'}\n",
      "{'_id': ObjectId('5a5968b7b1180204cca65556'), 'title': 'Ovechkin juggles his way up ice to regain possession of puck', 'lede': 'Capitals star uses warmup trick in game to his advantage', 'date': '2018-01-11', 'time published': '20:33pm'}\n",
      "{'_id': ObjectId('5a5968b7b1180204cca65557'), 'title': 'Super 16: Lightning again unanimous No. 1', 'lede': 'Stay first for 13th consecutive week; Golden Knights remain second, Capitals move up to third', 'date': '2018-01-11', 'time published': '00:00am'}\n",
      "{'_id': ObjectId('5a5968b7b1180204cca65558'), 'title': 'Dundon becomes majority owner of Hurricanes', 'lede': 'Sale from Karmanos official, will own 61 percent of team', 'date': '2018-01-12', 'time published': '18:35pm'}\n",
      "{'_id': ObjectId('5a5968b7b1180204cca65559'), 'title': \"Doughty says he's better than ever for Kings\", 'lede': 'All-star defenseman adding dimensions to game', 'date': '2018-01-12', 'time published': '00:00am'}\n",
      "{'_id': ObjectId('5a5968b7b1180204cca6555a'), 'title': 'Friday Four: All-Star rosters filled with first-timers', 'lede': \"NHL Network's Kevin Weekes also discusses Canadiens, Flames, Devils\", 'date': '2018-01-12', 'time published': '01:23am'}\n",
      "{'_id': ObjectId('5a5968b7b1180204cca6555b'), 'title': 'Flyers showing consistency, success on face-offs', 'lede': 'Versatility at center creating favorable matchups, proving advantageous', 'date': '2018-01-12', 'time published': '00:00am'}\n",
      "{'_id': ObjectId('5a5968b7b1180204cca6555c'), 'title': 'Devils happy with Hischier ahead of first game against Patrick, Flyers', 'lede': 'Chose center with No. 1 pick in 2017 Draft before Philadelphia took forward No. 2', 'date': '2018-01-12', 'time published': '12:00am'}\n",
      "{'_id': ObjectId('5a5968b7b1180204cca6555d'), 'title': 'Vasilevskiy favorite for Vezina Trophy', 'lede': 'Lightning goalie chosen for award by NHL.com panel at midseason', 'date': '2018-01-11', 'time published': '00:00am'}\n",
      "{'_id': ObjectId('5a5968b7b1180204cca6555e'), 'title': '2018 Draft diary: Brady Tkachuk', 'lede': 'Boston University forward talks about playing for U.S. at World Junior Championship, returning to college action', 'date': '2018-01-12', 'time published': '00:00am'}\n",
      "{'_id': ObjectId('5a5968b7b1180204cca6555f'), 'title': 'Eichel honored to represent Sabres at All-Star Game', 'lede': 'Center set to participate in event for first time', 'date': '2018-01-11', 'time published': '13:00pm'}\n",
      "{'_id': ObjectId('5a5968b7b1180204cca65560'), 'title': 'Host Lightning ready to put on show in All-Star Game', 'lede': \"Playing at home 'makes it that much better,' says Stamkos, who will join Kucherov, Hedman, Vasilevskiy on Atlantic squad\", 'date': '2018-01-11', 'time published': '22:07pm'}\n",
      "{'_id': ObjectId('5a5968b7b1180204cca65561'), 'title': \"Cup winner Kelly named to Canada men's team for 2018 PyeongChang Olympics\", 'lede': 'Champion with 2011 Bruins among 25 players selected', 'date': '2018-01-11', 'time published': '12:49am'}\n",
      "{'_id': ObjectId('5a5968b7b1180204cca65562'), 'title': \"Steve Thomas happy to tell son he'll represent Canada at Olympics\", 'lede': 'Christian Thomas among 25 players chosen for tournament next month', 'date': '2018-01-11', 'time published': '15:12pm'}\n",
      "{'_id': ObjectId('5a5968b7b1180204cca65563'), 'title': 'NHL reveals All-Star Game rosters', 'lede': 'Kucherov, Hedman, Vasilevskiy join Lightning captain Stamkos among players named', 'date': '2018-01-10', 'time published': '16:00pm'}\n"
     ]
    }
   ],
   "source": [
    "# Display the MongoDB records created above\n",
    "articles = db.articles.find()\n",
    "for article in articles:\n",
    "    print(article)"
   ]
  }
 ],
 "metadata": {
  "kernelspec": {
   "display_name": "Python 3",
   "language": "python",
   "name": "python3"
  },
  "language_info": {
   "codemirror_mode": {
    "name": "ipython",
    "version": 3
   },
   "file_extension": ".py",
   "mimetype": "text/x-python",
   "name": "python",
   "nbconvert_exporter": "python",
   "pygments_lexer": "ipython3",
   "version": "3.6.1"
  },
  "varInspector": {
   "cols": {
    "lenName": 16,
    "lenType": 16,
    "lenVar": 40
   },
   "kernels_config": {
    "python": {
     "delete_cmd_postfix": "",
     "delete_cmd_prefix": "del ",
     "library": "var_list.py",
     "varRefreshCmd": "print(var_dic_list())"
    },
    "r": {
     "delete_cmd_postfix": ") ",
     "delete_cmd_prefix": "rm(",
     "library": "var_list.r",
     "varRefreshCmd": "cat(var_dic_list()) "
    }
   },
   "types_to_exclude": [
    "module",
    "function",
    "builtin_function_or_method",
    "instance",
    "_Feature"
   ],
   "window_display": false
  }
 },
 "nbformat": 4,
 "nbformat_minor": 2
}
