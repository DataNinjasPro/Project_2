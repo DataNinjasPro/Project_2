{
 "cells": [
  {
   "cell_type": "code",
   "execution_count": 1,
   "metadata": {
    "collapsed": true
   },
   "outputs": [],
   "source": [
    "import time\n",
    "from bs4 import BeautifulSoup\n",
    "from splinter import Browser\n",
    "executable_path = {\"executable_path\": \"/usr/local/bin/chromedriver\"}\n",
    "browser = Browser(\"chrome\", **executable_path, headless=False)"
   ]
  },
  {
   "cell_type": "code",
   "execution_count": 2,
   "metadata": {
    "collapsed": true
   },
   "outputs": [],
   "source": [
    "# Visit the costa rica climate site\n",
    "url = \"https://weather-and-climate.com/average-monthly-Rainfall-Temperature-Sunshine-fahrenheit,san-jose,Costa-Rica\"\n",
    "browser.visit(url)\n",
    "time.sleep(1)"
   ]
  },
  {
   "cell_type": "code",
   "execution_count": 3,
   "metadata": {
    "collapsed": true
   },
   "outputs": [],
   "source": [
    "# Scrape page into soup\n",
    "html = browser.html\n",
    "soup = BeautifulSoup(html, 'html.parser')"
   ]
  },
  {
   "cell_type": "code",
   "execution_count": 4,
   "metadata": {},
   "outputs": [
    {
     "data": {
      "text/plain": [
       "<div class=\"forecast\">\n",
       "<span class=\"icon-back\"><img class=\"icon-image\" src=\"/images/forecast-icons/day/293.svg\"/></span>\n",
       "<div class=\"day-block\">\n",
       "<div class=\"day-of-week\">THU</div>\n",
       "<div class=\"label\">Patchy light rain</div>\n",
       "</div>\n",
       "<div class=\"temperature-block\">\n",
       "<div class=\"temperature fahrenheit\">65°F</div>\n",
       "<div class=\"temperature fahrenheit\"><span>59°F</span></div>\n",
       "</div>\n",
       "</div>"
      ]
     },
     "execution_count": 4,
     "metadata": {},
     "output_type": "execute_result"
    }
   ],
   "source": [
    "# What's wrong with this?\n",
    "# Answer - there are more than one forecasts on the page\n",
    "forecast = soup.find(\"div\", class_=\"forecast\")\n",
    "forecast"
   ]
  },
  {
   "cell_type": "code",
   "execution_count": 5,
   "metadata": {},
   "outputs": [
    {
     "data": {
      "text/plain": [
       "<div class=\"weather-forecasts todays-weather forecast\">\n",
       "<div class=\"temp-switch\">Show in\n",
       "     \n",
       "             <a href=\"https://weather-and-climate.com/average-monthly-min-max-Temperature,san-jose,Costa-Rica\">Celsius</a>\n",
       "</div>\n",
       "<div class=\"forecast\">\n",
       "<span class=\"icon-back\"><img class=\"icon-image\" src=\"/images/forecast-icons/day/293.svg\"/></span>\n",
       "<div class=\"label\">Patchy light rain</div>\n",
       "<div class=\"temperature-block\">\n",
       "<div class=\"temperature\"><span class=\"temp-max\">65°F</span> | <span class=\"temp-min\">59°F</span></div>\n",
       "<div class=\"snow-rain\"><span>0.567 in</span></div>\n",
       "</div>\n",
       "</div>\n",
       "</div>"
      ]
     },
     "execution_count": 5,
     "metadata": {},
     "output_type": "execute_result"
    }
   ],
   "source": [
    "# Find today's forecast\n",
    "forecast_today = soup.find(\"div\", class_=\"weather-forecasts todays-weather forecast\")\n",
    "forecast_today"
   ]
  },
  {
   "cell_type": "code",
   "execution_count": 6,
   "metadata": {},
   "outputs": [
    {
     "data": {
      "text/plain": [
       "'65°F'"
      ]
     },
     "execution_count": 6,
     "metadata": {},
     "output_type": "execute_result"
    }
   ],
   "source": [
    "# Print the max temp\n",
    "max_temp = forecast_today.find(\"span\", class_=\"temp-max\")\n",
    "max_temp.text"
   ]
  },
  {
   "cell_type": "code",
   "execution_count": 7,
   "metadata": {},
   "outputs": [
    {
     "data": {
      "text/plain": [
       "'59°F'"
      ]
     },
     "execution_count": 7,
     "metadata": {},
     "output_type": "execute_result"
    }
   ],
   "source": [
    "# Print the min temp\n",
    "min_temp = forecast_today.find(\"span\", class_=\"temp-min\")\n",
    "min_temp.text"
   ]
  },
  {
   "cell_type": "code",
   "execution_count": 8,
   "metadata": {},
   "outputs": [],
   "source": [
    "# BONUS\n",
    "# Get the 10 day forecast\n",
    "# Print the date and the temperature\n",
    "\n",
    "# Click the 10 Day Forecast button\n",
    "browser.find_by_css(\"aside#aside-todays a.outline-button\").click()\n",
    "time.sleep(1)"
   ]
  },
  {
   "cell_type": "code",
   "execution_count": 9,
   "metadata": {
    "collapsed": true
   },
   "outputs": [],
   "source": [
    "# Scrape the 10 Day Forecast page into soup\n",
    "html = browser.html\n",
    "soup = BeautifulSoup(html, 'html.parser')"
   ]
  },
  {
   "cell_type": "code",
   "execution_count": 10,
   "metadata": {},
   "outputs": [
    {
     "data": {
      "text/plain": [
       "2"
      ]
     },
     "execution_count": 10,
     "metadata": {},
     "output_type": "execute_result"
    }
   ],
   "source": [
    "# Find all of the forecasts\n",
    "# Note: The page is split into two 5 day groups\n",
    "weather_forecasts = soup.find_all(\"div\", class_=\"weather-forecasts\")\n",
    "len(weather_forecasts)"
   ]
  },
  {
   "cell_type": "code",
   "execution_count": 11,
   "metadata": {},
   "outputs": [
    {
     "name": "stdout",
     "output_type": "stream",
     "text": [
      "\n",
      "THU\n",
      "Jan18\n",
      "65°F | 59°F\n",
      "\n",
      "THU\n",
      "Jan18\n",
      "65°F | 59°F\n",
      "\n",
      "THU\n",
      "Jan18\n",
      "65°F | 59°F\n",
      "\n",
      "THU\n",
      "Jan18\n",
      "65°F | 59°F\n",
      "\n",
      "THU\n",
      "Jan18\n",
      "65°F | 59°F\n",
      "\n",
      "THU\n",
      "Jan18\n",
      "65°F | 59°F\n",
      "\n",
      "THU\n",
      "Jan18\n",
      "65°F | 59°F\n",
      "\n",
      "THU\n",
      "Jan18\n",
      "65°F | 59°F\n",
      "\n",
      "THU\n",
      "Jan18\n",
      "65°F | 59°F\n",
      "\n",
      "THU\n",
      "Jan18\n",
      "65°F | 59°F\n",
      "\n",
      "THU\n",
      "Jan18\n",
      "65°F | 59°F\n",
      "\n",
      "THU\n",
      "Jan18\n",
      "65°F | 59°F\n",
      "\n",
      "THU\n",
      "Jan18\n",
      "65°F | 59°F\n",
      "\n",
      "THU\n",
      "Jan18\n",
      "65°F | 59°F\n",
      "\n",
      "THU\n",
      "Jan18\n",
      "65°F | 59°F\n",
      "\n",
      "THU\n",
      "Jan18\n",
      "65°F | 59°F\n",
      "\n",
      "THU\n",
      "Jan18\n",
      "65°F | 59°F\n",
      "\n",
      "THU\n",
      "Jan18\n",
      "65°F | 59°F\n",
      "\n",
      "THU\n",
      "Jan18\n",
      "65°F | 59°F\n",
      "\n",
      "THU\n",
      "Jan18\n",
      "65°F | 59°F\n",
      "\n",
      "THU\n",
      "Jan18\n",
      "65°F | 59°F\n",
      "\n",
      "THU\n",
      "Jan18\n",
      "65°F | 59°F\n"
     ]
    }
   ],
   "source": [
    "# Loop through the 5 day forecasts\n",
    "for weather in weather_forecasts:\n",
    "    \n",
    "    # Grab all forecast blocks\n",
    "    forecasts = soup.find_all(\"div\", class_=\"forecast\")\n",
    "    \n",
    "    # Find the date and temperature for each forecast block\n",
    "    for forecast in forecasts:\n",
    "        date = soup.find(\"div\", class_=\"day-of-week\")\n",
    "        print(date.text.replace(\" \", \"\"))\n",
    "        \n",
    "        temp = soup.find(\"div\", class_=\"temperature\")\n",
    "        print(temp.text)"
   ]
  }
 ],
 "metadata": {
  "kernelspec": {
   "display_name": "Python 3",
   "language": "python",
   "name": "python3"
  },
  "language_info": {
   "codemirror_mode": {
    "name": "ipython",
    "version": 3
   },
   "file_extension": ".py",
   "mimetype": "text/x-python",
   "name": "python",
   "nbconvert_exporter": "python",
   "pygments_lexer": "ipython3",
   "version": "3.6.1"
  },
  "varInspector": {
   "cols": {
    "lenName": 16,
    "lenType": 16,
    "lenVar": 40
   },
   "kernels_config": {
    "python": {
     "delete_cmd_postfix": "",
     "delete_cmd_prefix": "del ",
     "library": "var_list.py",
     "varRefreshCmd": "print(var_dic_list())"
    },
    "r": {
     "delete_cmd_postfix": ") ",
     "delete_cmd_prefix": "rm(",
     "library": "var_list.r",
     "varRefreshCmd": "cat(var_dic_list()) "
    }
   },
   "types_to_exclude": [
    "module",
    "function",
    "builtin_function_or_method",
    "instance",
    "_Feature"
   ],
   "window_display": false
  }
 },
 "nbformat": 4,
 "nbformat_minor": 2
}
