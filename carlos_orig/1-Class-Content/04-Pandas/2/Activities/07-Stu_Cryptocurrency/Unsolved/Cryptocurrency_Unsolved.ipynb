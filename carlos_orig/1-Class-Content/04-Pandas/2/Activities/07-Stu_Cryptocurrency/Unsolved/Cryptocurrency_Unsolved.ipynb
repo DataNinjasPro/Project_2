{
 "cells": [
  {
   "cell_type": "code",
   "execution_count": null,
   "metadata": {
    "collapsed": true
   },
   "outputs": [],
   "source": [
    "# Import Dependencies\n",
    "# YOUR CODE HERE"
   ]
  },
  {
   "cell_type": "code",
   "execution_count": null,
   "metadata": {
    "collapsed": true
   },
   "outputs": [],
   "source": [
    "# Establish file paths \n",
    "# YOUR CODE HERE"
   ]
  },
  {
   "cell_type": "code",
   "execution_count": null,
   "metadata": {
    "collapsed": true
   },
   "outputs": [],
   "source": [
    "# Read each csv file into a dataframe\n",
    "# YOUR CODE HERE"
   ]
  },
  {
   "cell_type": "code",
   "execution_count": null,
   "metadata": {
    "collapsed": true
   },
   "outputs": [],
   "source": [
    "# Merge the two DataFrames together based on the Dates they share\n",
    "# YOUR CODE HERE"
   ]
  },
  {
   "cell_type": "code",
   "execution_count": null,
   "metadata": {
    "collapsed": true,
    "scrolled": true
   },
   "outputs": [],
   "source": [
    "# Rename columns so that they are differentiated\n",
    "crypto_df = crypto_df.rename(columns={\"Open_x\":\"Bitcoin Open\",\"High_x\":\"Bitcoin High\",\"Low_x\":\"Bitcoin Low\",\n",
    "                                      \"Close_x\":\"Bitcoin Close\",\"Volume_x\":\"Bitcoin Volume\",\"Market Cap_x\":\"Bitcoin Market Cap\"})\n",
    "\n",
    "crypto_df = crypto_df.rename(columns={\"Open_y\":\"Dash Open\",\"High_y\":\"Dash High\",\"Low_y\":\"Dash Low\",\n",
    "                                      \"Close_y\":\"Dash Close\",\"Volume_y\":\"Dash Volume\",\"Market Cap_y\":\"Dash Market Cap\"})\n",
    "\n",
    "crypto_df.head()"
   ]
  },
  {
   "cell_type": "code",
   "execution_count": null,
   "metadata": {
    "collapsed": true
   },
   "outputs": [],
   "source": [
    "# Calculate the best opening price for Bitcoin and Dash\n",
    "# YOUR CODE HERE"
   ]
  },
  {
   "cell_type": "code",
   "execution_count": null,
   "metadata": {
    "collapsed": true
   },
   "outputs": [],
   "source": [
    "# Calculate the best closing price for Bitcoin and Dash\n",
    "# YOUR CODE HERE"
   ]
  },
  {
   "cell_type": "code",
   "execution_count": null,
   "metadata": {
    "collapsed": true
   },
   "outputs": [],
   "source": [
    "# Calculate the total volume for Bitcoin and Dash\n",
    "# YOUR CODE HERE"
   ]
  },
  {
   "cell_type": "code",
   "execution_count": null,
   "metadata": {
    "collapsed": true
   },
   "outputs": [],
   "source": [
    "# Creating a summary DataFrame using above values\n",
    "# YOUR CODE HERE"
   ]
  }
 ],
 "metadata": {
  "kernelspec": {
   "display_name": "Python 3",
   "language": "python",
   "name": "python3"
  },
  "language_info": {
   "codemirror_mode": {
    "name": "ipython",
    "version": 3
   },
   "file_extension": ".py",
   "mimetype": "text/x-python",
   "name": "python",
   "nbconvert_exporter": "python",
   "pygments_lexer": "ipython3",
   "version": "3.6.1"
  }
 },
 "nbformat": 4,
 "nbformat_minor": 2
}
