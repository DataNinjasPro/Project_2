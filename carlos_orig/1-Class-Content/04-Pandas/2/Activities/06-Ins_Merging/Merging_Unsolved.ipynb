{
 "cells": [
  {
   "cell_type": "code",
   "execution_count": null,
   "metadata": {
    "collapsed": true
   },
   "outputs": [],
   "source": [
    "# Dependencies\n",
    "import pandas as pd"
   ]
  },
  {
   "cell_type": "code",
   "execution_count": null,
   "metadata": {},
   "outputs": [],
   "source": [
    "# Create DataFrames\n",
    "raw_data_items = {\n",
    "    \"customer_id\": [403, 112, 543, 999, 654],\n",
    "    \"item\": [\"soda\", \"chips\", \"TV\", \"Laptop\", \"Cooler\"],\n",
    "    \"cost\": [3.00, 4.50, 600, 900, 150]\n",
    "}\n",
    "items_pd = pd.DataFrame(raw_data_items, columns=[\"customer_id\", \"item\", \"cost\"])\n",
    "items_pd"
   ]
  },
  {
   "cell_type": "code",
   "execution_count": null,
   "metadata": {},
   "outputs": [],
   "source": [
    "raw_data_info = {\n",
    "    \"customer_id\": [112, 403, 999, 543, 123],\n",
    "    \"name\": [\"John\", \"Kelly\", \"Sam\", \"April\", \"Bobbo\"],\n",
    "    \"email\": [\"jman@gmail\", \"kelly@aol.com\", \"sports@school.edu\", \"April@yahoo.com\", \"HeyImBobbo@msn.com\"]\n",
    "}\n",
    "info_pd = pd.DataFrame(raw_data_info, columns=[\"customer_id\", \"name\", \"email\"])\n",
    "info_pd"
   ]
  },
  {
   "cell_type": "code",
   "execution_count": null,
   "metadata": {},
   "outputs": [],
   "source": [
    "# Merge two dataframes using an inner join"
   ]
  },
  {
   "cell_type": "code",
   "execution_count": null,
   "metadata": {},
   "outputs": [],
   "source": [
    "# Merge two dataframes using an outer join"
   ]
  },
  {
   "cell_type": "code",
   "execution_count": null,
   "metadata": {},
   "outputs": [],
   "source": [
    "# Merge two dataframes using a left join"
   ]
  },
  {
   "cell_type": "code",
   "execution_count": null,
   "metadata": {},
   "outputs": [],
   "source": [
    "# Merge two dataframes using a right join"
   ]
  }
 ],
 "metadata": {
  "anaconda-cloud": {},
  "kernelspec": {
   "display_name": "Python 3",
   "language": "python",
   "name": "python3"
  },
  "language_info": {
   "codemirror_mode": {
    "name": "ipython",
    "version": 3
   },
   "file_extension": ".py",
   "mimetype": "text/x-python",
   "name": "python",
   "nbconvert_exporter": "python",
   "pygments_lexer": "ipython3",
   "version": "3.6.1"
  }
 },
 "nbformat": 4,
 "nbformat_minor": 2
}
