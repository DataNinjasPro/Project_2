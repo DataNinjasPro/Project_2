{
 "cells": [
  {
   "cell_type": "code",
   "execution_count": 1,
   "metadata": {
    "collapsed": true
   },
   "outputs": [],
   "source": [
    "# Dependencies\n",
    "import tweepy\n",
    "import time\n",
    "\n",
    "# Twitter API Keys\n",
    "from config import (consumer_key, \n",
    "                    consumer_secret, \n",
    "                    access_token, \n",
    "                    access_token_secret)\n",
    "\n",
    "# Setup Tweepy API Authentication\n",
    "auth = tweepy.OAuthHandler(consumer_key, consumer_secret)\n",
    "auth.set_access_token(access_token, access_token_secret)\n",
    "api = tweepy.API(auth, parser=tweepy.parsers.JSONParser())"
   ]
  },
  {
   "cell_type": "code",
   "execution_count": 2,
   "metadata": {
    "collapsed": true
   },
   "outputs": [],
   "source": [
    "# user handle\n",
    "target_term = \"@DaDataBootcamp\""
   ]
  },
  {
   "cell_type": "code",
   "execution_count": 3,
   "metadata": {
    "collapsed": true
   },
   "outputs": [],
   "source": [
    "# Create Thank You Function\n",
    "def thank_you(last_id):\n",
    "    \"\"\"Tweets a Thank You message.\"\"\"\n",
    "\n",
    "    # Search for all tweets\n",
    "    public_tweets = api.search(target_term, count=100, result_type=\"recent\", since_id=last_id)\n",
    "\n",
    "    # First, check if there are any new tweets\n",
    "    if public_tweets[\"statuses\"]:\n",
    "        \n",
    "        # Loop through all tweets\n",
    "        for tweet in public_tweets[\"statuses\"]:\n",
    "\n",
    "            # Get ID and Author of most recent tweet directed to me\n",
    "            tweet_id = tweet[\"id\"]\n",
    "            tweet_author = tweet[\"user\"][\"screen_name\"]\n",
    "\n",
    "            # Print the tweet_id\n",
    "            print(tweet_id)\n",
    "\n",
    "            # Respond to tweet\n",
    "            api.update_status(\n",
    "                f\"Thank you @{tweet_author}!\",\n",
    "                in_reply_to_status_id=tweet_id)\n",
    "\n",
    "            # Print success message\n",
    "            print(\"Successful response, sir!\")\n",
    "\n",
    "            # Print message to signify complete cycle\n",
    "            print(\"We're done for now sir. I'll check again in 60 seconds.\")\n",
    "            print(tweet_id)\n",
    "            return tweet_id\n",
    "    else:\n",
    "        # If there are no new tweets then just return the last id\n",
    "        return last_id"
   ]
  },
  {
   "cell_type": "code",
   "execution_count": 4,
   "metadata": {},
   "outputs": [
    {
     "name": "stdout",
     "output_type": "stream",
     "text": [
      "Last None\n",
      "Last None\n",
      "Last None\n",
      "Last None\n",
      "Last None\n",
      "931699064021966848\n",
      "Successful response, sir!\n",
      "We're done for now sir. I'll check again in 60 seconds.\n",
      "931699064021966848\n",
      "Last 931699064021966848\n"
     ]
    },
    {
     "ename": "KeyboardInterrupt",
     "evalue": "",
     "output_type": "error",
     "traceback": [
      "\u001b[0;31m---------------------------------------------------------------------------\u001b[0m",
      "\u001b[0;31mKeyboardInterrupt\u001b[0m                         Traceback (most recent call last)",
      "\u001b[0;32m<ipython-input-4-5a0360aed743>\u001b[0m in \u001b[0;36m<module>\u001b[0;34m()\u001b[0m\n\u001b[1;32m      5\u001b[0m     \u001b[0mprint\u001b[0m\u001b[0;34m(\u001b[0m\u001b[0;34m\"Last\"\u001b[0m\u001b[0;34m,\u001b[0m \u001b[0mlast_id\u001b[0m\u001b[0;34m)\u001b[0m\u001b[0;34m\u001b[0m\u001b[0m\n\u001b[1;32m      6\u001b[0m     \u001b[0mlast_id\u001b[0m \u001b[0;34m=\u001b[0m \u001b[0mthank_you\u001b[0m\u001b[0;34m(\u001b[0m\u001b[0mlast_id\u001b[0m\u001b[0;34m)\u001b[0m\u001b[0;34m\u001b[0m\u001b[0m\n\u001b[0;32m----> 7\u001b[0;31m     \u001b[0mtime\u001b[0m\u001b[0;34m.\u001b[0m\u001b[0msleep\u001b[0m\u001b[0;34m(\u001b[0m\u001b[0;36m10\u001b[0m\u001b[0;34m)\u001b[0m\u001b[0;34m\u001b[0m\u001b[0m\n\u001b[0m",
      "\u001b[0;31mKeyboardInterrupt\u001b[0m: "
     ]
    }
   ],
   "source": [
    "last_id = None\n",
    "\n",
    "# Set timer\n",
    "t_end = time.time() + 60 * 5\n",
    "while time.time() < t_end:\n",
    "    print(\"Last\", last_id)\n",
    "    last_id = thank_you(last_id)\n",
    "    time.sleep(60)"
   ]
  }
 ],
 "metadata": {
  "kernelspec": {
   "display_name": "Python 3",
   "language": "python",
   "name": "python3"
  },
  "language_info": {
   "codemirror_mode": {
    "name": "ipython",
    "version": 3
   },
   "file_extension": ".py",
   "mimetype": "text/x-python",
   "name": "python",
   "nbconvert_exporter": "python",
   "pygments_lexer": "ipython3",
   "version": "3.6.1"
  },
  "varInspector": {
   "cols": {
    "lenName": 16,
    "lenType": 16,
    "lenVar": 40
   },
   "kernels_config": {
    "python": {
     "delete_cmd_postfix": "",
     "delete_cmd_prefix": "del ",
     "library": "var_list.py",
     "varRefreshCmd": "print(var_dic_list())"
    },
    "r": {
     "delete_cmd_postfix": ") ",
     "delete_cmd_prefix": "rm(",
     "library": "var_list.r",
     "varRefreshCmd": "cat(var_dic_list()) "
    }
   },
   "types_to_exclude": [
    "module",
    "function",
    "builtin_function_or_method",
    "instance",
    "_Feature"
   ],
   "window_display": false
  }
 },
 "nbformat": 4,
 "nbformat_minor": 2
}
