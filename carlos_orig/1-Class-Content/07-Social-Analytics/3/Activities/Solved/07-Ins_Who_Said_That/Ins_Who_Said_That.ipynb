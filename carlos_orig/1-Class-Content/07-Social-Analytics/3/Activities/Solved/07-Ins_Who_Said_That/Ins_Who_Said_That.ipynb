{
 "cells": [
  {
   "cell_type": "code",
   "execution_count": 1,
   "metadata": {
    "collapsed": true
   },
   "outputs": [],
   "source": [
    "# Dependencies\n",
    "import tweepy\n",
    "\n",
    "# Twitter API Keys\n",
    "from config import (consumer_key, \n",
    "                    consumer_secret, \n",
    "                    access_token, \n",
    "                    access_token_secret)\n",
    "\n",
    "# Setup Tweepy API Authentication\n",
    "auth = tweepy.OAuthHandler(consumer_key, consumer_secret)\n",
    "auth.set_access_token(access_token, access_token_secret)\n",
    "api = tweepy.API(auth, parser=tweepy.parsers.JSONParser())"
   ]
  },
  {
   "cell_type": "code",
   "execution_count": 2,
   "metadata": {},
   "outputs": [
    {
     "name": "stdout",
     "output_type": "stream",
     "text": [
      "Almost home from an amazing conference with @SolutionTree @SouthwestAir  #soluciones2017 #KidsDeserveIt https://t.co/kZuXP7oPz8\n",
      "Tweet Author:  lifeofmrsm\n",
      "\n",
      "Got it working again, not long after 10k feet. https://t.co/RIMvtTX7w4\n",
      "Tweet Author:  wcscully\n",
      "\n",
      "RT @forbitnluvromi: @Zendaya @SouthwestAir @fly_BUR You were so sweet last night..thanks for stopping and saying hi!! Hey we have a mutual…\n",
      "Tweet Author:  zendaua\n",
      "\n",
      "@SouthwestAir Can I get a refund for the wifi that worked for 3 minutes and then stopped working for the other 3 hours of the flight?\n",
      "Tweet Author:  theukeduke\n",
      "\n",
      "RT @forbitnluvromi: @Zendaya @SouthwestAir @fly_BUR You were so sweet last night..thanks for stopping and saying hi!! Hey we have a mutual…\n",
      "Tweet Author:  ZendayaMedia\n",
      "\n"
     ]
    }
   ],
   "source": [
    "# Target Term\n",
    "target_term = \"@SouthwestAir\"\n",
    "\n",
    "# Search for all tweets\n",
    "public_tweets = api.search(target_term, count=5, result_type=\"recent\", since_id=None)\n",
    "\n",
    "# Loop through all public_tweets\n",
    "for tweet in public_tweets[\"statuses\"]:\n",
    "\n",
    "    # Get ID and Author of most recent tweet\n",
    "    tweet_id = tweet[\"id\"]\n",
    "    tweet_author = tweet[\"user\"][\"screen_name\"]\n",
    "    tweet_text = tweet[\"text\"]\n",
    "\n",
    "    # Print Tweet Text and Tweet Author\n",
    "    print(tweet_id)\n",
    "    print(tweet_text)\n",
    "    print(\"Tweet Author: \", tweet_author)\n",
    "    print()"
   ]
  }
 ],
 "metadata": {
  "kernelspec": {
   "display_name": "Python 3",
   "language": "python",
   "name": "python3"
  },
  "language_info": {
   "codemirror_mode": {
    "name": "ipython",
    "version": 3
   },
   "file_extension": ".py",
   "mimetype": "text/x-python",
   "name": "python",
   "nbconvert_exporter": "python",
   "pygments_lexer": "ipython3",
   "version": "3.6.1"
  },
  "varInspector": {
   "cols": {
    "lenName": 16,
    "lenType": 16,
    "lenVar": 40
   },
   "kernels_config": {
    "python": {
     "delete_cmd_postfix": "",
     "delete_cmd_prefix": "del ",
     "library": "var_list.py",
     "varRefreshCmd": "print(var_dic_list())"
    },
    "r": {
     "delete_cmd_postfix": ") ",
     "delete_cmd_prefix": "rm(",
     "library": "var_list.r",
     "varRefreshCmd": "cat(var_dic_list()) "
    }
   },
   "types_to_exclude": [
    "module",
    "function",
    "builtin_function_or_method",
    "instance",
    "_Feature"
   ],
   "window_display": false
  }
 },
 "nbformat": 4,
 "nbformat_minor": 2
}
