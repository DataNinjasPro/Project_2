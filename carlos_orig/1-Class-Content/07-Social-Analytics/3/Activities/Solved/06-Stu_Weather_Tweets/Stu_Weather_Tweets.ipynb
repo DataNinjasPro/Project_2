{
 "cells": [
  {
   "cell_type": "code",
   "execution_count": 1,
   "metadata": {
    "collapsed": true
   },
   "outputs": [],
   "source": [
    "# Dependencies\n",
    "import tweepy\n",
    "import time\n",
    "import requests\n",
    "import datetime"
   ]
  },
  {
   "cell_type": "code",
   "execution_count": 2,
   "metadata": {
    "collapsed": true
   },
   "outputs": [],
   "source": [
    "# Twitter API Keys\n",
    "from config import (consumer_key, \n",
    "                    consumer_secret, \n",
    "                    access_token, \n",
    "                    access_token_secret,\n",
    "                    openweather_api_key)\n",
    "\n",
    "# Setup Tweepy API Authentication\n",
    "auth = tweepy.OAuthHandler(consumer_key, consumer_secret)\n",
    "auth.set_access_token(access_token, access_token_secret)\n",
    "api = tweepy.API(auth, parser=tweepy.parsers.JSONParser())"
   ]
  },
  {
   "cell_type": "code",
   "execution_count": 3,
   "metadata": {
    "collapsed": true
   },
   "outputs": [],
   "source": [
    "# Create a function that gets the weather in London and Tweets it\n",
    "def WeatherTweet():\n",
    "    \"\"\"Tweet the weather for London.\"\"\"\n",
    "\n",
    "    # Construct a Query URL for the OpenWeatherMap\n",
    "    url = \"http://api.openweathermap.org/data/2.5/weather\"\n",
    "    params = {\n",
    "        \"q\": \"London\",\n",
    "        \"units\": \"imperial\",\n",
    "        \"appid\": openweather_api_key\n",
    "    }\n",
    "\n",
    "    # Perform the API call to get the weather\n",
    "    weather_response = requests.get(url, params=params)\n",
    "    print(weather_response.url)\n",
    "    \n",
    "    weather_json = weather_response.json()\n",
    "    print(weather_json)\n",
    "\n",
    "    # Tweet the weather\n",
    "    current_datetime = datetime.datetime.now().strftime(\"%I:%M %p\")\n",
    "    weather = weather_json.get(\"main\").get(\"temp\")\n",
    "    \n",
    "    api.update_status(f\"London weather as of {current_datetime}: {weather}\")\n",
    "\n",
    "    # Print success message\n",
    "    print(\"Tweeted successfully, sir!\")"
   ]
  },
  {
   "cell_type": "code",
   "execution_count": null,
   "metadata": {
    "collapsed": true
   },
   "outputs": [],
   "source": [
    "# Set timer to run every 1 hour for 24 hours\n",
    "t_end = time.time() + 3600 * 24\n",
    "while(time.time() < t_end):\n",
    "    WeatherTweet()\n",
    "    time.sleep(3600)"
   ]
  }
 ],
 "metadata": {
  "kernelspec": {
   "display_name": "Python 3",
   "language": "python",
   "name": "python3"
  },
  "language_info": {
   "codemirror_mode": {
    "name": "ipython",
    "version": 3
   },
   "file_extension": ".py",
   "mimetype": "text/x-python",
   "name": "python",
   "nbconvert_exporter": "python",
   "pygments_lexer": "ipython3",
   "version": "3.6.1"
  },
  "varInspector": {
   "cols": {
    "lenName": 16,
    "lenType": 16,
    "lenVar": 40
   },
   "kernels_config": {
    "python": {
     "delete_cmd_postfix": "",
     "delete_cmd_prefix": "del ",
     "library": "var_list.py",
     "varRefreshCmd": "print(var_dic_list())"
    },
    "r": {
     "delete_cmd_postfix": ") ",
     "delete_cmd_prefix": "rm(",
     "library": "var_list.r",
     "varRefreshCmd": "cat(var_dic_list()) "
    }
   },
   "types_to_exclude": [
    "module",
    "function",
    "builtin_function_or_method",
    "instance",
    "_Feature"
   ],
   "window_display": false
  }
 },
 "nbformat": 4,
 "nbformat_minor": 2
}
