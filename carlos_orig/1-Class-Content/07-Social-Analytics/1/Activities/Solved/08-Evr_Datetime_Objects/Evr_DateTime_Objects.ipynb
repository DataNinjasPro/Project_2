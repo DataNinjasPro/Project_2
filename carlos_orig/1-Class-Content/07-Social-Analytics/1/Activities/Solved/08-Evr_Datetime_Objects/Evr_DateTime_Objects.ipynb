{
 "cells": [
  {
   "cell_type": "code",
   "execution_count": 1,
   "metadata": {
    "collapsed": true
   },
   "outputs": [],
   "source": [
    "# New Dependency\n",
    "from datetime import datetime"
   ]
  },
  {
   "cell_type": "code",
   "execution_count": 2,
   "metadata": {
    "collapsed": true
   },
   "outputs": [],
   "source": [
    "# Dependencies\n",
    "import tweepy\n",
    "import json\n",
    "import numpy as np\n",
    "import matplotlib.pyplot as plt\n",
    "from config import consumer_key, consumer_secret, access_token, access_token_secret\n",
    "\n",
    "# Setup Tweepy API Authentication\n",
    "auth = tweepy.OAuthHandler(consumer_key, consumer_secret)\n",
    "auth.set_access_token(access_token, access_token_secret)\n",
    "api = tweepy.API(auth, parser=tweepy.parsers.JSONParser())"
   ]
  },
  {
   "cell_type": "code",
   "execution_count": 3,
   "metadata": {},
   "outputs": [
    {
     "name": "stdout",
     "output_type": "stream",
     "text": [
      "Tue Nov 14 18:02:28 +0000 2017\n",
      "Tue Nov 14 17:55:20 +0000 2017\n",
      "Tue Nov 14 17:40:16 +0000 2017\n",
      "Tue Nov 14 17:29:07 +0000 2017\n",
      "Tue Nov 14 17:20:51 +0000 2017\n",
      "Tue Nov 14 17:06:54 +0000 2017\n",
      "Tue Nov 14 16:48:23 +0000 2017\n",
      "Tue Nov 14 16:30:07 +0000 2017\n",
      "Tue Nov 14 16:24:55 +0000 2017\n",
      "Tue Nov 14 16:23:17 +0000 2017\n",
      "Tue Nov 14 16:18:17 +0000 2017\n",
      "Tue Nov 14 16:15:58 +0000 2017\n",
      "Tue Nov 14 16:12:45 +0000 2017\n",
      "Tue Nov 14 16:09:33 +0000 2017\n",
      "Tue Nov 14 16:08:36 +0000 2017\n",
      "Tue Nov 14 16:04:33 +0000 2017\n",
      "Tue Nov 14 15:55:12 +0000 2017\n",
      "Tue Nov 14 15:50:47 +0000 2017\n",
      "Tue Nov 14 15:49:43 +0000 2017\n",
      "Tue Nov 14 15:48:40 +0000 2017\n"
     ]
    }
   ],
   "source": [
    "# Target User\n",
    "target_user = 'latimes'\n",
    "\n",
    "# Get all tweets from home feed\n",
    "public_tweets = api.user_timeline(target_user)\n",
    "\n",
    "# A list to hold tweet timestamps\n",
    "tweet_times = []\n",
    "\n",
    "# Loop through all tweets\n",
    "for tweet in public_tweets:\n",
    "    raw_time = tweet[\"created_at\"]\n",
    "    print(raw_time)\n",
    "    tweet_times.append(raw_time)"
   ]
  },
  {
   "cell_type": "code",
   "execution_count": 4,
   "metadata": {
    "collapsed": true
   },
   "outputs": [],
   "source": [
    "# Convert tweet timestamps to datetime objects that can be manipulated by\n",
    "# Python\n",
    "converted_timestamps = []\n",
    "for raw_time in tweet_times:\n",
    "    # https://docs.python.org/3/library/datetime.html#strftime-and-strptime-behavior\n",
    "    # http://strftime.org/\n",
    "    converted_time = datetime.strptime(raw_time, \"%a %b %d %H:%M:%S %z %Y\")\n",
    "    converted_timestamps.append(converted_time)"
   ]
  },
  {
   "cell_type": "code",
   "execution_count": 5,
   "metadata": {},
   "outputs": [
    {
     "name": "stdout",
     "output_type": "stream",
     "text": [
      "Tue Nov 14 18:02:28 +0000 2017\n",
      "Tue Nov 14 17:55:20 +0000 2017\n"
     ]
    }
   ],
   "source": [
    "print(tweet_times[0])\n",
    "print(tweet_times[1])"
   ]
  },
  {
   "cell_type": "code",
   "execution_count": 6,
   "metadata": {},
   "outputs": [
    {
     "name": "stdout",
     "output_type": "stream",
     "text": [
      "2017-11-14 18:02:28+00:00\n",
      "2017-11-14 17:55:20+00:00\n"
     ]
    }
   ],
   "source": [
    "print(converted_timestamps[0])\n",
    "print(converted_timestamps[1])"
   ]
  },
  {
   "cell_type": "code",
   "execution_count": 7,
   "metadata": {},
   "outputs": [
    {
     "name": "stdout",
     "output_type": "stream",
     "text": [
      "Time difference:  0:07:08\n",
      "seconds: 428\n"
     ]
    }
   ],
   "source": [
    "diff = converted_timestamps[0] - converted_timestamps[1]\n",
    "print(\"Time difference: \", diff)\n",
    "print('seconds: {}'.format(diff.seconds))"
   ]
  },
  {
   "cell_type": "code",
   "execution_count": 8,
   "metadata": {},
   "outputs": [
    {
     "name": "stdout",
     "output_type": "stream",
     "text": [
      "length of converted timestamps list: 20\n",
      "Avg. Hours Between Tweets: 0.11736842105263161\n"
     ]
    }
   ],
   "source": [
    "converted_length = len(converted_timestamps)\n",
    "print(f\"length of converted timestamps list: {converted_length}\")\n",
    "\n",
    "time_diffs = []\n",
    "\n",
    "for x in range(converted_length - 1):\n",
    "    time_diff = converted_timestamps[x] - converted_timestamps[x + 1]\n",
    "#     print(f'time diff: {time_diff}')\n",
    "#     print(f'time diff (in seconds): {time_diff.seconds}')\n",
    "#     print(f'time diff (in minutes): {time_diff.seconds / 60}')\n",
    "#     print(f'time diff (in hours): {time_diff.seconds / 3600}')\n",
    "\n",
    "    # convert time_diff to hours\n",
    "    time_diff = time_diff.seconds / 3600\n",
    "    time_diffs.append(time_diff)\n",
    "\n",
    "print(f\"Avg. Hours Between Tweets: {np.mean(time_diffs)}\")"
   ]
  }
 ],
 "metadata": {
  "kernelspec": {
   "display_name": "Python 3",
   "language": "python",
   "name": "python3"
  },
  "language_info": {
   "codemirror_mode": {
    "name": "ipython",
    "version": 3
   },
   "file_extension": ".py",
   "mimetype": "text/x-python",
   "name": "python",
   "nbconvert_exporter": "python",
   "pygments_lexer": "ipython3",
   "version": "3.6.1"
  },
  "varInspector": {
   "cols": {
    "lenName": 16,
    "lenType": 16,
    "lenVar": 40
   },
   "kernels_config": {
    "python": {
     "delete_cmd_postfix": "",
     "delete_cmd_prefix": "del ",
     "library": "var_list.py",
     "varRefreshCmd": "print(var_dic_list())"
    },
    "r": {
     "delete_cmd_postfix": ") ",
     "delete_cmd_prefix": "rm(",
     "library": "var_list.r",
     "varRefreshCmd": "cat(var_dic_list()) "
    }
   },
   "types_to_exclude": [
    "module",
    "function",
    "builtin_function_or_method",
    "instance",
    "_Feature"
   ],
   "window_display": false
  }
 },
 "nbformat": 4,
 "nbformat_minor": 2
}
