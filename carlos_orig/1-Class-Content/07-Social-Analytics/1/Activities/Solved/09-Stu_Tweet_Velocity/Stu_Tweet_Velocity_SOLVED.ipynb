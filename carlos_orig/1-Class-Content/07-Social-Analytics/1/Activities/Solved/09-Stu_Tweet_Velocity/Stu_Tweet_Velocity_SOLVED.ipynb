{
 "cells": [
  {
   "cell_type": "code",
   "execution_count": 1,
   "metadata": {
    "collapsed": true
   },
   "outputs": [],
   "source": [
    "# Dependencies\n",
    "import tweepy\n",
    "import json\n",
    "import numpy as np\n",
    "from datetime import datetime\n",
    "import matplotlib.pyplot as plt\n",
    "from config import consumer_key, consumer_secret, access_token, access_token_secret\n",
    "\n",
    "\n",
    "# Setup Tweepy API Authentication\n",
    "auth = tweepy.OAuthHandler(consumer_key, consumer_secret)\n",
    "auth.set_access_token(access_token, access_token_secret)\n",
    "api = tweepy.API(auth, parser=tweepy.parsers.JSONParser())"
   ]
  },
  {
   "cell_type": "code",
   "execution_count": 2,
   "metadata": {},
   "outputs": [
    {
     "name": "stdout",
     "output_type": "stream",
     "text": [
      "Tue Nov 14 17:39:54 +0000 2017\n",
      "Tue Nov 14 09:11:51 +0000 2017\n",
      "Tue Nov 14 08:07:29 +0000 2017\n",
      "Tue Nov 14 06:23:12 +0000 2017\n",
      "Tue Nov 14 05:26:45 +0000 2017\n",
      "Tue Nov 14 05:20:31 +0000 2017\n",
      "Tue Nov 14 05:08:19 +0000 2017\n",
      "Tue Nov 14 02:21:14 +0000 2017\n",
      "Mon Nov 13 15:06:01 +0000 2017\n",
      "Mon Nov 13 14:57:02 +0000 2017\n",
      "Mon Nov 13 12:33:24 +0000 2017\n",
      "Mon Nov 13 12:29:06 +0000 2017\n",
      "Sun Nov 12 14:29:22 +0000 2017\n",
      "Sun Nov 12 11:20:20 +0000 2017\n",
      "Sun Nov 12 10:21:06 +0000 2017\n",
      "Sun Nov 12 00:48:01 +0000 2017\n",
      "Sun Nov 12 00:43:36 +0000 2017\n",
      "Sun Nov 12 00:18:32 +0000 2017\n",
      "Sun Nov 12 00:16:05 +0000 2017\n",
      "Sat Nov 11 23:35:39 +0000 2017\n"
     ]
    },
    {
     "data": {
      "text/plain": [
       "500"
      ]
     },
     "execution_count": 2,
     "metadata": {},
     "output_type": "execute_result"
    }
   ],
   "source": [
    "# Target User\n",
    "target_user = \"realdonaldtrump\"\n",
    "\n",
    "# Create array to record all date-times of tweets\n",
    "tweet_times = []\n",
    "\n",
    "# Loop through 500 tweets\n",
    "for x in range(25):\n",
    "    \n",
    "    # Get all tweets from target user\n",
    "    public_tweets = api.user_timeline(target_user, page=x)\n",
    "\n",
    "    # Loop through all tweets\n",
    "    for tweet in public_tweets:\n",
    "        \n",
    "        # Store all tweet times into the array\n",
    "        tweet_times.append(tweet[\"created_at\"])\n",
    "        \n",
    "        # Print tweets for preview\n",
    "        if x % 100 == 0:\n",
    "            print(tweet[\"created_at\"])\n",
    "\n",
    "# Confirm tweet counts\n",
    "len(tweet_times)"
   ]
  },
  {
   "cell_type": "code",
   "execution_count": 3,
   "metadata": {
    "scrolled": false
   },
   "outputs": [
    {
     "name": "stdout",
     "output_type": "stream",
     "text": [
      "Tue Nov 14 17:39:54 +0000 2017\n",
      "2017-11-14 17:39:54+00:00\n",
      "Fri Nov 03 14:29:55 +0000 2017\n",
      "2017-11-03 14:29:55+00:00\n",
      "Thu Oct 26 13:45:45 +0000 2017\n",
      "2017-10-26 13:45:45+00:00\n",
      "Sun Oct 15 13:46:27 +0000 2017\n",
      "2017-10-15 13:46:27+00:00\n",
      "Thu Oct 05 10:31:24 +0000 2017\n",
      "2017-10-05 10:31:24+00:00\n"
     ]
    }
   ],
   "source": [
    "# Convert all tweet times into datetime objects\n",
    "tweet_time_objects = []\n",
    "\n",
    "# Add each datetime object into the array\n",
    "for x in range(len(tweet_times)):\n",
    "    tweet_datetime = datetime.strptime(tweet_times[x], \"%a %b %d %H:%M:%S %z %Y\")\n",
    "    tweet_time_objects.append(tweet_datetime)\n",
    "\n",
    "    # Preview that datetimes are matching\n",
    "    if x % 100 == 0:\n",
    "        print(tweet_times[x])\n",
    "        print(tweet_datetime)"
   ]
  },
  {
   "cell_type": "code",
   "execution_count": 4,
   "metadata": {
    "scrolled": false
   },
   "outputs": [
    {
     "name": "stdout",
     "output_type": "stream",
     "text": [
      "Avg. Hours Between Tweets: 2.413955132487197\n"
     ]
    }
   ],
   "source": [
    "# Calculate the time between tweets\n",
    "time_in_between = []\n",
    "\n",
    "# Calculate the time in between each tweet\n",
    "for x in range(len(tweet_time_objects)-1):\n",
    "    hrs_apart = ((tweet_time_objects[x] - tweet_time_objects[x+1]).seconds) / 3600\n",
    "    time_in_between.append(hrs_apart)\n",
    "\n",
    "# Hours Between Tweets\n",
    "print(f\"Avg. Hours Between Tweets: {np.mean(time_in_between)}\")"
   ]
  },
  {
   "cell_type": "code",
   "execution_count": 5,
   "metadata": {},
   "outputs": [
    {
     "data": {
      "text/plain": [
       "[8.4675,\n",
       " 1.0727777777777778,\n",
       " 1.7380555555555555,\n",
       " 0.9408333333333333,\n",
       " 0.10388888888888889,\n",
       " 0.20333333333333334,\n",
       " 2.7847222222222223,\n",
       " 11.25361111111111,\n",
       " 0.14972222222222223,\n",
       " 2.3938888888888887]"
      ]
     },
     "execution_count": 5,
     "metadata": {},
     "output_type": "execute_result"
    }
   ],
   "source": [
    "time_in_between[:10]"
   ]
  },
  {
   "cell_type": "code",
   "execution_count": 6,
   "metadata": {},
   "outputs": [
    {
     "data": {
      "image/png": "[encoded data removed]",
      "text/plain": [
       "<matplotlib.figure.Figure at 0x1187e02b0>"
      ]
     },
     "metadata": {},
     "output_type": "display_data"
    }
   ],
   "source": [
    "# Plot Time Between Tweets\n",
    "plt.plot(range(len(time_in_between)), time_in_between, marker=\"o\", \n",
    "               linewidth=0.25, alpha=0.8, color=\"r\")\n",
    "plt.xlim([0, len(time_in_between)])\n",
    "plt.ylabel(\"Hours Apart\")\n",
    "plt.xlabel(\"Tweets Ago\")\n",
    "plt.title(\"Tweet Velocity: %s\" % target_user)\n",
    "plt.show()"
   ]
  }
 ],
 "metadata": {
  "anaconda-cloud": {},
  "kernelspec": {
   "display_name": "Python 3",
   "language": "python",
   "name": "python3"
  },
  "language_info": {
   "codemirror_mode": {
    "name": "ipython",
    "version": 3
   },
   "file_extension": ".py",
   "mimetype": "text/x-python",
   "name": "python",
   "nbconvert_exporter": "python",
   "pygments_lexer": "ipython3",
   "version": "3.6.1"
  },
  "varInspector": {
   "cols": {
    "lenName": 16,
    "lenType": 16,
    "lenVar": 40
   },
   "kernels_config": {
    "python": {
     "delete_cmd_postfix": "",
     "delete_cmd_prefix": "del ",
     "library": "var_list.py",
     "varRefreshCmd": "print(var_dic_list())"
    },
    "r": {
     "delete_cmd_postfix": ") ",
     "delete_cmd_prefix": "rm(",
     "library": "var_list.r",
     "varRefreshCmd": "cat(var_dic_list()) "
    }
   },
   "types_to_exclude": [
    "module",
    "function",
    "builtin_function_or_method",
    "instance",
    "_Feature"
   ],
   "window_display": false
  }
 },
 "nbformat": 4,
 "nbformat_minor": 1
}
