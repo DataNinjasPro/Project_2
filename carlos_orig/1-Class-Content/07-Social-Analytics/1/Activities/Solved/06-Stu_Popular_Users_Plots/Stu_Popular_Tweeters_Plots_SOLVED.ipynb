{
 "cells": [
  {
   "cell_type": "code",
   "execution_count": 1,
   "metadata": {
    "collapsed": true
   },
   "outputs": [],
   "source": [
    "# Dependencies\n",
    "import tweepy\n",
    "import json\n",
    "import pandas as pd\n",
    "import matplotlib.pyplot as plt\n",
    "from config import consumer_key, consumer_secret, access_token, access_token_secret\n",
    "\n",
    "# Setup Tweepy API Authentication\n",
    "auth = tweepy.OAuthHandler(consumer_key, consumer_secret)\n",
    "auth.set_access_token(access_token, access_token_secret)\n",
    "api = tweepy.API(auth, parser=tweepy.parsers.JSONParser())"
   ]
  },
  {
   "cell_type": "code",
   "execution_count": 2,
   "metadata": {},
   "outputs": [
    {
     "name": "stdout",
     "output_type": "stream",
     "text": [
      "[{'code': 50, 'message': 'User not found.'}]\n"
     ]
    },
    {
     "data": {
      "text/html": [
       "<div>\n",
       "<style>\n",
       "    .dataframe thead tr:only-child th {\n",
       "        text-align: right;\n",
       "    }\n",
       "\n",
       "    .dataframe thead th {\n",
       "        text-align: left;\n",
       "    }\n",
       "\n",
       "    .dataframe tbody tr th {\n",
       "        vertical-align: top;\n",
       "    }\n",
       "</style>\n",
       "<table border=\"1\" class=\"dataframe\">\n",
       "  <thead>\n",
       "    <tr style=\"text-align: right;\">\n",
       "      <th></th>\n",
       "      <th>Screen Name</th>\n",
       "      <th>Real Name</th>\n",
       "      <th>Tweets</th>\n",
       "      <th>Followers</th>\n",
       "      <th>Following</th>\n",
       "      <th>Favorites Count</th>\n",
       "    </tr>\n",
       "  </thead>\n",
       "  <tbody>\n",
       "    <tr>\n",
       "      <th>0</th>\n",
       "      <td>katyperry</td>\n",
       "      <td>KATY PERRY</td>\n",
       "      <td>8734</td>\n",
       "      <td>106305402</td>\n",
       "      <td>204</td>\n",
       "      <td>5817</td>\n",
       "    </tr>\n",
       "    <tr>\n",
       "      <th>1</th>\n",
       "      <td>justinbieber</td>\n",
       "      <td>Justin Bieber</td>\n",
       "      <td>30648</td>\n",
       "      <td>103305486</td>\n",
       "      <td>315534</td>\n",
       "      <td>3449</td>\n",
       "    </tr>\n",
       "    <tr>\n",
       "      <th>2</th>\n",
       "      <td>BarackObama</td>\n",
       "      <td>Barack Obama</td>\n",
       "      <td>15479</td>\n",
       "      <td>96802369</td>\n",
       "      <td>626652</td>\n",
       "      <td>10</td>\n",
       "    </tr>\n",
       "    <tr>\n",
       "      <th>3</th>\n",
       "      <td>Taylorswift13</td>\n",
       "      <td>Taylor Swift</td>\n",
       "      <td>60</td>\n",
       "      <td>85619088</td>\n",
       "      <td>0</td>\n",
       "      <td>102</td>\n",
       "    </tr>\n",
       "    <tr>\n",
       "      <th>4</th>\n",
       "      <td>rihanna</td>\n",
       "      <td>Rihanna</td>\n",
       "      <td>10033</td>\n",
       "      <td>82223645</td>\n",
       "      <td>1131</td>\n",
       "      <td>1023</td>\n",
       "    </tr>\n",
       "  </tbody>\n",
       "</table>\n",
       "</div>"
      ],
      "text/plain": [
       "     Screen Name      Real Name Tweets  Followers Following Favorites Count\n",
       "0      katyperry     KATY PERRY   8734  106305402       204            5817\n",
       "1   justinbieber  Justin Bieber  30648  103305486    315534            3449\n",
       "2    BarackObama   Barack Obama  15479   96802369    626652              10\n",
       "3  Taylorswift13   Taylor Swift     60   85619088         0             102\n",
       "4        rihanna        Rihanna  10033   82223645      1131            1023"
      ]
     },
     "execution_count": 2,
     "metadata": {},
     "output_type": "execute_result"
    }
   ],
   "source": [
    "# Import CSV file into Data Frame\n",
    "popular_tweeters = pd.read_csv(\"PopularAccounts.csv\", dtype=str)\n",
    "\n",
    "# Iterate through DataFrame\n",
    "for index, row in popular_tweeters.iterrows():\n",
    "\n",
    "    try:\n",
    "        # Grab the username\n",
    "        target_user = row[\"Screen Name\"]\n",
    "        # print(target_user)\n",
    "\n",
    "        # Use the username with the Twitter API get_user\n",
    "        user_account = api.get_user(target_user)\n",
    "        user_real_name = user_account[\"name\"]\n",
    "\n",
    "        # Get the specific column data\n",
    "        user_tweets = user_account[\"statuses_count\"]\n",
    "        user_followers = user_account[\"followers_count\"]\n",
    "        user_following = user_account[\"friends_count\"]\n",
    "        user_favorites = user_account[\"favourites_count\"]\n",
    "\n",
    "        # Replace the row information for each\n",
    "        popular_tweeters.set_value(index, \"Real Name\", user_real_name)\n",
    "        popular_tweeters.set_value(index, \"Tweets\", user_tweets)\n",
    "        popular_tweeters.set_value(index, \"Followers\", user_followers)\n",
    "        popular_tweeters.set_value(index, \"Following\", user_following)\n",
    "        popular_tweeters.set_value(index, \"Favorites Count\", user_favorites)\n",
    "    except tweepy.TweepError as e:\n",
    "        print(e)\n",
    "    \n",
    "# Export the new CSV\n",
    "popular_tweeters.to_csv(\"PopularAcounts_New.csv\", index=False)\n",
    "\n",
    "# View the DataFrame\n",
    "popular_tweeters.head()"
   ]
  },
  {
   "cell_type": "code",
   "execution_count": 3,
   "metadata": {},
   "outputs": [
    {
     "data": {
      "text/html": [
       "<div>\n",
       "<style>\n",
       "    .dataframe thead tr:only-child th {\n",
       "        text-align: right;\n",
       "    }\n",
       "\n",
       "    .dataframe thead th {\n",
       "        text-align: left;\n",
       "    }\n",
       "\n",
       "    .dataframe tbody tr th {\n",
       "        vertical-align: top;\n",
       "    }\n",
       "</style>\n",
       "<table border=\"1\" class=\"dataframe\">\n",
       "  <thead>\n",
       "    <tr style=\"text-align: right;\">\n",
       "      <th></th>\n",
       "      <th>Average Favorites Count</th>\n",
       "      <th>Average Follower Count</th>\n",
       "      <th>Average Following Count</th>\n",
       "      <th>Average Tweet Count</th>\n",
       "    </tr>\n",
       "  </thead>\n",
       "  <tbody>\n",
       "    <tr>\n",
       "      <th>0</th>\n",
       "      <td>1772.734694</td>\n",
       "      <td>4.800850e+07</td>\n",
       "      <td>32704.326531</td>\n",
       "      <td>30713.612245</td>\n",
       "    </tr>\n",
       "  </tbody>\n",
       "</table>\n",
       "</div>"
      ],
      "text/plain": [
       "   Average Favorites Count  Average Follower Count  Average Following Count  \\\n",
       "0              1772.734694            4.800850e+07             32704.326531   \n",
       "\n",
       "   Average Tweet Count  \n",
       "0         30713.612245  "
      ]
     },
     "execution_count": 3,
     "metadata": {},
     "output_type": "execute_result"
    }
   ],
   "source": [
    "# Calculate Averages\n",
    "average_tweet_count = popular_tweeters[\"Tweets\"].mean()\n",
    "average_followers = popular_tweeters[\"Followers\"].mean()\n",
    "average_following_count = popular_tweeters[\"Following\"].mean()\n",
    "average_favorites_count = popular_tweeters[\"Favorites Count\"].mean()\n",
    "\n",
    "# Create DataFrame\n",
    "averages = {\"Average Tweet Count\": average_tweet_count, \n",
    "            \"Average Follower Count\": average_followers, \n",
    "            \"Average Following Count\": average_following_count,\n",
    "            \"Average Favorites Count\": average_favorites_count}\n",
    "\n",
    "# Create a Dataframe of hte averages\n",
    "pd.DataFrame(averages, index=[0])"
   ]
  },
  {
   "cell_type": "code",
   "execution_count": 4,
   "metadata": {},
   "outputs": [
    {
     "data": {
      "text/html": [
       "<div>\n",
       "<style>\n",
       "    .dataframe thead tr:only-child th {\n",
       "        text-align: right;\n",
       "    }\n",
       "\n",
       "    .dataframe thead th {\n",
       "        text-align: left;\n",
       "    }\n",
       "\n",
       "    .dataframe tbody tr th {\n",
       "        vertical-align: top;\n",
       "    }\n",
       "</style>\n",
       "<table border=\"1\" class=\"dataframe\">\n",
       "  <thead>\n",
       "    <tr style=\"text-align: right;\">\n",
       "      <th></th>\n",
       "      <th>Screen Name</th>\n",
       "      <th>Real Name</th>\n",
       "      <th>Tweets</th>\n",
       "      <th>Followers</th>\n",
       "      <th>Following</th>\n",
       "      <th>Favorites Count</th>\n",
       "    </tr>\n",
       "  </thead>\n",
       "  <tbody>\n",
       "    <tr>\n",
       "      <th>0</th>\n",
       "      <td>katyperry</td>\n",
       "      <td>KATY PERRY</td>\n",
       "      <td>8734</td>\n",
       "      <td>106305402</td>\n",
       "      <td>204</td>\n",
       "      <td>5817</td>\n",
       "    </tr>\n",
       "    <tr>\n",
       "      <th>1</th>\n",
       "      <td>justinbieber</td>\n",
       "      <td>Justin Bieber</td>\n",
       "      <td>30648</td>\n",
       "      <td>103305486</td>\n",
       "      <td>315534</td>\n",
       "      <td>3449</td>\n",
       "    </tr>\n",
       "    <tr>\n",
       "      <th>2</th>\n",
       "      <td>BarackObama</td>\n",
       "      <td>Barack Obama</td>\n",
       "      <td>15479</td>\n",
       "      <td>96802369</td>\n",
       "      <td>626652</td>\n",
       "      <td>10</td>\n",
       "    </tr>\n",
       "    <tr>\n",
       "      <th>3</th>\n",
       "      <td>Taylorswift13</td>\n",
       "      <td>Taylor Swift</td>\n",
       "      <td>60</td>\n",
       "      <td>85619088</td>\n",
       "      <td>0</td>\n",
       "      <td>102</td>\n",
       "    </tr>\n",
       "    <tr>\n",
       "      <th>4</th>\n",
       "      <td>rihanna</td>\n",
       "      <td>Rihanna</td>\n",
       "      <td>10033</td>\n",
       "      <td>82223645</td>\n",
       "      <td>1131</td>\n",
       "      <td>1023</td>\n",
       "    </tr>\n",
       "  </tbody>\n",
       "</table>\n",
       "</div>"
      ],
      "text/plain": [
       "     Screen Name      Real Name Tweets  Followers Following Favorites Count\n",
       "0      katyperry     KATY PERRY   8734  106305402       204            5817\n",
       "1   justinbieber  Justin Bieber  30648  103305486    315534            3449\n",
       "2    BarackObama   Barack Obama  15479   96802369    626652              10\n",
       "3  Taylorswift13   Taylor Swift     60   85619088         0             102\n",
       "4        rihanna        Rihanna  10033   82223645      1131            1023"
      ]
     },
     "execution_count": 4,
     "metadata": {},
     "output_type": "execute_result"
    }
   ],
   "source": [
    "# Extract Tweet Counts and Follower Counts\n",
    "tweet_counts = popular_tweeters[\"Tweets\"]\n",
    "follower_counts = popular_tweeters[\"Followers\"]\n",
    "following_counts = popular_tweeters[\"Following\"]\n",
    "favorite_counts = popular_tweeters[\"Favorites Count\"]\n",
    "\n",
    "# Easy preview of headers\n",
    "popular_tweeters.head()"
   ]
  },
  {
   "cell_type": "code",
   "execution_count": 5,
   "metadata": {},
   "outputs": [
    {
     "data": {
      "image/png": "[encoded data removed]",
      "text/plain": [
       "<matplotlib.figure.Figure at 0x1071200f0>"
      ]
     },
     "metadata": {},
     "output_type": "display_data"
    }
   ],
   "source": [
    "plt.scatter(tweet_counts, follower_counts)\n",
    "plt.xlabel(\"Tweet Counts\")\n",
    "plt.ylabel(\"Follower Counts\")\n",
    "plt.title(\"Tweet Counts vs Follower Counts\")\n",
    "plt.show()"
   ]
  },
  {
   "cell_type": "code",
   "execution_count": 6,
   "metadata": {},
   "outputs": [
    {
     "data": {
      "image/png": "[encoded data removed]",
      "text/plain": [
       "<matplotlib.figure.Figure at 0x114b18ef0>"
      ]
     },
     "metadata": {},
     "output_type": "display_data"
    }
   ],
   "source": [
    "plt.scatter(following_counts, follower_counts)\n",
    "plt.xlabel(\"Number Following\")\n",
    "plt.ylabel(\"Follower Counts\")\n",
    "plt.title(\"Tweet Counts vs Following Counts\")\n",
    "plt.show()"
   ]
  },
  {
   "cell_type": "code",
   "execution_count": 7,
   "metadata": {},
   "outputs": [
    {
     "data": {
      "image/png": "[encoded data removed]",
      "text/plain": [
       "<matplotlib.figure.Figure at 0x114c7be10>"
      ]
     },
     "metadata": {},
     "output_type": "display_data"
    }
   ],
   "source": [
    "plt.scatter(favorite_counts, follower_counts)\n",
    "plt.xlabel(\"Number of Favorites\")\n",
    "plt.ylabel(\"Follower Counts\")\n",
    "plt.title(\"Tweet Counts vs Favorite Counts\")\n",
    "plt.show()"
   ]
  }
 ],
 "metadata": {
  "anaconda-cloud": {},
  "kernelspec": {
   "display_name": "Python 3",
   "language": "python",
   "name": "python3"
  },
  "language_info": {
   "codemirror_mode": {
    "name": "ipython",
    "version": 3
   },
   "file_extension": ".py",
   "mimetype": "text/x-python",
   "name": "python",
   "nbconvert_exporter": "python",
   "pygments_lexer": "ipython3",
   "version": "3.6.1"
  },
  "varInspector": {
   "cols": {
    "lenName": 16,
    "lenType": 16,
    "lenVar": 40
   },
   "kernels_config": {
    "python": {
     "delete_cmd_postfix": "",
     "delete_cmd_prefix": "del ",
     "library": "var_list.py",
     "varRefreshCmd": "print(var_dic_list())"
    },
    "r": {
     "delete_cmd_postfix": ") ",
     "delete_cmd_prefix": "rm(",
     "library": "var_list.r",
     "varRefreshCmd": "cat(var_dic_list()) "
    }
   },
   "types_to_exclude": [
    "module",
    "function",
    "builtin_function_or_method",
    "instance",
    "_Feature"
   ],
   "window_display": false
  }
 },
 "nbformat": 4,
 "nbformat_minor": 1
}
