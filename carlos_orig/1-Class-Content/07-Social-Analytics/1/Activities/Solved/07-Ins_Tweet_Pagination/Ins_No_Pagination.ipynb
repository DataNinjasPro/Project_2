{
 "cells": [
  {
   "cell_type": "code",
   "execution_count": 1,
   "metadata": {
    "collapsed": true
   },
   "outputs": [],
   "source": [
    "# Dependencies\n",
    "import tweepy\n",
    "import json\n",
    "from config import consumer_key, consumer_secret, access_token, access_token_secret\n",
    "\n",
    "# Setup Tweepy API Authentication\n",
    "auth = tweepy.OAuthHandler(consumer_key, consumer_secret)\n",
    "auth.set_access_token(access_token, access_token_secret)\n",
    "api = tweepy.API(auth, parser=tweepy.parsers.JSONParser())"
   ]
  },
  {
   "cell_type": "code",
   "execution_count": 2,
   "metadata": {},
   "outputs": [
    {
     "name": "stdout",
     "output_type": "stream",
     "text": [
      "@duncan3ross We will in the v near future. In the meantime the data was released under FOI and should be available… https://t.co/c5TAbU21ul\n",
      "Brexit vote creates surge in  EU citizenship applications by @PorcelinaD https://t.co/hd7PjorLpc\n",
      "Ethnic minorities face huge disparities compared to white  counterparts according to government stats #raceaudit… https://t.co/tSOpPjhHOK\n",
      "Male speakers outnumbered women by two-to-one on fringe panels at the Conservative party conference.… https://t.co/D7PfOHiRhg\n",
      "Number of working mothers in England rises by a million in 20 years by @sweale &amp; @caelainnbarr https://t.co/IJBDUaHVtQ\n",
      "Revealed: Britain's most powerful elite is 97% white https://t.co/eZljvora9C\n",
      "What is the average debt where you live? #ddj https://t.co/3Nd50FRYgw\n",
      "How death has changed over 100 years in Britain https://t.co/UJMmhe1eis\n",
      "Exclusive: Leaked data reveals UK companies at centre of secret $3bn Azerbaijani money laundering &amp; lobbying scheme https://t.co/1F1Zjvpu0j\n",
      "#Harvey https://t.co/hRsWe7M5du\n",
      "Revealed: England's fire services lose a quarter of safety officers since 2011 https://t.co/EeRE60ypkH\n",
      "Gender pay gap widening at one in four government bodies https://t.co/tYsXSN9zlB @caelainnbarr @GuardianAnushka https://t.co/y0hI6kDnDh\n",
      "Names of wealthy empty-home owners in Grenfell borough revealed https://t.co/h0EPikMCVF\n",
      "An insight into the work we do on the data team at the Guardian #ddj https://t.co/FAdNTuIoTU\n",
      "Two-thirds of Europeans believe EU should take hard line on Brexit – poll #ddj https://t.co/0nibrag2XT\n",
      "Young voters, class and turnout: how Britain voted in 2017 #ddj https://t.co/N13qVc1HlS\n",
      "Grenfell Tower is in one of the most deprived areas in England, where poverty and wealth exist side by side #ddj https://t.co/YlDDvRQ5av\n",
      "How did Theresa May's gamble fail? A data-driven take on where the Conservative vote was lost #ddj https://t.co/o6EXEi8AlS\n",
      "Theresa May spent more than half of election campaign in Labour-held seats by @PorcelinaD https://t.co/C6ZfsQfhVd\n",
      "A guide to inequality indexes – from wealth distribution to the World Happiness Report – &amp; how countries rank… https://t.co/kY1ZrRYK8z\n"
     ]
    }
   ],
   "source": [
    "# Target User\n",
    "target_user = \"GuardianData\"\n",
    "\n",
    "# Tweet Texts\n",
    "tweet_texts = []\n",
    "\n",
    "# Get all tweets from home feed\n",
    "public_tweets = api.user_timeline(target_user)\n",
    "\n",
    "# Loop through all tweets\n",
    "for tweet in public_tweets:\n",
    "\n",
    "    # Print Tweet\n",
    "    print(tweet[\"text\"])\n",
    "\n",
    "    # Store Tweet in Array\n",
    "    tweet_texts.append(tweet[\"text\"])"
   ]
  },
  {
   "cell_type": "code",
   "execution_count": 3,
   "metadata": {},
   "outputs": [
    {
     "name": "stdout",
     "output_type": "stream",
     "text": [
      "Tweet Count: 20\n"
     ]
    }
   ],
   "source": [
    "# Print the Tweet Count\n",
    "print(f\"Tweet Count: {len(tweet_texts)}\")"
   ]
  }
 ],
 "metadata": {
  "kernelspec": {
   "display_name": "Python 3",
   "language": "python",
   "name": "python3"
  },
  "language_info": {
   "codemirror_mode": {
    "name": "ipython",
    "version": 3
   },
   "file_extension": ".py",
   "mimetype": "text/x-python",
   "name": "python",
   "nbconvert_exporter": "python",
   "pygments_lexer": "ipython3",
   "version": "3.6.1"
  },
  "varInspector": {
   "cols": {
    "lenName": 16,
    "lenType": 16,
    "lenVar": 40
   },
   "kernels_config": {
    "python": {
     "delete_cmd_postfix": "",
     "delete_cmd_prefix": "del ",
     "library": "var_list.py",
     "varRefreshCmd": "print(var_dic_list())"
    },
    "r": {
     "delete_cmd_postfix": ") ",
     "delete_cmd_prefix": "rm(",
     "library": "var_list.r",
     "varRefreshCmd": "cat(var_dic_list()) "
    }
   },
   "types_to_exclude": [
    "module",
    "function",
    "builtin_function_or_method",
    "instance",
    "_Feature"
   ],
   "window_display": false
  }
 },
 "nbformat": 4,
 "nbformat_minor": 2
}
