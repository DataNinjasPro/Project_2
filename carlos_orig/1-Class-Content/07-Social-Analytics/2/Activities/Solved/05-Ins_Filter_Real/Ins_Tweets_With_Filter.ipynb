{
 "cells": [
  {
   "cell_type": "code",
   "execution_count": 1,
   "metadata": {
    "collapsed": true
   },
   "outputs": [],
   "source": [
    "# Dependencies\n",
    "import tweepy\n",
    "import numpy as np\n",
    "\n",
    "# Import and Initialize Sentiment Analyzer\n",
    "from vaderSentiment.vaderSentiment import SentimentIntensityAnalyzer\n",
    "analyzer = SentimentIntensityAnalyzer()\n",
    "\n",
    "# Twitter API Keys\n",
    "from config import (consumer_key, \n",
    "                    consumer_secret, \n",
    "                    access_token, \n",
    "                    access_token_secret)\n",
    "\n",
    "# Setup Tweepy API Authentication\n",
    "auth = tweepy.OAuthHandler(consumer_key, consumer_secret)\n",
    "auth.set_access_token(access_token, access_token_secret)\n",
    "api = tweepy.API(auth, parser=tweepy.parsers.JSONParser())"
   ]
  },
  {
   "cell_type": "code",
   "execution_count": 2,
   "metadata": {},
   "outputs": [
    {
     "name": "stdout",
     "output_type": "stream",
     "text": [
      "ErnestoMorenos\n",
      "RT @ABC: Watch Star Wars​ fans freak out when Mark Hamill— Luke Skywalker himself—crashes Disneyland​'s Star Tours ride. https://t.co/NqR53…\n",
      "\n",
      "DrabbleComic\n",
      "RT @ABC: Watch Star Wars​ fans freak out when Mark Hamill— Luke Skywalker himself—crashes Disneyland​'s Star Tours ride. https://t.co/NqR53…\n",
      "\n",
      "Vishant_Reuben\n",
      "Where do you think the force is strongest @rohan_42 ?\n",
      "\n",
      "On Mark Hamill \n",
      "\n",
      "@pusillanimix\n",
      "\n",
      "OpalJad\n",
      "@Contact_MollyH Why does the number of followers matter to you? :D \n",
      "I don't understand. Do you know Mark Hamill's wife?\n",
      "\n",
      "NoelleDoran1\n",
      "@HamillHimself I agree with you Mark Hamill no animal should be slaughtered that’s cruelty to animals I’m animal lo… https://t.co/6BunItvQEF\n",
      "\n",
      "Call_Me_Mera\n",
      "RT @AntonPhillipe: @HamillHimself @KCJoynerTFS @DisneyStudios @starwars One can only hope to come across something in life that makes them…\n",
      "\n",
      "JayR217\n",
      "@HamillHimself Mark Hamill is the hero we need in these times\n",
      "\n",
      "sadler_katy\n",
      "RT @AntonPhillipe: @HamillHimself @KCJoynerTFS @DisneyStudios @starwars One can only hope to come across something in life that makes them…\n",
      "\n",
      "chrisascencio6\n",
      "RT @ComicBookNOW: AVENGERS' Sebastian Stan Would Like To Play STAR WARS' Luke Skywalker https://t.co/0wZ3jfmO5u https://t.co/gxHEzSxrw9\n",
      "\n",
      "7WorldWidenews\n",
      "Star Wars​ fans freak out when Mark Hamill— Luke Skywalker himself—crashes Disneyland​'s Star: https://t.co/XyPpjuG3zU via\n",
      "\n",
      "elaine576384\n",
      "RT @ComicBookNOW: AVENGERS' Sebastian Stan Would Like To Play STAR WARS' Luke Skywalker https://t.co/0wZ3jfmO5u https://t.co/gxHEzSxrw9\n",
      "\n",
      "JoeyNasab\n",
      "RT @HamillHimself: Experience a world of dreams &amp; imagination in a film unlike ANYTHING you've seen before! My personal favorite movie of t…\n",
      "\n",
      "MattStuckerTV\n",
      "How cool is @HamillHimself?? I'm jealous I wasn't on that ride.\n",
      "\n",
      "https://t.co/BzddFgzUxW\n",
      "\n",
      "HamillShe\n",
      "RT @hamill_france: https://t.co/u82Ib6Gqb1 OMG,I went on it last April,would have died to see @HamillHimself there! What a surprise!!! 😁#St…\n",
      "\n",
      "chairdoorman\n",
      "RT @StarWarsIT: La Forza scorre potente in Mark Hamill mentre sorprende gli ospiti dello Star Tours Disneyland... https://t.co/aeK8OFmNiA\n",
      "\n",
      "GrabthePopcorn1\n",
      "Watch Mark Hamill Surprise Star Tours Fans https://t.co/U4Gjt08dRs\n",
      "\n",
      "UnderratedJedi\n",
      "RT @SWTweets: The first time Mark Hamill visited the Millennium Falcon while filming #TheLastJedi was with his family. He became so overwhe…\n",
      "\n",
      "rockstar_mp\n",
      "RT @AntonPhillipe: @HamillHimself @KCJoynerTFS @DisneyStudios @starwars One can only hope to come across something in life that makes them…\n",
      "\n",
      "abov22\n",
      "RT @AntonPhillipe: @HamillHimself @KCJoynerTFS @DisneyStudios @starwars One can only hope to come across something in life that makes them…\n",
      "\n",
      "HGVL\n",
      "RT @ABC: Watch Star Wars​ fans freak out when Mark Hamill— Luke Skywalker himself—crashes Disneyland​'s Star Tours ride. https://t.co/NqR53…\n",
      "\n",
      "DavidisHulk83\n",
      "RT @ComicBookNOW: AVENGERS' Sebastian Stan Would Like To Play STAR WARS' Luke Skywalker https://t.co/0wZ3jfmO5u https://t.co/gxHEzSxrw9\n",
      "\n",
      "MeliCafeChicago\n",
      "@JakesTakes @fox32news @HamillHimself @starwars BB-8.... Mark Hamill.... Fiancé....We think your Christmas card is… https://t.co/qkC5zO3YYy\n",
      "\n",
      "NettaSalvato\n",
      "RT @ABC: Watch Star Wars​ fans freak out when Mark Hamill— Luke Skywalker himself—crashes Disneyland​'s Star Tours ride. https://t.co/NqR53…\n",
      "\n",
      "JennFlemming0\n",
      "RT @ABC7: Mark Hamill surprises fans on Disneyland ride https://t.co/hp3DcMr8Ya https://t.co/GvinjoRIaj\n",
      "\n",
      "Bombomdazucar\n",
      "RT @ComicBookNOW: ICYMI: AVENGERS' Sebastian Stan Would Like To Play STAR WARS' Luke Skywalker https://t.co/0wZ3jfmO5u https://t.co/yNfVw7T…\n",
      "\n",
      "jonathankam604\n",
      "RT @AntonPhillipe: @HamillHimself @KCJoynerTFS @DisneyStudios @starwars One can only hope to come across something in life that makes them…\n",
      "\n",
      "JillV373\n",
      "@MarkClarkster I MUST have this! Where is it?\n",
      "Do they have one of just Mark Hamill? 😂 \n",
      "I would buy like 87 Hamill o… https://t.co/mVQ2du9POu\n",
      "\n",
      "usasteve2000\n",
      "@Sethrogen Seth Rogen Mark Hamill and Hillary Clinton should should all suck each other's dicks.\n",
      "\n",
      "_valenzuela28\n",
      "Mark Hamill was at Disneyland wtf ...\n",
      "\n",
      "usasteve2000\n",
      "@starwars I liked it better when Hollywood forgot who Mark Hamill was for the last 30 years.\n",
      "\n",
      "coolVFX\n",
      "Mark Hamill surprises Star Wars fans on Disney's Star Tours ride pre show... https://t.co/pjkANqzocJ\n",
      "\n",
      "raw_nipromo\n",
      "#musicnews Watch Mark Hamill surprise ‘Star Wars’ fans at Disneyland https://t.co/SZf3QMWAbH #nipromoatl https://t.co/aTWMbg9KUN\n",
      "\n"
     ]
    }
   ],
   "source": [
    "# Search for People Tweeting about Mark Hamill\n",
    "search_term = \"Mark Hamill\"\n",
    "\n",
    "# \"Real Person\" Filters\n",
    "min_tweets = 5\n",
    "max_tweets = 10000\n",
    "max_followers = 2500\n",
    "max_following = 2500\n",
    "lang = \"en\"\n",
    "\n",
    "# Array of Eligible Tweets\n",
    "tweet_array = []\n",
    "\n",
    "# Retrieve 100 tweets\n",
    "public_tweets = api.search(search_term, count=100)\n",
    "\n",
    "# Print Tweets\n",
    "for tweet in public_tweets[\"statuses\"]:\n",
    "\n",
    "    # Use filters to check if user meets conditions\n",
    "    if (tweet[\"user\"][\"followers_count\"] < max_followers and\n",
    "        tweet[\"user\"][\"statuses_count\"] > min_tweets and\n",
    "        tweet[\"user\"][\"statuses_count\"] < max_tweets and\n",
    "        tweet[\"user\"][\"friends_count\"] < max_following and\n",
    "        tweet[\"user\"][\"lang\"] == lang):\n",
    "\n",
    "        # If so add the user's tweet to the array (for future use)\n",
    "        tweet_array.append(tweet[\"text\"])\n",
    "\n",
    "        # Print the username\n",
    "        print(tweet[\"user\"][\"screen_name\"])\n",
    "\n",
    "        # Print the tweet text\n",
    "        print(tweet[\"text\"])\n",
    "        print()"
   ]
  },
  {
   "cell_type": "code",
   "execution_count": 3,
   "metadata": {},
   "outputs": [
    {
     "name": "stdout",
     "output_type": "stream",
     "text": [
      "32\n"
     ]
    }
   ],
   "source": [
    "# Print total number of \"Real\" tweets\n",
    "print(len(tweet_array))"
   ]
  }
 ],
 "metadata": {
  "kernelspec": {
   "display_name": "Python 3",
   "language": "python",
   "name": "python3"
  },
  "language_info": {
   "codemirror_mode": {
    "name": "ipython",
    "version": 3
   },
   "file_extension": ".py",
   "mimetype": "text/x-python",
   "name": "python",
   "nbconvert_exporter": "python",
   "pygments_lexer": "ipython3",
   "version": "3.6.1"
  },
  "varInspector": {
   "cols": {
    "lenName": 16,
    "lenType": 16,
    "lenVar": 40
   },
   "kernels_config": {
    "python": {
     "delete_cmd_postfix": "",
     "delete_cmd_prefix": "del ",
     "library": "var_list.py",
     "varRefreshCmd": "print(var_dic_list())"
    },
    "r": {
     "delete_cmd_postfix": ") ",
     "delete_cmd_prefix": "rm(",
     "library": "var_list.r",
     "varRefreshCmd": "cat(var_dic_list()) "
    }
   },
   "types_to_exclude": [
    "module",
    "function",
    "builtin_function_or_method",
    "instance",
    "_Feature"
   ],
   "window_display": false
  }
 },
 "nbformat": 4,
 "nbformat_minor": 2
}
