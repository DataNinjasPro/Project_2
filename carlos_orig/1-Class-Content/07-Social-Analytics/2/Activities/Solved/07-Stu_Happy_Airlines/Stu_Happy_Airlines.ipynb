{
  "cells": [
    {
      "cell_type": "code",
      "source": [
        "# Dependencies\n",
        "import tweepy\n",
        "import numpy as np\n",
        "\n",
        "# Import and Initialize Sentiment Analyzer\n",
        "from vaderSentiment.vaderSentiment import SentimentIntensityAnalyzer\n",
        "analyzer = SentimentIntensityAnalyzer()\n",
        "\n",
        "# Twitter API Keys\n",
        "from config import (consumer_key, \n",
        "                    consumer_secret, \n",
        "                    access_token, \n",
        "                    access_token_secret)\n",
        "\n",
        "# Setup Tweepy API Authentication\n",
        "auth = tweepy.OAuthHandler(consumer_key, consumer_secret)\n",
        "auth.set_access_token(access_token, access_token_secret)\n",
        "api = tweepy.API(auth, parser=tweepy.parsers.JSONParser())"
      ],
      "outputs": [],
      "execution_count": 1,
      "metadata": {
        "collapsed": true
      }
    },
    {
      "cell_type": "code",
      "source": [
        "# Target Search Term\n",
        "target_terms = (\"@SouthwestAir\", \"@AmericanAir\", \"@SpiritAirlines\",\n",
        "                \"@Virginatlantic\", \"@Delta\", \"@AlaskaAir\", \"@KLM\")\n",
        "\n",
        "# \"Real Person\" Filters\n",
        "min_tweets = 5\n",
        "max_tweets = 10000\n",
        "max_followers = 2500\n",
        "max_following = 2500\n",
        "lang = \"en\"\n",
        "\n",
        "# Array to hold sentiment\n",
        "sentiment_array = []\n",
        "\n",
        "# Loop through all target users\n",
        "for target in target_terms:\n",
        "\n",
        "    # Variable for holding the oldest tweet\n",
        "    oldest_tweet = None\n",
        "\n",
        "    # Variables for holding sentiments\n",
        "    compound_list = []\n",
        "    positive_list = []\n",
        "    negative_list = []\n",
        "    neutral_list = []\n",
        "\n",
        "    # Loop through 10 times\n",
        "    for x in range(10):\n",
        "\n",
        "        # Run search around each tweet\n",
        "        public_tweets = api.search(\n",
        "            target, count=100, result_type=\"recent\", max_id=oldest_tweet)\n",
        "\n",
        "        # Loop through all tweets\n",
        "        for tweet in public_tweets[\"statuses\"]:\n",
        "\n",
        "            # Use filters to check if user meets conditions\n",
        "            if (tweet[\"user\"][\"followers_count\"] < max_followers\n",
        "                and tweet[\"user\"][\"statuses_count\"] > min_tweets\n",
        "                and tweet[\"user\"][\"statuses_count\"] < max_tweets\n",
        "                and tweet[\"user\"][\"friends_count\"] < max_following\n",
        "                and tweet[\"user\"][\"lang\"] == lang):\n",
        "\n",
        "                # Run Vader Analysis on each tweet\n",
        "                results = analyzer.polarity_scores(tweet[\"text\"])\n",
        "                compound = results[\"compound\"]\n",
        "                pos = results[\"pos\"]\n",
        "                neu = results[\"neu\"]\n",
        "                neg = results[\"neg\"]\n",
        "\n",
        "                # Add each value to the appropriate array\n",
        "                compound_list.append(compound)\n",
        "                positive_list.append(pos)\n",
        "                negative_list.append(neg)\n",
        "                neutral_list.append(neu)\n",
        "                \n",
        "                # Set the new oldest_tweet value\n",
        "                oldest_tweet = int(tweet[\"id_str\"]) - 1\n",
        "\n",
        "    # Store the Average Sentiments\n",
        "    sentiment = {\n",
        "        \"User\": target,\n",
        "        \"Compound\": np.mean(compound_list),\n",
        "        \"Positive\": np.mean(positive_list),\n",
        "        \"Negative\": np.mean(negative_list),\n",
        "        \"Neutral\": np.mean(neutral_list),\n",
        "        \"Tweet Count\": len(compound_list)\n",
        "    }\n",
        "\n",
        "    # Print the Sentiments\n",
        "    print(sentiment)\n",
        "    print()"
      ],
      "outputs": [
        {
          "output_type": "stream",
          "name": "stdout",
          "text": [
            "{'User': '@SouthwestAir', 'Compound': 0.19493321917808218, 'Positive': 0.14038356164383561, 'Neutral': 0.047453767123287673, 'Negative': 0.81215924657534244, 'Tweet Count': 584}\n",
            "\n",
            "{'User': '@AmericanAir', 'Compound': -0.015134334763948501, 'Positive': 0.12478326180257511, 'Neutral': 0.094723175965665235, 'Negative': 0.78064592274678102, 'Tweet Count': 466}\n",
            "\n",
            "{'User': '@SpiritAirlines', 'Compound': 0.071986641929499079, 'Positive': 0.10910018552875697, 'Neutral': 0.076291280148422999, 'Negative': 0.81458441558441552, 'Tweet Count': 539}\n",
            "\n",
            "{'User': '@Virginatlantic', 'Compound': 0.18866035714285714, 'Positive': 0.13496785714285714, 'Neutral': 0.039151785714285715, 'Negative': 0.82588392857142856, 'Tweet Count': 560}\n",
            "\n",
            "{'User': '@Delta', 'Compound': 0.22639082892416229, 'Positive': 0.14664550264550266, 'Neutral': 0.047546737213403877, 'Negative': 0.80581305114638446, 'Tweet Count': 567}\n",
            "\n",
            "{'User': '@AlaskaAir', 'Compound': 0.24840355805243447, 'Positive': 0.15569288389513108, 'Neutral': 0.026964419475655432, 'Negative': 0.81733707865168548, 'Tweet Count': 534}\n",
            "\n",
            "{'User': '@KLM', 'Compound': 0.079158620689655179, 'Positive': 0.087002873563218397, 'Neutral': 0.047396551724137932, 'Negative': 0.86559482758620698, 'Tweet Count': 348}\n",
            "\n"
          ]
        }
      ],
      "execution_count": 2,
      "metadata": {}
    }
  ],
  "metadata": {
    "kernelspec": {
      "name": "python3",
      "language": "python",
      "display_name": "Python 3"
    },
    "language_info": {
      "name": "python",
      "version": "3.6.1",
      "mimetype": "text/x-python",
      "codemirror_mode": {
        "name": "ipython",
        "version": 3
      },
      "pygments_lexer": "ipython3",
      "nbconvert_exporter": "python",
      "file_extension": ".py"
    },
    "varInspector": {
      "cols": {
        "lenName": 16,
        "lenType": 16,
        "lenVar": 40
      },
      "kernels_config": {
        "python": {
          "delete_cmd_postfix": "",
          "delete_cmd_prefix": "del ",
          "library": "var_list.py",
          "varRefreshCmd": "print(var_dic_list())"
        },
        "r": {
          "delete_cmd_postfix": ") ",
          "delete_cmd_prefix": "rm(",
          "library": "var_list.r",
          "varRefreshCmd": "cat(var_dic_list()) "
        }
      },
      "types_to_exclude": [
        "module",
        "function",
        "builtin_function_or_method",
        "instance",
        "_Feature"
      ],
      "window_display": false
    },
    "kernel_info": {
      "name": "python3"
    },
    "nteract": {
      "version": "0.3.4"
    }
  },
  "nbformat": 4,
  "nbformat_minor": 2
}