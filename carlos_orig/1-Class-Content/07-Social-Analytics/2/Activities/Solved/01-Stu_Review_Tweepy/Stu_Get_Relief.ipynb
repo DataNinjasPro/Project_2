{
 "cells": [
  {
   "cell_type": "code",
   "execution_count": 1,
   "metadata": {
    "collapsed": true
   },
   "outputs": [],
   "source": [
    "# Dependencies\n",
    "import tweepy\n",
    "import json\n",
    "from config import (consumer_key, consumer_secret, \n",
    "                    access_token, access_token_secret)\n",
    "\n",
    "# Setup Tweepy API Authentication\n",
    "auth = tweepy.OAuthHandler(consumer_key, consumer_secret)\n",
    "auth.set_access_token(access_token, access_token_secret)\n",
    "api = tweepy.API(auth, parser=tweepy.parsers.JSONParser())"
   ]
  },
  {
   "cell_type": "code",
   "execution_count": 2,
   "metadata": {},
   "outputs": [
    {
     "name": "stdout",
     "output_type": "stream",
     "text": [
      "Tip 1: Learn How To Manage Daily Stress With This Useful Advice - https://t.co/CpXnMDSBuP\n",
      "Tip 2: Learn How To Manage Daily Stress With This Useful Advice - https://t.co/CpXnMDSBuP\n",
      "Tip 3: Learn How To Manage Daily Stress With This Useful Advice - https://t.co/CpXnMDSBuP\n",
      "Tip 4: Learn How To Manage Daily Stress With This Useful Advice - https://t.co/CpXnMDSBuP\n",
      "Tip 5: Learn How To Manage Daily Stress With This Useful Advice - https://t.co/CpXnMDSBuP\n",
      "Tip 6: Learn How To Manage Daily Stress With This Useful Advice - https://t.co/CpXnMEacmn\n",
      "Tip 7: Learn How To Manage Daily Stress With This Useful Advice - https://t.co/CpXnMDSBuP\n",
      "Tip 8: What Are The Symptoms And Signs Of Out Of Control Stress? - https://t.co/tS60pnkMpi\n",
      "Tip 9: Stress And How It Affects Your Body - https://t.co/DpVY52iPGR\n",
      "Tip 10: Tips On Reducing Stress To Prevent Those Wrinkles - https://t.co/m1BPy7tviB\n",
      "Tip 11: Handle Stress Now With These Easy Tips - https://t.co/LS2evUbLtf\n",
      "Tip 12: Having Trouble With Stress Then Try These Tips - https://t.co/UkHHNJERKs\n",
      "Tip 13: Learn To Manage Stress With These Tips - https://t.co/fBSJPn1L6P\n",
      "Tip 14: Use The Following Tips For Stress-Relief - https://t.co/jCLiJfGvIb\n",
      "Tip 15: Want To Eliminate Your Stress? Keep Reading - https://t.co/rPXqTtuoo3\n",
      "Tip 16: Don't Let Stress Consume Your Life - https://t.co/VMKUPVVTk5\n",
      "Tip 17: How To Deal With Stress The Right Way - https://t.co/r7qsSLt1Ar\n",
      "Tip 18: Quick Ways To Help You Manage Your Stress - https://t.co/araCLPvwfB\n",
      "Tip 19: Don't Let Stress Consume Your Life - https://t.co/4lHorGU2pA\n",
      "Tip 20: How To Get Free Of Stress - https://t.co/okQCoBHbiN\n",
      "Tip 21: Learn How To Manage Daily Stress With This Useful Advice - https://t.co/CpXnMDSBuP\n",
      "Tip 22: Learn How To Manage Daily Stress With This Useful Advice - https://t.co/CpXnMDSBuP\n",
      "Tip 23: Learn How To Manage Daily Stress With This Useful Advice - https://t.co/CpXnMDSBuP\n",
      "Tip 24: Learn How To Manage Daily Stress With This Useful Advice - https://t.co/CpXnMDSBuP\n",
      "Tip 25: Learn How To Manage Daily Stress With This Useful Advice - https://t.co/CpXnMDSBuP\n",
      "Tip 26: Learn How To Manage Daily Stress With This Useful Advice - https://t.co/CpXnMEacmn\n",
      "Tip 27: Learn How To Manage Daily Stress With This Useful Advice - https://t.co/CpXnMDSBuP\n",
      "Tip 28: What Are The Symptoms And Signs Of Out Of Control Stress? - https://t.co/tS60pnkMpi\n",
      "Tip 29: Stress And How It Affects Your Body - https://t.co/DpVY52iPGR\n",
      "Tip 30: Tips On Reducing Stress To Prevent Those Wrinkles - https://t.co/m1BPy7tviB\n",
      "Tip 31: Handle Stress Now With These Easy Tips - https://t.co/LS2evUbLtf\n",
      "Tip 32: Having Trouble With Stress Then Try These Tips - https://t.co/UkHHNJERKs\n",
      "Tip 33: Learn To Manage Stress With These Tips - https://t.co/fBSJPn1L6P\n",
      "Tip 34: Use The Following Tips For Stress-Relief - https://t.co/jCLiJfGvIb\n",
      "Tip 35: Want To Eliminate Your Stress? Keep Reading - https://t.co/rPXqTtuoo3\n",
      "Tip 36: Don't Let Stress Consume Your Life - https://t.co/VMKUPVVTk5\n",
      "Tip 37: How To Deal With Stress The Right Way - https://t.co/r7qsSLt1Ar\n",
      "Tip 38: Quick Ways To Help You Manage Your Stress - https://t.co/araCLPvwfB\n",
      "Tip 39: Don't Let Stress Consume Your Life - https://t.co/4lHorGU2pA\n",
      "Tip 40: How To Get Free Of Stress - https://t.co/okQCoBHbiN\n",
      "Tip 41: Learn How To Manage Daily Stress With This Useful Advice - https://t.co/CpXnMDSBuP\n",
      "Tip 42: Learn How To Manage Daily Stress With This Useful Advice - https://t.co/CpXnMDSBuP\n",
      "Tip 43: Learn How To Manage Daily Stress With This Useful Advice - https://t.co/CpXnMDSBuP\n",
      "Tip 44: Learn How To Manage Daily Stress With This Useful Advice - https://t.co/CpXnMDSBuP\n",
      "Tip 45: Learn How To Manage Daily Stress With This Useful Advice - https://t.co/CpXnMDSBuP\n",
      "Tip 46: Learn How To Manage Daily Stress With This Useful Advice - https://t.co/CpXnMEacmn\n",
      "Tip 47: Learn How To Manage Daily Stress With This Useful Advice - https://t.co/CpXnMDSBuP\n",
      "Tip 48: What Are The Symptoms And Signs Of Out Of Control Stress? - https://t.co/tS60pnkMpi\n",
      "Tip 49: Stress And How It Affects Your Body - https://t.co/DpVY52iPGR\n",
      "Tip 50: Tips On Reducing Stress To Prevent Those Wrinkles - https://t.co/m1BPy7tviB\n",
      "Tip 51: Handle Stress Now With These Easy Tips - https://t.co/LS2evUbLtf\n",
      "Tip 52: Having Trouble With Stress Then Try These Tips - https://t.co/UkHHNJERKs\n",
      "Tip 53: Learn To Manage Stress With These Tips - https://t.co/fBSJPn1L6P\n",
      "Tip 54: Use The Following Tips For Stress-Relief - https://t.co/jCLiJfGvIb\n",
      "Tip 55: Want To Eliminate Your Stress? Keep Reading - https://t.co/rPXqTtuoo3\n",
      "Tip 56: Don't Let Stress Consume Your Life - https://t.co/VMKUPVVTk5\n",
      "Tip 57: How To Deal With Stress The Right Way - https://t.co/r7qsSLt1Ar\n",
      "Tip 58: Quick Ways To Help You Manage Your Stress - https://t.co/araCLPvwfB\n",
      "Tip 59: Don't Let Stress Consume Your Life - https://t.co/4lHorGU2pA\n",
      "Tip 60: How To Get Free Of Stress - https://t.co/okQCoBHbiN\n",
      "Tip 61: Learn How To Manage Daily Stress With This Useful Advice - https://t.co/CpXnMDSBuP\n",
      "Tip 62: Learn How To Manage Daily Stress With This Useful Advice - https://t.co/CpXnMDSBuP\n",
      "Tip 63: Learn How To Manage Daily Stress With This Useful Advice - https://t.co/CpXnMDSBuP\n",
      "Tip 64: Learn How To Manage Daily Stress With This Useful Advice - https://t.co/CpXnMDSBuP\n",
      "Tip 65: Learn How To Manage Daily Stress With This Useful Advice - https://t.co/CpXnMDSBuP\n",
      "Tip 66: Learn How To Manage Daily Stress With This Useful Advice - https://t.co/CpXnMEacmn\n",
      "Tip 67: Learn How To Manage Daily Stress With This Useful Advice - https://t.co/CpXnMDSBuP\n",
      "Tip 68: What Are The Symptoms And Signs Of Out Of Control Stress? - https://t.co/tS60pnkMpi\n",
      "Tip 69: Stress And How It Affects Your Body - https://t.co/DpVY52iPGR\n",
      "Tip 70: Tips On Reducing Stress To Prevent Those Wrinkles - https://t.co/m1BPy7tviB\n",
      "Tip 71: Handle Stress Now With These Easy Tips - https://t.co/LS2evUbLtf\n",
      "Tip 72: Having Trouble With Stress Then Try These Tips - https://t.co/UkHHNJERKs\n",
      "Tip 73: Learn To Manage Stress With These Tips - https://t.co/fBSJPn1L6P\n",
      "Tip 74: Use The Following Tips For Stress-Relief - https://t.co/jCLiJfGvIb\n",
      "Tip 75: Want To Eliminate Your Stress? Keep Reading - https://t.co/rPXqTtuoo3\n",
      "Tip 76: Don't Let Stress Consume Your Life - https://t.co/VMKUPVVTk5\n",
      "Tip 77: How To Deal With Stress The Right Way - https://t.co/r7qsSLt1Ar\n",
      "Tip 78: Quick Ways To Help You Manage Your Stress - https://t.co/araCLPvwfB\n",
      "Tip 79: Don't Let Stress Consume Your Life - https://t.co/4lHorGU2pA\n",
      "Tip 80: How To Get Free Of Stress - https://t.co/okQCoBHbiN\n",
      "Tip 81: Learn How To Manage Daily Stress With This Useful Advice - https://t.co/CpXnMDSBuP\n",
      "Tip 82: Learn How To Manage Daily Stress With This Useful Advice - https://t.co/CpXnMDSBuP\n",
      "Tip 83: Learn How To Manage Daily Stress With This Useful Advice - https://t.co/CpXnMDSBuP\n",
      "Tip 84: Learn How To Manage Daily Stress With This Useful Advice - https://t.co/CpXnMDSBuP\n",
      "Tip 85: Learn How To Manage Daily Stress With This Useful Advice - https://t.co/CpXnMDSBuP\n",
      "Tip 86: Learn How To Manage Daily Stress With This Useful Advice - https://t.co/CpXnMEacmn\n",
      "Tip 87: Learn How To Manage Daily Stress With This Useful Advice - https://t.co/CpXnMDSBuP\n",
      "Tip 88: What Are The Symptoms And Signs Of Out Of Control Stress? - https://t.co/tS60pnkMpi\n",
      "Tip 89: Stress And How It Affects Your Body - https://t.co/DpVY52iPGR\n",
      "Tip 90: Tips On Reducing Stress To Prevent Those Wrinkles - https://t.co/m1BPy7tviB\n",
      "Tip 91: Handle Stress Now With These Easy Tips - https://t.co/LS2evUbLtf\n",
      "Tip 92: Having Trouble With Stress Then Try These Tips - https://t.co/UkHHNJERKs\n",
      "Tip 93: Learn To Manage Stress With These Tips - https://t.co/fBSJPn1L6P\n",
      "Tip 94: Use The Following Tips For Stress-Relief - https://t.co/jCLiJfGvIb\n",
      "Tip 95: Want To Eliminate Your Stress? Keep Reading - https://t.co/rPXqTtuoo3\n",
      "Tip 96: Don't Let Stress Consume Your Life - https://t.co/VMKUPVVTk5\n",
      "Tip 97: How To Deal With Stress The Right Way - https://t.co/r7qsSLt1Ar\n",
      "Tip 98: Quick Ways To Help You Manage Your Stress - https://t.co/araCLPvwfB\n",
      "Tip 99: Don't Let Stress Consume Your Life - https://t.co/4lHorGU2pA\n",
      "Tip 100: How To Get Free Of Stress - https://t.co/okQCoBHbiN\n"
     ]
    }
   ],
   "source": [
    "# Target User Account\n",
    "target_user = \"@Stress_tips123\"\n",
    "\n",
    "# Counter\n",
    "counter = 1\n",
    "\n",
    "# Loop through 5 pages of tweets (total 100 tweets)\n",
    "for x in range(5):\n",
    "\n",
    "    # Get all tweets from home feed\n",
    "    public_tweets = api.user_timeline(target_user, page=x)\n",
    "\n",
    "    # Loop through all tweets\n",
    "    for tweet in public_tweets:\n",
    "\n",
    "        # Print Tweets\n",
    "        print(f'Tip {counter}: {tweet[\"text\"]}')\n",
    "\n",
    "        # Add to Counter\n",
    "        counter = counter + 1"
   ]
  }
 ],
 "metadata": {
  "kernelspec": {
   "display_name": "Python 3",
   "language": "python",
   "name": "python3"
  },
  "language_info": {
   "codemirror_mode": {
    "name": "ipython",
    "version": 3
   },
   "file_extension": ".py",
   "mimetype": "text/x-python",
   "name": "python",
   "nbconvert_exporter": "python",
   "pygments_lexer": "ipython3",
   "version": "3.6.1"
  },
  "varInspector": {
   "cols": {
    "lenName": 16,
    "lenType": 16,
    "lenVar": 40
   },
   "kernels_config": {
    "python": {
     "delete_cmd_postfix": "",
     "delete_cmd_prefix": "del ",
     "library": "var_list.py",
     "varRefreshCmd": "print(var_dic_list())"
    },
    "r": {
     "delete_cmd_postfix": ") ",
     "delete_cmd_prefix": "rm(",
     "library": "var_list.r",
     "varRefreshCmd": "cat(var_dic_list()) "
    }
   },
   "types_to_exclude": [
    "module",
    "function",
    "builtin_function_or_method",
    "instance",
    "_Feature"
   ],
   "window_display": false
  }
 },
 "nbformat": 4,
 "nbformat_minor": 2
}
