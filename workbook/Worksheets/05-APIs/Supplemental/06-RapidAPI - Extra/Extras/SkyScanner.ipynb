{
 "cells": [
  {
   "cell_type": "code",
   "execution_count": 3,
   "metadata": {},
   "outputs": [],
   "source": [
    "import requests\n",
    "import json\n",
    "import csv\n",
    "import pandas as pd\n",
    "import numpy as np\n",
    "from tqdm import tqdm_notebook as tqdm"
   ]
  },
  {
   "cell_type": "code",
   "execution_count": 2,
   "metadata": {},
   "outputs": [
    {
     "output_type": "execute_result",
     "data": {
      "text/plain": [
       "    Rank      City Name               Country\n",
       "0      1      Hong Kong                 China\n",
       "1      2        Bangkok              Thailand\n",
       "2      3         London               England\n",
       "3      4      Singapore             Singapore\n",
       "4      5          Macau                 China\n",
       "..   ...            ...                   ...\n",
       "95    96       Taichung                Taiwan\n",
       "96    97         Rhodes                Greece\n",
       "97    98      Abu Dhabi  United Arab Emirates\n",
       "98    99        Colombo             Sri Lanka\n",
       "99   100  Washington DC                   USA\n",
       "\n",
       "[100 rows x 3 columns]"
      ],
      "text/html": "<div>\n<style scoped>\n    .dataframe tbody tr th:only-of-type {\n        vertical-align: middle;\n    }\n\n    .dataframe tbody tr th {\n        vertical-align: top;\n    }\n\n    .dataframe thead th {\n        text-align: right;\n    }\n</style>\n<table border=\"1\" class=\"dataframe\">\n  <thead>\n    <tr style=\"text-align: right;\">\n      <th></th>\n      <th>Rank</th>\n      <th>City Name</th>\n      <th>Country</th>\n    </tr>\n  </thead>\n  <tbody>\n    <tr>\n      <th>0</th>\n      <td>1</td>\n      <td>Hong Kong</td>\n      <td>China</td>\n    </tr>\n    <tr>\n      <th>1</th>\n      <td>2</td>\n      <td>Bangkok</td>\n      <td>Thailand</td>\n    </tr>\n    <tr>\n      <th>2</th>\n      <td>3</td>\n      <td>London</td>\n      <td>England</td>\n    </tr>\n    <tr>\n      <th>3</th>\n      <td>4</td>\n      <td>Singapore</td>\n      <td>Singapore</td>\n    </tr>\n    <tr>\n      <th>4</th>\n      <td>5</td>\n      <td>Macau</td>\n      <td>China</td>\n    </tr>\n    <tr>\n      <th>...</th>\n      <td>...</td>\n      <td>...</td>\n      <td>...</td>\n    </tr>\n    <tr>\n      <th>95</th>\n      <td>96</td>\n      <td>Taichung</td>\n      <td>Taiwan</td>\n    </tr>\n    <tr>\n      <th>96</th>\n      <td>97</td>\n      <td>Rhodes</td>\n      <td>Greece</td>\n    </tr>\n    <tr>\n      <th>97</th>\n      <td>98</td>\n      <td>Abu Dhabi</td>\n      <td>United Arab Emirates</td>\n    </tr>\n    <tr>\n      <th>98</th>\n      <td>99</td>\n      <td>Colombo</td>\n      <td>Sri Lanka</td>\n    </tr>\n    <tr>\n      <th>99</th>\n      <td>100</td>\n      <td>Washington DC</td>\n      <td>USA</td>\n    </tr>\n  </tbody>\n</table>\n<p>100 rows × 3 columns</p>\n</div>"
     },
     "metadata": {},
     "execution_count": 2
    }
   ],
   "source": [
    "\n",
    "#-----------------------------####--------------------------------------------\n",
    "\n",
    "#Getting CSV file of the most populated cities in the world - need Airport Codes\n",
    "csv_path = \"../Resources/most_populated_cities_csv2.csv\"\n",
    "most_populated_cities_df = pd.read_csv(csv_path,encoding=\"utf-8\")\n",
    "most_populated_cities_df.head()\n",
    "\n",
    "#Getting CSV file of the most visited cities in the world - Need Airport Codes\n",
    "csv_path2 = \"../Resources/100_Most_visited_cities.csv\"\n",
    "most_visited_cities_df = pd.read_csv(csv_path2,encoding=\"utf-8\")\n",
    "most_visited_cities_df\n",
    "# most_populated_cities_df.head()\n",
    "###-----------------------------#####--------------------------------"
   ]
  },
  {
   "cell_type": "markdown",
   "metadata": {},
   "source": [
    "## Outbound cities"
   ]
  },
  {
   "cell_type": "code",
   "execution_count": 3,
   "metadata": {},
   "outputs": [
    {
     "output_type": "stream",
     "name": "stdout",
     "text": [
      "Beginning Data Acquisition of Departure City (Airport Code)\n------------&&&&-------------------\n"
     ]
    },
    {
     "output_type": "display_data",
     "data": {
      "text/plain": "  0%|          | 0/6 [00:00<?, ?it/s]",
      "application/vnd.jupyter.widget-view+json": {
       "version_major": 2,
       "version_minor": 0,
       "model_id": "fe9c7723007742c5b797dfe560e5d4eb"
      }
     },
     "metadata": {}
    },
    {
     "output_type": "stream",
     "name": "stdout",
     "text": [
      "Data Acquisition 1 | Outbound City: Houston\n",
      "Data Acquisition 2 | Outbound City: Chicago\n",
      "Data Acquisition 3 | Outbound City: New York\n",
      "Data Acquisition 4 | Outbound City: Atlanta\n",
      "Data Acquisition 5 | Outbound City: Los Angeles\n",
      "Data Acquisition 6 | Outbound City: Seattle\n",
      "------------&&&&---------------\n",
      "Data Acquisition Complete\n",
      "------------&&&&---------------\n"
     ]
    }
   ],
   "source": [
    "\n",
    "# ###-----------------------------#####--------------------------------\n",
    "\n",
    "## Data Acquisitio Outbound Cities#####\n",
    "\n",
    "#List of outbound cities\n",
    "outbound_cities = ['Houston','Chicago','New York','Atlanta','Los Angeles','Seattle']\n",
    "# outbound_cities = ['Stockholm','London'] \n",
    "#Empty list to append data acquired\n",
    "outbound_name = []\n",
    "destination_country = []\n",
    "airportID =[]\n",
    "airportName = []\n",
    "\n",
    "#City counter kick off. \n",
    "city_counter = 1\n",
    "\n",
    "#Base url\n",
    "url = \"https://skyscanner-skyscanner-flight-search-v1.p.rapidapi.com/apiservices/autosuggest/v1.0/US/USD/en-US/?query=\"\n",
    "# url = \"https://skyscanner-skyscanner-flight-search-v1.p.rapidapi.com/apiservices/autosuggest/v1.0/UK/GBP/en-GB/?query=\"\n",
    "#Print statement to inform when data acquisition start\n",
    "print(f\"Beginning Data Acquisition of Departure City (Airport Code)\")\n",
    "print(f\"------------&&&&-------------------\")\n",
    "\n",
    "for i in tqdm(outbound_cities):\n",
    "    try:\n",
    "        #Getting the API with the first outbound city in the list (Houston) and loop thru the list\n",
    "        response = requests.get(url+i,\n",
    "          headers={\n",
    "            \"x-rapidapi-key\": \"09ec0160admsh2d5563a7feaa3efp1e2db5jsn5787845ed7fc\",\n",
    "            \"x-rapidapi-host\": \"skyscanner-skyscanner-flight-search-v1.p.rapidapi.com\",\n",
    "          }\n",
    "    ).json()\n",
    "        #Export the name and the ID\n",
    "        outbound_name.append(response[\"Places\"][0][\"PlaceName\"])\n",
    "        airportID.append(response[\"Places\"][1][\"PlaceId\"])\n",
    "        airportName.append(response[\"Places\"][1][\"PlaceName\"])\n",
    "        current_city = response[\"Places\"][0][\"PlaceName\"]\n",
    "        \n",
    "        print(f\"Data Acquisition {city_counter} | Outbound City: {current_city}\")  \n",
    "        city_counter = city_counter + 1\n",
    "    except:\n",
    "        print(\"Not a major outbound city\")\n",
    "    continue\n",
    "    \n",
    "# Print statement to inform when all records have been acquired.\n",
    "print(f\"------------&&&&---------------\")\n",
    "print(f\"Data Acquisition Complete\")\n",
    "print(f\"------------&&&&---------------\")"
   ]
  },
  {
   "cell_type": "code",
   "execution_count": 4,
   "metadata": {},
   "outputs": [],
   "source": [
    "# outbound_name"
   ]
  },
  {
   "cell_type": "code",
   "execution_count": 5,
   "metadata": {},
   "outputs": [],
   "source": [
    "# airportID\n"
   ]
  },
  {
   "cell_type": "code",
   "execution_count": 6,
   "metadata": {},
   "outputs": [
    {
     "output_type": "execute_result",
     "data": {
      "text/plain": [
       "     City Name                    Airport Name Airport Code\n",
       "0      Houston  Houston George Bush Intercntl.      IAH-sky\n",
       "1      Chicago    Chicago O'Hare International      ORD-sky\n",
       "2     New York        New York John F. Kennedy      JFK-sky\n",
       "3      Atlanta      Atlanta Hartsfield-Jackson      ATL-sky\n",
       "4  Los Angeles       Los Angeles International      LAX-sky\n",
       "5      Seattle  Seattle / Tacoma International      SEA-sky"
      ],
      "text/html": "<div>\n<style scoped>\n    .dataframe tbody tr th:only-of-type {\n        vertical-align: middle;\n    }\n\n    .dataframe tbody tr th {\n        vertical-align: top;\n    }\n\n    .dataframe thead th {\n        text-align: right;\n    }\n</style>\n<table border=\"1\" class=\"dataframe\">\n  <thead>\n    <tr style=\"text-align: right;\">\n      <th></th>\n      <th>City Name</th>\n      <th>Airport Name</th>\n      <th>Airport Code</th>\n    </tr>\n  </thead>\n  <tbody>\n    <tr>\n      <th>0</th>\n      <td>Houston</td>\n      <td>Houston George Bush Intercntl.</td>\n      <td>IAH-sky</td>\n    </tr>\n    <tr>\n      <th>1</th>\n      <td>Chicago</td>\n      <td>Chicago O'Hare International</td>\n      <td>ORD-sky</td>\n    </tr>\n    <tr>\n      <th>2</th>\n      <td>New York</td>\n      <td>New York John F. Kennedy</td>\n      <td>JFK-sky</td>\n    </tr>\n    <tr>\n      <th>3</th>\n      <td>Atlanta</td>\n      <td>Atlanta Hartsfield-Jackson</td>\n      <td>ATL-sky</td>\n    </tr>\n    <tr>\n      <th>4</th>\n      <td>Los Angeles</td>\n      <td>Los Angeles International</td>\n      <td>LAX-sky</td>\n    </tr>\n    <tr>\n      <th>5</th>\n      <td>Seattle</td>\n      <td>Seattle / Tacoma International</td>\n      <td>SEA-sky</td>\n    </tr>\n  </tbody>\n</table>\n</div>"
     },
     "metadata": {},
     "execution_count": 6
    }
   ],
   "source": [
    "#Creating a data frame of the data acquired\n",
    "outbound_data = {\"City Name\": outbound_name, \"Airport Name\": airportName, \"Airport Code\": airportID}\n",
    "outbound_data_df = pd.DataFrame(outbound_data)\n",
    "outbound_data_df"
   ]
  },
  {
   "cell_type": "code",
   "execution_count": 7,
   "metadata": {},
   "outputs": [],
   "source": [
    "# export_csv = outbound_data_df.to_csv(\"City_departure_dataFinal.csv\",index = False)"
   ]
  },
  {
   "cell_type": "markdown",
   "metadata": {},
   "source": [
    "## Destination Cities"
   ]
  },
  {
   "cell_type": "code",
   "execution_count": 8,
   "metadata": {},
   "outputs": [
    {
     "output_type": "stream",
     "name": "stdout",
     "text": [
      "Beginning Data Acquisition of Destination City and respective Airport Codes\n------------&&&&-------------------\n"
     ]
    },
    {
     "output_type": "display_data",
     "data": {
      "text/plain": "  0%|          | 0/100 [00:00<?, ?it/s]",
      "application/vnd.jupyter.widget-view+json": {
       "version_major": 2,
       "version_minor": 0,
       "model_id": "4dd5a2385fb24c0eb48e1959f89c871c"
      }
     },
     "metadata": {}
    },
    {
     "output_type": "stream",
     "name": "stdout",
     "text": [
      "Data Acquisition 1 | Outbound City: Hong Kong\n",
      "Data Acquisition 2 | Outbound City: Bangkok\n",
      "Data Acquisition 3 | Outbound City: London\n",
      "Data Acquisition 4 | Outbound City: Singapore\n",
      "Data Acquisition 5 | Outbound City: Macau\n",
      "Data Acquisition 6 | Outbound City: Dubai\n",
      "Data Acquisition 7 | Outbound City: Paris\n",
      "Data Acquisition 8 | Outbound City: New York\n",
      "Not a good city to travel... try another city\n",
      "Data Acquisition 9 | Outbound City: Kuala Lumpur\n",
      "Not a good city to travel... try another city\n",
      "Data Acquisition 10 | Outbound City: Rome\n",
      "Data Acquisition 11 | Outbound City: Tokyo\n",
      "Data Acquisition 12 | Outbound City: Taipei\n",
      "Data Acquisition 13 | Outbound City: Istanbul\n",
      "Data Acquisition 14 | Outbound City: Seoul\n",
      "Not a good city to travel... try another city\n",
      "Not a good city to travel... try another city\n",
      "Not a good city to travel... try another city\n",
      "Data Acquisition 15 | Outbound City: Miami International\n",
      "Data Acquisition 16 | Outbound City: New Delhi\n",
      "Not a good city to travel... try another city\n",
      "Data Acquisition 17 | Outbound City: Barcelona\n",
      "Not a good city to travel... try another city\n",
      "Data Acquisition 18 | Outbound City: Shanghai\n",
      "Data Acquisition 19 | Outbound City: Las Vegas\n",
      "Data Acquisition 20 | Outbound City: Milan\n",
      "Not a good city to travel... try another city\n",
      "Data Acquisition 21 | Outbound City: Antalya\n",
      "Data Acquisition 22 | Outbound City: Vienna\n",
      "Data Acquisition 23 | Outbound City: Los Angeles\n",
      "Not a good city to travel... try another city\n",
      "Data Acquisition 24 | Outbound City: Osaka\n",
      "Data Acquisition 25 | Outbound City: Berlin Brandenburg\n",
      "Data Acquisition 26 | Outbound City: Agra\n",
      "Not a good city to travel... try another city\n",
      "Data Acquisition 27 | Outbound City: Johannesburg\n",
      "Data Acquisition 28 | Outbound City: Venice\n",
      "Not a good city to travel... try another city\n",
      "Data Acquisition 29 | Outbound City: Orlando\n",
      "Data Acquisition 30 | Outbound City: Riyadh\n",
      "Not a good city to travel... try another city\n",
      "Data Acquisition 31 | Outbound City: Dublin\n",
      "Data Acquisition 32 | Outbound City: Florence\n",
      "Not a good city to travel... try another city\n",
      "Data Acquisition 33 | Outbound City: Moscow\n",
      "Data Acquisition 34 | Outbound City: Athens International\n",
      "Data Acquisition 35 | Outbound City: Jaipur\n",
      "Data Acquisition 36 | Outbound City: Beijing\n",
      "Not a good city to travel... try another city\n",
      "Data Acquisition 37 | Outbound City: Toronto\n",
      "Data Acquisition 38 | Outbound City: Hanoi\n",
      "Data Acquisition 39 | Outbound City: Sydney\n",
      "Data Acquisition 40 | Outbound City: San Francisco International\n",
      "Not a good city to travel... try another city\n",
      "Not a good city to travel... try another city\n",
      "Data Acquisition 41 | Outbound City: Punta Cana\n",
      "Not a good city to travel... try another city\n",
      "Data Acquisition 42 | Outbound City: Munich\n",
      "Not a good city to travel... try another city\n",
      "Data Acquisition 43 | Outbound City: Lisbon\n",
      "Data Acquisition 44 | Outbound City: Penang\n",
      "Data Acquisition 45 | Outbound City: Doha\n",
      "Data Acquisition 46 | Outbound City: Copenhagen\n",
      "Not a good city to travel... try another city\n",
      "Not a good city to travel... try another city\n",
      "Not a good city to travel... try another city\n",
      "Not a good city to travel... try another city\n",
      "Data Acquisition 47 | Outbound City: St Petersburg Pulkovo\n",
      "Data Acquisition 48 | Outbound City: Jeju\n",
      "Not a good city to travel... try another city\n",
      "Data Acquisition 49 | Outbound City: Chiang Mai\n",
      "Data Acquisition 50 | Outbound City: Warsaw Chopin\n",
      "Not a good city to travel... try another city\n",
      "Data Acquisition 51 | Outbound City: Honolulu International\n",
      "Data Acquisition 52 | Outbound City: Melbourne\n",
      "Data Acquisition 53 | Outbound City: Ben Gurion Intl\n",
      "Data Acquisition 54 | Outbound City: Marrakech Menara\n",
      "Data Acquisition 55 | Outbound City: Brussels\n",
      "Data Acquisition 56 | Outbound City: Auckland International\n",
      "Data Acquisition 57 | Outbound City: Vancouver\n",
      "Data Acquisition 58 | Outbound City: Jakarta\n",
      "Data Acquisition 59 | Outbound City: Frankfurt\n",
      "Not a good city to travel... try another city\n",
      "Not a good city to travel... try another city\n",
      "Data Acquisition 60 | Outbound City: Stockholm\n",
      "Data Acquisition 61 | Outbound City: Rio De Janeiro\n",
      "Not a good city to travel... try another city\n",
      "Data Acquisition 62 | Outbound City: Buenos Aires\n",
      "Not a good city to travel... try another city\n",
      "Not a good city to travel... try another city\n",
      "Data Acquisition 63 | Outbound City: Nice\n",
      "Data Acquisition 64 | Outbound City: Mexico City Juarez International\n",
      "Data Acquisition 65 | Outbound City: Lima\n",
      "Data Acquisition 66 | Outbound City: Montreal\n",
      "Not a good city to travel... try another city\n",
      "Data Acquisition 67 | Outbound City: Rhodes\n",
      "Data Acquisition 68 | Outbound City: Abu Dhabi\n",
      "Data Acquisition 69 | Outbound City: Colombo\n",
      "Data Acquisition 70 | Outbound City: Washington D.C.\n",
      "------------&&&&---------------\n",
      "Data Acquisition Complete\n",
      "------------&&&&---------------\n"
     ]
    }
   ],
   "source": [
    "#---------------------###########--------------------------------#\n",
    "\n",
    "#Reading the Most visited Cities file#\n",
    "\n",
    "#Converting City Name into a list to gather airport code\n",
    "city_destination_most_visited_list = most_visited_cities_df[\"City Name\"].tolist()\n",
    "\n",
    "city_destination_most_visited_list\n",
    "\n",
    "#--------------------------------#########-------------------------------------------\n",
    "\n",
    "## Destination Most Visited Cities ######\n",
    "\n",
    "#Empty list to store data\n",
    "visited_destination_name = []\n",
    "visited_country = []\n",
    "visited_destination_airportID =[]\n",
    "visited_destination_airportName = []\n",
    "\n",
    "visited_dest_city_counter = 1\n",
    "\n",
    "#Base URL\n",
    "url = \"https://skyscanner-skyscanner-flight-search-v1.p.rapidapi.com/apiservices/autosuggest/v1.0/US/USD/en-US/?query=\"\n",
    "#Print statement to inform when data acquisition start\n",
    "print(f\"Beginning Data Acquisition of Destination City and respective Airport Codes\")\n",
    "print(f\"------------&&&&-------------------\")\n",
    "\n",
    "for z in tqdm(city_destination_most_visited_list):\n",
    "    try:\n",
    "        response = requests.get(url+z,\n",
    "          headers={\n",
    "            \"X-RapidAPI-Host\": \"skyscanner-skyscanner-flight-search-v1.p.rapidapi.com\",\n",
    "            \"X-RapidAPI-Key\": \"09ec0160admsh2d5563a7feaa3efp1e2db5jsn5787845ed7fc\"\n",
    "          }\n",
    "    ).json()\n",
    "        visited_destination_name.append(response[\"Places\"][0][\"PlaceName\"])\n",
    "        visited_country.append(response[\"Places\"][0][\"CountryName\"])\n",
    "        visited_destination_airportID.append(response[\"Places\"][1][\"PlaceId\"])\n",
    "        visited_destination_airportName.append(response[\"Places\"][1][\"PlaceName\"])\n",
    "        visited_destination_city = response[\"Places\"][0][\"PlaceName\"]\n",
    "        \n",
    "        print(f\"Data Acquisition {visited_dest_city_counter} | Outbound City: {visited_destination_city}\")  \n",
    "        visited_dest_city_counter = visited_dest_city_counter + 1\n",
    "    except:\n",
    "        print(\"Not a good city to travel... try another city\")\n",
    "    continue\n",
    "    \n",
    "# Print statement to inform when all records have been acquired.\n",
    "print(f\"------------&&&&---------------\")\n",
    "print(f\"Data Acquisition Complete\")\n",
    "print(f\"------------&&&&---------------\")\n",
    "\n",
    "##-----------------------------####------------------------------------------------------------------------\n",
    "\n",
    "#Creating data frame of Airport Name and Airport Code of the data acquired\n",
    "most_visited_destination_data =  {\"Airport Name\": visited_destination_airportName, \"Airport Code\": visited_destination_airportID }\n",
    "most_visited_destination_data = pd.DataFrame(most_visited_destination_data)\n",
    "\n",
    "#Exporting file to CSV format - Fo you to work on it\n",
    "\n"
   ]
  },
  {
   "cell_type": "code",
   "execution_count": 9,
   "metadata": {},
   "outputs": [],
   "source": [
    "# most_visited_destination_data.head()"
   ]
  },
  {
   "cell_type": "code",
   "execution_count": 10,
   "metadata": {},
   "outputs": [],
   "source": [
    "# export_to_csv2 = most_visited_destination_data.to_csv(\"most_visited_destination_dataFINAL.csv\",index = False)"
   ]
  },
  {
   "cell_type": "markdown",
   "metadata": {},
   "source": [
    "## Let's get some routes"
   ]
  },
  {
   "cell_type": "code",
   "execution_count": 11,
   "metadata": {},
   "outputs": [
    {
     "output_type": "execute_result",
     "data": {
      "text/plain": [
       "['IAH-sky', 'ORD-sky', 'JFK-sky', 'ATL-sky', 'LAX-sky', 'SEA-sky']"
      ]
     },
     "metadata": {},
     "execution_count": 11
    }
   ],
   "source": [
    "#Creating a list for name of the airport for the outbound cities\n",
    "outbound_airport_code_tolist = outbound_data_df['Airport Code'].tolist()\n",
    "outbound_airport_code_tolist\n"
   ]
  },
  {
   "cell_type": "code",
   "execution_count": 12,
   "metadata": {},
   "outputs": [],
   "source": [
    "# most_visited_cities_df"
   ]
  },
  {
   "cell_type": "code",
   "execution_count": 13,
   "metadata": {},
   "outputs": [
    {
     "output_type": "execute_result",
     "data": {
      "text/plain": [
       "                       Airport Name Airport Code\n",
       "0                    Hong Kong Intl      HKG-sky\n",
       "1              Bangkok Suvarnabhumi      BKK-sky\n",
       "2                   London Heathrow      LHR-sky\n",
       "3                  Singapore Changi      SIN-sky\n",
       "4                             Macau      XZM-sky\n",
       "..                              ...          ...\n",
       "65  Montreal Pierre Elliott Trudeau      YUL-sky\n",
       "66                       Providence      PVD-sky\n",
       "67          Abu Dhabi International      AUH-sky\n",
       "68            Colombo Bandaranayake      CMB-sky\n",
       "69         Washington Ronald Reagan      DCA-sky\n",
       "\n",
       "[70 rows x 2 columns]"
      ],
      "text/html": "<div>\n<style scoped>\n    .dataframe tbody tr th:only-of-type {\n        vertical-align: middle;\n    }\n\n    .dataframe tbody tr th {\n        vertical-align: top;\n    }\n\n    .dataframe thead th {\n        text-align: right;\n    }\n</style>\n<table border=\"1\" class=\"dataframe\">\n  <thead>\n    <tr style=\"text-align: right;\">\n      <th></th>\n      <th>Airport Name</th>\n      <th>Airport Code</th>\n    </tr>\n  </thead>\n  <tbody>\n    <tr>\n      <th>0</th>\n      <td>Hong Kong Intl</td>\n      <td>HKG-sky</td>\n    </tr>\n    <tr>\n      <th>1</th>\n      <td>Bangkok Suvarnabhumi</td>\n      <td>BKK-sky</td>\n    </tr>\n    <tr>\n      <th>2</th>\n      <td>London Heathrow</td>\n      <td>LHR-sky</td>\n    </tr>\n    <tr>\n      <th>3</th>\n      <td>Singapore Changi</td>\n      <td>SIN-sky</td>\n    </tr>\n    <tr>\n      <th>4</th>\n      <td>Macau</td>\n      <td>XZM-sky</td>\n    </tr>\n    <tr>\n      <th>...</th>\n      <td>...</td>\n      <td>...</td>\n    </tr>\n    <tr>\n      <th>65</th>\n      <td>Montreal Pierre Elliott Trudeau</td>\n      <td>YUL-sky</td>\n    </tr>\n    <tr>\n      <th>66</th>\n      <td>Providence</td>\n      <td>PVD-sky</td>\n    </tr>\n    <tr>\n      <th>67</th>\n      <td>Abu Dhabi International</td>\n      <td>AUH-sky</td>\n    </tr>\n    <tr>\n      <th>68</th>\n      <td>Colombo Bandaranayake</td>\n      <td>CMB-sky</td>\n    </tr>\n    <tr>\n      <th>69</th>\n      <td>Washington Ronald Reagan</td>\n      <td>DCA-sky</td>\n    </tr>\n  </tbody>\n</table>\n<p>70 rows × 2 columns</p>\n</div>"
     },
     "metadata": {},
     "execution_count": 13
    }
   ],
   "source": [
    "#Reading csv of most visited cities\n",
    "most_visited_destination = \"most_visited_destination_dataFINAL.csv\"\n",
    "most_visited_cities_df = pd.read_csv(most_visited_destination,encoding=\"utf-8\")\n",
    "most_visited_cities_df"
   ]
  },
  {
   "cell_type": "code",
   "execution_count": 14,
   "metadata": {},
   "outputs": [],
   "source": [
    "#Creating a list for name of the airport of the most visited cities\n",
    "most_visited_cities_airport_list = most_visited_cities_df['Airport Code'].tolist()"
   ]
  },
  {
   "cell_type": "code",
   "execution_count": 15,
   "metadata": {},
   "outputs": [],
   "source": [
    "# most_visited_cities_airport_list"
   ]
  },
  {
   "cell_type": "code",
   "execution_count": 16,
   "metadata": {},
   "outputs": [
    {
     "output_type": "stream",
     "name": "stdout",
     "text": [
      "Beginning Data Acquisition from ORD-sky airport to the most visited cities in the world !!!\n------------&&&&-------------------\n"
     ]
    },
    {
     "output_type": "display_data",
     "data": {
      "text/plain": "  0%|          | 0/70 [00:00<?, ?it/s]",
      "application/vnd.jupyter.widget-view+json": {
       "version_major": 2,
       "version_minor": 0,
       "model_id": "5bba7c0435e54c0cb740e988dcba665d"
      }
     },
     "metadata": {}
    },
    {
     "output_type": "stream",
     "name": "stdout",
     "text": [
      "Data Acquisition 1 | Outbound City: ORD-sky\n",
      "Data Acquisition 2 | Outbound City: ORD-sky\n",
      "Data Acquisition 3 | Outbound City: ORD-sky\n",
      "Data Acquisition 4 | Outbound City: ORD-sky\n",
      "Data Acquisition 5 | Outbound City: ORD-sky\n",
      "Data Acquisition 6 | Outbound City: ORD-sky\n",
      "Data Acquisition 7 | Outbound City: ORD-sky\n",
      "Data Acquisition 8 | Outbound City: ORD-sky\n",
      "Data Acquisition 9 | Outbound City: ORD-sky\n",
      "Data Acquisition 10 | Outbound City: ORD-sky\n",
      "Data Acquisition 11 | Outbound City: ORD-sky\n",
      "Data Acquisition 12 | Outbound City: ORD-sky\n",
      "Data Acquisition 13 | Outbound City: ORD-sky\n",
      "Data Acquisition 14 | Outbound City: ORD-sky\n",
      "Data Acquisition 15 | Outbound City: ORD-sky\n",
      "Data Acquisition 16 | Outbound City: ORD-sky\n",
      "Data Acquisition 17 | Outbound City: ORD-sky\n",
      "Data Acquisition 18 | Outbound City: ORD-sky\n",
      "Data Acquisition 19 | Outbound City: ORD-sky\n",
      "Data Acquisition 20 | Outbound City: ORD-sky\n",
      "Data Acquisition 21 | Outbound City: ORD-sky\n",
      "Data Acquisition 22 | Outbound City: ORD-sky\n",
      "Data Acquisition 23 | Outbound City: ORD-sky\n",
      "Data Acquisition 24 | Outbound City: ORD-sky\n",
      "Data Acquisition 25 | Outbound City: ORD-sky\n",
      "Data Acquisition 26 | Outbound City: ORD-sky\n",
      "Data Acquisition 27 | Outbound City: ORD-sky\n",
      "Data Acquisition 28 | Outbound City: ORD-sky\n",
      "Data Acquisition 29 | Outbound City: ORD-sky\n",
      "Data Acquisition 30 | Outbound City: ORD-sky\n",
      "Data Acquisition 31 | Outbound City: ORD-sky\n",
      "Data Acquisition 32 | Outbound City: ORD-sky\n",
      "Data Acquisition 33 | Outbound City: ORD-sky\n",
      "Data Acquisition 34 | Outbound City: ORD-sky\n",
      "Data Acquisition 35 | Outbound City: ORD-sky\n",
      "Data Acquisition 36 | Outbound City: ORD-sky\n",
      "Data Acquisition 37 | Outbound City: ORD-sky\n",
      "Data Acquisition 38 | Outbound City: ORD-sky\n",
      "Data Acquisition 39 | Outbound City: ORD-sky\n",
      "Data Acquisition 40 | Outbound City: ORD-sky\n",
      "Data Acquisition 41 | Outbound City: ORD-sky\n",
      "Data Acquisition 42 | Outbound City: ORD-sky\n",
      "Data Acquisition 43 | Outbound City: ORD-sky\n",
      "Data Acquisition 44 | Outbound City: ORD-sky\n",
      "Data Acquisition 45 | Outbound City: ORD-sky\n",
      "Data Acquisition 46 | Outbound City: ORD-sky\n",
      "Data Acquisition 47 | Outbound City: ORD-sky\n",
      "Data Acquisition 48 | Outbound City: ORD-sky\n",
      "Data Acquisition 49 | Outbound City: ORD-sky\n",
      "Data Acquisition 50 | Outbound City: ORD-sky\n",
      "Data Acquisition 51 | Outbound City: ORD-sky\n",
      "Data Acquisition 52 | Outbound City: ORD-sky\n",
      "Data Acquisition 53 | Outbound City: ORD-sky\n",
      "Data Acquisition 54 | Outbound City: ORD-sky\n",
      "Data Acquisition 55 | Outbound City: ORD-sky\n",
      "Data Acquisition 56 | Outbound City: ORD-sky\n",
      "Data Acquisition 57 | Outbound City: ORD-sky\n",
      "Data Acquisition 58 | Outbound City: ORD-sky\n",
      "Data Acquisition 59 | Outbound City: ORD-sky\n",
      "Data Acquisition 60 | Outbound City: ORD-sky\n",
      "Data Acquisition 61 | Outbound City: ORD-sky\n",
      "Data Acquisition 62 | Outbound City: ORD-sky\n",
      "Data Acquisition 63 | Outbound City: ORD-sky\n",
      "Data Acquisition 64 | Outbound City: ORD-sky\n",
      "Data Acquisition 65 | Outbound City: ORD-sky\n",
      "Data Acquisition 66 | Outbound City: ORD-sky\n",
      "Data Acquisition 67 | Outbound City: ORD-sky\n",
      "Data Acquisition 68 | Outbound City: ORD-sky\n",
      "Data Acquisition 69 | Outbound City: ORD-sky\n",
      "Data Acquisition 70 | Outbound City: ORD-sky\n",
      "------------&&&&---------------\n",
      "Data Acquisition Complete\n",
      "------------&&&&---------------\n"
     ]
    }
   ],
   "source": [
    "#------------------------------------###--------------------------------------------------------\n",
    "\n",
    "# Routes for all most visitied cities and one city outbound and fixed dates\n",
    "\n",
    "#Empty list to store data\n",
    "carriers_info = []\n",
    "places_info = []\n",
    "quotes_info = []\n",
    "\n",
    "#Base API url for routes\n",
    "base_url = \"https://skyscanner-skyscanner-flight-search-v1.p.rapidapi.com/apiservices/browseroutes/v1.0/US/USD/en-US/\"\n",
    "\n",
    "headers={\"X-RapidAPI-Host\": \"skyscanner-skyscanner-flight-search-v1.p.rapidapi.com\",\n",
    "    \"X-RapidAPI-Key\": \"077cfd7813mshfe97bf766bd036dp106fd9jsneb6caf492da9\"}\n",
    "\n",
    "#Variables for the url\n",
    "originplace = outbound_airport_code_tolist\n",
    "destinationplace = most_visited_cities_airport_list\n",
    "outboundpartialdate = [\"2021-06-01\"]\n",
    "inboundpartialdate = [\"2021-06-30\"]\n",
    "\n",
    "#Start counter for the loop\n",
    "destination_counter = 1\n",
    "\n",
    "#Print statement to inform when data acquisition start\n",
    "print(f\"Beginning Data Acquisition from {outbound_airport_code_tolist[1]} airport to the most visited cities in the world !!!\")\n",
    "print(f\"------------&&&&-------------------\")\n",
    "\n",
    "for x in tqdm(destinationplace):\n",
    "    try:\n",
    "        response = requests.get(base_url+outbound_airport_code_tolist[1]+\"/\"+x+ \"/\"+outboundpartialdate[0]+\"?inboundpartialdate=\"+inboundpartialdate[0], headers=headers).json()\n",
    "        #Append values to the empty list\n",
    "        carriers_info.append(response['Carriers'])\n",
    "        places_info.append(response['Places'])\n",
    "        quotes_info.append(response['Quotes'])\n",
    "        \n",
    "        print(f\"Data Acquisition {destination_counter} | Outbound City: {outbound_airport_code_tolist[1]}\")  \n",
    "        \n",
    "        destination_counter = destination_counter + 1\n",
    "    except:\n",
    "        print(\"Route not found...!!\")\n",
    "    continue\n",
    "    \n",
    "# Print statement to inform when all records have been acquired.\n",
    "print(f\"------------&&&&---------------\")\n",
    "print(f\"Data Acquisition Complete\")\n",
    "print(f\"------------&&&&---------------\")      \n",
    "\n",
    "################################################################################################################\n",
    "\n",
    "#Loop thru the carriers information data that contains independent dictionaries and append results to a empty list\n",
    "carriers_list = []\n",
    "for x in range(len(carriers_info)):\n",
    "    for y in range(len(carriers_info[x])):\n",
    "        #print(carriers_info[x][y])\n",
    "        carriers_list.append(carriers_info[x][y])\n",
    "        \n",
    "\n",
    "#Loop thru the places information data that contains dictionaries and append results to a empty list\n",
    "places_list = []\n",
    "for i in range(len(places_info)):\n",
    "    for j in range(len(places_info[i])):\n",
    "        #print(places_info[i][j])\n",
    "        places_list.append(places_info[i][j])\n",
    "        \n",
    "#Loop thru the quoute information data that contains nested dictionaries and append results to a empty list\n",
    "#Noted the nested dictionary of the outboundleg which is append to the outbound list\n",
    "quotes_list = []\n",
    "outbound_list = []\n",
    "for z in range(len(quotes_info)):\n",
    "    for w in range(len(quotes_info[z])):\n",
    "        quotes_list.append(quotes_info[z][w])\n",
    "        outbound_list.append(quotes_info[z][w]['OutboundLeg'])    \n",
    "        \n",
    "##################################################################################################################3\n",
    "\n",
    "#Creating the data frame of carrriers\n",
    "carriers_df = pd.DataFrame(carriers_list)\n",
    "carriers_df\n",
    "#Exporting dataframe into csv format\n",
    "export_csv = carriers_df.to_csv('carriers_df.csv',index = False)\n",
    "len(carriers_df)\n",
    "\n",
    "#######################################################################################################################\n",
    "#Creating the data frame for places\n",
    "places_df = pd.DataFrame(places_list)\n",
    "places_df\n",
    "#Exporting dataframe into csv format\n",
    "export_csv = places_df.to_csv('placescsv.csv',index = False)\n",
    "places_df\n",
    "\n",
    "####################################################################################################################\n",
    "#Create the data frame of the quotes list\n",
    "quotes_df = pd.DataFrame(quotes_list)\n",
    "quotes_df.head()\n",
    "\n",
    "#Create the data frame of the outbound list\n",
    "outbound_df = pd.DataFrame(outbound_list)\n",
    "outbound_df\n",
    "\n",
    "#Merged both data frames together on the index since data is symetric\n",
    "merged_quotes_outbound = pd.merge(quotes_df,outbound_df, left_index = True, right_index = True)\n",
    "merged_quotes_outbound\n",
    "\n",
    "#Export to CSV \n",
    "export_csv = merged_quotes_outbound.to_csv('merged_quotes_outbound.csv',index = False)\n",
    "#merged_quotes_outbound"
   ]
  },
  {
   "cell_type": "code",
   "execution_count": 17,
   "metadata": {},
   "outputs": [
    {
     "output_type": "execute_result",
     "data": {
      "text/plain": [
       "    QuoteId  MinPrice  Direct  \\\n",
       "0         1       613   False   \n",
       "1         1       315   False   \n",
       "2         2       537    True   \n",
       "3         1       158   False   \n",
       "4         2       191    True   \n",
       "5         1        91    True   \n",
       "6         1       126    True   \n",
       "7         1        80    True   \n",
       "8         1       293   False   \n",
       "9         2       654    True   \n",
       "10        1      1057    True   \n",
       "11        1       338   False   \n",
       "12        2       903    True   \n",
       "13        1       172   False   \n",
       "14        2       307    True   \n",
       "15        1       105    True   \n",
       "\n",
       "                                          OutboundLeg        QuoteDateTime  \\\n",
       "0   {'CarrierIds': [1464], 'OriginId': 73076, 'Des...  2021-01-14T17:48:00   \n",
       "1   {'CarrierIds': [1793], 'OriginId': 73076, 'Des...  2021-01-14T16:21:00   \n",
       "2   {'CarrierIds': [1218], 'OriginId': 73076, 'Des...  2021-01-14T16:21:00   \n",
       "3   {'CarrierIds': [1793], 'OriginId': 73076, 'Des...  2021-01-15T05:16:00   \n",
       "4   {'CarrierIds': [870], 'OriginId': 73076, 'Dest...  2021-01-15T05:16:00   \n",
       "5   {'CarrierIds': [1467], 'OriginId': 73076, 'Des...  2021-01-15T03:27:00   \n",
       "6   {'CarrierIds': [851], 'OriginId': 73076, 'Dest...  2021-01-15T15:18:00   \n",
       "7   {'CarrierIds': [1467], 'OriginId': 73076, 'Des...  2021-01-13T22:19:00   \n",
       "8   {'CarrierIds': [1793], 'OriginId': 73076, 'Des...  2021-01-14T12:50:00   \n",
       "9   {'CarrierIds': [1368], 'OriginId': 73076, 'Des...  2021-01-13T20:26:00   \n",
       "10  {'CarrierIds': [1368], 'OriginId': 73076, 'Des...  2021-01-16T05:49:00   \n",
       "11  {'CarrierIds': [1760], 'OriginId': 73076, 'Des...  2021-01-16T05:04:00   \n",
       "12  {'CarrierIds': [1707], 'OriginId': 73076, 'Des...  2021-01-16T05:04:00   \n",
       "13  {'CarrierIds': [1793], 'OriginId': 73076, 'Des...  2021-01-13T13:53:00   \n",
       "14  {'CarrierIds': [1793], 'OriginId': 73076, 'Des...  2021-01-13T13:53:00   \n",
       "15  {'CarrierIds': [1793], 'OriginId': 73076, 'Des...  2021-01-16T02:56:00   \n",
       "\n",
       "   CarrierIds  OriginId  DestinationId        DepartureDate  \n",
       "0      [1464]     73076          42795  2021-06-01T00:00:00  \n",
       "1      [1793]     73076          44759  2021-06-01T00:00:00  \n",
       "2      [1218]     73076          44759  2021-06-01T00:00:00  \n",
       "3      [1793]     73076          60987  2021-06-01T00:00:00  \n",
       "4       [870]     73076          60987  2021-06-01T00:00:00  \n",
       "5      [1467]     73076          65363  2021-06-01T00:00:00  \n",
       "6       [851]     73076          65368  2021-06-01T00:00:00  \n",
       "7      [1467]     73076          67759  2021-06-01T00:00:00  \n",
       "8      [1793]     73076          43141  2021-06-01T00:00:00  \n",
       "9      [1368]     73076          43141  2021-06-01T00:00:00  \n",
       "10     [1368]     73076          52337  2021-06-01T00:00:00  \n",
       "11     [1760]     73076          40830  2021-06-01T00:00:00  \n",
       "12     [1707]     73076          40830  2021-06-01T00:00:00  \n",
       "13     [1793]     73076          40065  2021-06-01T00:00:00  \n",
       "14     [1793]     73076          40065  2021-06-01T00:00:00  \n",
       "15     [1793]     73076          47009  2021-06-01T00:00:00  "
      ],
      "text/html": "<div>\n<style scoped>\n    .dataframe tbody tr th:only-of-type {\n        vertical-align: middle;\n    }\n\n    .dataframe tbody tr th {\n        vertical-align: top;\n    }\n\n    .dataframe thead th {\n        text-align: right;\n    }\n</style>\n<table border=\"1\" class=\"dataframe\">\n  <thead>\n    <tr style=\"text-align: right;\">\n      <th></th>\n      <th>QuoteId</th>\n      <th>MinPrice</th>\n      <th>Direct</th>\n      <th>OutboundLeg</th>\n      <th>QuoteDateTime</th>\n      <th>CarrierIds</th>\n      <th>OriginId</th>\n      <th>DestinationId</th>\n      <th>DepartureDate</th>\n    </tr>\n  </thead>\n  <tbody>\n    <tr>\n      <th>0</th>\n      <td>1</td>\n      <td>613</td>\n      <td>False</td>\n      <td>{'CarrierIds': [1464], 'OriginId': 73076, 'Des...</td>\n      <td>2021-01-14T17:48:00</td>\n      <td>[1464]</td>\n      <td>73076</td>\n      <td>42795</td>\n      <td>2021-06-01T00:00:00</td>\n    </tr>\n    <tr>\n      <th>1</th>\n      <td>1</td>\n      <td>315</td>\n      <td>False</td>\n      <td>{'CarrierIds': [1793], 'OriginId': 73076, 'Des...</td>\n      <td>2021-01-14T16:21:00</td>\n      <td>[1793]</td>\n      <td>73076</td>\n      <td>44759</td>\n      <td>2021-06-01T00:00:00</td>\n    </tr>\n    <tr>\n      <th>2</th>\n      <td>2</td>\n      <td>537</td>\n      <td>True</td>\n      <td>{'CarrierIds': [1218], 'OriginId': 73076, 'Des...</td>\n      <td>2021-01-14T16:21:00</td>\n      <td>[1218]</td>\n      <td>73076</td>\n      <td>44759</td>\n      <td>2021-06-01T00:00:00</td>\n    </tr>\n    <tr>\n      <th>3</th>\n      <td>1</td>\n      <td>158</td>\n      <td>False</td>\n      <td>{'CarrierIds': [1793], 'OriginId': 73076, 'Des...</td>\n      <td>2021-01-15T05:16:00</td>\n      <td>[1793]</td>\n      <td>73076</td>\n      <td>60987</td>\n      <td>2021-06-01T00:00:00</td>\n    </tr>\n    <tr>\n      <th>4</th>\n      <td>2</td>\n      <td>191</td>\n      <td>True</td>\n      <td>{'CarrierIds': [870], 'OriginId': 73076, 'Dest...</td>\n      <td>2021-01-15T05:16:00</td>\n      <td>[870]</td>\n      <td>73076</td>\n      <td>60987</td>\n      <td>2021-06-01T00:00:00</td>\n    </tr>\n    <tr>\n      <th>5</th>\n      <td>1</td>\n      <td>91</td>\n      <td>True</td>\n      <td>{'CarrierIds': [1467], 'OriginId': 73076, 'Des...</td>\n      <td>2021-01-15T03:27:00</td>\n      <td>[1467]</td>\n      <td>73076</td>\n      <td>65363</td>\n      <td>2021-06-01T00:00:00</td>\n    </tr>\n    <tr>\n      <th>6</th>\n      <td>1</td>\n      <td>126</td>\n      <td>True</td>\n      <td>{'CarrierIds': [851], 'OriginId': 73076, 'Dest...</td>\n      <td>2021-01-15T15:18:00</td>\n      <td>[851]</td>\n      <td>73076</td>\n      <td>65368</td>\n      <td>2021-06-01T00:00:00</td>\n    </tr>\n    <tr>\n      <th>7</th>\n      <td>1</td>\n      <td>80</td>\n      <td>True</td>\n      <td>{'CarrierIds': [1467], 'OriginId': 73076, 'Des...</td>\n      <td>2021-01-13T22:19:00</td>\n      <td>[1467]</td>\n      <td>73076</td>\n      <td>67759</td>\n      <td>2021-06-01T00:00:00</td>\n    </tr>\n    <tr>\n      <th>8</th>\n      <td>1</td>\n      <td>293</td>\n      <td>False</td>\n      <td>{'CarrierIds': [1793], 'OriginId': 73076, 'Des...</td>\n      <td>2021-01-14T12:50:00</td>\n      <td>[1793]</td>\n      <td>73076</td>\n      <td>43141</td>\n      <td>2021-06-01T00:00:00</td>\n    </tr>\n    <tr>\n      <th>9</th>\n      <td>2</td>\n      <td>654</td>\n      <td>True</td>\n      <td>{'CarrierIds': [1368], 'OriginId': 73076, 'Des...</td>\n      <td>2021-01-13T20:26:00</td>\n      <td>[1368]</td>\n      <td>73076</td>\n      <td>43141</td>\n      <td>2021-06-01T00:00:00</td>\n    </tr>\n    <tr>\n      <th>10</th>\n      <td>1</td>\n      <td>1057</td>\n      <td>True</td>\n      <td>{'CarrierIds': [1368], 'OriginId': 73076, 'Des...</td>\n      <td>2021-01-16T05:49:00</td>\n      <td>[1368]</td>\n      <td>73076</td>\n      <td>52337</td>\n      <td>2021-06-01T00:00:00</td>\n    </tr>\n    <tr>\n      <th>11</th>\n      <td>1</td>\n      <td>338</td>\n      <td>False</td>\n      <td>{'CarrierIds': [1760], 'OriginId': 73076, 'Des...</td>\n      <td>2021-01-16T05:04:00</td>\n      <td>[1760]</td>\n      <td>73076</td>\n      <td>40830</td>\n      <td>2021-06-01T00:00:00</td>\n    </tr>\n    <tr>\n      <th>12</th>\n      <td>2</td>\n      <td>903</td>\n      <td>True</td>\n      <td>{'CarrierIds': [1707], 'OriginId': 73076, 'Des...</td>\n      <td>2021-01-16T05:04:00</td>\n      <td>[1707]</td>\n      <td>73076</td>\n      <td>40830</td>\n      <td>2021-06-01T00:00:00</td>\n    </tr>\n    <tr>\n      <th>13</th>\n      <td>1</td>\n      <td>172</td>\n      <td>False</td>\n      <td>{'CarrierIds': [1793], 'OriginId': 73076, 'Des...</td>\n      <td>2021-01-13T13:53:00</td>\n      <td>[1793]</td>\n      <td>73076</td>\n      <td>40065</td>\n      <td>2021-06-01T00:00:00</td>\n    </tr>\n    <tr>\n      <th>14</th>\n      <td>2</td>\n      <td>307</td>\n      <td>True</td>\n      <td>{'CarrierIds': [1793], 'OriginId': 73076, 'Des...</td>\n      <td>2021-01-13T13:53:00</td>\n      <td>[1793]</td>\n      <td>73076</td>\n      <td>40065</td>\n      <td>2021-06-01T00:00:00</td>\n    </tr>\n    <tr>\n      <th>15</th>\n      <td>1</td>\n      <td>105</td>\n      <td>True</td>\n      <td>{'CarrierIds': [1793], 'OriginId': 73076, 'Des...</td>\n      <td>2021-01-16T02:56:00</td>\n      <td>[1793]</td>\n      <td>73076</td>\n      <td>47009</td>\n      <td>2021-06-01T00:00:00</td>\n    </tr>\n  </tbody>\n</table>\n</div>"
     },
     "metadata": {},
     "execution_count": 17
    }
   ],
   "source": [
    "merged_quotes_outbound"
   ]
  },
  {
   "cell_type": "markdown",
   "metadata": {},
   "source": [
    "# Let's see with user input data and graph the Maps"
   ]
  },
  {
   "cell_type": "code",
   "execution_count": 2,
   "metadata": {},
   "outputs": [
    {
     "output_type": "stream",
     "name": "stdout",
     "text": [
      "Collecting package metadata (current_repodata.json): ...working... done\nSolving environment: ...working... done\n\n## Package Plan ##\n\n  environment location: C:\\Users\\pablo\\Anaconda3\\envs\\dev\n\n  added / updated specs:\n    - gmaps\n\n\nThe following NEW packages will be INSTALLED:\n\n  geojson            conda-forge/noarch::geojson-2.5.0-py_0\n  gmaps              conda-forge/noarch::gmaps-0.9.0-py_0\n\n\nPreparing transaction: ...working... done\nVerifying transaction: ...working... done\nExecuting transaction: ...working... done\n\nNote: you may need to restart the kernel to use updated packages.\n"
     ]
    }
   ],
   "source": [
    "# %pip install gmplot\n",
    "%conda install -c conda-forge gmaps\n",
    "import gmplot\n",
    "from pprint import pprint\n",
    "import gmaps\n",
    "# %matplotlib inline\n",
    "# Google developer API key\n",
    "# from config import gkey\n",
    "# from config2 import geokey\n"
   ]
  },
  {
   "cell_type": "code",
   "execution_count": 6,
   "metadata": {},
   "outputs": [
    {
     "output_type": "execute_result",
     "data": {
      "text/plain": [
       "True"
      ]
     },
     "metadata": {},
     "execution_count": 6
    }
   ],
   "source": [
    "import os\n",
    "from dotenv import load_dotenv\n",
    "load_dotenv()"
   ]
  },
  {
   "cell_type": "code",
   "execution_count": 7,
   "metadata": {},
   "outputs": [],
   "source": [
    "gkey=os.getenv(\"gkey\")\n",
    "geokey=os.getenv(\"geokey\")"
   ]
  },
  {
   "cell_type": "code",
   "execution_count": 9,
   "metadata": {},
   "outputs": [
    {
     "output_type": "stream",
     "name": "stdout",
     "text": [
      "Collecting opencage\n  Using cached opencage-1.2.2-py3-none-any.whl (6.1 kB)\nRequirement already satisfied: pyopenssl>=0.15.1 in c:\\users\\pablo\\anaconda3\\envs\\dev\\lib\\site-packages (from opencage) (20.0.1)\nRequirement already satisfied: Requests>=2.2.0 in c:\\users\\pablo\\anaconda3\\envs\\dev\\lib\\site-packages (from opencage) (2.25.1)\nRequirement already satisfied: six>=1.4.0 in c:\\users\\pablo\\anaconda3\\envs\\dev\\lib\\site-packages (from opencage) (1.15.0)\nCollecting backoff>=1.10.0\n  Using cached backoff-1.10.0-py2.py3-none-any.whl (31 kB)\nRequirement already satisfied: cryptography>=3.2 in c:\\users\\pablo\\anaconda3\\envs\\dev\\lib\\site-packages (from pyopenssl>=0.15.1->opencage) (3.3.1)\nRequirement already satisfied: cffi>=1.12 in c:\\users\\pablo\\anaconda3\\envs\\dev\\lib\\site-packages (from cryptography>=3.2->pyopenssl>=0.15.1->opencage) (1.14.4)\nRequirement already satisfied: pycparser in c:\\users\\pablo\\anaconda3\\envs\\dev\\lib\\site-packages (from cffi>=1.12->cryptography>=3.2->pyopenssl>=0.15.1->opencage) (2.20)\nRequirement already satisfied: idna<3,>=2.5 in c:\\users\\pablo\\anaconda3\\envs\\dev\\lib\\site-packages (from Requests>=2.2.0->opencage) (2.10)\nRequirement already satisfied: certifi>=2017.4.17 in c:\\users\\pablo\\anaconda3\\envs\\dev\\lib\\site-packages (from Requests>=2.2.0->opencage) (2020.12.5)\nRequirement already satisfied: urllib3<1.27,>=1.21.1 in c:\\users\\pablo\\anaconda3\\envs\\dev\\lib\\site-packages (from Requests>=2.2.0->opencage) (1.26.2)\nRequirement already satisfied: chardet<5,>=3.0.2 in c:\\users\\pablo\\anaconda3\\envs\\dev\\lib\\site-packages (from Requests>=2.2.0->opencage) (4.0.0)\nInstalling collected packages: backoff, opencage\nSuccessfully installed backoff-1.10.0 opencage-1.2.2\nNote: you may need to restart the kernel to use updated packages.\n"
     ]
    }
   ],
   "source": [
    "# Configure gmaps\n",
    "%pip install opencage\n",
    "\n",
    "gmaps.configure(api_key=gkey)\n",
    "from opencage.geocoder import OpenCageGeocode"
   ]
  },
  {
   "cell_type": "code",
   "execution_count": 10,
   "metadata": {},
   "outputs": [
    {
     "output_type": "stream",
     "name": "stdout",
     "text": [
      "\n",
      "\n",
      "\n",
      "\n",
      "\n",
      "\n"
     ]
    }
   ],
   "source": [
    "#Ask the user where he/she would like to travel\n",
    "question0 = (\"What is your departure city (Houston)? \")\n",
    "departure_city = input(question0)\n",
    "print(\"\")\n",
    "question1 =(\"Name one city that you would like to go on vacation (Paris)? \")\n",
    "vacation_city = input(question1)\n",
    "print(\"\")\n",
    "question1a =(\"Now name your second option of city that you would like to go on vacation (Newcastle)? \")\n",
    "vacation_citya = input(question1a)\n",
    "print(\"\")\n",
    "question2 =(\"What is your desire departure date (yyyy-mm-dd)? \")\n",
    "departure_date = input(question2)\n",
    "print(\"\")\n",
    "question3 =(\"What is your desire return date (yyyy-mm-dd)? \")\n",
    "return_date = input(question3)\n",
    "\n",
    "#print(f\"-----------------&&&--------------------------\")\n",
    "print(\"\")\n",
    "#print(f\"Thank you for selecting QUEST FLIGHTS. We are starting the search of best quotes: Flying from {departure_city} to {vacation_city}\")\n",
    "print(\"\")\n",
    "#print(f\"and {vacation_citya} on {departure_date} and returning on {return_date}..\")"
   ]
  },
  {
   "cell_type": "code",
   "execution_count": 11,
   "metadata": {},
   "outputs": [
    {
     "output_type": "execute_result",
     "data": {
      "text/plain": [
       "'Houston'"
      ]
     },
     "metadata": {},
     "execution_count": 11
    }
   ],
   "source": [
    "departure_city "
   ]
  },
  {
   "cell_type": "code",
   "execution_count": 12,
   "metadata": {},
   "outputs": [
    {
     "output_type": "stream",
     "name": "stdout",
     "text": [
      "Beginning Data Acquisition\n------------&&&&-------------------\n"
     ]
    },
    {
     "output_type": "display_data",
     "data": {
      "text/plain": "  0%|          | 0/3 [00:00<?, ?it/s]",
      "application/vnd.jupyter.widget-view+json": {
       "version_major": 2,
       "version_minor": 0,
       "model_id": "023b8c0aa9704e90a4551134439418fa"
      }
     },
     "metadata": {}
    },
    {
     "output_type": "stream",
     "name": "stdout",
     "text": [
      "Data Acquisition 1 | City: Houston\n",
      "Data Acquisition 2 | City: Paris\n",
      "Data Acquisition 3 | City: London\n",
      "------------&&&&---------------\n",
      "Data Acquisition Complete\n",
      "------------&&&&---------------\n"
     ]
    },
    {
     "output_type": "execute_result",
     "data": {
      "text/plain": [
       "'IAH-sky'"
      ]
     },
     "metadata": {},
     "execution_count": 12
    }
   ],
   "source": [
    "############################### Getting first travel information #################################\n",
    "\n",
    "combined_cities = [departure_city,vacation_city, vacation_citya]\n",
    "\n",
    "cities_name = []\n",
    "country_name = []\n",
    "airportID =[]\n",
    "airportName = []\n",
    "\n",
    "#City counter kick off. \n",
    "city_counter = 1\n",
    "\n",
    "#Base url\n",
    "url = \"https://skyscanner-skyscanner-flight-search-v1.p.rapidapi.com/apiservices/autosuggest/v1.0/US/USD/en-US/?query=\"\n",
    "\n",
    "#Print statement to inform when data acquisition start\n",
    "print(f\"Beginning Data Acquisition\")\n",
    "print(f\"------------&&&&-------------------\")\n",
    "\n",
    "for i in tqdm(combined_cities):\n",
    "    try:\n",
    "        #Getting the API with the first outbound city in the list (Houston) and loop thru the list\n",
    "        response = requests.get(url+i,\n",
    "          headers={\n",
    "            \"X-RapidAPI-Host\": \"skyscanner-skyscanner-flight-search-v1.p.rapidapi.com\",\n",
    "            \"X-RapidAPI-Key\": \"09ec0160admsh2d5563a7feaa3efp1e2db5jsn5787845ed7fc\"\n",
    "          }\n",
    "    ).json()\n",
    "        #Export the name and the ID\n",
    "        cities_name.append(response[\"Places\"][0][\"PlaceName\"])\n",
    "        country_name.append(response[\"Places\"][0][\"CountryName\"])\n",
    "        airportID.append(response[\"Places\"][1][\"PlaceId\"])\n",
    "        airportName.append(response[\"Places\"][1][\"PlaceName\"])\n",
    "        current_city = response[\"Places\"][0][\"PlaceName\"]\n",
    "        \n",
    "        print(f\"Data Acquisition {city_counter} | City: {current_city}\")  \n",
    "        city_counter = city_counter + 1\n",
    "    except:\n",
    "        print(\"Route not found...Try another vacation city\")\n",
    "    continue\n",
    "    \n",
    "# Print statement to inform when all records have been acquired.\n",
    "print(f\"------------&&&&---------------\")\n",
    "print(f\"Data Acquisition Complete\")\n",
    "print(f\"------------&&&&---------------\")\n",
    "\n",
    "#Creating data frame of first output\n",
    "vacation = {'City Name': cities_name, 'Country Name': country_name, 'Airport Name':airportName, 'Airport Code': airportID}\n",
    "vacation_df = pd.DataFrame(vacation)\n",
    "vacation_df.rename(index={0:'From'}, inplace=True)\n",
    "vacation_df.rename(index={1:'To'}, inplace=True)\n",
    "vacation_df\n",
    "vacation_airport_codestolist = vacation_df['Airport Code'].tolist()\n",
    "vacation_airport_codestolist[0]\n",
    "\n",
    "\n"
   ]
  },
  {
   "cell_type": "code",
   "execution_count": 13,
   "metadata": {},
   "outputs": [
    {
     "output_type": "execute_result",
     "data": {
      "text/plain": [
       "     City Name    Country Name                    Airport Name Airport Code\n",
       "From   Houston   United States  Houston George Bush Intercntl.      IAH-sky\n",
       "To       Paris          France         Paris Charles de Gaulle      CDG-sky\n",
       "2       London  United Kingdom                 London Heathrow      LHR-sky"
      ],
      "text/html": "<div>\n<style scoped>\n    .dataframe tbody tr th:only-of-type {\n        vertical-align: middle;\n    }\n\n    .dataframe tbody tr th {\n        vertical-align: top;\n    }\n\n    .dataframe thead th {\n        text-align: right;\n    }\n</style>\n<table border=\"1\" class=\"dataframe\">\n  <thead>\n    <tr style=\"text-align: right;\">\n      <th></th>\n      <th>City Name</th>\n      <th>Country Name</th>\n      <th>Airport Name</th>\n      <th>Airport Code</th>\n    </tr>\n  </thead>\n  <tbody>\n    <tr>\n      <th>From</th>\n      <td>Houston</td>\n      <td>United States</td>\n      <td>Houston George Bush Intercntl.</td>\n      <td>IAH-sky</td>\n    </tr>\n    <tr>\n      <th>To</th>\n      <td>Paris</td>\n      <td>France</td>\n      <td>Paris Charles de Gaulle</td>\n      <td>CDG-sky</td>\n    </tr>\n    <tr>\n      <th>2</th>\n      <td>London</td>\n      <td>United Kingdom</td>\n      <td>London Heathrow</td>\n      <td>LHR-sky</td>\n    </tr>\n  </tbody>\n</table>\n</div>"
     },
     "metadata": {},
     "execution_count": 13
    }
   ],
   "source": [
    "vacation_df"
   ]
  },
  {
   "cell_type": "markdown",
   "metadata": {},
   "source": [
    "## Let's do a World Map of the input cities"
   ]
  },
  {
   "cell_type": "code",
   "execution_count": 14,
   "metadata": {},
   "outputs": [
    {
     "output_type": "stream",
     "name": "stdout",
     "text": [
      "\nBeginning Data Acquisition of Destinations Map\n------------&&&&-------------------\n"
     ]
    },
    {
     "output_type": "display_data",
     "data": {
      "text/plain": "|          | 0/? [00:00<?, ?it/s]",
      "application/vnd.jupyter.widget-view+json": {
       "version_major": 2,
       "version_minor": 0,
       "model_id": "88f9e129c6194b29a21ba5b59ff62839"
      }
     },
     "metadata": {}
    },
    {
     "output_type": "stream",
     "name": "stdout",
     "text": [
      "Houston,United States\n",
      "Paris,France\n",
      "London,United Kingdom\n",
      "------------&&&&---------------\n",
      "Data Acquisition Complete\n",
      "------------&&&&---------------\n",
      "\n"
     ]
    }
   ],
   "source": [
    "######################################### World Map #######################################\n",
    "\n",
    "key = geokey\n",
    "\n",
    "geocoder = OpenCageGeocode(key)\n",
    "\n",
    "list_lat = []\n",
    "list_long = []\n",
    "\n",
    "print(\"\")\n",
    "print(f\"Beginning Data Acquisition of Destinations Map\")\n",
    "print(f\"------------&&&&-------------------\")\n",
    "\n",
    "for index, row in tqdm(vacation_df.iterrows()): #iterate over rows in data frame\n",
    "    City = row['City Name']\n",
    "    Country = row['Country Name']\n",
    "    query = str(City)+','+str(Country)\n",
    "    print(query)\n",
    "    results = geocoder.geocode(query)\n",
    "    lat = results[0]['geometry']['lat']\n",
    "    long = results[0]['geometry']['lng']\n",
    "    \n",
    "    list_lat.append(lat)\n",
    "    list_long.append(long)\n",
    "\n",
    "print(f\"------------&&&&---------------\")\n",
    "print(f\"Data Acquisition Complete\")\n",
    "print(f\"------------&&&&---------------\")\n",
    "print(\"\")\n",
    "\n",
    "\n"
   ]
  },
  {
   "cell_type": "markdown",
   "metadata": {},
   "source": [
    "## Graph the Map"
   ]
  },
  {
   "cell_type": "code",
   "execution_count": 15,
   "metadata": {},
   "outputs": [
    {
     "output_type": "display_data",
     "data": {
      "text/plain": "Figure(layout=FigureLayout(height='420px'))",
      "application/vnd.jupyter.widget-view+json": {
       "version_major": 2,
       "version_minor": 0,
       "model_id": "6d98dd1c958d44c59a2f741fc9043d61"
      }
     },
     "metadata": {}
    }
   ],
   "source": [
    "# create a new columns from lists\n",
    "\n",
    "vacation_df['lat'] = list_lat\n",
    "vacation_df['long'] = list_long\n",
    "\n",
    "# Store latitude and longitude in locations\n",
    "locations = vacation_df[[\"lat\", \"long\"]]\n",
    "locations  \n",
    "# Plot Markers MAp\n",
    "fig = gmaps.figure()\n",
    "\n",
    "# Create heat layer\n",
    "markers = gmaps.marker_layer(locations)\n",
    "\n",
    "\n",
    "# Add layer\n",
    "fig.add_layer(markers)\n",
    "\n",
    "# Display figure\n",
    "fig"
   ]
  },
  {
   "cell_type": "code",
   "execution_count": null,
   "metadata": {},
   "outputs": [],
   "source": []
  }
 ],
 "metadata": {
  "kernelspec": {
   "display_name": "Python 3",
   "language": "python",
   "name": "python3"
  },
  "language_info": {
   "codemirror_mode": {
    "name": "ipython",
    "version": 3
   },
   "file_extension": ".py",
   "mimetype": "text/x-python",
   "name": "python",
   "nbconvert_exporter": "python",
   "pygments_lexer": "ipython3",
   "version": "3.8.1-final"
  }
 },
 "nbformat": 4,
 "nbformat_minor": 4
}