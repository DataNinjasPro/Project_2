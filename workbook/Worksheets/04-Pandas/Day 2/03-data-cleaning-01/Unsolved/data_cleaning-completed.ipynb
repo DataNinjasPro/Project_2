{
 "cells": [
  {
   "cell_type": "markdown",
   "metadata": {},
   "source": [
    "# Cleaning Data in Pandas DataFrames"
   ]
  },
  {
   "cell_type": "markdown",
   "metadata": {},
   "source": [
    "## 1. Import libraries and dependencies"
   ]
  },
  {
   "cell_type": "code",
   "execution_count": 8,
   "metadata": {},
   "outputs": [],
   "source": [
    "# Import the pandas and pathlib libraries\n",
    "import pandas as pd\n",
    "from pathlib import Path\n",
    "import matplotlib as plt"
   ]
  },
  {
   "cell_type": "markdown",
   "metadata": {},
   "source": [
    "## 2. Create a Path to the File Using Pathlib"
   ]
  },
  {
   "cell_type": "code",
   "execution_count": 9,
   "metadata": {},
   "outputs": [],
   "source": [
    "# Use the Pathlib libary to set the path to the CSV\n",
    "filepath=Path('../Resources/people_reordered.csv')\n",
    "df=pd.read_csv(filepath)"
   ]
  },
  {
   "cell_type": "markdown",
   "metadata": {},
   "source": [
    "## 3. Read the CSV into a Pandas DataFrame"
   ]
  },
  {
   "cell_type": "code",
   "execution_count": 10,
   "metadata": {},
   "outputs": [
    {
     "output_type": "execute_result",
     "data": {
      "text/plain": [
       "     Unnamed: 0  Person_ID Last_Name First_Name  Gender  \\\n",
       "995         995      996.0  Crumpton       Meta  Female   \n",
       "996         996      997.0   Gilford      Gunar    Male   \n",
       "997         997      998.0   Gurling   Lucretia  Female   \n",
       "998         998      999.0      Yang     Andrew    Male   \n",
       "999         999      999.0      Yang     Andrew    Male   \n",
       "\n",
       "                                University             Occupation   Salary  \\\n",
       "995   ECAM - Institut Supérieur Industriel       Registered Nurse  57060.0   \n",
       "996                      Smolny University      Marketing Manager  76109.0   \n",
       "997              Institut Teknologi Telkom  Software Engineer III  92115.0   \n",
       "998  Rutgers University School of Business    Curriculum Engineer  60000.0   \n",
       "999  Rutgers University School of Business    Curriculum Engineer  60000.0   \n",
       "\n",
       "                    Email  Age  \n",
       "995    mcrumptonrn@qq.com   52  \n",
       "996  ggilfordro@yandex.ru   32  \n",
       "997      lgurlingrp@de.vu   48  \n",
       "998  ayang@codedrills.com   53  \n",
       "999  ayang@codedrills.com   53  "
      ],
      "text/html": "<div>\n<style scoped>\n    .dataframe tbody tr th:only-of-type {\n        vertical-align: middle;\n    }\n\n    .dataframe tbody tr th {\n        vertical-align: top;\n    }\n\n    .dataframe thead th {\n        text-align: right;\n    }\n</style>\n<table border=\"1\" class=\"dataframe\">\n  <thead>\n    <tr style=\"text-align: right;\">\n      <th></th>\n      <th>Unnamed: 0</th>\n      <th>Person_ID</th>\n      <th>Last_Name</th>\n      <th>First_Name</th>\n      <th>Gender</th>\n      <th>University</th>\n      <th>Occupation</th>\n      <th>Salary</th>\n      <th>Email</th>\n      <th>Age</th>\n    </tr>\n  </thead>\n  <tbody>\n    <tr>\n      <th>995</th>\n      <td>995</td>\n      <td>996.0</td>\n      <td>Crumpton</td>\n      <td>Meta</td>\n      <td>Female</td>\n      <td>ECAM - Institut Supérieur Industriel</td>\n      <td>Registered Nurse</td>\n      <td>57060.0</td>\n      <td>mcrumptonrn@qq.com</td>\n      <td>52</td>\n    </tr>\n    <tr>\n      <th>996</th>\n      <td>996</td>\n      <td>997.0</td>\n      <td>Gilford</td>\n      <td>Gunar</td>\n      <td>Male</td>\n      <td>Smolny University</td>\n      <td>Marketing Manager</td>\n      <td>76109.0</td>\n      <td>ggilfordro@yandex.ru</td>\n      <td>32</td>\n    </tr>\n    <tr>\n      <th>997</th>\n      <td>997</td>\n      <td>998.0</td>\n      <td>Gurling</td>\n      <td>Lucretia</td>\n      <td>Female</td>\n      <td>Institut Teknologi Telkom</td>\n      <td>Software Engineer III</td>\n      <td>92115.0</td>\n      <td>lgurlingrp@de.vu</td>\n      <td>48</td>\n    </tr>\n    <tr>\n      <th>998</th>\n      <td>998</td>\n      <td>999.0</td>\n      <td>Yang</td>\n      <td>Andrew</td>\n      <td>Male</td>\n      <td>Rutgers University School of Business</td>\n      <td>Curriculum Engineer</td>\n      <td>60000.0</td>\n      <td>ayang@codedrills.com</td>\n      <td>53</td>\n    </tr>\n    <tr>\n      <th>999</th>\n      <td>999</td>\n      <td>999.0</td>\n      <td>Yang</td>\n      <td>Andrew</td>\n      <td>Male</td>\n      <td>Rutgers University School of Business</td>\n      <td>Curriculum Engineer</td>\n      <td>60000.0</td>\n      <td>ayang@codedrills.com</td>\n      <td>53</td>\n    </tr>\n  </tbody>\n</table>\n</div>"
     },
     "metadata": {},
     "execution_count": 10
    }
   ],
   "source": [
    "# Use the file path to read the CSV into a DataFrame and display a few rows\n",
    "df.tail()"
   ]
  },
  {
   "cell_type": "markdown",
   "metadata": {},
   "source": [
    "## 4. View Column Data Types"
   ]
  },
  {
   "cell_type": "code",
   "execution_count": 11,
   "metadata": {},
   "outputs": [
    {
     "output_type": "execute_result",
     "data": {
      "text/plain": [
       "Unnamed: 0      int64\n",
       "Person_ID     float64\n",
       "Last_Name      object\n",
       "First_Name     object\n",
       "Gender         object\n",
       "University     object\n",
       "Occupation     object\n",
       "Salary        float64\n",
       "Email          object\n",
       "Age             int64\n",
       "dtype: object"
      ]
     },
     "metadata": {},
     "execution_count": 11
    }
   ],
   "source": [
    "# Use the `dtypes` attribute to list the column data types\n",
    "df.dtypes"
   ]
  },
  {
   "cell_type": "markdown",
   "metadata": {},
   "source": [
    "## 5. Drop Extraneous Columns"
   ]
  },
  {
   "cell_type": "code",
   "execution_count": 12,
   "metadata": {},
   "outputs": [
    {
     "output_type": "execute_result",
     "data": {
      "text/plain": [
       "     Last_Name First_Name  Gender  \\\n",
       "0    Lenormand    Keriann  Female   \n",
       "1        Rupke    Huntley    Male   \n",
       "2  Dalgarnowch     Gorden    Male   \n",
       "3          NaN     Cullie    Male   \n",
       "4    Strangman      Ariel  Female   \n",
       "\n",
       "                                          University          Occupation  \\\n",
       "0                                  Aurora University  Nurse Practicioner   \n",
       "1                      Osaka University of Economics     Project Manager   \n",
       "2                                  Ludong University  Environmental Tech   \n",
       "3  Université des Sciences et de la Technologie d...     Legal Assistant   \n",
       "4                             Boise State University     Project Manager   \n",
       "\n",
       "    Salary                            Email  Age  \n",
       "0  58135.0  klenormand0@businessinsider.com   27  \n",
       "1  96053.0              hrupke1@reuters.com   22  \n",
       "2  59196.0      gdalgarnowch2@microsoft.com   40  \n",
       "3  88493.0               cputten3@nymag.com   62  \n",
       "4  89073.0       astrangman4@bravesites.com   47  "
      ],
      "text/html": "<div>\n<style scoped>\n    .dataframe tbody tr th:only-of-type {\n        vertical-align: middle;\n    }\n\n    .dataframe tbody tr th {\n        vertical-align: top;\n    }\n\n    .dataframe thead th {\n        text-align: right;\n    }\n</style>\n<table border=\"1\" class=\"dataframe\">\n  <thead>\n    <tr style=\"text-align: right;\">\n      <th></th>\n      <th>Last_Name</th>\n      <th>First_Name</th>\n      <th>Gender</th>\n      <th>University</th>\n      <th>Occupation</th>\n      <th>Salary</th>\n      <th>Email</th>\n      <th>Age</th>\n    </tr>\n  </thead>\n  <tbody>\n    <tr>\n      <th>0</th>\n      <td>Lenormand</td>\n      <td>Keriann</td>\n      <td>Female</td>\n      <td>Aurora University</td>\n      <td>Nurse Practicioner</td>\n      <td>58135.0</td>\n      <td>klenormand0@businessinsider.com</td>\n      <td>27</td>\n    </tr>\n    <tr>\n      <th>1</th>\n      <td>Rupke</td>\n      <td>Huntley</td>\n      <td>Male</td>\n      <td>Osaka University of Economics</td>\n      <td>Project Manager</td>\n      <td>96053.0</td>\n      <td>hrupke1@reuters.com</td>\n      <td>22</td>\n    </tr>\n    <tr>\n      <th>2</th>\n      <td>Dalgarnowch</td>\n      <td>Gorden</td>\n      <td>Male</td>\n      <td>Ludong University</td>\n      <td>Environmental Tech</td>\n      <td>59196.0</td>\n      <td>gdalgarnowch2@microsoft.com</td>\n      <td>40</td>\n    </tr>\n    <tr>\n      <th>3</th>\n      <td>NaN</td>\n      <td>Cullie</td>\n      <td>Male</td>\n      <td>Université des Sciences et de la Technologie d...</td>\n      <td>Legal Assistant</td>\n      <td>88493.0</td>\n      <td>cputten3@nymag.com</td>\n      <td>62</td>\n    </tr>\n    <tr>\n      <th>4</th>\n      <td>Strangman</td>\n      <td>Ariel</td>\n      <td>Female</td>\n      <td>Boise State University</td>\n      <td>Project Manager</td>\n      <td>89073.0</td>\n      <td>astrangman4@bravesites.com</td>\n      <td>47</td>\n    </tr>\n  </tbody>\n</table>\n</div>"
     },
     "metadata": {},
     "execution_count": 12
    }
   ],
   "source": [
    "# Use the `drop` function to drop specific columns\n",
    "dfclean=df.drop(columns=['Person_ID','Unnamed: 0'])\n",
    "dfclean.head()"
   ]
  },
  {
   "cell_type": "markdown",
   "metadata": {},
   "source": [
    "---"
   ]
  },
  {
   "cell_type": "markdown",
   "metadata": {},
   "source": [
    "## 6. Identify Data Quality Issues"
   ]
  },
  {
   "cell_type": "markdown",
   "metadata": {},
   "source": [
    "### 1. Identify the Number of Rows"
   ]
  },
  {
   "cell_type": "code",
   "execution_count": 13,
   "metadata": {},
   "outputs": [
    {
     "output_type": "execute_result",
     "data": {
      "text/plain": [
       "Last_Name     10\n",
       "First_Name     7\n",
       "Gender         2\n",
       "University     9\n",
       "Occupation     2\n",
       "Salary         2\n",
       "Email          8\n",
       "Age            0\n",
       "dtype: int64"
      ]
     },
     "metadata": {},
     "execution_count": 13
    }
   ],
   "source": [
    "# Use the `count` function to view count of non-null values for each column\n",
    "dfclean.isnull().sum()"
   ]
  },
  {
   "cell_type": "markdown",
   "metadata": {},
   "source": [
    "### 2. Identify Frequency Counts of a Specific Column"
   ]
  },
  {
   "cell_type": "code",
   "execution_count": 14,
   "metadata": {},
   "outputs": [
    {
     "output_type": "execute_result",
     "data": {
      "text/plain": [
       "Ailbert    3\n",
       "Israel     3\n",
       "Marty      2\n",
       "Ruy        2\n",
       "Gal        2\n",
       "          ..\n",
       "Cirillo    1\n",
       "Bradan     1\n",
       "Lucho      1\n",
       "Audry      1\n",
       "Jeniece    1\n",
       "Name: First_Name, Length: 914, dtype: int64"
      ]
     },
     "metadata": {},
     "execution_count": 14
    }
   ],
   "source": [
    "# Identifying frequency counts of the `first_name` column\n",
    "dfclean['First_Name'].value_counts()"
   ]
  },
  {
   "cell_type": "markdown",
   "metadata": {},
   "source": [
    "### 3. Identify Null Values"
   ]
  },
  {
   "cell_type": "code",
   "execution_count": 15,
   "metadata": {},
   "outputs": [
    {
     "output_type": "execute_result",
     "data": {
      "text/plain": [
       "     Last_Name  First_Name  Gender  University  Occupation  Salary  Email  \\\n",
       "0        False       False   False       False       False   False  False   \n",
       "1        False       False   False       False       False   False  False   \n",
       "2        False       False   False       False       False   False  False   \n",
       "3         True       False   False       False       False   False  False   \n",
       "4        False       False   False       False       False   False  False   \n",
       "..         ...         ...     ...         ...         ...     ...    ...   \n",
       "995      False       False   False       False       False   False  False   \n",
       "996      False       False   False       False       False   False  False   \n",
       "997      False       False   False       False       False   False  False   \n",
       "998      False       False   False       False       False   False  False   \n",
       "999      False       False   False       False       False   False  False   \n",
       "\n",
       "       Age  \n",
       "0    False  \n",
       "1    False  \n",
       "2    False  \n",
       "3    False  \n",
       "4    False  \n",
       "..     ...  \n",
       "995  False  \n",
       "996  False  \n",
       "997  False  \n",
       "998  False  \n",
       "999  False  \n",
       "\n",
       "[1000 rows x 8 columns]"
      ],
      "text/html": "<div>\n<style scoped>\n    .dataframe tbody tr th:only-of-type {\n        vertical-align: middle;\n    }\n\n    .dataframe tbody tr th {\n        vertical-align: top;\n    }\n\n    .dataframe thead th {\n        text-align: right;\n    }\n</style>\n<table border=\"1\" class=\"dataframe\">\n  <thead>\n    <tr style=\"text-align: right;\">\n      <th></th>\n      <th>Last_Name</th>\n      <th>First_Name</th>\n      <th>Gender</th>\n      <th>University</th>\n      <th>Occupation</th>\n      <th>Salary</th>\n      <th>Email</th>\n      <th>Age</th>\n    </tr>\n  </thead>\n  <tbody>\n    <tr>\n      <th>0</th>\n      <td>False</td>\n      <td>False</td>\n      <td>False</td>\n      <td>False</td>\n      <td>False</td>\n      <td>False</td>\n      <td>False</td>\n      <td>False</td>\n    </tr>\n    <tr>\n      <th>1</th>\n      <td>False</td>\n      <td>False</td>\n      <td>False</td>\n      <td>False</td>\n      <td>False</td>\n      <td>False</td>\n      <td>False</td>\n      <td>False</td>\n    </tr>\n    <tr>\n      <th>2</th>\n      <td>False</td>\n      <td>False</td>\n      <td>False</td>\n      <td>False</td>\n      <td>False</td>\n      <td>False</td>\n      <td>False</td>\n      <td>False</td>\n    </tr>\n    <tr>\n      <th>3</th>\n      <td>True</td>\n      <td>False</td>\n      <td>False</td>\n      <td>False</td>\n      <td>False</td>\n      <td>False</td>\n      <td>False</td>\n      <td>False</td>\n    </tr>\n    <tr>\n      <th>4</th>\n      <td>False</td>\n      <td>False</td>\n      <td>False</td>\n      <td>False</td>\n      <td>False</td>\n      <td>False</td>\n      <td>False</td>\n      <td>False</td>\n    </tr>\n    <tr>\n      <th>...</th>\n      <td>...</td>\n      <td>...</td>\n      <td>...</td>\n      <td>...</td>\n      <td>...</td>\n      <td>...</td>\n      <td>...</td>\n      <td>...</td>\n    </tr>\n    <tr>\n      <th>995</th>\n      <td>False</td>\n      <td>False</td>\n      <td>False</td>\n      <td>False</td>\n      <td>False</td>\n      <td>False</td>\n      <td>False</td>\n      <td>False</td>\n    </tr>\n    <tr>\n      <th>996</th>\n      <td>False</td>\n      <td>False</td>\n      <td>False</td>\n      <td>False</td>\n      <td>False</td>\n      <td>False</td>\n      <td>False</td>\n      <td>False</td>\n    </tr>\n    <tr>\n      <th>997</th>\n      <td>False</td>\n      <td>False</td>\n      <td>False</td>\n      <td>False</td>\n      <td>False</td>\n      <td>False</td>\n      <td>False</td>\n      <td>False</td>\n    </tr>\n    <tr>\n      <th>998</th>\n      <td>False</td>\n      <td>False</td>\n      <td>False</td>\n      <td>False</td>\n      <td>False</td>\n      <td>False</td>\n      <td>False</td>\n      <td>False</td>\n    </tr>\n    <tr>\n      <th>999</th>\n      <td>False</td>\n      <td>False</td>\n      <td>False</td>\n      <td>False</td>\n      <td>False</td>\n      <td>False</td>\n      <td>False</td>\n      <td>False</td>\n    </tr>\n  </tbody>\n</table>\n<p>1000 rows × 8 columns</p>\n</div>"
     },
     "metadata": {},
     "execution_count": 15
    }
   ],
   "source": [
    "# Checking for null\n",
    "dfclean.isnull()"
   ]
  },
  {
   "cell_type": "markdown",
   "metadata": {},
   "source": [
    "### 4. Determine the Number of Nulls"
   ]
  },
  {
   "cell_type": "code",
   "execution_count": 16,
   "metadata": {},
   "outputs": [
    {
     "output_type": "execute_result",
     "data": {
      "text/plain": [
       "40"
      ]
     },
     "metadata": {},
     "execution_count": 16
    }
   ],
   "source": [
    "# Determining number of nulls\n",
    "dfclean.isnull()\n",
    "dfclean.isnull().sum()\n",
    "dfclean.isnull().sum().sum()"
   ]
  },
  {
   "cell_type": "markdown",
   "metadata": {},
   "source": [
    "### 5. Determining the Percentage of Nulls for each Column"
   ]
  },
  {
   "cell_type": "code",
   "execution_count": 17,
   "metadata": {},
   "outputs": [
    {
     "output_type": "execute_result",
     "data": {
      "text/plain": [
       "Last_Name     1.0\n",
       "First_Name    0.7\n",
       "Gender        0.2\n",
       "University    0.9\n",
       "Occupation    0.2\n",
       "Salary        0.2\n",
       "Email         0.8\n",
       "Age           0.0\n",
       "dtype: float64"
      ]
     },
     "metadata": {},
     "execution_count": 17
    }
   ],
   "source": [
    "# Determining percentage of nulls\n",
    "dfclean.isnull().mean()*100"
   ]
  },
  {
   "cell_type": "markdown",
   "metadata": {},
   "source": [
    "### 6. Check for Duplicate Rows"
   ]
  },
  {
   "cell_type": "code",
   "execution_count": 18,
   "metadata": {},
   "outputs": [
    {
     "output_type": "execute_result",
     "data": {
      "text/plain": [
       "0      False\n",
       "1      False\n",
       "2      False\n",
       "3      False\n",
       "4      False\n",
       "       ...  \n",
       "995    False\n",
       "996    False\n",
       "997    False\n",
       "998    False\n",
       "999     True\n",
       "Length: 1000, dtype: bool"
      ]
     },
     "metadata": {},
     "execution_count": 18
    }
   ],
   "source": [
    "# Use the `duplicated` function to determine the existance of duplicate rows: True or False\n",
    "dfclean.duplicated()"
   ]
  },
  {
   "cell_type": "markdown",
   "metadata": {},
   "source": [
    "### 7. Check for Duplicate `first_name` Values"
   ]
  },
  {
   "cell_type": "code",
   "execution_count": 19,
   "metadata": {},
   "outputs": [
    {
     "output_type": "execute_result",
     "data": {
      "text/plain": [
       "0"
      ]
     },
     "metadata": {},
     "execution_count": 19
    }
   ],
   "source": [
    "# Use the `duplicated` function in conjunction with a list of columns to \n",
    "# determine the existence of duplicate rows based on the selected columns\n",
    "dfclean[['First_Name','Last_Name']].duplicated\n",
    "dfclean['First_Name']=dfclean['First_Name'].fillna('No_Name')\n",
    "dfclean.dropna(inplace=True)\n",
    "dfclean.isnull().sum().sum()\n"
   ]
  },
  {
   "cell_type": "markdown",
   "metadata": {},
   "source": [
    "---"
   ]
  },
  {
   "cell_type": "markdown",
   "metadata": {},
   "source": [
    "## 7. Resolve Data Quality Issues"
   ]
  },
  {
   "cell_type": "markdown",
   "metadata": {},
   "source": [
    "### 1. Fill First_Name and Last_Name Null Values with Default Value \"Unnamed\""
   ]
  },
  {
   "cell_type": "markdown",
   "metadata": {},
   "source": [
    "### 2. Drop Remaining Records with Nulls from DataFrame"
   ]
  },
  {
   "cell_type": "markdown",
   "metadata": {},
   "source": [
    "### 3. Check Null Counts for Each Column (Again)"
   ]
  },
  {
   "cell_type": "markdown",
   "metadata": {},
   "source": [
    "### 4. Cleanse data by Dropping Duplicates"
   ]
  },
  {
   "cell_type": "code",
   "execution_count": 21,
   "metadata": {},
   "outputs": [
    {
     "output_type": "execute_result",
     "data": {
      "text/plain": [
       "       Last_Name First_Name  Gender                             University  \\\n",
       "0      Lenormand    Keriann  Female                      Aurora University   \n",
       "1          Rupke    Huntley    Male          Osaka University of Economics   \n",
       "2    Dalgarnowch     Gorden    Male                      Ludong University   \n",
       "4      Strangman      Ariel  Female                 Boise State University   \n",
       "5      Snozzwell    Antonio    Male                     Babcock University   \n",
       "..           ...        ...     ...                                    ...   \n",
       "994       Jeacop       Iggy    Male                University of Greenwich   \n",
       "995     Crumpton       Meta  Female   ECAM - Institut Supérieur Industriel   \n",
       "996      Gilford      Gunar    Male                      Smolny University   \n",
       "997      Gurling   Lucretia  Female              Institut Teknologi Telkom   \n",
       "998         Yang     Andrew    Male  Rutgers University School of Business   \n",
       "\n",
       "                Occupation    Salary                            Email  Age  \n",
       "0       Nurse Practicioner   58135.0  klenormand0@businessinsider.com   27  \n",
       "1          Project Manager   96053.0              hrupke1@reuters.com   22  \n",
       "2       Environmental Tech   59196.0      gdalgarnowch2@microsoft.com   40  \n",
       "4          Project Manager   89073.0       astrangman4@bravesites.com   47  \n",
       "5         Technical Writer  119916.0            asnozzwell5@mysql.com   49  \n",
       "..                     ...       ...                              ...  ...  \n",
       "994        Sales Associate   82726.0            ijeacoprm@4shared.com   22  \n",
       "995       Registered Nurse   57060.0               mcrumptonrn@qq.com   52  \n",
       "996      Marketing Manager   76109.0             ggilfordro@yandex.ru   32  \n",
       "997  Software Engineer III   92115.0                 lgurlingrp@de.vu   48  \n",
       "998    Curriculum Engineer   60000.0             ayang@codedrills.com   53  \n",
       "\n",
       "[966 rows x 8 columns]"
      ],
      "text/html": "<div>\n<style scoped>\n    .dataframe tbody tr th:only-of-type {\n        vertical-align: middle;\n    }\n\n    .dataframe tbody tr th {\n        vertical-align: top;\n    }\n\n    .dataframe thead th {\n        text-align: right;\n    }\n</style>\n<table border=\"1\" class=\"dataframe\">\n  <thead>\n    <tr style=\"text-align: right;\">\n      <th></th>\n      <th>Last_Name</th>\n      <th>First_Name</th>\n      <th>Gender</th>\n      <th>University</th>\n      <th>Occupation</th>\n      <th>Salary</th>\n      <th>Email</th>\n      <th>Age</th>\n    </tr>\n  </thead>\n  <tbody>\n    <tr>\n      <th>0</th>\n      <td>Lenormand</td>\n      <td>Keriann</td>\n      <td>Female</td>\n      <td>Aurora University</td>\n      <td>Nurse Practicioner</td>\n      <td>58135.0</td>\n      <td>klenormand0@businessinsider.com</td>\n      <td>27</td>\n    </tr>\n    <tr>\n      <th>1</th>\n      <td>Rupke</td>\n      <td>Huntley</td>\n      <td>Male</td>\n      <td>Osaka University of Economics</td>\n      <td>Project Manager</td>\n      <td>96053.0</td>\n      <td>hrupke1@reuters.com</td>\n      <td>22</td>\n    </tr>\n    <tr>\n      <th>2</th>\n      <td>Dalgarnowch</td>\n      <td>Gorden</td>\n      <td>Male</td>\n      <td>Ludong University</td>\n      <td>Environmental Tech</td>\n      <td>59196.0</td>\n      <td>gdalgarnowch2@microsoft.com</td>\n      <td>40</td>\n    </tr>\n    <tr>\n      <th>4</th>\n      <td>Strangman</td>\n      <td>Ariel</td>\n      <td>Female</td>\n      <td>Boise State University</td>\n      <td>Project Manager</td>\n      <td>89073.0</td>\n      <td>astrangman4@bravesites.com</td>\n      <td>47</td>\n    </tr>\n    <tr>\n      <th>5</th>\n      <td>Snozzwell</td>\n      <td>Antonio</td>\n      <td>Male</td>\n      <td>Babcock University</td>\n      <td>Technical Writer</td>\n      <td>119916.0</td>\n      <td>asnozzwell5@mysql.com</td>\n      <td>49</td>\n    </tr>\n    <tr>\n      <th>...</th>\n      <td>...</td>\n      <td>...</td>\n      <td>...</td>\n      <td>...</td>\n      <td>...</td>\n      <td>...</td>\n      <td>...</td>\n      <td>...</td>\n    </tr>\n    <tr>\n      <th>994</th>\n      <td>Jeacop</td>\n      <td>Iggy</td>\n      <td>Male</td>\n      <td>University of Greenwich</td>\n      <td>Sales Associate</td>\n      <td>82726.0</td>\n      <td>ijeacoprm@4shared.com</td>\n      <td>22</td>\n    </tr>\n    <tr>\n      <th>995</th>\n      <td>Crumpton</td>\n      <td>Meta</td>\n      <td>Female</td>\n      <td>ECAM - Institut Supérieur Industriel</td>\n      <td>Registered Nurse</td>\n      <td>57060.0</td>\n      <td>mcrumptonrn@qq.com</td>\n      <td>52</td>\n    </tr>\n    <tr>\n      <th>996</th>\n      <td>Gilford</td>\n      <td>Gunar</td>\n      <td>Male</td>\n      <td>Smolny University</td>\n      <td>Marketing Manager</td>\n      <td>76109.0</td>\n      <td>ggilfordro@yandex.ru</td>\n      <td>32</td>\n    </tr>\n    <tr>\n      <th>997</th>\n      <td>Gurling</td>\n      <td>Lucretia</td>\n      <td>Female</td>\n      <td>Institut Teknologi Telkom</td>\n      <td>Software Engineer III</td>\n      <td>92115.0</td>\n      <td>lgurlingrp@de.vu</td>\n      <td>48</td>\n    </tr>\n    <tr>\n      <th>998</th>\n      <td>Yang</td>\n      <td>Andrew</td>\n      <td>Male</td>\n      <td>Rutgers University School of Business</td>\n      <td>Curriculum Engineer</td>\n      <td>60000.0</td>\n      <td>ayang@codedrills.com</td>\n      <td>53</td>\n    </tr>\n  </tbody>\n</table>\n<p>966 rows × 8 columns</p>\n</div>"
     },
     "metadata": {},
     "execution_count": 21
    }
   ],
   "source": [
    "# Use the `drop_duplicates` function with the `subset` parameter to \n",
    "# drop duplicates based on a selection of columns\n",
    "dfclean.drop_duplicates(subset=['Last_Name','First_Name'])\n",
    "\n",
    "\n",
    "\n"
   ]
  },
  {
   "cell_type": "markdown",
   "metadata": {},
   "source": [
    "### 5. Convert Columns to Different DataTypes"
   ]
  },
  {
   "cell_type": "code",
   "execution_count": 22,
   "metadata": {},
   "outputs": [
    {
     "output_type": "error",
     "ename": "KeyError",
     "evalue": "'Person_ID'",
     "traceback": [
      "\u001b[0;31m---------------------------------------------------------------------------\u001b[0m",
      "\u001b[0;31mKeyError\u001b[0m                                  Traceback (most recent call last)",
      "\u001b[0;32m~/opt/anaconda3/lib/python3.8/site-packages/pandas/core/indexes/base.py\u001b[0m in \u001b[0;36mget_loc\u001b[0;34m(self, key, method, tolerance)\u001b[0m\n\u001b[1;32m   2897\u001b[0m             \u001b[0;32mtry\u001b[0m\u001b[0;34m:\u001b[0m\u001b[0;34m\u001b[0m\u001b[0;34m\u001b[0m\u001b[0m\n\u001b[0;32m-> 2898\u001b[0;31m                 \u001b[0;32mreturn\u001b[0m \u001b[0mself\u001b[0m\u001b[0;34m.\u001b[0m\u001b[0m_engine\u001b[0m\u001b[0;34m.\u001b[0m\u001b[0mget_loc\u001b[0m\u001b[0;34m(\u001b[0m\u001b[0mcasted_key\u001b[0m\u001b[0;34m)\u001b[0m\u001b[0;34m\u001b[0m\u001b[0;34m\u001b[0m\u001b[0m\n\u001b[0m\u001b[1;32m   2899\u001b[0m             \u001b[0;32mexcept\u001b[0m \u001b[0mKeyError\u001b[0m \u001b[0;32mas\u001b[0m \u001b[0merr\u001b[0m\u001b[0;34m:\u001b[0m\u001b[0;34m\u001b[0m\u001b[0;34m\u001b[0m\u001b[0m\n",
      "\u001b[0;32mpandas/_libs/index.pyx\u001b[0m in \u001b[0;36mpandas._libs.index.IndexEngine.get_loc\u001b[0;34m()\u001b[0m\n",
      "\u001b[0;32mpandas/_libs/index.pyx\u001b[0m in \u001b[0;36mpandas._libs.index.IndexEngine.get_loc\u001b[0;34m()\u001b[0m\n",
      "\u001b[0;32mpandas/_libs/hashtable_class_helper.pxi\u001b[0m in \u001b[0;36mpandas._libs.hashtable.PyObjectHashTable.get_item\u001b[0;34m()\u001b[0m\n",
      "\u001b[0;32mpandas/_libs/hashtable_class_helper.pxi\u001b[0m in \u001b[0;36mpandas._libs.hashtable.PyObjectHashTable.get_item\u001b[0;34m()\u001b[0m\n",
      "\u001b[0;31mKeyError\u001b[0m: 'Person_ID'",
      "\nThe above exception was the direct cause of the following exception:\n",
      "\u001b[0;31mKeyError\u001b[0m                                  Traceback (most recent call last)",
      "\u001b[0;32m<ipython-input-22-f5b63ffebd05>\u001b[0m in \u001b[0;36m<module>\u001b[0;34m\u001b[0m\n\u001b[1;32m      1\u001b[0m \u001b[0;31m# Use the `as_type` function to convert `Person_ID` from `float` to `int`\u001b[0m\u001b[0;34m\u001b[0m\u001b[0;34m\u001b[0m\u001b[0;34m\u001b[0m\u001b[0m\n\u001b[1;32m      2\u001b[0m \u001b[0;31m#* I HAVE ALREADY REMOVED PERSON_ID from DATA FRAME\u001b[0m\u001b[0;34m\u001b[0m\u001b[0;34m\u001b[0m\u001b[0;34m\u001b[0m\u001b[0m\n\u001b[0;32m----> 3\u001b[0;31m \u001b[0mdfclean\u001b[0m\u001b[0;34m[\u001b[0m\u001b[0;34m'Person_ID'\u001b[0m\u001b[0;34m]\u001b[0m\u001b[0;34m=\u001b[0m\u001b[0mdfclean\u001b[0m\u001b[0;34m[\u001b[0m\u001b[0;34m'Person_ID'\u001b[0m\u001b[0;34m]\u001b[0m\u001b[0;34m.\u001b[0m\u001b[0mastype\u001b[0m\u001b[0;34m(\u001b[0m\u001b[0;34m'int'\u001b[0m\u001b[0;34m)\u001b[0m\u001b[0;34m\u001b[0m\u001b[0;34m\u001b[0m\u001b[0m\n\u001b[0m",
      "\u001b[0;32m~/opt/anaconda3/lib/python3.8/site-packages/pandas/core/frame.py\u001b[0m in \u001b[0;36m__getitem__\u001b[0;34m(self, key)\u001b[0m\n\u001b[1;32m   2904\u001b[0m             \u001b[0;32mif\u001b[0m \u001b[0mself\u001b[0m\u001b[0;34m.\u001b[0m\u001b[0mcolumns\u001b[0m\u001b[0;34m.\u001b[0m\u001b[0mnlevels\u001b[0m \u001b[0;34m>\u001b[0m \u001b[0;36m1\u001b[0m\u001b[0;34m:\u001b[0m\u001b[0;34m\u001b[0m\u001b[0;34m\u001b[0m\u001b[0m\n\u001b[1;32m   2905\u001b[0m                 \u001b[0;32mreturn\u001b[0m \u001b[0mself\u001b[0m\u001b[0;34m.\u001b[0m\u001b[0m_getitem_multilevel\u001b[0m\u001b[0;34m(\u001b[0m\u001b[0mkey\u001b[0m\u001b[0;34m)\u001b[0m\u001b[0;34m\u001b[0m\u001b[0;34m\u001b[0m\u001b[0m\n\u001b[0;32m-> 2906\u001b[0;31m             \u001b[0mindexer\u001b[0m \u001b[0;34m=\u001b[0m \u001b[0mself\u001b[0m\u001b[0;34m.\u001b[0m\u001b[0mcolumns\u001b[0m\u001b[0;34m.\u001b[0m\u001b[0mget_loc\u001b[0m\u001b[0;34m(\u001b[0m\u001b[0mkey\u001b[0m\u001b[0;34m)\u001b[0m\u001b[0;34m\u001b[0m\u001b[0;34m\u001b[0m\u001b[0m\n\u001b[0m\u001b[1;32m   2907\u001b[0m             \u001b[0;32mif\u001b[0m \u001b[0mis_integer\u001b[0m\u001b[0;34m(\u001b[0m\u001b[0mindexer\u001b[0m\u001b[0;34m)\u001b[0m\u001b[0;34m:\u001b[0m\u001b[0;34m\u001b[0m\u001b[0;34m\u001b[0m\u001b[0m\n\u001b[1;32m   2908\u001b[0m                 \u001b[0mindexer\u001b[0m \u001b[0;34m=\u001b[0m \u001b[0;34m[\u001b[0m\u001b[0mindexer\u001b[0m\u001b[0;34m]\u001b[0m\u001b[0;34m\u001b[0m\u001b[0;34m\u001b[0m\u001b[0m\n",
      "\u001b[0;32m~/opt/anaconda3/lib/python3.8/site-packages/pandas/core/indexes/base.py\u001b[0m in \u001b[0;36mget_loc\u001b[0;34m(self, key, method, tolerance)\u001b[0m\n\u001b[1;32m   2898\u001b[0m                 \u001b[0;32mreturn\u001b[0m \u001b[0mself\u001b[0m\u001b[0;34m.\u001b[0m\u001b[0m_engine\u001b[0m\u001b[0;34m.\u001b[0m\u001b[0mget_loc\u001b[0m\u001b[0;34m(\u001b[0m\u001b[0mcasted_key\u001b[0m\u001b[0;34m)\u001b[0m\u001b[0;34m\u001b[0m\u001b[0;34m\u001b[0m\u001b[0m\n\u001b[1;32m   2899\u001b[0m             \u001b[0;32mexcept\u001b[0m \u001b[0mKeyError\u001b[0m \u001b[0;32mas\u001b[0m \u001b[0merr\u001b[0m\u001b[0;34m:\u001b[0m\u001b[0;34m\u001b[0m\u001b[0;34m\u001b[0m\u001b[0m\n\u001b[0;32m-> 2900\u001b[0;31m                 \u001b[0;32mraise\u001b[0m \u001b[0mKeyError\u001b[0m\u001b[0;34m(\u001b[0m\u001b[0mkey\u001b[0m\u001b[0;34m)\u001b[0m \u001b[0;32mfrom\u001b[0m \u001b[0merr\u001b[0m\u001b[0;34m\u001b[0m\u001b[0;34m\u001b[0m\u001b[0m\n\u001b[0m\u001b[1;32m   2901\u001b[0m \u001b[0;34m\u001b[0m\u001b[0m\n\u001b[1;32m   2902\u001b[0m         \u001b[0;32mif\u001b[0m \u001b[0mtolerance\u001b[0m \u001b[0;32mis\u001b[0m \u001b[0;32mnot\u001b[0m \u001b[0;32mNone\u001b[0m\u001b[0;34m:\u001b[0m\u001b[0;34m\u001b[0m\u001b[0;34m\u001b[0m\u001b[0m\n",
      "\u001b[0;31mKeyError\u001b[0m: 'Person_ID'"
     ]
    }
   ],
   "source": [
    "# Use the `as_type` function to convert `Person_ID` from `float` to `int`\n",
    "#* I HAVE ALREADY REMOVED PERSON_ID from DATA FRAME\n",
    "dfclean['Person_ID']=dfclean['Person_ID'].astype('int')"
   ]
  },
  {
   "cell_type": "markdown",
   "metadata": {},
   "source": [
    "## 8. Save Cleansed Data to New CSV"
   ]
  },
  {
   "cell_type": "code",
   "execution_count": 48,
   "metadata": {},
   "outputs": [],
   "source": [
    "# Save modified DataFrame to the Resources folder. \n",
    "# Use the `index` parameter set to `False` to exclude saving the index.\n",
    "dfclean.to_csv('../Unsolved/dfclean.csv',index=False)"
   ]
  },
  {
   "cell_type": "code",
   "execution_count": null,
   "metadata": {},
   "outputs": [],
   "source": []
  }
 ],
 "metadata": {
  "kernelspec": {
   "display_name": "Python 3",
   "language": "python",
   "name": "python3"
  },
  "language_info": {
   "codemirror_mode": {
    "name": "ipython",
    "version": 3
   },
   "file_extension": ".py",
   "mimetype": "text/x-python",
   "name": "python",
   "nbconvert_exporter": "python",
   "pygments_lexer": "ipython3",
   "version": "3.8.5-final"
  }
 },
 "nbformat": 4,
 "nbformat_minor": 2
}