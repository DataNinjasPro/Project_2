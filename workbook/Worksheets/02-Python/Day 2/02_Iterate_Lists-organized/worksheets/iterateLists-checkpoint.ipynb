{
 "cells": [
  {
   "cell_type": "code",
   "execution_count": 6,
   "metadata": {},
   "outputs": [],
   "source": [
    "# Initialize the metric variables\n",
    "count = 0\n",
    "total = 0\n",
    "average = 0\n",
    "minimum = 0\n",
    "maximum = 0\n",
    "#name = \"\"\n"
   ]
  },
  {
   "cell_type": "code",
   "execution_count": 1,
   "metadata": {},
   "outputs": [
    {
     "name": "stdout",
     "output_type": "stream",
     "text": [
      "22\n",
      "10\n",
      "30\n",
      "45\n",
      "54\n",
      "60\n",
      "56\n"
     ]
    }
   ],
   "source": [
    "# List of daily tips\n",
    "cash_tips = [22, 10, 30, 45, 54, 60, 56]\n",
    "\n",
    "# Showcase every tip in the list\n",
    "for dollar_amount in cash_tips:\n",
    "    print(dollar_amount)"
   ]
  },
  {
   "cell_type": "code",
   "execution_count": 4,
   "metadata": {},
   "outputs": [
    {
     "name": "stdout",
     "output_type": "stream",
     "text": [
      "22\n",
      "10\n",
      "30\n"
     ]
    }
   ],
   "source": [
    "print(cash_tips[0])\n",
    "print(cash_tips[1])\n",
    "print(cash_tips[2])"
   ]
  },
  {
   "cell_type": "code",
   "execution_count": 7,
   "metadata": {},
   "outputs": [],
   "source": [
    "# Iterate over each element of the list to determine metrics\n",
    "for tip in cash_tips:\n",
    "\n",
    "    # Cumulatively sum up the total and count of tips\n",
    "    total += tip\n",
    "    #total = tip + 1\n",
    "    count += 1\n",
    "\n",
    "    # Logic to determine minimum values\n",
    "    if minimum == 0:\n",
    "        minimum = tip\n",
    "    elif tip < minimum:\n",
    "        minimum = tip\n",
    "\n",
    "    # Logic to determine maximum values        \n",
    "    if tip > maximum:\n",
    "        maximum = tip\n"
   ]
  },
  {
   "cell_type": "code",
   "execution_count": 9,
   "metadata": {},
   "outputs": [
    {
     "name": "stdout",
     "output_type": "stream",
     "text": [
      "277\n",
      "7\n"
     ]
    }
   ],
   "source": [
    "print(total)\n",
    "print(count)"
   ]
  },
  {
   "cell_type": "code",
   "execution_count": 12,
   "metadata": {},
   "outputs": [
    {
     "data": {
      "text/plain": [
       "39.571"
      ]
     },
     "execution_count": 12,
     "metadata": {},
     "output_type": "execute_result"
    }
   ],
   "source": [
    "# Calculate the average\n",
    "average = round(total / count,3)\n",
    "average"
   ]
  },
  {
   "cell_type": "code",
   "execution_count": 13,
   "metadata": {},
   "outputs": [
    {
     "name": "stdout",
     "output_type": "stream",
     "text": [
      "---------Summary Statistics----------\n",
      "Number of Days: 7\n",
      "Total Tips: 277\n",
      "Daily Average: 39.571\n",
      "Least Amount of Tips: 10\n",
      "Maximum Amount of Tips: 60\n"
     ]
    }
   ],
   "source": [
    "# Print out the summary statistics\n",
    "print(\"---------Summary Statistics----------\")\n",
    "print(f\"Number of Days: {count}\")\n",
    "print(f\"Total Tips: {total}\")\n",
    "print(f\"Daily Average: {average}\")\n",
    "print(f\"Least Amount of Tips: {minimum}\")\n",
    "print(f\"Maximum Amount of Tips: {maximum}\")\n"
   ]
  },
  {
   "cell_type": "code",
   "execution_count": null,
   "metadata": {},
   "outputs": [],
   "source": []
  }
 ],
 "metadata": {
  "kernelspec": {
   "display_name": "Python 3",
   "language": "python",
   "name": "python3"
  },
  "language_info": {
   "codemirror_mode": {
    "name": "ipython",
    "version": 3
   },
   "file_extension": ".py",
   "mimetype": "text/x-python",
   "name": "python",
   "nbconvert_exporter": "python",
   "pygments_lexer": "ipython3",
   "version": "3.7.7"
  }
 },
 "nbformat": 4,
 "nbformat_minor": 4
}
