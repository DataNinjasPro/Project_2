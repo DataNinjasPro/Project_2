{
 "cells": [
  {
   "cell_type": "code",
   "execution_count": 1,
   "metadata": {},
   "outputs": [],
   "source": [
    "# Cheer-leading python exercise\n",
    "# Create a variable named cheer\n",
    "#cheer = \"Fintech\"\n",
    "cheer = [\"Python\", \"FinTech\",\"Money\"]\n",
    "\n",
    "\n"
   ]
  },
  {
   "cell_type": "code",
   "execution_count": 3,
   "metadata": {},
   "outputs": [
    {
     "data": {
      "text/plain": [
       "range(0, 3)"
      ]
     },
     "execution_count": 3,
     "metadata": {},
     "output_type": "execute_result"
    }
   ],
   "source": [
    "range(len(cheer))"
   ]
  },
  {
   "cell_type": "code",
   "execution_count": 5,
   "metadata": {},
   "outputs": [
    {
     "data": {
      "text/plain": [
       "'Money'"
      ]
     },
     "execution_count": 5,
     "metadata": {},
     "output_type": "execute_result"
    }
   ],
   "source": [
    "cheer[2]"
   ]
  },
  {
   "cell_type": "code",
   "execution_count": null,
   "metadata": {},
   "outputs": [],
   "source": [
    "# Below strings can be used to add fun\n",
    "cheer_symbol = \"*\\O/*\"\n",
    "cheer_symbol_2 = \"ヘ( ^o^)ノ＼(^_^ )\""
   ]
  },
  {
   "cell_type": "code",
   "execution_count": 6,
   "metadata": {},
   "outputs": [
    {
     "name": "stdout",
     "output_type": "stream",
     "text": [
      "Give me a P!\n",
      "P!\n",
      "Give me a y!\n",
      "y!\n",
      "Give me a t!\n",
      "t!\n",
      "Give me a h!\n",
      "h!\n",
      "Give me a o!\n",
      "o!\n",
      "Give me a n!\n",
      "n!\n",
      "\n",
      "What does that spell?!\n",
      "Python!\n",
      "Woohoo! Go Python!\n",
      "\n",
      "Give me a F!\n",
      "F!\n",
      "Give me a i!\n",
      "i!\n",
      "Give me a n!\n",
      "n!\n",
      "Give me a T!\n",
      "T!\n",
      "Give me a e!\n",
      "e!\n",
      "Give me a c!\n",
      "c!\n",
      "Give me a h!\n",
      "h!\n",
      "\n",
      "What does that spell?!\n",
      "FinTech!\n",
      "Woohoo! Go FinTech!\n",
      "\n",
      "Give me a M!\n",
      "M!\n",
      "Give me a o!\n",
      "o!\n",
      "Give me a n!\n",
      "n!\n",
      "Give me a e!\n",
      "e!\n",
      "Give me a y!\n",
      "y!\n",
      "\n",
      "What does that spell?!\n",
      "Money!\n",
      "Woohoo! Go Money!\n",
      "\n"
     ]
    }
   ],
   "source": [
    "# Loop through string\n",
    "for i in range(len(cheer)):\n",
    "    for x in cheer[i]:\n",
    "        #Print each letter with a cheer\n",
    "        print(\"Give me a \" + x + \"!\")\n",
    "        print(x + \"!\")\n",
    "\n",
    "    # Print excitement to screen\n",
    "    print(\"\\nWhat does that spell?!\")\n",
    "    print(cheer[i] + \"!\\nWoohoo! Go \" + cheer[i] + \"!\")\n",
    "#     print(cheer_symbol * 3)\n",
    "#     print(cheer_symbol_2)\n",
    "    print()"
   ]
  },
  {
   "cell_type": "code",
   "execution_count": 8,
   "metadata": {},
   "outputs": [
    {
     "name": "stdout",
     "output_type": "stream",
     "text": [
      "Creating a list of Pokemon...\n",
      "['Pikachu', 'Charizard', 'Bulbasaur', 'Gyarados', 'Dragonite', 'Onyx']\n",
      "\n"
     ]
    }
   ],
   "source": [
    "# Create a list of Pokemon\n",
    "print(\"Creating a list of Pokemon...\")\n",
    "pokemon = [\"Pikachu\", \"Charizard\", \"Bulbasaur\", \"Gyarados\", \"Dragonite\", \"Onyx\"]\n",
    "print(pokemon)\n",
    "print()\n"
   ]
  },
  {
   "cell_type": "code",
   "execution_count": 9,
   "metadata": {},
   "outputs": [
    {
     "name": "stdout",
     "output_type": "stream",
     "text": [
      "Printing the third Pokemon...\n",
      "Bulbasaur\n",
      "\n"
     ]
    }
   ],
   "source": [
    "# Print element at index 2\n",
    "print(\"Printing the third Pokemon...\")\n",
    "print(pokemon[2])\n",
    "print()"
   ]
  },
  {
   "cell_type": "code",
   "execution_count": 10,
   "metadata": {},
   "outputs": [
    {
     "name": "stdout",
     "output_type": "stream",
     "text": [
      "Printing 3rd Pokemon to the 5th Pokemon...\n",
      "['Bulbasaur', 'Gyarados', 'Dragonite']\n",
      "\n"
     ]
    }
   ],
   "source": [
    "# Print elements from index 2 to index 5\n",
    "print(\"Printing 3rd Pokemon to the 5th Pokemon...\")\n",
    "print(pokemon[2:5])\n",
    "print()"
   ]
  },
  {
   "cell_type": "code",
   "execution_count": 11,
   "metadata": {},
   "outputs": [
    {
     "name": "stdout",
     "output_type": "stream",
     "text": [
      "Printing every Pokemon after the first three...\n",
      "['Pikachu', 'Charizard', 'Bulbasaur', 'Gyarados', 'Dragonite', 'Onyx']\n",
      "['Gyarados', 'Dragonite', 'Onyx']\n",
      "\n"
     ]
    }
   ],
   "source": [
    "# Print elements from index 3 to the end of the list\n",
    "print(\"Printing every Pokemon after the first three...\")\n",
    "print(pokemon)\n",
    "print(pokemon[3:])\n",
    "print()\n"
   ]
  },
  {
   "cell_type": "code",
   "execution_count": 7,
   "metadata": {},
   "outputs": [
    {
     "name": "stdout",
     "output_type": "stream",
     "text": [
      "Printing every Pokemon up to the first three...\n",
      "['Pikachu', 'Charizard', 'Bulbasaur']\n",
      "\n"
     ]
    }
   ],
   "source": [
    "# Print elements from beginning of list to index 3\n",
    "print(\"Printing every Pokemon up to the first three...\")\n",
    "print(pokemon[:3])\n",
    "print()\n"
   ]
  },
  {
   "cell_type": "code",
   "execution_count": 8,
   "metadata": {},
   "outputs": [
    {
     "name": "stdout",
     "output_type": "stream",
     "text": [
      "Printing every other Pokemon\n",
      "['Pikachu', 'Bulbasaur', 'Dragonite']\n",
      "\n"
     ]
    }
   ],
   "source": [
    "# Print every other element\n",
    "print(\"Printing every other Pokemon\")\n",
    "print(pokemon[::2])\n",
    "print()"
   ]
  },
  {
   "cell_type": "code",
   "execution_count": 9,
   "metadata": {},
   "outputs": [
    {
     "name": "stdout",
     "output_type": "stream",
     "text": [
      "Printing the last Pokemon on the list...\n",
      "Onyx\n",
      "\n"
     ]
    }
   ],
   "source": [
    "# Print the last element of the list\n",
    "print(\"Printing the last Pokemon on the list...\")\n",
    "last_pokemon = pokemon[-1]\n",
    "print(last_pokemon)\n",
    "print()"
   ]
  },
  {
   "cell_type": "code",
   "execution_count": 13,
   "metadata": {},
   "outputs": [
    {
     "name": "stdout",
     "output_type": "stream",
     "text": [
      "Determining the order of Pokemon 'Gyarados'...\n",
      "['Pikachu', 'Charizard', 'Bulbasaur', 'Gyarados', 'Dragonite', 'Onyx']\n",
      "3\n",
      "\n"
     ]
    }
   ],
   "source": [
    "# Find the index of the particular element name\n",
    "print(\"Determining the order of Pokemon 'Gyarados'...\")\n",
    "print(pokemon)\n",
    "print(pokemon.index(\"Gyarados\"))\n",
    "print()\n"
   ]
  },
  {
   "cell_type": "code",
   "execution_count": 15,
   "metadata": {},
   "outputs": [
    {
     "name": "stdout",
     "output_type": "stream",
     "text": [
      "Changing Pokemon name 'Pikachu' to 'Raichu'...\n",
      "['Raichu', 'Charizard', 'Bulbasaur', 'Pablo', 'Dragonite', 'Onyx']\n",
      "\n"
     ]
    }
   ],
   "source": [
    "# Change a specified element within the list at the given index\n",
    "print(\"Changing Pokemon name 'Pikachu' to 'Raichu'...\")\n",
    "pokemon[0] = \"Raichu\"\n",
    "pokemon[3] = \"Pablo\"\n",
    "print(pokemon)\n",
    "print()"
   ]
  },
  {
   "cell_type": "code",
   "execution_count": 16,
   "metadata": {},
   "outputs": [
    {
     "name": "stdout",
     "output_type": "stream",
     "text": [
      "Adding a new Pokemon to the end of the list...\n",
      "['Raichu', 'Charizard', 'Bulbasaur', 'Pablo', 'Dragonite', 'Onyx', 'Fintech']\n",
      "\n"
     ]
    }
   ],
   "source": [
    "# Add an element to the end of the list\n",
    "print(\"Adding a new Pokemon to the end of the list...\")\n",
    "pokemon.append(\"Fintech\")\n",
    "print(pokemon)\n",
    "print()"
   ]
  },
  {
   "cell_type": "code",
   "execution_count": 17,
   "metadata": {},
   "outputs": [
    {
     "name": "stdout",
     "output_type": "stream",
     "text": [
      "Removing employee 'Magikarp'...\n",
      "['Raichu', 'Bulbasaur', 'Pablo', 'Dragonite', 'Onyx', 'Fintech']\n",
      "\n"
     ]
    }
   ],
   "source": [
    "# Remove an element from the list based on the given element name\n",
    "print(\"Removing employee 'Magikarp'...\")\n",
    "pokemon.remove(\"Charizard\")\n",
    "print(pokemon)\n",
    "print()"
   ]
  },
  {
   "cell_type": "code",
   "execution_count": 18,
   "metadata": {},
   "outputs": [
    {
     "name": "stdout",
     "output_type": "stream",
     "text": [
      "Removing employee 'Bulbasaur' based off of its index\n"
     ]
    },
    {
     "data": {
      "text/plain": [
       "1"
      ]
     },
     "execution_count": 18,
     "metadata": {},
     "output_type": "execute_result"
    }
   ],
   "source": [
    "# Remove an element from the list based on the given index\n",
    "print(\"Removing employee 'Bulbasaur' based off of its index\")\n",
    "bulbasaur_index = pokemon.index(\"Bulbasaur\")\n",
    "bulbasaur_index "
   ]
  },
  {
   "cell_type": "code",
   "execution_count": 19,
   "metadata": {},
   "outputs": [
    {
     "name": "stdout",
     "output_type": "stream",
     "text": [
      "['Raichu', 'Pablo', 'Dragonite', 'Onyx', 'Fintech']\n",
      "\n"
     ]
    }
   ],
   "source": [
    "pokemon.pop(bulbasaur_index)\n",
    "print(pokemon)\n",
    "print()"
   ]
  },
  {
   "cell_type": "code",
   "execution_count": 20,
   "metadata": {},
   "outputs": [
    {
     "name": "stdout",
     "output_type": "stream",
     "text": [
      "Calculating the number of Pokemon...\n",
      "5\n",
      "\n"
     ]
    }
   ],
   "source": [
    "# Calculate the number of elements within the list\n",
    "print(\"Calculating the number of Pokemon...\")\n",
    "print(len(pokemon))\n",
    "print()"
   ]
  },
  {
   "cell_type": "code",
   "execution_count": null,
   "metadata": {},
   "outputs": [],
   "source": []
  }
 ],
 "metadata": {
  "kernelspec": {
   "display_name": "Python 3",
   "language": "python",
   "name": "python3"
  },
  "language_info": {
   "codemirror_mode": {
    "name": "ipython",
    "version": 3
   },
   "file_extension": ".py",
   "mimetype": "text/x-python",
   "name": "python",
   "nbconvert_exporter": "python",
   "pygments_lexer": "ipython3",
   "version": "3.7.7"
  }
 },
 "nbformat": 4,
 "nbformat_minor": 4
}
