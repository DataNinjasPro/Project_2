{
 "cells": [
  {
   "cell_type": "code",
   "execution_count": 1,
   "metadata": {},
   "outputs": [
    {
     "name": "stdout",
     "output_type": "stream",
     "text": [
      "My list of groceries:\n",
      "['water', 'butter', 'eggs', 'apples', 'cinnamon', 'sugar', 'milk']\n",
      "\n"
     ]
    }
   ],
   "source": [
    "# Create a list of groceries\n",
    "print(\"My list of groceries:\")\n",
    "groceries = [\"water\", \"butter\", \"eggs\", \"apples\", \"cinnamon\", \"sugar\", \"milk\"]\n",
    "print(groceries)\n",
    "print()\n"
   ]
  },
  {
   "cell_type": "code",
   "execution_count": 2,
   "metadata": {},
   "outputs": [
    {
     "name": "stdout",
     "output_type": "stream",
     "text": [
      "What are my first two items on the list?\n",
      "['water', 'butter']\n",
      "\n"
     ]
    }
   ],
   "source": [
    "# Find the first two items on the list\n",
    "print(\"What are my first two items on the list?\")\n",
    "print(groceries[:2])\n",
    "print()"
   ]
  },
  {
   "cell_type": "code",
   "execution_count": 3,
   "metadata": {},
   "outputs": [
    {
     "name": "stdout",
     "output_type": "stream",
     "text": [
      "What are all my items except for the first two on the list?\n",
      "['eggs', 'apples', 'cinnamon', 'sugar', 'milk']\n",
      "\n"
     ]
    }
   ],
   "source": [
    "# Find the last five items on the list\n",
    "print(\"What are all my items except for the first two on the list?\")\n",
    "print(groceries[2:])\n",
    "print()"
   ]
  },
  {
   "cell_type": "code",
   "execution_count": 4,
   "metadata": {},
   "outputs": [
    {
     "name": "stdout",
     "output_type": "stream",
     "text": [
      "What is every other item on the list, starting from the second item?\n",
      "['butter', 'apples', 'sugar']\n",
      "\n"
     ]
    }
   ],
   "source": [
    "# Find every other item on the list, starting from the second item\n",
    "print(\"What is every other item on the list, starting from the second item?\")\n",
    "print(groceries[1::2])\n",
    "print()"
   ]
  },
  {
   "cell_type": "code",
   "execution_count": 5,
   "metadata": {},
   "outputs": [
    {
     "name": "stdout",
     "output_type": "stream",
     "text": [
      "Oops, forgot to add flour...\n",
      "['water', 'butter', 'eggs', 'apples', 'cinnamon', 'sugar', 'milk', 'flour']\n",
      "\n"
     ]
    }
   ],
   "source": [
    "# Add an element to the end of the list\n",
    "print(\"Oops, forgot to add flour...\")\n",
    "groceries.append(\"flour\")\n",
    "print(groceries)\n",
    "print()"
   ]
  },
  {
   "cell_type": "code",
   "execution_count": 6,
   "metadata": {},
   "outputs": [
    {
     "name": "stdout",
     "output_type": "stream",
     "text": [
      "I should be more specific with what kind of apples I want...\n",
      "['water', 'butter', 'eggs', 'gala apples', 'cinnamon', 'sugar', 'milk', 'flour']\n",
      "\n"
     ]
    }
   ],
   "source": [
    "# Changes a specified element within the list at the given index\n",
    "print(\"I should be more specific with what kind of apples I want...\")\n",
    "groceries[3] = \"gala apples\"\n",
    "print(groceries)\n",
    "print()"
   ]
  },
  {
   "cell_type": "code",
   "execution_count": 7,
   "metadata": {},
   "outputs": [
    {
     "name": "stdout",
     "output_type": "stream",
     "text": [
      "How many items do I have on my shopping list?\n",
      "8\n",
      "\n"
     ]
    }
   ],
   "source": [
    "# Calculate how many items you have in the list\n",
    "print(\"How many items do I have on my shopping list?\")\n",
    "print(len(groceries))\n",
    "print()\n"
   ]
  },
  {
   "cell_type": "code",
   "execution_count": 8,
   "metadata": {},
   "outputs": [
    {
     "name": "stdout",
     "output_type": "stream",
     "text": [
      "Where is 'gala apples' in the list index?\n",
      "['water', 'butter', 'eggs', 'gala apples', 'cinnamon', 'sugar', 'milk', 'flour']\n",
      "3\n",
      "\n",
      "Picked up some sugar!\n",
      "['water', 'butter', 'eggs', 'gala apples', 'cinnamon', 'milk', 'flour']\n",
      "\n",
      "Actually, I don't need water. I have some at home...\n",
      "['butter', 'eggs', 'gala apples', 'cinnamon', 'milk', 'flour']\n",
      "\n",
      "I'm going to pick up the last item on the list...\n",
      "['butter', 'eggs', 'gala apples', 'cinnamon', 'milk']\n",
      "\n",
      "You continue on your journey purchasing groceries...\n"
     ]
    }
   ],
   "source": [
    "# ----------------------Go to the grocery store---------------------------\")\n",
    "\n",
    "# Find the index of the particular element name\n",
    "print(\"Where is 'gala apples' in the list index?\")\n",
    "print(groceries)\n",
    "print(groceries.index(\"gala apples\"))\n",
    "print()\n",
    "\n",
    "# Remove an element from the list based on the given element name\n",
    "print(\"Picked up some sugar!\")\n",
    "groceries.remove(\"sugar\")\n",
    "print(groceries)\n",
    "print()\n",
    "\n",
    "# Remove an element from the list based on the given index\n",
    "print(\"Actually, I don't need water. I have some at home...\")\n",
    "water_index = groceries.index(\"water\")\n",
    "groceries.pop(water_index)\n",
    "print(groceries)\n",
    "print()\n",
    "\n",
    "# Remove the last element of the list\n",
    "print(\"I'm going to pick up the last item on the list...\")\n",
    "groceries.pop(-1)\n",
    "print(groceries)\n",
    "print()\n",
    "\n",
    "print(\"You continue on your journey purchasing groceries...\")"
   ]
  },
  {
   "cell_type": "code",
   "execution_count": null,
   "metadata": {},
   "outputs": [],
   "source": []
  }
 ],
 "metadata": {
  "kernelspec": {
   "display_name": "Python 3",
   "language": "python",
   "name": "python3"
  },
  "language_info": {
   "codemirror_mode": {
    "name": "ipython",
    "version": 3
   },
   "file_extension": ".py",
   "mimetype": "text/x-python",
   "name": "python",
   "nbconvert_exporter": "python",
   "pygments_lexer": "ipython3",
   "version": "3.7.7"
  }
 },
 "nbformat": 4,
 "nbformat_minor": 4
}
