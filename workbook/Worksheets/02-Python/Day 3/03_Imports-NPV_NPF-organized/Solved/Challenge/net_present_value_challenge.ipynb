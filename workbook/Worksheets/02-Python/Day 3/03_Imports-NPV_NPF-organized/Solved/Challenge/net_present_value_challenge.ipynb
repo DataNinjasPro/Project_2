{
 "cells": [
  {
   "cell_type": "code",
   "execution_count": 1,
   "metadata": {
    "ExecuteTime": {
     "end_time": "2020-12-18T17:29:54.701926Z",
     "start_time": "2020-12-18T17:29:54.692949Z"
    }
   },
   "outputs": [
    {
     "data": {
      "text/plain": [
       "'Student Activity: Financial Analysis using NPV.\\nThis script will choose the optimal project scenario to\\nundertake based on max NPV values.\\n'"
      ]
     },
     "execution_count": 1,
     "metadata": {},
     "output_type": "execute_result"
    }
   ],
   "source": [
    "# -*- coding: utf-8 -*-\n",
    "\"\"\"Student Activity: Financial Analysis using NPV.\n",
    "This script will choose the optimal project scenario to\n",
    "undertake based on max NPV values.\n",
    "\"\"\""
   ]
  },
  {
   "cell_type": "code",
   "execution_count": null,
   "metadata": {},
   "outputs": [],
   "source": []
  },
  {
   "cell_type": "markdown",
   "metadata": {},
   "source": [
    "Import the NumPy library"
   ]
  },
  {
   "cell_type": "code",
   "execution_count": 2,
   "metadata": {
    "ExecuteTime": {
     "end_time": "2020-12-18T17:29:57.326792Z",
     "start_time": "2020-12-18T17:29:57.320806Z"
    }
   },
   "outputs": [],
   "source": [
    "import numpy_financial as npf"
   ]
  },
  {
   "cell_type": "markdown",
   "metadata": {},
   "source": [
    "Discount Rate"
   ]
  },
  {
   "cell_type": "code",
   "execution_count": 3,
   "metadata": {
    "ExecuteTime": {
     "end_time": "2020-12-18T17:29:58.339225Z",
     "start_time": "2020-12-18T17:29:58.337263Z"
    }
   },
   "outputs": [],
   "source": [
    "discount_rate = .1"
   ]
  },
  {
   "cell_type": "markdown",
   "metadata": {},
   "source": [
    "Initial Investment, Cash Flow 1, Cash Flow 2, Cash Flow 3, Cash Flow 4"
   ]
  },
  {
   "cell_type": "code",
   "execution_count": 4,
   "metadata": {
    "ExecuteTime": {
     "end_time": "2020-12-18T17:30:04.916150Z",
     "start_time": "2020-12-18T17:30:04.913157Z"
    }
   },
   "outputs": [],
   "source": [
    "cash_flows_conservative = [-1000, 400, 400, 400, 400]\n",
    "cash_flows_neutral = [-1500, 600, 600, 600, 600]\n",
    "cash_flows_aggressive = [-2250, 800, 800, 800, 800]"
   ]
  },
  {
   "cell_type": "markdown",
   "metadata": {},
   "source": [
    "Initialize dictionary to hold NPV return values"
   ]
  },
  {
   "cell_type": "code",
   "execution_count": 5,
   "metadata": {
    "ExecuteTime": {
     "end_time": "2020-12-18T17:30:06.284102Z",
     "start_time": "2020-12-18T17:30:06.281112Z"
    }
   },
   "outputs": [],
   "source": [
    "npv_dict = {}"
   ]
  },
  {
   "cell_type": "markdown",
   "metadata": {},
   "source": [
    "Calculate the NPV for each scenario"
   ]
  },
  {
   "cell_type": "code",
   "execution_count": 6,
   "metadata": {
    "ExecuteTime": {
     "end_time": "2020-12-18T17:30:08.584866Z",
     "start_time": "2020-12-18T17:30:08.576888Z"
    }
   },
   "outputs": [],
   "source": [
    "npv_dict['conservative'] = npf.npv(discount_rate, cash_flows_conservative)\n",
    "npv_dict['neutral'] = npf.npv(discount_rate, cash_flows_neutral)\n",
    "npv_dict['aggressive'] = npf.npv(discount_rate, cash_flows_aggressive)"
   ]
  },
  {
   "cell_type": "markdown",
   "metadata": {},
   "source": [
    "Initialize variables"
   ]
  },
  {
   "cell_type": "code",
   "execution_count": 7,
   "metadata": {
    "ExecuteTime": {
     "end_time": "2020-12-18T17:30:09.947670Z",
     "start_time": "2020-12-18T17:30:09.944677Z"
    }
   },
   "outputs": [],
   "source": [
    "max_value = 0\n",
    "max_key = 0"
   ]
  },
  {
   "cell_type": "markdown",
   "metadata": {},
   "source": [
    "Iterate over the dictionary and find the max key-value pair"
   ]
  },
  {
   "cell_type": "code",
   "execution_count": 8,
   "metadata": {
    "ExecuteTime": {
     "end_time": "2020-12-18T17:30:12.196755Z",
     "start_time": "2020-12-18T17:30:12.193665Z"
    }
   },
   "outputs": [
    {
     "name": "stdout",
     "output_type": "stream",
     "text": [
      "conservative 267.94617853971704\n",
      "neutral 401.91926780957544\n",
      "aggressive 285.8923570794341\n"
     ]
    }
   ],
   "source": [
    "for key, value in npv_dict.items():\n",
    "    print(f\"{key} {value}\")\n",
    "    if max_value == 0:\n",
    "        max_value = value\n",
    "        max_key = key\n",
    "    elif value > max_value:\n",
    "        max_value = value\n",
    "        max_key = key"
   ]
  },
  {
   "cell_type": "markdown",
   "metadata": {},
   "source": [
    "Print out the optimal project scenario with the highest NPV value"
   ]
  },
  {
   "cell_type": "code",
   "execution_count": 9,
   "metadata": {
    "ExecuteTime": {
     "end_time": "2020-12-18T17:30:14.733786Z",
     "start_time": "2020-12-18T17:30:14.728798Z"
    }
   },
   "outputs": [
    {
     "name": "stdout",
     "output_type": "stream",
     "text": [
      "---------------------------------------------------------\n",
      "The project scenario with the max NPV value is 'neutral' with a NPV of 401.91926780957544\n"
     ]
    }
   ],
   "source": [
    "print(\"---------------------------------------------------------\")\n",
    "print(f\"The project scenario with the max NPV value is '{max_key}' with a NPV of {max_value}\")"
   ]
  },
  {
   "cell_type": "code",
   "execution_count": null,
   "metadata": {},
   "outputs": [],
   "source": []
  }
 ],
 "metadata": {
  "kernelspec": {
   "display_name": "Python 3",
   "language": "python",
   "name": "python3"
  },
  "language_info": {
   "codemirror_mode": {
    "name": "ipython",
    "version": 3
   },
   "file_extension": ".py",
   "mimetype": "text/x-python",
   "name": "python",
   "nbconvert_exporter": "python",
   "pygments_lexer": "ipython3",
   "version": "3.8.5"
  },
  "toc": {
   "base_numbering": 1,
   "nav_menu": {},
   "number_sections": true,
   "sideBar": true,
   "skip_h1_title": false,
   "title_cell": "Table of Contents",
   "title_sidebar": "Contents",
   "toc_cell": false,
   "toc_position": {},
   "toc_section_display": true,
   "toc_window_display": false
  },
  "varInspector": {
   "cols": {
    "lenName": 16,
    "lenType": 16,
    "lenVar": 40
   },
   "kernels_config": {
    "python": {
     "delete_cmd_postfix": "",
     "delete_cmd_prefix": "del ",
     "library": "var_list.py",
     "varRefreshCmd": "print(var_dic_list())"
    },
    "r": {
     "delete_cmd_postfix": ") ",
     "delete_cmd_prefix": "rm(",
     "library": "var_list.r",
     "varRefreshCmd": "cat(var_dic_list()) "
    }
   },
   "types_to_exclude": [
    "module",
    "function",
    "builtin_function_or_method",
    "instance",
    "_Feature"
   ],
   "window_display": false
  }
 },
 "nbformat": 4,
 "nbformat_minor": 2
}
