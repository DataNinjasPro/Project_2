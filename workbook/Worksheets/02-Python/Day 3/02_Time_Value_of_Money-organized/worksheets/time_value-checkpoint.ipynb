{
 "cells": [
  {
   "cell_type": "code",
   "execution_count": null,
   "metadata": {},
   "outputs": [],
   "source": [
    "# -*- coding: utf-8 -*-\n",
    "\"\"\"\n",
    "Instructor Demo: Time Value of Money Functions.\n",
    "This script contains functions that can calculate future values and present values.\n",
    "\"\"\""
   ]
  },
  {
   "cell_type": "code",
   "execution_count": 5,
   "metadata": {},
   "outputs": [],
   "source": [
    "def calculate_future_value(present_value, interest_rate, compounding_periods, years):\n",
    "    \"\"\"\n",
    "    Calculates the future value of money given the present_value, interest rate, compounding period, and number of years.\n",
    "    Args:\n",
    "        present_value (float): The present value\n",
    "        interest_rate (float): The interest rate\n",
    "        periods (int): The compounding period\n",
    "        years (int): The number of years\n",
    "    Returns:\n",
    "        The future value of money.\n",
    "    \"\"\"\n",
    "    future_value = present_value * ((1 + (interest_rate / compounding_periods))**(compounding_periods * years))\n",
    "    future_value_formatted = round(future_value, 2)\n",
    "    return future_value_formatted"
   ]
  },
  {
   "cell_type": "markdown",
   "metadata": {},
   "source": [
    "Set the values"
   ]
  },
  {
   "cell_type": "code",
   "execution_count": 2,
   "metadata": {},
   "outputs": [],
   "source": [
    "present_value = 10000\n",
    "interest_rate = .1\n",
    "compounding_periods = 1\n",
    "years = 3"
   ]
  },
  {
   "cell_type": "markdown",
   "metadata": {},
   "source": [
    "Call the calculate_future_value() function"
   ]
  },
  {
   "cell_type": "code",
   "execution_count": 6,
   "metadata": {},
   "outputs": [
    {
     "data": {
      "text/plain": [
       "13310.0"
      ]
     },
     "execution_count": 6,
     "metadata": {},
     "output_type": "execute_result"
    }
   ],
   "source": [
    "calculated_future_value = calculate_future_value(present_value, interest_rate, compounding_periods, years)\n",
    "calculated_future_value\n"
   ]
  },
  {
   "cell_type": "markdown",
   "metadata": {},
   "source": [
    "Print out the future_value result"
   ]
  },
  {
   "cell_type": "code",
   "execution_count": 7,
   "metadata": {},
   "outputs": [
    {
     "name": "stdout",
     "output_type": "stream",
     "text": [
      "The future value of $10000 at an interest rate of 0.1 compounded 1 time(s) every year over 3 years is $13310.0\n"
     ]
    }
   ],
   "source": [
    "print(f\"The future value of ${present_value} at an interest rate of {interest_rate} compounded {compounding_periods} time(s) every year over {years} years is ${calculated_future_value}\")"
   ]
  },
  {
   "cell_type": "code",
   "execution_count": null,
   "metadata": {},
   "outputs": [],
   "source": []
  }
 ],
 "metadata": {
  "kernelspec": {
   "display_name": "Python 3",
   "language": "python",
   "name": "python3"
  },
  "language_info": {
   "codemirror_mode": {
    "name": "ipython",
    "version": 3
   },
   "file_extension": ".py",
   "mimetype": "text/x-python",
   "name": "python",
   "nbconvert_exporter": "python",
   "pygments_lexer": "ipython3",
   "version": "3.7.7"
  }
 },
 "nbformat": 4,
 "nbformat_minor": 4
}
