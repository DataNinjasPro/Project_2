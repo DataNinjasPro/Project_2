{
 "cells": [
  {
   "cell_type": "code",
   "execution_count": 1,
   "metadata": {},
   "outputs": [
    {
     "name": "stdin",
     "output_type": "stream",
     "text": [
      "Welcome to the Boba Shop! What is your name? Pablo\n"
     ]
    }
   ],
   "source": [
    "name = input(\"Welcome to the Boba Shop! What is your name?\")"
   ]
  },
  {
   "cell_type": "code",
   "execution_count": 6,
   "metadata": {},
   "outputs": [
    {
     "ename": "IndentationError",
     "evalue": "unindent does not match any outer indentation level (<tokenize>, line 25)",
     "output_type": "error",
     "traceback": [
      "\u001b[1;36m  File \u001b[1;32m\"<tokenize>\"\u001b[1;36m, line \u001b[1;32m25\u001b[0m\n\u001b[1;33m    print(f\"Your order of {beverage} boba with a sweetness level of {sweetness}\")\u001b[0m\n\u001b[1;37m    ^\u001b[0m\n\u001b[1;31mIndentationError\u001b[0m\u001b[1;31m:\u001b[0m unindent does not match any outer indentation level\n"
     ]
    }
   ],
   "source": [
    "if name != \"\" or name == None:\n",
    "    # If so, write a print with a string of \"Hello\" concatenated with the variable `name`.\n",
    "    print(f\"Hello {name}\")\n",
    "\n",
    "    # Then, declare a variable of `beverage` with an input and a string of \"What kind of boba drink would you like?\".\n",
    "    beverage = input(\"What kind of boba drink would you like?\")\n",
    "\n",
    "    # Then, Declare a variable of `sweetness` with an input and a string of \"How sweet do you want your drink: 0, 50, 100, or 200?\".\n",
    "    sweetness = input(\"How sweet do you want your drink: 0, 50, 100, or 200?\")\n",
    "\n",
    "    # If `sweetness` equals 50 print \"half sweetened\".\n",
    "    if sweetness == 50:\n",
    "        sweetness = \"half sweetened\"\n",
    "    # Else if `sweetness` 100 print \"normal sweet\".\n",
    "    elif sweetness == 100:\n",
    "        sweetness= \"normal sweet\"\n",
    "    # Else if `sweetness` 200 print \"super sweet\".\n",
    "    elif sweetness == 200:\n",
    "        sweetness = \"super sweet\"\n",
    "    # Else print with a string of \"non-sweet\".\n",
    "    else:\n",
    "        sweetness = \"non-sweet\"\n",
    "\n",
    "    # Then print the string of \"Your order of \" concatenated with the variable `beverage`, concatenated with \" boba with a sweet level of \", concatenated with the variable `sweetness`\n",
    "    print(f\"Your order of {beverage} boba with a sweetness level of {sweetness}\")\n",
    "    \n",
    "    \n",
    "# Else, print the string of \"You didn't give us your name! Goodbye\".\n",
    "else:\n",
    "    print(\"You didn't give us your name! Goodbye\")"
   ]
  },
  {
   "cell_type": "code",
   "execution_count": null,
   "metadata": {},
   "outputs": [],
   "source": []
  }
 ],
 "metadata": {
  "kernelspec": {
   "display_name": "Python 3",
   "language": "python",
   "name": "python3"
  },
  "language_info": {
   "codemirror_mode": {
    "name": "ipython",
    "version": 3
   },
   "file_extension": ".py",
   "mimetype": "text/x-python",
   "name": "python",
   "nbconvert_exporter": "python",
   "pygments_lexer": "ipython3",
   "version": "3.7.7"
  }
 },
 "nbformat": 4,
 "nbformat_minor": 4
}
