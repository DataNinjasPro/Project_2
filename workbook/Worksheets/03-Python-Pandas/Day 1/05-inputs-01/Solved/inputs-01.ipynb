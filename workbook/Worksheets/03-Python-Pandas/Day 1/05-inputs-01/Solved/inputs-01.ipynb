{
 "cells": [
  {
   "cell_type": "markdown",
   "metadata": {},
   "source": [
    "Declare a variable `welcome_name` as an input with a string of \"Welcome to the sandwich shop, what do I call you?\"."
   ]
  },
  {
   "cell_type": "code",
   "execution_count": null,
   "metadata": {},
   "outputs": [],
   "source": [
    "welcome_name = input(\"Welcome to the sandwich shop, what do I call you? \")"
   ]
  },
  {
   "cell_type": "markdown",
   "metadata": {},
   "source": [
    "Then print the string \"Hello\" concatenated with the variable `welcome_name`."
   ]
  },
  {
   "cell_type": "code",
   "execution_count": null,
   "metadata": {},
   "outputs": [],
   "source": [
    "print(f\"Hello {welcome_name}\")"
   ]
  },
  {
   "cell_type": "markdown",
   "metadata": {},
   "source": [
    "Declare a variable `question_sandwich` as an input with a string of \"Are you here for a sandwich?\"."
   ]
  },
  {
   "cell_type": "code",
   "execution_count": null,
   "metadata": {},
   "outputs": [],
   "source": [
    "question_sandwich = input(\"Are you here for a sandwich? Yes or No?\")"
   ]
  },
  {
   "cell_type": "markdown",
   "metadata": {},
   "source": [
    "If `question_sandwich` is equal to true declare a variable `food_prompt` as an input with a string of \"What kind of sandwich would you like?\".<br>\n",
    "Then print a string of \"Please wait 10 min for your \" concatenated with the variable `food_prompt`.<br>\n",
    "Else If `question_sandwich` is false, print a string of \"If you don't want a sandwich what are you here for?!\".<br>\n",
    "Else print a string of \"You did not write Yes or No!\""
   ]
  },
  {
   "cell_type": "code",
   "execution_count": null,
   "metadata": {},
   "outputs": [],
   "source": [
    "if question_sandwich == \"Yes\":\n",
    "    food_prompt = input(\"What kind of sandwich would you like?\")\n",
    "    print(f\"Please wait 10 mins for your {food_prompt}\")\n",
    "elif question_sandwich == \"No\":\n",
    "    print(\"If you don't want a sandwich what are you here for?!\")\n",
    "else:\n",
    "    print(\"You did not write Yes or No!\")"
   ]
  },
  {
   "cell_type": "code",
   "execution_count": null,
   "metadata": {},
   "outputs": [],
   "source": [
    "Upper_Case = \"THIS IS \""
   ]
  }
 ],
 "metadata": {
  "kernelspec": {
   "display_name": "Python 3",
   "language": "python",
   "name": "python3"
  },
  "language_info": {
   "codemirror_mode": {
    "name": "ipython",
    "version": 3
   },
   "file_extension": ".py",
   "mimetype": "text/x-python",
   "name": "python",
   "nbconvert_exporter": "python",
   "pygments_lexer": "ipython3",
   "version": "3.7.9"
  }
 },
 "nbformat": 4,
 "nbformat_minor": 4
}
