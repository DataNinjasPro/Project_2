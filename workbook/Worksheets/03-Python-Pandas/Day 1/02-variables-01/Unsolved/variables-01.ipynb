{
 "cells": [
  {
   "cell_type": "markdown",
   "metadata": {},
   "source": [
    "Variables"
   ]
  },
  {
   "cell_type": "markdown",
   "metadata": {},
   "source": [
    "This is a comment - any code commented out is not run -<br>\n",
    "meaning that any code or text commented out is ignored."
   ]
  },
  {
   "cell_type": "markdown",
   "metadata": {},
   "source": [
    "\n",
    "<br>\n",
    "this is a multi-line comment<br>\n",
    "You can comment out many lines at once.<br>\n",
    "For the most part you will see single line comments<br>\n",
    "but it is good to see this.<br>\n",
    "As in single line comments, any code contained within multi-line comments are not run -<br>\n",
    "meaning that any code commented out is ignored.<br>\n"
   ]
  },
  {
   "cell_type": "markdown",
   "metadata": {},
   "source": [
    "Topic: Strings"
   ]
  },
  {
   "cell_type": "markdown",
   "metadata": {},
   "source": [
    "Create a variable named `subject` with no value (None)."
   ]
  },
  {
   "cell_type": "markdown",
   "metadata": {},
   "source": [
    "Assign a value of \"Programmers to the variable `subject`."
   ]
  },
  {
   "cell_type": "markdown",
   "metadata": {},
   "source": [
    "Create a variable, `first_name`, and assign it a value of an empty string."
   ]
  },
  {
   "cell_type": "markdown",
   "metadata": {},
   "source": [
    "Assign a value of \"Ada\" to the variable `first_name`."
   ]
  },
  {
   "cell_type": "markdown",
   "metadata": {},
   "source": [
    "Create a variable, `last_name`, and assign it a value of a string, \"Lovelace\"."
   ]
  },
  {
   "cell_type": "markdown",
   "metadata": {},
   "source": [
    "Create a variable, `full_name`, and assign it a value of the combination of `first_name` and `last_name` with a space."
   ]
  },
  {
   "cell_type": "markdown",
   "metadata": {},
   "source": [
    "Create a variable, `profession`, and assign it a value of a string, \"Computer Programmer\"."
   ]
  },
  {
   "cell_type": "markdown",
   "metadata": {},
   "source": [
    "Create a variable, `known_for`, and assign it a value of a string, \"First Computer Programmer\"."
   ]
  },
  {
   "cell_type": "markdown",
   "metadata": {},
   "source": [
    "Create a variable, `first_algorithm`, and assign it a value of a string, \"Analytical Engine\"."
   ]
  },
  {
   "cell_type": "markdown",
   "metadata": {},
   "source": [
    "Create a variable, `city_location`, and assign it a value of a string, \"London\"."
   ]
  },
  {
   "cell_type": "markdown",
   "metadata": {},
   "source": [
    "Create a variable, `country_location`, and assign it a value of a string, \"England\"."
   ]
  },
  {
   "cell_type": "markdown",
   "metadata": {},
   "source": [
    "Create a variable, `nationality`, and assign it a value of a string, \"British\"."
   ]
  },
  {
   "cell_type": "markdown",
   "metadata": {},
   "source": [
    "Topic: Integers"
   ]
  },
  {
   "cell_type": "markdown",
   "metadata": {},
   "source": [
    "Create a variable, `birth_year`, and assign it with an integer of 1815."
   ]
  },
  {
   "cell_type": "markdown",
   "metadata": {},
   "source": [
    "Create a variable, `death_year`, and assign it with an integer of 1852."
   ]
  },
  {
   "cell_type": "markdown",
   "metadata": {},
   "source": [
    "Create a variable, `age_at_passing`, and assign it a value of death_year minus birth_year."
   ]
  },
  {
   "cell_type": "markdown",
   "metadata": {},
   "source": [
    "Create a variable, `year_of_publish`, and assign it with an integer of 1842."
   ]
  },
  {
   "cell_type": "markdown",
   "metadata": {},
   "source": [
    "opic: Print"
   ]
  },
  {
   "cell_type": "markdown",
   "metadata": {},
   "source": [
    "Print: \"First Name: \" and `first_name`."
   ]
  },
  {
   "cell_type": "markdown",
   "metadata": {},
   "source": [
    "Print: \"Last Name: \" and `last_name`."
   ]
  },
  {
   "cell_type": "markdown",
   "metadata": {},
   "source": [
    "Print: \"Profession: \" and `profession`."
   ]
  },
  {
   "cell_type": "markdown",
   "metadata": {},
   "source": [
    "Print: \"BirthYear: \" and `birth_year`."
   ]
  },
  {
   "cell_type": "markdown",
   "metadata": {},
   "source": [
    "opic: Concat Values"
   ]
  },
  {
   "cell_type": "markdown",
   "metadata": {},
   "source": [
    "Create and print a variable, `statement_one`, by assigning it a value of a concatenated string:<br>\n",
    "\"Programmers: Ada Lovelace is a British Computer Programmer born in 1815.\""
   ]
  },
  {
   "cell_type": "markdown",
   "metadata": {},
   "source": [
    "Create and print a variable, `statement_two`, by assigning it a value of a concatenated string:<br>\n",
    "\"She is commonly referred to as the First Computer Programmer.\""
   ]
  },
  {
   "cell_type": "markdown",
   "metadata": {},
   "source": [
    "Create and print a variable, `statement_three`, by assigning it a value of a concatenated string:<br>\n",
    "\"In 1842 she published the first Algorithm, the Analytical Engine, at the age of 27.\""
   ]
  },
  {
   "cell_type": "markdown",
   "metadata": {},
   "source": [
    "Create and print a variable, `statement_four`, by assigning it a value of a concatenated string:<br>\n",
    "\"She was a British Citizen who lived in London, England until her passing in 1852 at the age of 37.\""
   ]
  }
 ],
 "metadata": {
  "kernelspec": {
   "display_name": "Python 3",
   "language": "python",
   "name": "python3"
  },
  "language_info": {
   "codemirror_mode": {
    "name": "ipython",
    "version": 3
   },
   "file_extension": ".py",
   "mimetype": "text/x-python",
   "name": "python",
   "nbconvert_exporter": "python",
   "pygments_lexer": "ipython3",
   "version": "3.7.9"
  }
 },
 "nbformat": 4,
 "nbformat_minor": 4
}
