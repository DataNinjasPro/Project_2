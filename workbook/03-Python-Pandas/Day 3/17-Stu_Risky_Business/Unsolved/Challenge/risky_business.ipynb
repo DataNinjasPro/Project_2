{
 "cells": [
  {
   "cell_type": "markdown",
   "metadata": {},
   "source": [
    "# Risky Business"
   ]
  },
  {
   "cell_type": "markdown",
   "metadata": {},
   "source": [
    "Harold has been boasting about his recent cryptocurrency returns. He's even bet you five bucks that his trading algorithm has made his returns better than yours. Calculate the standard deviation and sharpe ratio for each your portfolios to determine which portfolio is the better investment based off of the greatest risk to reward ratio."
   ]
  },
  {
   "cell_type": "code",
   "execution_count": 2,
   "metadata": {},
   "outputs": [],
   "source": [
    "import pandas as pd\n",
    "import numpy as np\n",
    "from pathlib import Path\n",
    "%matplotlib inline"
   ]
  },
  {
   "cell_type": "markdown",
   "metadata": {},
   "source": [
    "### Read in data"
   ]
  },
  {
   "cell_type": "code",
   "execution_count": 13,
   "metadata": {},
   "outputs": [
    {
     "output_type": "stream",
     "name": "stdout",
     "text": [
      "<class 'pandas.core.frame.DataFrame'>\nDatetimeIndex: 6 entries, 2019-05-20 to 2019-05-15\nData columns (total 10 columns):\n #   Column  Non-Null Count  Dtype  \n---  ------  --------------  -----  \n 0   BTC     6 non-null      float64\n 1   BTT     6 non-null      float64\n 2   DOGE    6 non-null      float64\n 3   ETH     6 non-null      float64\n 4   LTC     6 non-null      float64\n 5   XRP     6 non-null      float64\n 6   SOLVE   6 non-null      float64\n 7   XLM     6 non-null      float64\n 8   TRON    6 non-null      float64\n 9   ZIL     6 non-null      float64\ndtypes: float64(10)\nmemory usage: 528.0 bytes\n<class 'pandas.core.frame.DataFrame'>\nDatetimeIndex: 988 entries, 2019-05-20 to 2016-08-24\nData columns (total 6 columns):\n #   Column  Non-Null Count  Dtype  \n---  ------  --------------  -----  \n 0   BTC     988 non-null    float64\n 1   DOGE    988 non-null    float64\n 2   ETH     988 non-null    float64\n 3   LTC     988 non-null    float64\n 4   XRP     988 non-null    float64\n 5   XLM     988 non-null    float64\ndtypes: float64(6)\nmemory usage: 54.0 KB\n"
     ]
    }
   ],
   "source": [
    "harold_portfolio_path = Path(\"../../Resources/harold_portfolio.csv\")\n",
    "my_portfolio_path = Path(\"../../Resources/my_portfolio.csv\")\n",
    "\n",
    "# Read in data\n",
    "harold_portfolio = pd.read_csv(harold_portfolio_path, parse_dates=True, infer_datetime_format=True)\n",
    "my_portfolio = pd.read_csv(my_portfolio_path, parse_dates=True, infer_datetime_format=True)\n",
    "\n",
    "\n",
    "# Drop na\n",
    "port_c1=harold_portfolio.dropna()\n",
    "port_c2=my_portfolio.dropna()\n",
    "\n",
    "# Set Date as index\n",
    "port_c1.set_index(pd.to_datetime(port_c1['Date'], infer_datetime_format=True), inplace=True)\n",
    "port_c2.set_index(pd.to_datetime(port_c2['Date'], infer_datetime_format=True), inplace=True)\n",
    "port_c1.drop(columns=['Date'], inplace=True)\n",
    "port_c2.drop(columns=['Date'], inplace=True)\n",
    "port_c1.info()\n",
    "port_c2.info()"
   ]
  },
  {
   "cell_type": "markdown",
   "metadata": {},
   "source": [
    "### Calculate daily returns "
   ]
  },
  {
   "cell_type": "code",
   "execution_count": 7,
   "metadata": {},
   "outputs": [],
   "source": [
    "# Calculate daily returns for each portfolio\n",
    "daily_returns_pc1=port_c1.pct_change()\n",
    "daily_returns_pc2=port_c2.pct_change()\n"
   ]
  },
  {
   "cell_type": "code",
   "execution_count": 10,
   "metadata": {},
   "outputs": [
    {
     "output_type": "execute_result",
     "data": {
      "text/plain": [
       "                 BTC      DOGE       ETH       LTC       XRP       XLM\n",
       "Date                                                                  \n",
       "2019-05-20       NaN       NaN       NaN       NaN       NaN       NaN\n",
       "2019-05-19 -0.114341  0.045051 -0.103642 -0.088470  0.049490  0.043823\n",
       "2019-05-18  0.013947 -0.054437  0.045122  0.037276 -0.107647 -0.089423\n",
       "2019-05-17  0.069974 -0.014309  0.080952  0.065309  0.036103 -0.017627\n",
       "2019-05-16  0.041168  0.069548 -0.058209  0.067990  0.086780  0.084709\n",
       "...              ...       ...       ...       ...       ...       ...\n",
       "2016-08-28 -0.007672  0.013216  0.020947  0.016129 -0.000170 -0.005906\n",
       "2016-08-27  0.014849 -0.008696  0.007136  0.007937  0.005623 -0.044059\n",
       "2016-08-26 -0.004716  0.061404  0.004429  0.000000 -0.001694 -0.003107\n",
       "2016-08-25  0.004790 -0.004132 -0.029982  0.007874  0.003394  0.000000\n",
       "2016-08-24  0.006322 -0.020747 -0.001818  0.028646  0.003383 -0.006753\n",
       "\n",
       "[988 rows x 6 columns]"
      ],
      "text/html": "<div>\n<style scoped>\n    .dataframe tbody tr th:only-of-type {\n        vertical-align: middle;\n    }\n\n    .dataframe tbody tr th {\n        vertical-align: top;\n    }\n\n    .dataframe thead th {\n        text-align: right;\n    }\n</style>\n<table border=\"1\" class=\"dataframe\">\n  <thead>\n    <tr style=\"text-align: right;\">\n      <th></th>\n      <th>BTC</th>\n      <th>DOGE</th>\n      <th>ETH</th>\n      <th>LTC</th>\n      <th>XRP</th>\n      <th>XLM</th>\n    </tr>\n    <tr>\n      <th>Date</th>\n      <th></th>\n      <th></th>\n      <th></th>\n      <th></th>\n      <th></th>\n      <th></th>\n    </tr>\n  </thead>\n  <tbody>\n    <tr>\n      <th>2019-05-20</th>\n      <td>NaN</td>\n      <td>NaN</td>\n      <td>NaN</td>\n      <td>NaN</td>\n      <td>NaN</td>\n      <td>NaN</td>\n    </tr>\n    <tr>\n      <th>2019-05-19</th>\n      <td>-0.114341</td>\n      <td>0.045051</td>\n      <td>-0.103642</td>\n      <td>-0.088470</td>\n      <td>0.049490</td>\n      <td>0.043823</td>\n    </tr>\n    <tr>\n      <th>2019-05-18</th>\n      <td>0.013947</td>\n      <td>-0.054437</td>\n      <td>0.045122</td>\n      <td>0.037276</td>\n      <td>-0.107647</td>\n      <td>-0.089423</td>\n    </tr>\n    <tr>\n      <th>2019-05-17</th>\n      <td>0.069974</td>\n      <td>-0.014309</td>\n      <td>0.080952</td>\n      <td>0.065309</td>\n      <td>0.036103</td>\n      <td>-0.017627</td>\n    </tr>\n    <tr>\n      <th>2019-05-16</th>\n      <td>0.041168</td>\n      <td>0.069548</td>\n      <td>-0.058209</td>\n      <td>0.067990</td>\n      <td>0.086780</td>\n      <td>0.084709</td>\n    </tr>\n    <tr>\n      <th>...</th>\n      <td>...</td>\n      <td>...</td>\n      <td>...</td>\n      <td>...</td>\n      <td>...</td>\n      <td>...</td>\n    </tr>\n    <tr>\n      <th>2016-08-28</th>\n      <td>-0.007672</td>\n      <td>0.013216</td>\n      <td>0.020947</td>\n      <td>0.016129</td>\n      <td>-0.000170</td>\n      <td>-0.005906</td>\n    </tr>\n    <tr>\n      <th>2016-08-27</th>\n      <td>0.014849</td>\n      <td>-0.008696</td>\n      <td>0.007136</td>\n      <td>0.007937</td>\n      <td>0.005623</td>\n      <td>-0.044059</td>\n    </tr>\n    <tr>\n      <th>2016-08-26</th>\n      <td>-0.004716</td>\n      <td>0.061404</td>\n      <td>0.004429</td>\n      <td>0.000000</td>\n      <td>-0.001694</td>\n      <td>-0.003107</td>\n    </tr>\n    <tr>\n      <th>2016-08-25</th>\n      <td>0.004790</td>\n      <td>-0.004132</td>\n      <td>-0.029982</td>\n      <td>0.007874</td>\n      <td>0.003394</td>\n      <td>0.000000</td>\n    </tr>\n    <tr>\n      <th>2016-08-24</th>\n      <td>0.006322</td>\n      <td>-0.020747</td>\n      <td>-0.001818</td>\n      <td>0.028646</td>\n      <td>0.003383</td>\n      <td>-0.006753</td>\n    </tr>\n  </tbody>\n</table>\n<p>988 rows × 6 columns</p>\n</div>"
     },
     "metadata": {},
     "execution_count": 10
    }
   ],
   "source": [
    "daily_returns_pc1\n",
    "daily_returns_pc2"
   ]
  },
  {
   "cell_type": "markdown",
   "metadata": {},
   "source": [
    "### `Concat` portfolios into one DataFrame"
   ]
  },
  {
   "cell_type": "code",
   "execution_count": 4,
   "metadata": {},
   "outputs": [],
   "source": [
    "# Concat returns DataFrames\n",
    "joint_p= "
   ]
  },
  {
   "cell_type": "markdown",
   "metadata": {},
   "source": [
    "### Calculate `std dev` for all data"
   ]
  },
  {
   "cell_type": "code",
   "execution_count": 5,
   "metadata": {},
   "outputs": [],
   "source": [
    "# Calculate std dev\n"
   ]
  },
  {
   "cell_type": "markdown",
   "metadata": {},
   "source": [
    "### Calculate `sharpe ratio` for all data"
   ]
  },
  {
   "cell_type": "code",
   "execution_count": 6,
   "metadata": {},
   "outputs": [],
   "source": [
    "# Calculate sharpe ratio\n"
   ]
  },
  {
   "cell_type": "markdown",
   "metadata": {},
   "source": [
    "### Plot Sharpe Ratios"
   ]
  },
  {
   "cell_type": "code",
   "execution_count": 7,
   "metadata": {},
   "outputs": [],
   "source": [
    "# Plot\n"
   ]
  },
  {
   "cell_type": "markdown",
   "metadata": {},
   "source": [
    "### How many smart investments did Harold make compared to risky investments? How many did you make?"
   ]
  },
  {
   "cell_type": "markdown",
   "metadata": {},
   "source": [
    "*Your answer here:*\n"
   ]
  },
  {
   "cell_type": "markdown",
   "metadata": {},
   "source": [
    "### Which cryptos have been the smartest investment?"
   ]
  },
  {
   "cell_type": "markdown",
   "metadata": {},
   "source": [
    "*Your answer here:*"
   ]
  },
  {
   "cell_type": "markdown",
   "metadata": {},
   "source": [
    "### Calculate annualized std dev for each portfolio individually"
   ]
  },
  {
   "cell_type": "code",
   "execution_count": 8,
   "metadata": {},
   "outputs": [],
   "source": [
    "# Calculate std dev for all investments for each portfolio\n"
   ]
  },
  {
   "cell_type": "markdown",
   "metadata": {},
   "source": [
    "### Calculate the sharpe ratios for each individual portfolio"
   ]
  },
  {
   "cell_type": "code",
   "execution_count": 9,
   "metadata": {},
   "outputs": [],
   "source": [
    "# Calculate sharpe ratio\n"
   ]
  },
  {
   "cell_type": "markdown",
   "metadata": {},
   "source": [
    "### Average sharpe ratios for each portfolio and output to screen"
   ]
  },
  {
   "cell_type": "code",
   "execution_count": 10,
   "metadata": {},
   "outputs": [],
   "source": [
    "# Averaging sharpe ratios\n"
   ]
  },
  {
   "cell_type": "markdown",
   "metadata": {},
   "source": [
    "### Compare Sharpe Ratios Averages"
   ]
  },
  {
   "cell_type": "code",
   "execution_count": 11,
   "metadata": {},
   "outputs": [],
   "source": [
    "# Use comparison operator to determine if Harold's sharpe ratio avg is greater\n"
   ]
  },
  {
   "cell_type": "markdown",
   "metadata": {},
   "source": [
    "### Which portfolio is the smartest investment, based off of risk to reward ratio?"
   ]
  },
  {
   "cell_type": "markdown",
   "metadata": {},
   "source": [
    "*Your answer here:*"
   ]
  },
  {
   "cell_type": "code",
   "execution_count": null,
   "metadata": {},
   "outputs": [],
   "source": []
  }
 ],
 "metadata": {
  "kernelspec": {
   "display_name": "Python 3",
   "language": "python",
   "name": "python3"
  },
  "language_info": {
   "codemirror_mode": {
    "name": "ipython",
    "version": 3
   },
   "file_extension": ".py",
   "mimetype": "text/x-python",
   "name": "python",
   "nbconvert_exporter": "python",
   "pygments_lexer": "ipython3",
   "version": "3.8.5-final"
  }
 },
 "nbformat": 4,
 "nbformat_minor": 4
}