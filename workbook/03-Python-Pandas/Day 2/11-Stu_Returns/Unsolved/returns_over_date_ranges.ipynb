{
 "cells": [
  {
   "cell_type": "markdown",
   "metadata": {},
   "source": [
    "### Student Activity: Returns Over Date Ranges\n",
    "\n",
    "This program reads daily stock data from a CSV, trims extraneous columns, converts date strings to datetime objects, sets the datetimes as the index, and calculates and plots returns for specified date ranges.\n"
   ]
  },
  {
   "cell_type": "code",
   "execution_count": null,
   "metadata": {},
   "outputs": [],
   "source": [
    "# Import libraries and dependencies\n",
    "import pandas as pd\n",
    "import numpy as np\n",
    "from pathlib import Path\n",
    "import datetime as dt\n",
    "import matplotlib.pyplot as plt\n",
    "\n",
    "filepath = Path('../Resources/amd_stock_data.csv')\n",
    "amd_df = pd.read_csv(filepath,index_col=\"date\",infer_datetime_format=True, parse_dates=True,dayfirst=True)\n",
    "short_amd_df = amd_df.drop([\"volume\",\"open\",\"high\",\"low\"],axis=1)\n",
    "short_amd_df.head()\n",
    "#short_amd_df.describe(amd_df.date_range(start='2009-04-29', end= '2019-04-29', periods=10, freq='Y-%m-%d'))"
   ]
  },
  {
   "cell_type": "code",
   "execution_count": null,
   "metadata": {
    "scrolled": true
   },
   "outputs": [],
   "source": [
    "print(short_amd_df.info())"
   ]
  },
  {
   "cell_type": "code",
   "execution_count": null,
   "metadata": {
    "scrolled": true
   },
   "outputs": [],
   "source": [
    "short_amd_df = amd_df.drop([\"volume\",\"open\",\"high\",\"low\"],axis=1)\n",
    "#start = \"2009-04-29\"\n",
    "#end = \"2019-04-23\"\n",
    "#periods = \n",
    "amd_df.date_range(start='2009-04-29', end= '2019-04-29', periods=10, freq='Y-%m-%d')\n",
    "amd_df[(start='2009-04-29', end= \"2009-04-29\", periods=12, freq='M')]\n",
    "daily_returns= short_amd_df.pct_change()\n"
   ]
  },
  {
   "cell_type": "code",
   "execution_count": null,
   "metadata": {
    "scrolled": true
   },
   "outputs": [],
   "source": [
    "# Calculate the daily return over the last 10 years\n",
    "daily_returns= short_amd_df.pct_change()\n"
   ]
  },
  {
   "cell_type": "markdown",
   "metadata": {},
   "source": [
    "### Use Indexing to Create Date Ranges\n"
   ]
  },
  {
   "cell_type": "code",
   "execution_count": null,
   "metadata": {},
   "outputs": [],
   "source": [
    "# Slice DataFrame into 1 year timeframe\n",
    "\n",
    "\n",
    "# Slice DataFrame into 3 year timeframe\n",
    "\n",
    "\n",
    "# Slice DataFrame into 5 year timeframe\n",
    "\n",
    "\n",
    "# Slice DataFrame into 10 year timeframe\n"
   ]
  },
  {
   "cell_type": "markdown",
   "metadata": {},
   "source": [
    "### Output Summary Statistics for 1 Year of Daily Returns \n"
   ]
  },
  {
   "cell_type": "code",
   "execution_count": null,
   "metadata": {},
   "outputs": [],
   "source": [
    "# Display summary statistics for 1 year of AMD stock data\n"
   ]
  },
  {
   "cell_type": "markdown",
   "metadata": {},
   "source": [
    "### Output Summary Statistics for 3 Years of Daily Returns \n"
   ]
  },
  {
   "cell_type": "code",
   "execution_count": null,
   "metadata": {},
   "outputs": [],
   "source": [
    "# Display summary statistics for 3 years of AMD stock data\n"
   ]
  },
  {
   "cell_type": "markdown",
   "metadata": {},
   "source": [
    "### Output Summary Statistics for 5 Years of Daily Returns"
   ]
  },
  {
   "cell_type": "code",
   "execution_count": null,
   "metadata": {},
   "outputs": [],
   "source": [
    "# Display summary statistics for 5 years of AMD stock data\n"
   ]
  },
  {
   "cell_type": "markdown",
   "metadata": {},
   "source": [
    "### Output Summary Statistics for 10 Years of Daily Returns "
   ]
  },
  {
   "cell_type": "code",
   "execution_count": null,
   "metadata": {},
   "outputs": [],
   "source": [
    "# Display summary statistics for 10 years of AMD stock data\n"
   ]
  },
  {
   "cell_type": "markdown",
   "metadata": {},
   "source": [
    "### Plot 1 Year of Daily Returns "
   ]
  },
  {
   "cell_type": "code",
   "execution_count": null,
   "metadata": {},
   "outputs": [],
   "source": [
    "# Display chart of 1 year's worth of daily AMD returns\n"
   ]
  },
  {
   "cell_type": "markdown",
   "metadata": {},
   "source": [
    "### Plot 3 Years of Daily Returns"
   ]
  },
  {
   "cell_type": "code",
   "execution_count": null,
   "metadata": {},
   "outputs": [],
   "source": [
    "# Display chart of 3 year's worth of daily AMD returns\n"
   ]
  },
  {
   "cell_type": "markdown",
   "metadata": {},
   "source": [
    "### Plot 5 Years of Daily Returns"
   ]
  },
  {
   "cell_type": "code",
   "execution_count": null,
   "metadata": {},
   "outputs": [],
   "source": [
    "# Display chart of 5 year's worth of daily AMD returns\n"
   ]
  },
  {
   "cell_type": "markdown",
   "metadata": {},
   "source": [
    "### Plot 10 Years of Daily Returns"
   ]
  },
  {
   "cell_type": "code",
   "execution_count": null,
   "metadata": {},
   "outputs": [],
   "source": [
    "# Display chart of 10 year's worth of daily AMD returns\n"
   ]
  },
  {
   "cell_type": "markdown",
   "metadata": {},
   "source": [
    "### Analyze Daily Returns over Date Ranges\n",
    "\n",
    "1. What are the average daily returns over each date range?\n",
    "\n",
    "    * 1 Year = \n",
    "    * 3 Year = \n",
    "    * 5 Year = \n",
    "    * 10 Year = \n",
    "    \n",
    "    \n",
    "2. What insights could this provide in regards to wanting to trade AMD stock in the long-term vs. short-term? \n",
    "\n"
   ]
  }
 ],
 "metadata": {
  "kernelspec": {
   "display_name": "Python 3",
   "language": "python",
   "name": "python3"
  },
  "language_info": {
   "codemirror_mode": {
    "name": "ipython",
    "version": 3
   },
   "file_extension": ".py",
   "mimetype": "text/x-python",
   "name": "python",
   "nbconvert_exporter": "python",
   "pygments_lexer": "ipython3",
   "version": "3.8.5"
  }
 },
 "nbformat": 4,
 "nbformat_minor": 4
}
