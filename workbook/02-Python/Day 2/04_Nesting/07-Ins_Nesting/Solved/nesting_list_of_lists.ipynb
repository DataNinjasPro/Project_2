{
 "cells": [
  {
   "cell_type": "code",
   "execution_count": 7,
   "metadata": {},
   "outputs": [],
   "source": [
    "# List\n",
    "ceo_list = [\"Warren\", \"Jack\", \"Harry\"]\n",
    "\n",
    "# List of Lists\n",
    "ceo_nested_list = [\n",
    "    [\"Warren Buffet\", 88, \"CEO of Berkshire Hathaway\"],\n",
    "    [\"Jeff Bezos\", 55, \"CEO of Amazon\"],\n",
    "    [\"Harry Markowitz\", 91, \"Professor of Finance\"]\n",
    "]\n"
   ]
  },
  {
   "cell_type": "code",
   "execution_count": 8,
   "metadata": {},
   "outputs": [
    {
     "data": {
      "text/plain": [
       "['Harry Markowitz', 91, 'Professor of Finance']"
      ]
     },
     "execution_count": 8,
     "metadata": {},
     "output_type": "execute_result"
    }
   ],
   "source": [
    "# Retrieve first entry of ceo_nested_list\n",
    "first_entry = ceo_nested_list[2]\n",
    "first_entry"
   ]
  },
  {
   "cell_type": "code",
   "execution_count": 10,
   "metadata": {},
   "outputs": [
    {
     "data": {
      "text/plain": [
       "'Harry Markowitz'"
      ]
     },
     "execution_count": 10,
     "metadata": {},
     "output_type": "execute_result"
    }
   ],
   "source": [
    "# Retrieve name of first entry\n",
    "first_entry_name = ceo_nested_list[2][0]\n",
    "first_entry_name "
   ]
  },
  {
   "cell_type": "code",
   "execution_count": 11,
   "metadata": {},
   "outputs": [
    {
     "data": {
      "text/plain": [
       "91"
      ]
     },
     "execution_count": 11,
     "metadata": {},
     "output_type": "execute_result"
    }
   ],
   "source": [
    "# Retrieve age of first entry\n",
    "first_entry_age = ceo_nested_list[2][1]\n",
    "first_entry_age"
   ]
  },
  {
   "cell_type": "code",
   "execution_count": 12,
   "metadata": {},
   "outputs": [
    {
     "data": {
      "text/plain": [
       "'Professor of Finance'"
      ]
     },
     "execution_count": 12,
     "metadata": {},
     "output_type": "execute_result"
    }
   ],
   "source": [
    "# Retrieve occupation of first entry\n",
    "first_entry_occupation = ceo_nested_list[2][2]\n",
    "first_entry_occupation"
   ]
  },
  {
   "cell_type": "code",
   "execution_count": 6,
   "metadata": {},
   "outputs": [
    {
     "name": "stdout",
     "output_type": "stream",
     "text": [
      "The first entry in employees_nested_list is: ['Warren Buffet', 88, 'CEO of Berkshire Hathaway']\n",
      "Warren Buffet is 88 years old, serving as CEO of Berkshire Hathaway.\n"
     ]
    }
   ],
   "source": [
    "# Print results to screen\n",
    "print(\"The first entry in employees_nested_list is:\", first_entry)\n",
    "print(f\"{first_entry_name} is {first_entry_age} years old, serving as {first_entry_occupation}.\")"
   ]
  }
 ],
 "metadata": {
  "kernelspec": {
   "display_name": "Python 3",
   "language": "python",
   "name": "python3"
  },
  "language_info": {
   "codemirror_mode": {
    "name": "ipython",
    "version": 3
   },
   "file_extension": ".py",
   "mimetype": "text/x-python",
   "name": "python",
   "nbconvert_exporter": "python",
   "pygments_lexer": "ipython3",
   "version": "3.7.7"
  }
 },
 "nbformat": 4,
 "nbformat_minor": 4
}
