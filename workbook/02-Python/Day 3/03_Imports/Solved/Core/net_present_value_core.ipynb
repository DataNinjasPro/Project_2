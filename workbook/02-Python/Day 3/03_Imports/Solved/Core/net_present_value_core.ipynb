{
 "cells": [
  {
   "cell_type": "code",
   "execution_count": 1,
   "metadata": {
    "ExecuteTime": {
     "end_time": "2020-12-18T17:31:14.589670Z",
     "start_time": "2020-12-18T17:31:14.580693Z"
    }
   },
   "outputs": [
    {
     "data": {
      "text/plain": [
       "'Student Activity: Financial Analysis using NPV.\\nThis script will choose the optimal project scenario to\\nundertake based on max NPV values.\\n'"
      ]
     },
     "execution_count": 1,
     "metadata": {},
     "output_type": "execute_result"
    }
   ],
   "source": [
    "# -*- coding: utf-8 -*-\n",
    "\"\"\"Student Activity: Financial Analysis using NPV.\n",
    "This script will choose the optimal project scenario to\n",
    "undertake based on max NPV values.\n",
    "\"\"\""
   ]
  },
  {
   "cell_type": "code",
   "execution_count": null,
   "metadata": {},
   "outputs": [],
   "source": []
  },
  {
   "cell_type": "markdown",
   "metadata": {},
   "source": [
    "Import the NumPy Financial library"
   ]
  },
  {
   "cell_type": "code",
   "execution_count": 2,
   "metadata": {
    "ExecuteTime": {
     "end_time": "2020-12-18T17:31:16.823601Z",
     "start_time": "2020-12-18T17:31:16.817620Z"
    }
   },
   "outputs": [],
   "source": [
    "import numpy_financial as npf"
   ]
  },
  {
   "cell_type": "markdown",
   "metadata": {},
   "source": [
    "Discount Rate"
   ]
  },
  {
   "cell_type": "code",
   "execution_count": 3,
   "metadata": {
    "ExecuteTime": {
     "end_time": "2020-12-18T17:31:17.595963Z",
     "start_time": "2020-12-18T17:31:17.591973Z"
    }
   },
   "outputs": [],
   "source": [
    "discount_rate = .1"
   ]
  },
  {
   "cell_type": "markdown",
   "metadata": {},
   "source": [
    "Initial Investment, Cash Flow 1, Cash Flow 2, Cash Flow 3, Cash Flow 4"
   ]
  },
  {
   "cell_type": "code",
   "execution_count": 4,
   "metadata": {
    "ExecuteTime": {
     "end_time": "2020-12-18T17:31:18.309132Z",
     "start_time": "2020-12-18T17:31:18.305115Z"
    }
   },
   "outputs": [],
   "source": [
    "cash_flows_conservative = [-1000, 400, 400, 400, 400]\n",
    "cash_flows_neutral = [-1500, 600, 600, 600, 600]\n",
    "cash_flows_aggressive = [-2250, 800, 800, 800, 800]"
   ]
  },
  {
   "cell_type": "markdown",
   "metadata": {},
   "source": [
    "Initialize dictionary to hold NPV return values"
   ]
  },
  {
   "cell_type": "code",
   "execution_count": 5,
   "metadata": {
    "ExecuteTime": {
     "end_time": "2020-12-18T17:31:18.980266Z",
     "start_time": "2020-12-18T17:31:18.977275Z"
    }
   },
   "outputs": [],
   "source": [
    "npv_dict = {}"
   ]
  },
  {
   "cell_type": "markdown",
   "metadata": {},
   "source": [
    "Calculate the NPV for each scenario"
   ]
  },
  {
   "cell_type": "code",
   "execution_count": 6,
   "metadata": {
    "ExecuteTime": {
     "end_time": "2020-12-18T17:31:19.845575Z",
     "start_time": "2020-12-18T17:31:19.841577Z"
    }
   },
   "outputs": [],
   "source": [
    "npv_dict['conservative'] = npf.npv(discount_rate, cash_flows_conservative)\n",
    "npv_dict['neutral'] = npf.npv(discount_rate, cash_flows_neutral)\n",
    "npv_dict['aggressive'] = npf.npv(discount_rate, cash_flows_aggressive)"
   ]
  },
  {
   "cell_type": "markdown",
   "metadata": {},
   "source": [
    "Manually choose the project with the highest NPV value"
   ]
  },
  {
   "cell_type": "code",
   "execution_count": 7,
   "metadata": {
    "ExecuteTime": {
     "end_time": "2020-12-18T17:31:20.918002Z",
     "start_time": "2020-12-18T17:31:20.914013Z"
    }
   },
   "outputs": [
    {
     "name": "stdout",
     "output_type": "stream",
     "text": [
      "{'conservative': 267.94617853971704, 'neutral': 401.91926780957544, 'aggressive': 285.8923570794341}\n",
      "The optimal project scenario to undertake is 'neutral' with a NPV of 401.91926780957544\n"
     ]
    }
   ],
   "source": [
    "print(npv_dict)\n",
    "print(f\"The optimal project scenario to undertake is 'neutral' with a NPV of {npv_dict['neutral']}\")"
   ]
  },
  {
   "cell_type": "code",
   "execution_count": null,
   "metadata": {},
   "outputs": [],
   "source": []
  }
 ],
 "metadata": {
  "kernelspec": {
   "display_name": "Python 3",
   "language": "python",
   "name": "python3"
  },
  "language_info": {
   "codemirror_mode": {
    "name": "ipython",
    "version": 3
   },
   "file_extension": ".py",
   "mimetype": "text/x-python",
   "name": "python",
   "nbconvert_exporter": "python",
   "pygments_lexer": "ipython3",
   "version": "3.7.7"
  },
  "toc": {
   "base_numbering": 1,
   "nav_menu": {},
   "number_sections": true,
   "sideBar": true,
   "skip_h1_title": false,
   "title_cell": "Table of Contents",
   "title_sidebar": "Contents",
   "toc_cell": false,
   "toc_position": {},
   "toc_section_display": true,
   "toc_window_display": false
  },
  "varInspector": {
   "cols": {
    "lenName": 16,
    "lenType": 16,
    "lenVar": 40
   },
   "kernels_config": {
    "python": {
     "delete_cmd_postfix": "",
     "delete_cmd_prefix": "del ",
     "library": "var_list.py",
     "varRefreshCmd": "print(var_dic_list())"
    },
    "r": {
     "delete_cmd_postfix": ") ",
     "delete_cmd_prefix": "rm(",
     "library": "var_list.r",
     "varRefreshCmd": "cat(var_dic_list()) "
    }
   },
   "types_to_exclude": [
    "module",
    "function",
    "builtin_function_or_method",
    "instance",
    "_Feature"
   ],
   "window_display": false
  }
 },
 "nbformat": 4,
 "nbformat_minor": 2
}
