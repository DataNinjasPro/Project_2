{
 "cells": [
  {
   "cell_type": "code",
   "execution_count": 5,
   "metadata": {},
   "outputs": [
    {
     "name": "stdout",
     "output_type": "stream",
     "text": [
      "Oh no! The driver's asleep! MAYDAY! MAYDAY!\n"
     ]
    }
   ],
   "source": [
    "driverless_car = False\n",
    "\n",
    "if driverless_car == True:\n",
    "    # Do something\n",
    "    print(\"Oh no! The driver's asleep! What do we do?!\")\n",
    "    print()\n",
    "    print(\"All is good. Auto-pilot initiated.\")\n",
    "else:\n",
    "    # Do something else\n",
    "    print(\"Oh no! The driver's asleep! MAYDAY! MAYDAY!\")"
   ]
  },
  {
   "cell_type": "code",
   "execution_count": 7,
   "metadata": {},
   "outputs": [
    {
     "name": "stdout",
     "output_type": "stream",
     "text": [
      "Give me a P!\n",
      "P!\n",
      "Give me a y!\n",
      "y!\n",
      "Give me a t!\n",
      "t!\n",
      "Give me a h!\n",
      "h!\n",
      "Give me a o!\n",
      "o!\n",
      "Give me a n!\n",
      "n!\n",
      "\n",
      "What does that spell?!\n",
      "Python!\n",
      "Woohoo! Go Python!\n",
      "*\\O/**\\O/**\\O/*\n",
      "ヘ( ^o^)ノ＼(^_^ )\n"
     ]
    }
   ],
   "source": [
    "\"\"\"\n",
    "  Pseudocode for a cheer-leading program:\n",
    "\n",
    "  1. Initialize \"cheer\" variable to a string to be cheered\n",
    "  2. Create a for loop and iterate through each character in \"cheer\" variable\n",
    "      2.1 Print each letter to screen with a cheer\n",
    "  3. Print exclamations to screen (\"Woohoo!!!\")\n",
    "\"\"\"\n",
    "\n",
    "# Create a variable named cheer\n",
    "cheer = \"Python\"\n",
    "\n",
    "# Below strings can be used to add fun\n",
    "cheer_symbol = \"*\\O/*\"\n",
    "cheer_symbol_2 = \"ヘ( ^o^)ノ＼(^_^ )\"\n",
    "\n",
    "# Loop through string\n",
    "for x in cheer:\n",
    "    #Print each letter with a cheer\n",
    "    print(\"Give me a \" + x + \"!\")\n",
    "    print(x + \"!\")\n",
    "\n",
    "# Print excitement to screen\n",
    "print(\"\\nWhat does that spell?!\")\n",
    "print(cheer + \"!\\nWoohoo! Go \" + cheer + \"!\")\n",
    "print(cheer_symbol * 3)\n",
    "print(cheer_symbol_2)"
   ]
  },
  {
   "cell_type": "code",
   "execution_count": null,
   "metadata": {},
   "outputs": [],
   "source": []
  }
 ],
 "metadata": {
  "kernelspec": {
   "display_name": "Python [conda env:Analytics] *",
   "language": "python",
   "name": "conda-env-Analytics-py"
  },
  "language_info": {
   "codemirror_mode": {
    "name": "ipython",
    "version": 3
   },
   "file_extension": ".py",
   "mimetype": "text/x-python",
   "name": "python",
   "nbconvert_exporter": "python",
   "pygments_lexer": "ipython3",
   "version": "3.7.7"
  }
 },
 "nbformat": 4,
 "nbformat_minor": 4
}
